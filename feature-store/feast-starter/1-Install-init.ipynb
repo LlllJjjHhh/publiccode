{
 "cells": [
  {
   "cell_type": "code",
   "execution_count": 1,
   "metadata": {},
   "outputs": [
    {
     "name": "stdout",
     "output_type": "stream",
     "text": [
      "Python 3.7.6\r\n"
     ]
    }
   ],
   "source": [
    "!python --version"
   ]
  },
  {
   "cell_type": "code",
   "execution_count": 2,
   "metadata": {},
   "outputs": [
    {
     "name": "stdout",
     "output_type": "stream",
     "text": [
      "Requirement already satisfied: PyYAML in /Users/avkash/anaconda3/lib/python3.7/site-packages (6.0)\r\n"
     ]
    }
   ],
   "source": [
    "!pip install --upgrade PyYAML"
   ]
  },
  {
   "cell_type": "code",
   "execution_count": null,
   "metadata": {},
   "outputs": [],
   "source": [
    "!python3 -m pip install --upgrade pip"
   ]
  },
  {
   "cell_type": "code",
   "execution_count": null,
   "metadata": {},
   "outputs": [],
   "source": [
    "!pip install --ignore-installed PyYAML"
   ]
  },
  {
   "cell_type": "code",
   "execution_count": null,
   "metadata": {},
   "outputs": [],
   "source": [
    "!pip install feast"
   ]
  },
  {
   "cell_type": "code",
   "execution_count": 3,
   "metadata": {},
   "outputs": [
    {
     "name": "stdout",
     "output_type": "stream",
     "text": [
      "Name: feast\r\n",
      "Version: 0.18.1\r\n",
      "Summary: Python SDK for Feast\r\n",
      "Home-page: https://github.com/feast-dev/feast\r\n",
      "Author: Feast\r\n",
      "Author-email: \r\n",
      "License: Apache\r\n",
      "Location: /Users/avkash/anaconda3/lib/python3.7/site-packages\r\n",
      "Requires: Click, colorama, dill, fastapi, fastavro, google-api-core, googleapis-common-protos, grpcio, grpcio-reflection, Jinja2, jsonschema, mmh3, pandas, pandavro, proto-plus, protobuf, pyarrow, pydantic, PyYAML, tabulate, tenacity, tensorflow-metadata, toml, tqdm, uvicorn\r\n",
      "Required-by: \r\n"
     ]
    }
   ],
   "source": [
    "!pip show feast"
   ]
  },
  {
   "cell_type": "code",
   "execution_count": 4,
   "metadata": {},
   "outputs": [
    {
     "name": "stdout",
     "output_type": "stream",
     "text": [
      "1-Install-init.ipynb                 5-Prediction-stored-features.ipynb\r\n",
      "2-Using Existing Feature Store.ipynb Access-sqlite-db.ipynb\r\n",
      "3-Understand Data.ipynb              driver_orders.csv\r\n",
      "4-Working-with-features.ipynb\r\n"
     ]
    }
   ],
   "source": [
    "!ls"
   ]
  },
  {
   "cell_type": "code",
   "execution_count": 5,
   "metadata": {},
   "outputs": [
    {
     "name": "stdout",
     "output_type": "stream",
     "text": [
      "/Users/avkash/work/prodramp/publiccode/feature-store/feast-starter\r\n"
     ]
    }
   ],
   "source": [
    "!pwd"
   ]
  },
  {
   "cell_type": "code",
   "execution_count": 6,
   "metadata": {},
   "outputs": [
    {
     "name": "stdout",
     "output_type": "stream",
     "text": [
      "/Users/avkash/anaconda3/lib/python3.7/site-packages/jinja2/utils.py:485: DeprecationWarning: Using or importing the ABCs from 'collections' instead of from 'collections.abc' is deprecated since Python 3.3,and in 3.9 it will stop working\n",
      "  from collections import MutableMapping\n",
      "/Users/avkash/anaconda3/lib/python3.7/site-packages/jinja2/runtime.py:318: DeprecationWarning: Using or importing the ABCs from 'collections' instead of from 'collections.abc' is deprecated since Python 3.3,and in 3.9 it will stop working\n",
      "  from collections import Mapping\n",
      "/Users/avkash/anaconda3/lib/python3.7/site-packages/pandas/compat/_optional.py:99: DeprecationWarning: distutils Version classes are deprecated. Use packaging.version instead.\n",
      "  if distutils.version.LooseVersion(version) < minimum_version:\n",
      "/Users/avkash/anaconda3/lib/python3.7/site-packages/setuptools/_distutils/version.py:351: DeprecationWarning: distutils Version classes are deprecated. Use packaging.version instead.\n",
      "  other = LooseVersion(other)\n",
      "/Users/avkash/anaconda3/lib/python3.7/site-packages/pandas/core/arrays/_arrow_utils.py:9: DeprecationWarning: distutils Version classes are deprecated. Use packaging.version instead.\n",
      "  _pyarrow_version_ge_015 = LooseVersion(pyarrow.__version__) >= LooseVersion(\"0.15\")\n",
      "\n",
      "Creating a new Feast repository in \u001b[1m\u001b[32m/Users/avkash/work/prodramp/publiccode/feature-store/feast-starter/feature_repo\u001b[0m.\n",
      "\n"
     ]
    }
   ],
   "source": [
    "!feast init feature_repo"
   ]
  },
  {
   "cell_type": "code",
   "execution_count": 8,
   "metadata": {},
   "outputs": [
    {
     "name": "stdout",
     "output_type": "stream",
     "text": [
      "/Users/avkash/work/prodramp/publiccode/feature-store/feast-starter\r\n"
     ]
    }
   ],
   "source": [
    "!pwd"
   ]
  },
  {
   "cell_type": "code",
   "execution_count": 7,
   "metadata": {},
   "outputs": [
    {
     "name": "stdout",
     "output_type": "stream",
     "text": [
      "1-Install-init.ipynb                 5-Prediction-stored-features.ipynb\r\n",
      "2-Using Existing Feature Store.ipynb Access-sqlite-db.ipynb\r\n",
      "3-Understand Data.ipynb              driver_orders.csv\r\n",
      "4-Working-with-features.ipynb        \u001b[1m\u001b[36mfeature_repo\u001b[m\u001b[m\r\n"
     ]
    }
   ],
   "source": [
    "!ls"
   ]
  },
  {
   "cell_type": "code",
   "execution_count": 9,
   "metadata": {},
   "outputs": [
    {
     "name": "stdout",
     "output_type": "stream",
     "text": [
      "total 16\r\n",
      "-rw-r--r--  1 avkash  staff     0 Feb 20 09:04 __init__.py\r\n",
      "drwxr-xr-x  3 avkash  staff    96 Feb 23 14:19 \u001b[1m\u001b[36mdata\u001b[m\u001b[m\r\n",
      "-rw-r--r--  1 avkash  staff  1402 Feb 23 14:19 example.py\r\n",
      "-rw-r--r--  1 avkash  staff   109 Feb 23 14:19 feature_store.yaml\r\n"
     ]
    }
   ],
   "source": [
    "!ls -l feature_repo"
   ]
  },
  {
   "cell_type": "code",
   "execution_count": 11,
   "metadata": {},
   "outputs": [
    {
     "name": "stdout",
     "output_type": "stream",
     "text": [
      "total 72\r\n",
      "-rw-r--r--  1 avkash  staff  34468 Feb 23 14:19 driver_stats.parquet\r\n"
     ]
    }
   ],
   "source": [
    "! ls -l feature_repo/data"
   ]
  },
  {
   "cell_type": "code",
   "execution_count": 12,
   "metadata": {},
   "outputs": [
    {
     "name": "stdout",
     "output_type": "stream",
     "text": [
      "project: feature_repo\r\n",
      "registry: data/registry.db\r\n",
      "provider: local\r\n",
      "online_store:\r\n",
      "    path: data/online_store.db"
     ]
    }
   ],
   "source": [
    "!cat feature_repo/feature_store.yaml"
   ]
  },
  {
   "cell_type": "code",
   "execution_count": 13,
   "metadata": {},
   "outputs": [
    {
     "name": "stdout",
     "output_type": "stream",
     "text": [
      "# This is an example feature definition file\r\n",
      "\r\n",
      "from google.protobuf.duration_pb2 import Duration\r\n",
      "\r\n",
      "from feast import Entity, Feature, FeatureView, FileSource, ValueType\r\n",
      "\r\n",
      "# Read data from parquet files. Parquet is convenient for local development mode. For\r\n",
      "# production, you can use your favorite DWH, such as BigQuery. See Feast documentation\r\n",
      "# for more info.\r\n",
      "driver_hourly_stats = FileSource(\r\n",
      "    path=\"/Users/avkash/work/prodramp/publiccode/feature-store/feast-starter/feature_repo/data/driver_stats.parquet\",\r\n",
      "    event_timestamp_column=\"event_timestamp\",\r\n",
      "    created_timestamp_column=\"created\",\r\n",
      ")\r\n",
      "\r\n",
      "# Define an entity for the driver. You can think of entity as a primary key used to\r\n",
      "# fetch features.\r\n",
      "driver = Entity(name=\"driver_id\", value_type=ValueType.INT64, description=\"driver id\",)\r\n",
      "\r\n",
      "# Our parquet files contain sample data that includes a driver_id column, timestamps and\r\n",
      "# three feature column. Here we define a Feature View that will allow us to serve this\r\n",
      "# data to our model online.\r\n",
      "driver_hourly_stats_view = FeatureView(\r\n",
      "    name=\"driver_hourly_stats\",\r\n",
      "    entities=[\"driver_id\"],\r\n",
      "    ttl=Duration(seconds=86400 * 1),\r\n",
      "    features=[\r\n",
      "        Feature(name=\"conv_rate\", dtype=ValueType.FLOAT),\r\n",
      "        Feature(name=\"acc_rate\", dtype=ValueType.FLOAT),\r\n",
      "        Feature(name=\"avg_daily_trips\", dtype=ValueType.INT64),\r\n",
      "    ],\r\n",
      "    online=True,\r\n",
      "    batch_source=driver_hourly_stats,\r\n",
      "    tags={},\r\n",
      ")\r\n"
     ]
    }
   ],
   "source": [
    "!cat feature_repo/example.py"
   ]
  },
  {
   "cell_type": "code",
   "execution_count": 14,
   "metadata": {},
   "outputs": [
    {
     "name": "stdout",
     "output_type": "stream",
     "text": [
      "Usage: feast [OPTIONS] COMMAND [ARGS]...\r\n",
      "\r\n",
      "  Feast CLI\r\n",
      "\r\n",
      "  For more information, see our public docs at https://docs.feast.dev/\r\n",
      "\r\n",
      "  For any questions, you can reach us at https://slack.feast.dev/\r\n",
      "\r\n",
      "Options:\r\n",
      "  -c, --chdir TEXT  Switch to a different feature repository directory before\r\n",
      "                    executing the given subcommand.\r\n",
      "  --log-level TEXT  The logging level. One of DEBUG, INFO, WARNING, ERROR, and\r\n",
      "                    CRITICAL (case-insensitive).\r\n",
      "  --help            Show this message and exit.\r\n",
      "\r\n",
      "Commands:\r\n",
      "  alpha                    Access alpha features\r\n",
      "  apply                    Create or update a feature store deployment\r\n",
      "  endpoint                 Display feature server endpoints.\r\n",
      "  entities                 Access entities\r\n",
      "  feature-services         Access feature services\r\n",
      "  feature-views            Access feature views\r\n",
      "  init                     Create a new Feast repository\r\n",
      "  materialize              Run a (non-incremental) materialization job to...\r\n",
      "  materialize-incremental  Run an incremental materialization job to...\r\n",
      "  on-demand-feature-views  [Experimental] Access on demand feature views\r\n",
      "  plan                     Create or update a feature store deployment\r\n",
      "  registry-dump            Print contents of the metadata registry\r\n",
      "  serve                    Start a feature server locally on a given port.\r\n",
      "  serve_transformations    [Experimental] Start a the feature consumption...\r\n",
      "  teardown                 Tear down deployed feature store infrastructure\r\n",
      "  version                  Display Feast SDK version\r\n"
     ]
    }
   ],
   "source": [
    "!feast"
   ]
  },
  {
   "cell_type": "code",
   "execution_count": 15,
   "metadata": {},
   "outputs": [
    {
     "name": "stdout",
     "output_type": "stream",
     "text": [
      "Can't find feature_store.yaml at /Users/avkash/work/prodramp/publiccode/feature-store/feast-starter. Make sure you're running feast from an initialized feast repository. \r\n"
     ]
    }
   ],
   "source": [
    "!feast endpoint"
   ]
  },
  {
   "cell_type": "code",
   "execution_count": 16,
   "metadata": {},
   "outputs": [],
   "source": [
    "!cd feature_repo"
   ]
  },
  {
   "cell_type": "code",
   "execution_count": 17,
   "metadata": {},
   "outputs": [
    {
     "name": "stdout",
     "output_type": "stream",
     "text": [
      "/Users/avkash/work/prodramp/publiccode/feature-store/feast-starter\r\n"
     ]
    }
   ],
   "source": [
    "!pwd"
   ]
  },
  {
   "cell_type": "code",
   "execution_count": 18,
   "metadata": {},
   "outputs": [
    {
     "data": {
      "text/plain": [
       "'/Users/avkash/work/prodramp/publiccode/feature-store/feast-starter'"
      ]
     },
     "execution_count": 18,
     "metadata": {},
     "output_type": "execute_result"
    }
   ],
   "source": [
    "%pwd"
   ]
  },
  {
   "cell_type": "code",
   "execution_count": 19,
   "metadata": {},
   "outputs": [
    {
     "name": "stdout",
     "output_type": "stream",
     "text": [
      "/Users/avkash/work/prodramp/publiccode/feature-store/feast-starter/feature_repo\n"
     ]
    }
   ],
   "source": [
    "%cd feature_repo"
   ]
  },
  {
   "cell_type": "code",
   "execution_count": 20,
   "metadata": {},
   "outputs": [
    {
     "name": "stdout",
     "output_type": "stream",
     "text": [
      "/Users/avkash/work/prodramp/publiccode/feature-store/feast-starter/feature_repo\r\n"
     ]
    }
   ],
   "source": [
    "!pwd"
   ]
  },
  {
   "cell_type": "code",
   "execution_count": 21,
   "metadata": {},
   "outputs": [
    {
     "name": "stdout",
     "output_type": "stream",
     "text": [
      "/Users/avkash/anaconda3/lib/python3.7/site-packages/jinja2/utils.py:485: DeprecationWarning: Using or importing the ABCs from 'collections' instead of from 'collections.abc' is deprecated since Python 3.3,and in 3.9 it will stop working\r\n",
      "  from collections import MutableMapping\r\n",
      "/Users/avkash/anaconda3/lib/python3.7/site-packages/jinja2/runtime.py:318: DeprecationWarning: Using or importing the ABCs from 'collections' instead of from 'collections.abc' is deprecated since Python 3.3,and in 3.9 it will stop working\r\n",
      "  from collections import Mapping\r\n",
      "02/23/2022 02:32:24 PM INFO:There is no active feature server.\r\n"
     ]
    }
   ],
   "source": [
    "!feast endpoint"
   ]
  },
  {
   "cell_type": "code",
   "execution_count": 22,
   "metadata": {},
   "outputs": [
    {
     "name": "stdout",
     "output_type": "stream",
     "text": [
      "Usage: feast entities [OPTIONS] COMMAND [ARGS]...\r\n",
      "\r\n",
      "  Access entities\r\n",
      "\r\n",
      "Options:\r\n",
      "  --help  Show this message and exit.\r\n",
      "\r\n",
      "Commands:\r\n",
      "  describe  Describe an entity\r\n",
      "  list      List all entities\r\n"
     ]
    }
   ],
   "source": [
    "!feast entities"
   ]
  },
  {
   "cell_type": "code",
   "execution_count": 23,
   "metadata": {},
   "outputs": [
    {
     "name": "stdout",
     "output_type": "stream",
     "text": [
      "/Users/avkash/anaconda3/lib/python3.7/site-packages/jinja2/utils.py:485: DeprecationWarning: Using or importing the ABCs from 'collections' instead of from 'collections.abc' is deprecated since Python 3.3,and in 3.9 it will stop working\r\n",
      "  from collections import MutableMapping\r\n",
      "/Users/avkash/anaconda3/lib/python3.7/site-packages/jinja2/runtime.py:318: DeprecationWarning: Using or importing the ABCs from 'collections' instead of from 'collections.abc' is deprecated since Python 3.3,and in 3.9 it will stop working\r\n",
      "  from collections import Mapping\r\n",
      "NAME    DESCRIPTION    TYPE\r\n"
     ]
    }
   ],
   "source": [
    "!feast entities list"
   ]
  },
  {
   "cell_type": "code",
   "execution_count": 24,
   "metadata": {},
   "outputs": [
    {
     "name": "stdout",
     "output_type": "stream",
     "text": [
      "__init__.py        \u001b[1m\u001b[36mdata\u001b[m\u001b[m               example.py         feature_store.yaml\r\n"
     ]
    }
   ],
   "source": [
    "!ls"
   ]
  },
  {
   "cell_type": "code",
   "execution_count": 25,
   "metadata": {},
   "outputs": [],
   "source": [
    "# %load example.py\n",
    "# This is an example feature definition file\n",
    "\n",
    "from google.protobuf.duration_pb2 import Duration\n",
    "\n",
    "from feast import Entity, Feature, FeatureView, FileSource, ValueType\n",
    "\n",
    "# Read data from parquet files. Parquet is convenient for local development mode. For\n",
    "# production, you can use your favorite DWH, such as BigQuery. See Feast documentation\n",
    "# for more info.\n",
    "driver_hourly_stats = FileSource(\n",
    "    path=\"/Users/avkash/work/prodramp/publiccode/feature-store/feast-starter/feature_repo/data/driver_stats.parquet\",\n",
    "    event_timestamp_column=\"event_timestamp\",\n",
    "    created_timestamp_column=\"created\",\n",
    ")\n",
    "\n",
    "# Define an entity for the driver. You can think of entity as a primary key used to\n",
    "# fetch features.\n",
    "driver = Entity(name=\"driver_id\", value_type=ValueType.INT64, description=\"driver id\",)\n",
    "\n",
    "# Our parquet files contain sample data that includes a driver_id column, timestamps and\n",
    "# three feature column. Here we define a Feature View that will allow us to serve this\n",
    "# data to our model online.\n",
    "driver_hourly_stats_view = FeatureView(\n",
    "    name=\"driver_hourly_stats\",\n",
    "    entities=[\"driver_id\"],\n",
    "    ttl=Duration(seconds=86400 * 1),\n",
    "    features=[\n",
    "        Feature(name=\"conv_rate\", dtype=ValueType.FLOAT),\n",
    "        Feature(name=\"acc_rate\", dtype=ValueType.FLOAT),\n",
    "        Feature(name=\"avg_daily_trips\", dtype=ValueType.INT64),\n",
    "    ],\n",
    "    online=True,\n",
    "    batch_source=driver_hourly_stats,\n",
    "    tags={},\n",
    ")\n"
   ]
  },
  {
   "cell_type": "code",
   "execution_count": 26,
   "metadata": {},
   "outputs": [
    {
     "name": "stdout",
     "output_type": "stream",
     "text": [
      "__init__.py        \u001b[1m\u001b[36mdata\u001b[m\u001b[m               example.py         feature_store.yaml\r\n"
     ]
    }
   ],
   "source": [
    "!ls"
   ]
  },
  {
   "cell_type": "code",
   "execution_count": 27,
   "metadata": {},
   "outputs": [
    {
     "name": "stdout",
     "output_type": "stream",
     "text": [
      "driver_stats.parquet registry.db\r\n"
     ]
    }
   ],
   "source": [
    "!ls data"
   ]
  },
  {
   "cell_type": "code",
   "execution_count": 29,
   "metadata": {},
   "outputs": [
    {
     "name": "stdout",
     "output_type": "stream",
     "text": [
      "total 80\r\n",
      "drwxr-xr-x  4 avkash  staff    128 Feb 23 14:32 \u001b[1m\u001b[36m.\u001b[m\u001b[m\r\n",
      "drwxr-xr-x  6 avkash  staff    192 Feb 23 14:19 \u001b[1m\u001b[36m..\u001b[m\u001b[m\r\n",
      "-rw-r--r--  1 avkash  staff  34468 Feb 23 14:19 driver_stats.parquet\r\n",
      "-rw-r--r--  1 avkash  staff     55 Feb 23 14:32 registry.db\r\n"
     ]
    }
   ],
   "source": [
    "!ls -la data"
   ]
  },
  {
   "cell_type": "code",
   "execution_count": null,
   "metadata": {},
   "outputs": [],
   "source": []
  }
 ],
 "metadata": {
  "kernelspec": {
   "display_name": "Python 3",
   "language": "python",
   "name": "python3"
  },
  "language_info": {
   "codemirror_mode": {
    "name": "ipython",
    "version": 3
   },
   "file_extension": ".py",
   "mimetype": "text/x-python",
   "name": "python",
   "nbconvert_exporter": "python",
   "pygments_lexer": "ipython3",
   "version": "3.7.6"
  }
 },
 "nbformat": 4,
 "nbformat_minor": 4
}
