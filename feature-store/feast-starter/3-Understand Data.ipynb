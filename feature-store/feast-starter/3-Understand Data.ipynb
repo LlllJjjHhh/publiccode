{
 "cells": [
  {
   "cell_type": "code",
   "execution_count": 1,
   "metadata": {},
   "outputs": [
    {
     "name": "stdout",
     "output_type": "stream",
     "text": [
      "Python 3.7.6\r\n"
     ]
    }
   ],
   "source": [
    "!python --version"
   ]
  },
  {
   "cell_type": "code",
   "execution_count": 2,
   "metadata": {},
   "outputs": [
    {
     "name": "stdout",
     "output_type": "stream",
     "text": [
      "/Users/avkash/work/prodramp/publiccode/feature-store/feast-starter\r\n"
     ]
    }
   ],
   "source": [
    "!pwd"
   ]
  },
  {
   "cell_type": "code",
   "execution_count": 3,
   "metadata": {},
   "outputs": [
    {
     "name": "stdout",
     "output_type": "stream",
     "text": [
      "1-Install-init.ipynb                 5-Prediction-stored-features.ipynb\r\n",
      "2-Using Existing Feature Store.ipynb Access-sqlite-db.ipynb\r\n",
      "3-Understand Data.ipynb              driver_orders.csv\r\n",
      "4-Working-with-features.ipynb        \u001b[1m\u001b[36mfeature_repo\u001b[m\u001b[m\r\n"
     ]
    }
   ],
   "source": [
    "!ls"
   ]
  },
  {
   "cell_type": "code",
   "execution_count": 4,
   "metadata": {},
   "outputs": [
    {
     "name": "stdout",
     "output_type": "stream",
     "text": [
      "/Users/avkash/work/prodramp/publiccode/feature-store/feast-starter/feature_repo\n"
     ]
    }
   ],
   "source": [
    "%cd feature_repo"
   ]
  },
  {
   "cell_type": "code",
   "execution_count": 5,
   "metadata": {},
   "outputs": [
    {
     "name": "stdout",
     "output_type": "stream",
     "text": [
      "total 16\r\n",
      "-rw-r--r--  1 avkash  staff     0 Feb 20 09:04 __init__.py\r\n",
      "drwxr-xr-x  3 avkash  staff    96 Feb 23 14:19 \u001b[1m\u001b[36mdata\u001b[m\u001b[m\r\n",
      "-rw-r--r--  1 avkash  staff  1402 Feb 23 14:19 example.py\r\n",
      "-rw-r--r--  1 avkash  staff   109 Feb 23 14:19 feature_store.yaml\r\n"
     ]
    }
   ],
   "source": [
    "!ls -l"
   ]
  },
  {
   "cell_type": "code",
   "execution_count": 6,
   "metadata": {},
   "outputs": [
    {
     "name": "stdout",
     "output_type": "stream",
     "text": [
      "/Users/avkash/work/prodramp/publiccode/feature-store/feast-starter/feature_repo/data\n"
     ]
    }
   ],
   "source": [
    "%cd data"
   ]
  },
  {
   "cell_type": "code",
   "execution_count": 7,
   "metadata": {},
   "outputs": [
    {
     "name": "stdout",
     "output_type": "stream",
     "text": [
      "total 72\r\n",
      "-rw-r--r--  1 avkash  staff  34468 Feb 23 14:19 driver_stats.parquet\r\n"
     ]
    }
   ],
   "source": [
    "!ls -l"
   ]
  },
  {
   "cell_type": "code",
   "execution_count": 8,
   "metadata": {},
   "outputs": [],
   "source": [
    "import pandas as pd"
   ]
  },
  {
   "cell_type": "code",
   "execution_count": 9,
   "metadata": {},
   "outputs": [],
   "source": [
    "df = pd.read_parquet('driver_stats.parquet', engine='pyarrow')"
   ]
  },
  {
   "cell_type": "code",
   "execution_count": 10,
   "metadata": {},
   "outputs": [
    {
     "data": {
      "text/html": [
       "<div>\n",
       "<style scoped>\n",
       "    .dataframe tbody tr th:only-of-type {\n",
       "        vertical-align: middle;\n",
       "    }\n",
       "\n",
       "    .dataframe tbody tr th {\n",
       "        vertical-align: top;\n",
       "    }\n",
       "\n",
       "    .dataframe thead th {\n",
       "        text-align: right;\n",
       "    }\n",
       "</style>\n",
       "<table border=\"1\" class=\"dataframe\">\n",
       "  <thead>\n",
       "    <tr style=\"text-align: right;\">\n",
       "      <th></th>\n",
       "      <th>event_timestamp</th>\n",
       "      <th>driver_id</th>\n",
       "      <th>conv_rate</th>\n",
       "      <th>acc_rate</th>\n",
       "      <th>avg_daily_trips</th>\n",
       "      <th>created</th>\n",
       "    </tr>\n",
       "  </thead>\n",
       "  <tbody>\n",
       "    <tr>\n",
       "      <th>0</th>\n",
       "      <td>2022-02-08 14:00:00+00:00</td>\n",
       "      <td>1005</td>\n",
       "      <td>0.380004</td>\n",
       "      <td>0.887956</td>\n",
       "      <td>629</td>\n",
       "      <td>2022-02-23 14:19:15.332</td>\n",
       "    </tr>\n",
       "    <tr>\n",
       "      <th>1</th>\n",
       "      <td>2022-02-08 15:00:00+00:00</td>\n",
       "      <td>1005</td>\n",
       "      <td>0.872891</td>\n",
       "      <td>0.200085</td>\n",
       "      <td>670</td>\n",
       "      <td>2022-02-23 14:19:15.332</td>\n",
       "    </tr>\n",
       "    <tr>\n",
       "      <th>2</th>\n",
       "      <td>2022-02-08 16:00:00+00:00</td>\n",
       "      <td>1005</td>\n",
       "      <td>0.770272</td>\n",
       "      <td>0.759065</td>\n",
       "      <td>577</td>\n",
       "      <td>2022-02-23 14:19:15.332</td>\n",
       "    </tr>\n",
       "    <tr>\n",
       "      <th>3</th>\n",
       "      <td>2022-02-08 17:00:00+00:00</td>\n",
       "      <td>1005</td>\n",
       "      <td>0.493256</td>\n",
       "      <td>0.138020</td>\n",
       "      <td>234</td>\n",
       "      <td>2022-02-23 14:19:15.332</td>\n",
       "    </tr>\n",
       "    <tr>\n",
       "      <th>4</th>\n",
       "      <td>2022-02-08 18:00:00+00:00</td>\n",
       "      <td>1005</td>\n",
       "      <td>0.159436</td>\n",
       "      <td>0.943274</td>\n",
       "      <td>521</td>\n",
       "      <td>2022-02-23 14:19:15.332</td>\n",
       "    </tr>\n",
       "    <tr>\n",
       "      <th>...</th>\n",
       "      <td>...</td>\n",
       "      <td>...</td>\n",
       "      <td>...</td>\n",
       "      <td>...</td>\n",
       "      <td>...</td>\n",
       "      <td>...</td>\n",
       "    </tr>\n",
       "    <tr>\n",
       "      <th>1802</th>\n",
       "      <td>2022-02-23 12:00:00+00:00</td>\n",
       "      <td>1001</td>\n",
       "      <td>0.414424</td>\n",
       "      <td>0.301549</td>\n",
       "      <td>948</td>\n",
       "      <td>2022-02-23 14:19:15.332</td>\n",
       "    </tr>\n",
       "    <tr>\n",
       "      <th>1803</th>\n",
       "      <td>2022-02-23 13:00:00+00:00</td>\n",
       "      <td>1001</td>\n",
       "      <td>0.539819</td>\n",
       "      <td>0.483499</td>\n",
       "      <td>281</td>\n",
       "      <td>2022-02-23 14:19:15.332</td>\n",
       "    </tr>\n",
       "    <tr>\n",
       "      <th>1804</th>\n",
       "      <td>2021-04-12 07:00:00+00:00</td>\n",
       "      <td>1001</td>\n",
       "      <td>0.554773</td>\n",
       "      <td>0.407182</td>\n",
       "      <td>274</td>\n",
       "      <td>2022-02-23 14:19:15.332</td>\n",
       "    </tr>\n",
       "    <tr>\n",
       "      <th>1805</th>\n",
       "      <td>2022-02-16 02:00:00+00:00</td>\n",
       "      <td>1003</td>\n",
       "      <td>0.454958</td>\n",
       "      <td>0.233427</td>\n",
       "      <td>618</td>\n",
       "      <td>2022-02-23 14:19:15.332</td>\n",
       "    </tr>\n",
       "    <tr>\n",
       "      <th>1806</th>\n",
       "      <td>2022-02-16 02:00:00+00:00</td>\n",
       "      <td>1003</td>\n",
       "      <td>0.454958</td>\n",
       "      <td>0.233427</td>\n",
       "      <td>618</td>\n",
       "      <td>2022-02-23 14:19:15.332</td>\n",
       "    </tr>\n",
       "  </tbody>\n",
       "</table>\n",
       "<p>1807 rows × 6 columns</p>\n",
       "</div>"
      ],
      "text/plain": [
       "               event_timestamp  driver_id  conv_rate  acc_rate  \\\n",
       "0    2022-02-08 14:00:00+00:00       1005   0.380004  0.887956   \n",
       "1    2022-02-08 15:00:00+00:00       1005   0.872891  0.200085   \n",
       "2    2022-02-08 16:00:00+00:00       1005   0.770272  0.759065   \n",
       "3    2022-02-08 17:00:00+00:00       1005   0.493256  0.138020   \n",
       "4    2022-02-08 18:00:00+00:00       1005   0.159436  0.943274   \n",
       "...                        ...        ...        ...       ...   \n",
       "1802 2022-02-23 12:00:00+00:00       1001   0.414424  0.301549   \n",
       "1803 2022-02-23 13:00:00+00:00       1001   0.539819  0.483499   \n",
       "1804 2021-04-12 07:00:00+00:00       1001   0.554773  0.407182   \n",
       "1805 2022-02-16 02:00:00+00:00       1003   0.454958  0.233427   \n",
       "1806 2022-02-16 02:00:00+00:00       1003   0.454958  0.233427   \n",
       "\n",
       "      avg_daily_trips                 created  \n",
       "0                 629 2022-02-23 14:19:15.332  \n",
       "1                 670 2022-02-23 14:19:15.332  \n",
       "2                 577 2022-02-23 14:19:15.332  \n",
       "3                 234 2022-02-23 14:19:15.332  \n",
       "4                 521 2022-02-23 14:19:15.332  \n",
       "...               ...                     ...  \n",
       "1802              948 2022-02-23 14:19:15.332  \n",
       "1803              281 2022-02-23 14:19:15.332  \n",
       "1804              274 2022-02-23 14:19:15.332  \n",
       "1805              618 2022-02-23 14:19:15.332  \n",
       "1806              618 2022-02-23 14:19:15.332  \n",
       "\n",
       "[1807 rows x 6 columns]"
      ]
     },
     "execution_count": 10,
     "metadata": {},
     "output_type": "execute_result"
    }
   ],
   "source": [
    "df"
   ]
  },
  {
   "cell_type": "code",
   "execution_count": 11,
   "metadata": {},
   "outputs": [
    {
     "data": {
      "text/plain": [
       "Index(['event_timestamp', 'driver_id', 'conv_rate', 'acc_rate',\n",
       "       'avg_daily_trips', 'created'],\n",
       "      dtype='object')"
      ]
     },
     "execution_count": 11,
     "metadata": {},
     "output_type": "execute_result"
    }
   ],
   "source": [
    "df.columns"
   ]
  },
  {
   "cell_type": "code",
   "execution_count": 12,
   "metadata": {},
   "outputs": [
    {
     "data": {
      "text/html": [
       "<div>\n",
       "<style scoped>\n",
       "    .dataframe tbody tr th:only-of-type {\n",
       "        vertical-align: middle;\n",
       "    }\n",
       "\n",
       "    .dataframe tbody tr th {\n",
       "        vertical-align: top;\n",
       "    }\n",
       "\n",
       "    .dataframe thead th {\n",
       "        text-align: right;\n",
       "    }\n",
       "</style>\n",
       "<table border=\"1\" class=\"dataframe\">\n",
       "  <thead>\n",
       "    <tr style=\"text-align: right;\">\n",
       "      <th></th>\n",
       "      <th>driver_id</th>\n",
       "      <th>conv_rate</th>\n",
       "      <th>acc_rate</th>\n",
       "      <th>avg_daily_trips</th>\n",
       "    </tr>\n",
       "  </thead>\n",
       "  <tbody>\n",
       "    <tr>\n",
       "      <th>count</th>\n",
       "      <td>1807.000000</td>\n",
       "      <td>1807.000000</td>\n",
       "      <td>1807.000000</td>\n",
       "      <td>1807.000000</td>\n",
       "    </tr>\n",
       "    <tr>\n",
       "      <th>mean</th>\n",
       "      <td>1003.000000</td>\n",
       "      <td>0.496738</td>\n",
       "      <td>0.486318</td>\n",
       "      <td>500.019369</td>\n",
       "    </tr>\n",
       "    <tr>\n",
       "      <th>std</th>\n",
       "      <td>1.413822</td>\n",
       "      <td>0.287444</td>\n",
       "      <td>0.292035</td>\n",
       "      <td>287.676254</td>\n",
       "    </tr>\n",
       "    <tr>\n",
       "      <th>min</th>\n",
       "      <td>1001.000000</td>\n",
       "      <td>0.001161</td>\n",
       "      <td>0.000026</td>\n",
       "      <td>0.000000</td>\n",
       "    </tr>\n",
       "    <tr>\n",
       "      <th>25%</th>\n",
       "      <td>1002.000000</td>\n",
       "      <td>0.250723</td>\n",
       "      <td>0.233252</td>\n",
       "      <td>248.000000</td>\n",
       "    </tr>\n",
       "    <tr>\n",
       "      <th>50%</th>\n",
       "      <td>1003.000000</td>\n",
       "      <td>0.488760</td>\n",
       "      <td>0.473661</td>\n",
       "      <td>516.000000</td>\n",
       "    </tr>\n",
       "    <tr>\n",
       "      <th>75%</th>\n",
       "      <td>1004.000000</td>\n",
       "      <td>0.745423</td>\n",
       "      <td>0.742081</td>\n",
       "      <td>745.500000</td>\n",
       "    </tr>\n",
       "    <tr>\n",
       "      <th>max</th>\n",
       "      <td>1005.000000</td>\n",
       "      <td>0.999972</td>\n",
       "      <td>0.999415</td>\n",
       "      <td>999.000000</td>\n",
       "    </tr>\n",
       "  </tbody>\n",
       "</table>\n",
       "</div>"
      ],
      "text/plain": [
       "         driver_id    conv_rate     acc_rate  avg_daily_trips\n",
       "count  1807.000000  1807.000000  1807.000000      1807.000000\n",
       "mean   1003.000000     0.496738     0.486318       500.019369\n",
       "std       1.413822     0.287444     0.292035       287.676254\n",
       "min    1001.000000     0.001161     0.000026         0.000000\n",
       "25%    1002.000000     0.250723     0.233252       248.000000\n",
       "50%    1003.000000     0.488760     0.473661       516.000000\n",
       "75%    1004.000000     0.745423     0.742081       745.500000\n",
       "max    1005.000000     0.999972     0.999415       999.000000"
      ]
     },
     "execution_count": 12,
     "metadata": {},
     "output_type": "execute_result"
    }
   ],
   "source": [
    "df.describe()"
   ]
  },
  {
   "cell_type": "code",
   "execution_count": 14,
   "metadata": {},
   "outputs": [
    {
     "data": {
      "text/plain": [
       "array([1005, 1004, 1003, 1002, 1001])"
      ]
     },
     "execution_count": 14,
     "metadata": {},
     "output_type": "execute_result"
    }
   ],
   "source": [
    "df['driver_id'].unique()"
   ]
  },
  {
   "cell_type": "code",
   "execution_count": null,
   "metadata": {},
   "outputs": [],
   "source": []
  }
 ],
 "metadata": {
  "kernelspec": {
   "display_name": "Python 3",
   "language": "python",
   "name": "python3"
  },
  "language_info": {
   "codemirror_mode": {
    "name": "ipython",
    "version": 3
   },
   "file_extension": ".py",
   "mimetype": "text/x-python",
   "name": "python",
   "nbconvert_exporter": "python",
   "pygments_lexer": "ipython3",
   "version": "3.7.6"
  }
 },
 "nbformat": 4,
 "nbformat_minor": 5
}
