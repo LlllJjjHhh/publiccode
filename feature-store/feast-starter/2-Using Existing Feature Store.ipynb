{
 "cells": [
  {
   "cell_type": "code",
   "execution_count": 1,
   "metadata": {},
   "outputs": [],
   "source": [
    "from datetime import datetime, timedelta\n",
    "import pandas as pd\n",
    "\n",
    "from feast import FeatureStore"
   ]
  },
  {
   "cell_type": "code",
   "execution_count": 2,
   "metadata": {},
   "outputs": [
    {
     "name": "stdout",
     "output_type": "stream",
     "text": [
      "Usage: feast [OPTIONS] COMMAND [ARGS]...\r\n",
      "\r\n",
      "  Feast CLI\r\n",
      "\r\n",
      "  For more information, see our public docs at https://docs.feast.dev/\r\n",
      "\r\n",
      "  For any questions, you can reach us at https://slack.feast.dev/\r\n",
      "\r\n",
      "Options:\r\n",
      "  -c, --chdir TEXT  Switch to a different feature repository directory before\r\n",
      "                    executing the given subcommand.\r\n",
      "  --log-level TEXT  The logging level. One of DEBUG, INFO, WARNING, ERROR, and\r\n",
      "                    CRITICAL (case-insensitive).\r\n",
      "  --help            Show this message and exit.\r\n",
      "\r\n",
      "Commands:\r\n",
      "  alpha                    Access alpha features\r\n",
      "  apply                    Create or update a feature store deployment\r\n",
      "  endpoint                 Display feature server endpoints.\r\n",
      "  entities                 Access entities\r\n",
      "  feature-services         Access feature services\r\n",
      "  feature-views            Access feature views\r\n",
      "  init                     Create a new Feast repository\r\n",
      "  materialize              Run a (non-incremental) materialization job to...\r\n",
      "  materialize-incremental  Run an incremental materialization job to...\r\n",
      "  on-demand-feature-views  [Experimental] Access on demand feature views\r\n",
      "  plan                     Create or update a feature store deployment\r\n",
      "  registry-dump            Print contents of the metadata registry\r\n",
      "  serve                    Start a feature server locally on a given port.\r\n",
      "  serve_transformations    [Experimental] Start a the feature consumption...\r\n",
      "  teardown                 Tear down deployed feature store infrastructure\r\n",
      "  version                  Display Feast SDK version\r\n"
     ]
    }
   ],
   "source": [
    "!feast"
   ]
  },
  {
   "cell_type": "code",
   "execution_count": 3,
   "metadata": {},
   "outputs": [
    {
     "name": "stdout",
     "output_type": "stream",
     "text": [
      "Can't find feature_store.yaml at /Users/avkash/work/prodramp/publiccode/feature-store/feast-starter. Make sure you're running feast from an initialized feast repository. \r\n"
     ]
    }
   ],
   "source": [
    "!feast endpoint"
   ]
  },
  {
   "cell_type": "code",
   "execution_count": 4,
   "metadata": {},
   "outputs": [
    {
     "name": "stdout",
     "output_type": "stream",
     "text": [
      "/Users/avkash/work/prodramp/publiccode/feature-store/feast-starter\r\n"
     ]
    }
   ],
   "source": [
    "!pwd"
   ]
  },
  {
   "cell_type": "code",
   "execution_count": 5,
   "metadata": {},
   "outputs": [
    {
     "name": "stdout",
     "output_type": "stream",
     "text": [
      "1-Install-init.ipynb                 5-Prediction-stored-features.ipynb\r\n",
      "2-Using Existing Feature Store.ipynb Access-sqlite-db.ipynb\r\n",
      "3-Understand Data.ipynb              driver_orders.csv\r\n",
      "4-Working-with-features.ipynb        \u001b[1m\u001b[36mfeature_repo\u001b[m\u001b[m\r\n"
     ]
    }
   ],
   "source": [
    "!ls"
   ]
  },
  {
   "cell_type": "code",
   "execution_count": 6,
   "metadata": {},
   "outputs": [
    {
     "name": "stdout",
     "output_type": "stream",
     "text": [
      "/Users/avkash/work/prodramp/publiccode/feature-store/feast-starter/feature_repo\n"
     ]
    }
   ],
   "source": [
    "%cd feature_repo"
   ]
  },
  {
   "cell_type": "code",
   "execution_count": 7,
   "metadata": {},
   "outputs": [
    {
     "name": "stdout",
     "output_type": "stream",
     "text": [
      "/Users/avkash/work/prodramp/publiccode/feature-store/feast-starter/feature_repo\r\n"
     ]
    }
   ],
   "source": [
    "!pwd"
   ]
  },
  {
   "cell_type": "code",
   "execution_count": 8,
   "metadata": {},
   "outputs": [
    {
     "name": "stdout",
     "output_type": "stream",
     "text": [
      "/Users/avkash/anaconda3/lib/python3.7/site-packages/jinja2/utils.py:485: DeprecationWarning: Using or importing the ABCs from 'collections' instead of from 'collections.abc' is deprecated since Python 3.3,and in 3.9 it will stop working\r\n",
      "  from collections import MutableMapping\r\n",
      "/Users/avkash/anaconda3/lib/python3.7/site-packages/jinja2/runtime.py:318: DeprecationWarning: Using or importing the ABCs from 'collections' instead of from 'collections.abc' is deprecated since Python 3.3,and in 3.9 it will stop working\r\n",
      "  from collections import Mapping\r\n",
      "02/23/2022 02:34:57 PM INFO:There is no active feature server.\r\n"
     ]
    }
   ],
   "source": [
    "!feast endpoint"
   ]
  },
  {
   "cell_type": "markdown",
   "metadata": {},
   "source": [
    "## Step 3: Register feature definitions and deploy your feature store\n",
    "- The apply command scans python files in the current directory for feature view/entity definitions, registers the objects, and deploys infrastructure. \n",
    "- In this example, it reads example.py (shown again below for convenience) and sets up SQLite online store tables. \n",
    "\n",
    "Note that we had specified SQLite as the default online store by using the local provider in feature_store.yaml.\n",
    "feast apply\n"
   ]
  },
  {
   "cell_type": "code",
   "execution_count": null,
   "metadata": {},
   "outputs": [],
   "source": [
    "!ls"
   ]
  },
  {
   "cell_type": "code",
   "execution_count": 9,
   "metadata": {},
   "outputs": [
    {
     "name": "stdout",
     "output_type": "stream",
     "text": [
      "# This is an example feature definition file\r\n",
      "\r\n",
      "from google.protobuf.duration_pb2 import Duration\r\n",
      "\r\n",
      "from feast import Entity, Feature, FeatureView, FileSource, ValueType\r\n",
      "\r\n",
      "# Read data from parquet files. Parquet is convenient for local development mode. For\r\n",
      "# production, you can use your favorite DWH, such as BigQuery. See Feast documentation\r\n",
      "# for more info.\r\n",
      "driver_hourly_stats = FileSource(\r\n",
      "    path=\"/Users/avkash/work/prodramp/publiccode/feature-store/feast-starter/feature_repo/data/driver_stats.parquet\",\r\n",
      "    event_timestamp_column=\"event_timestamp\",\r\n",
      "    created_timestamp_column=\"created\",\r\n",
      ")\r\n",
      "\r\n",
      "# Define an entity for the driver. You can think of entity as a primary key used to\r\n",
      "# fetch features.\r\n",
      "driver = Entity(name=\"driver_id\", value_type=ValueType.INT64, description=\"driver id\",)\r\n",
      "\r\n",
      "# Our parquet files contain sample data that includes a driver_id column, timestamps and\r\n",
      "# three feature column. Here we define a Feature View that will allow us to serve this\r\n",
      "# data to our model online.\r\n",
      "driver_hourly_stats_view = FeatureView(\r\n",
      "    name=\"driver_hourly_stats\",\r\n",
      "    entities=[\"driver_id\"],\r\n",
      "    ttl=Duration(seconds=86400 * 1),\r\n",
      "    features=[\r\n",
      "        Feature(name=\"conv_rate\", dtype=ValueType.FLOAT),\r\n",
      "        Feature(name=\"acc_rate\", dtype=ValueType.FLOAT),\r\n",
      "        Feature(name=\"avg_daily_trips\", dtype=ValueType.INT64),\r\n",
      "    ],\r\n",
      "    online=True,\r\n",
      "    batch_source=driver_hourly_stats,\r\n",
      "    tags={},\r\n",
      ")\r\n"
     ]
    }
   ],
   "source": [
    "!cat example.py"
   ]
  },
  {
   "cell_type": "code",
   "execution_count": 10,
   "metadata": {},
   "outputs": [],
   "source": [
    "from google.protobuf.duration_pb2 import Duration\n",
    "from feast import Entity, Feature, FeatureView, FileSource, ValueType"
   ]
  },
  {
   "cell_type": "code",
   "execution_count": 11,
   "metadata": {},
   "outputs": [],
   "source": [
    "# Read data from parquet files. Parquet is convenient for local development mode. For\n",
    "# production, you can use your favorite DWH, such as BigQuery. See Feast documentation\n",
    "# for more info.\n",
    "driver_hourly_stats = FileSource(\n",
    "    path=\"/Users/avkash/work/prodramp/publiccode/feature-store/feast-starter/feature_repo/data/driver_stats.parquet\",\n",
    "    event_timestamp_column=\"event_timestamp\",\n",
    "    created_timestamp_column=\"created\",\n",
    ")\n"
   ]
  },
  {
   "cell_type": "code",
   "execution_count": 12,
   "metadata": {},
   "outputs": [
    {
     "data": {
      "text/plain": [
       "<feast.infra.offline_stores.file_source.FileSource at 0x7fb1f8a873d0>"
      ]
     },
     "execution_count": 12,
     "metadata": {},
     "output_type": "execute_result"
    }
   ],
   "source": [
    "driver_hourly_stats"
   ]
  },
  {
   "cell_type": "code",
   "execution_count": 13,
   "metadata": {},
   "outputs": [],
   "source": [
    "# Define an entity for the driver. You can think of entity as a primary key used to\n",
    "# fetch features.\n",
    "driver = Entity(name=\"driver_id\", value_type=ValueType.INT64, description=\"driver id\",)"
   ]
  },
  {
   "cell_type": "code",
   "execution_count": 14,
   "metadata": {},
   "outputs": [
    {
     "data": {
      "text/plain": [
       "<feast.entity.Entity at 0x7fb1c8842990>"
      ]
     },
     "execution_count": 14,
     "metadata": {},
     "output_type": "execute_result"
    }
   ],
   "source": [
    "driver"
   ]
  },
  {
   "cell_type": "code",
   "execution_count": 15,
   "metadata": {},
   "outputs": [
    {
     "name": "stdout",
     "output_type": "stream",
     "text": [
      "/Users/avkash/anaconda3/lib/python3.7/site-packages/jinja2/utils.py:485: DeprecationWarning: Using or importing the ABCs from 'collections' instead of from 'collections.abc' is deprecated since Python 3.3,and in 3.9 it will stop working\r\n",
      "  from collections import MutableMapping\r\n",
      "/Users/avkash/anaconda3/lib/python3.7/site-packages/jinja2/runtime.py:318: DeprecationWarning: Using or importing the ABCs from 'collections' instead of from 'collections.abc' is deprecated since Python 3.3,and in 3.9 it will stop working\r\n",
      "  from collections import Mapping\r\n",
      "NAME    DESCRIPTION    TYPE\r\n"
     ]
    }
   ],
   "source": [
    "!feast entities list"
   ]
  },
  {
   "cell_type": "code",
   "execution_count": 16,
   "metadata": {},
   "outputs": [],
   "source": [
    "# Our parquet files contain sample data that includes a driver_id column, timestamps and\n",
    "# three feature column. Here we define a Feature View that will allow us to serve this\n",
    "# data to our model online.\n",
    "driver_hourly_stats_view = FeatureView(\n",
    "    name=\"driver_hourly_stats\",\n",
    "    entities=[\"driver_id\"],\n",
    "    ttl=Duration(seconds=86400 * 1),\n",
    "    features=[\n",
    "        Feature(name=\"conv_rate\", dtype=ValueType.FLOAT),\n",
    "        Feature(name=\"acc_rate\", dtype=ValueType.FLOAT),\n",
    "        Feature(name=\"avg_daily_trips\", dtype=ValueType.INT64),\n",
    "    ],\n",
    "    online=True,\n",
    "    batch_source=driver_hourly_stats,\n",
    "    tags={},\n",
    ")"
   ]
  },
  {
   "cell_type": "code",
   "execution_count": 17,
   "metadata": {},
   "outputs": [
    {
     "data": {
      "text/plain": [
       "<FeatureView(_name = driver_hourly_stats, _features = [conv_rate-ValueType.FLOAT, acc_rate-ValueType.FLOAT, avg_daily_trips-ValueType.INT64], _projection = FeatureViewProjection(name='driver_hourly_stats', name_alias=None, features=[conv_rate-ValueType.FLOAT, acc_rate-ValueType.FLOAT, avg_daily_trips-ValueType.INT64], join_key_map={}), created_timestamp = None, last_updated_timestamp = None, entities = ['driver_id'], tags = {}, ttl = 1 day, 0:00:00, online = True, input = <feast.infra.offline_stores.file_source.FileSource object at 0x7fb1f8a873d0>, batch_source = <feast.infra.offline_stores.file_source.FileSource object at 0x7fb1f8a873d0>, stream_source = None, materialization_intervals = [])>"
      ]
     },
     "execution_count": 17,
     "metadata": {},
     "output_type": "execute_result"
    }
   ],
   "source": [
    "driver_hourly_stats_view"
   ]
  },
  {
   "cell_type": "code",
   "execution_count": 18,
   "metadata": {},
   "outputs": [
    {
     "data": {
      "text/plain": [
       "['driver_id']"
      ]
     },
     "execution_count": 18,
     "metadata": {},
     "output_type": "execute_result"
    }
   ],
   "source": [
    "driver_hourly_stats_view.entities"
   ]
  },
  {
   "cell_type": "code",
   "execution_count": 19,
   "metadata": {},
   "outputs": [
    {
     "data": {
      "text/plain": [
       "<feast.infra.offline_stores.file_source.FileSource at 0x7fb1f8a873d0>"
      ]
     },
     "execution_count": 19,
     "metadata": {},
     "output_type": "execute_result"
    }
   ],
   "source": [
    "driver_hourly_stats_view.input"
   ]
  },
  {
   "cell_type": "code",
   "execution_count": 20,
   "metadata": {},
   "outputs": [
    {
     "data": {
      "text/plain": [
       "[conv_rate-ValueType.FLOAT,\n",
       " acc_rate-ValueType.FLOAT,\n",
       " avg_daily_trips-ValueType.INT64]"
      ]
     },
     "execution_count": 20,
     "metadata": {},
     "output_type": "execute_result"
    }
   ],
   "source": [
    "driver_hourly_stats_view.features"
   ]
  },
  {
   "cell_type": "code",
   "execution_count": 21,
   "metadata": {},
   "outputs": [
    {
     "name": "stdout",
     "output_type": "stream",
     "text": [
      "__init__.py        \u001b[1m\u001b[36mdata\u001b[m\u001b[m               example.py         feature_store.yaml\r\n"
     ]
    }
   ],
   "source": [
    "!ls"
   ]
  },
  {
   "cell_type": "code",
   "execution_count": 22,
   "metadata": {},
   "outputs": [
    {
     "name": "stdout",
     "output_type": "stream",
     "text": [
      "project: feature_repo\r\n",
      "registry: data/registry.db\r\n",
      "provider: local\r\n",
      "online_store:\r\n",
      "    path: data/online_store.db"
     ]
    }
   ],
   "source": [
    "!cat feature_store.yaml"
   ]
  },
  {
   "cell_type": "code",
   "execution_count": 23,
   "metadata": {},
   "outputs": [],
   "source": [
    "!python example.py"
   ]
  },
  {
   "cell_type": "code",
   "execution_count": 24,
   "metadata": {},
   "outputs": [
    {
     "name": "stdout",
     "output_type": "stream",
     "text": [
      "/Users/avkash/anaconda3/lib/python3.7/site-packages/jinja2/utils.py:485: DeprecationWarning: Using or importing the ABCs from 'collections' instead of from 'collections.abc' is deprecated since Python 3.3,and in 3.9 it will stop working\r\n",
      "  from collections import MutableMapping\r\n",
      "/Users/avkash/anaconda3/lib/python3.7/site-packages/jinja2/runtime.py:318: DeprecationWarning: Using or importing the ABCs from 'collections' instead of from 'collections.abc' is deprecated since Python 3.3,and in 3.9 it will stop working\r\n",
      "  from collections import Mapping\r\n",
      "02/23/2022 02:37:32 PM INFO:There is no active feature server.\r\n"
     ]
    }
   ],
   "source": [
    "!feast endpoint"
   ]
  },
  {
   "cell_type": "code",
   "execution_count": 25,
   "metadata": {},
   "outputs": [
    {
     "name": "stdout",
     "output_type": "stream",
     "text": [
      "/Users/avkash/anaconda3/lib/python3.7/site-packages/jinja2/utils.py:485: DeprecationWarning: Using or importing the ABCs from 'collections' instead of from 'collections.abc' is deprecated since Python 3.3,and in 3.9 it will stop working\n",
      "  from collections import MutableMapping\n",
      "/Users/avkash/anaconda3/lib/python3.7/site-packages/jinja2/runtime.py:318: DeprecationWarning: Using or importing the ABCs from 'collections' instead of from 'collections.abc' is deprecated since Python 3.3,and in 3.9 it will stop working\n",
      "  from collections import Mapping\n",
      "Created entity \u001b[1m\u001b[32mdriver_id\u001b[0m\n",
      "Created feature view \u001b[1m\u001b[32mdriver_hourly_stats\u001b[0m\n",
      "\n",
      "Created sqlite table \u001b[1m\u001b[32mfeature_repo_driver_hourly_stats\u001b[0m\n",
      "\n"
     ]
    }
   ],
   "source": [
    "!feast apply"
   ]
  },
  {
   "cell_type": "code",
   "execution_count": 26,
   "metadata": {},
   "outputs": [
    {
     "name": "stdout",
     "output_type": "stream",
     "text": [
      "total 16\r\n",
      "drwxr-xr-x   6 avkash  staff   192 Feb 23 14:19 \u001b[1m\u001b[36m.\u001b[m\u001b[m\r\n",
      "drwxr-xr-x  11 avkash  staff   352 Feb 23 14:37 \u001b[1m\u001b[36m..\u001b[m\u001b[m\r\n",
      "-rw-r--r--   1 avkash  staff     0 Feb 20 09:04 __init__.py\r\n",
      "drwxr-xr-x   5 avkash  staff   160 Feb 23 14:37 \u001b[1m\u001b[36mdata\u001b[m\u001b[m\r\n",
      "-rw-r--r--   1 avkash  staff  1402 Feb 23 14:19 example.py\r\n",
      "-rw-r--r--   1 avkash  staff   109 Feb 23 14:19 feature_store.yaml\r\n"
     ]
    }
   ],
   "source": [
    "!ls -la"
   ]
  },
  {
   "cell_type": "code",
   "execution_count": 27,
   "metadata": {},
   "outputs": [
    {
     "name": "stdout",
     "output_type": "stream",
     "text": [
      "total 112\r\n",
      "drwxr-xr-x  5 avkash  staff    160 Feb 23 14:37 \u001b[1m\u001b[36m.\u001b[m\u001b[m\r\n",
      "drwxr-xr-x  6 avkash  staff    192 Feb 23 14:19 \u001b[1m\u001b[36m..\u001b[m\u001b[m\r\n",
      "-rw-r--r--  1 avkash  staff  34468 Feb 23 14:19 driver_stats.parquet\r\n",
      "-rw-r--r--  1 avkash  staff  16384 Feb 23 14:37 online_store.db\r\n",
      "-rw-r--r--  1 avkash  staff    732 Feb 23 14:37 registry.db\r\n"
     ]
    }
   ],
   "source": [
    "!ls -la data"
   ]
  },
  {
   "cell_type": "code",
   "execution_count": null,
   "metadata": {},
   "outputs": [],
   "source": []
  }
 ],
 "metadata": {
  "kernelspec": {
   "display_name": "Python 3",
   "language": "python",
   "name": "python3"
  },
  "language_info": {
   "codemirror_mode": {
    "name": "ipython",
    "version": 3
   },
   "file_extension": ".py",
   "mimetype": "text/x-python",
   "name": "python",
   "nbconvert_exporter": "python",
   "pygments_lexer": "ipython3",
   "version": "3.7.6"
  }
 },
 "nbformat": 4,
 "nbformat_minor": 4
}
