{
 "cells": [
  {
   "cell_type": "code",
   "execution_count": 1,
   "metadata": {},
   "outputs": [],
   "source": [
    "import sqlite3"
   ]
  },
  {
   "cell_type": "code",
   "execution_count": 2,
   "metadata": {},
   "outputs": [
    {
     "name": "stdout",
     "output_type": "stream",
     "text": [
      "1-Install-init.ipynb                 5-Prediction-stored-features.ipynb\r\n",
      "2-Using Existing Feature Store.ipynb Access-sqlite-db.ipynb\r\n",
      "3-Understand Data.ipynb              driver_orders.csv\r\n",
      "4-Working-with-features.ipynb        \u001b[1m\u001b[36mfeature_repo\u001b[m\u001b[m\r\n"
     ]
    }
   ],
   "source": [
    "!ls"
   ]
  },
  {
   "cell_type": "code",
   "execution_count": 3,
   "metadata": {},
   "outputs": [
    {
     "name": "stdout",
     "output_type": "stream",
     "text": [
      "/Users/avkash/work/prodramp/publiccode/feature-store/feast-starter/feature_repo\n"
     ]
    }
   ],
   "source": [
    "%cd feature_repo"
   ]
  },
  {
   "cell_type": "code",
   "execution_count": 4,
   "metadata": {},
   "outputs": [
    {
     "name": "stdout",
     "output_type": "stream",
     "text": [
      "driver_stats.parquet online_store.db      registry.db\r\n"
     ]
    }
   ],
   "source": [
    "!ls data"
   ]
  },
  {
   "cell_type": "code",
   "execution_count": 5,
   "metadata": {},
   "outputs": [],
   "source": [
    "# Create a SQL connection to our SQLite database\n",
    "con = sqlite3.connect(\"data/online_store.db\")\n"
   ]
  },
  {
   "cell_type": "code",
   "execution_count": 12,
   "metadata": {},
   "outputs": [
    {
     "name": "stdout",
     "output_type": "stream",
     "text": [
      "[('feature_repo_driver_hourly_stats',)]\n"
     ]
    }
   ],
   "source": [
    "cursor = con.cursor()\n",
    "cursor.execute(\"SELECT name FROM sqlite_master WHERE type='table';\")\n",
    "print(cursor.fetchall())"
   ]
  },
  {
   "cell_type": "code",
   "execution_count": 13,
   "metadata": {},
   "outputs": [
    {
     "name": "stdout",
     "output_type": "stream",
     "text": [
      "(b'\\x02\\x00\\x00\\x00driver_id\\x04\\x00\\x00\\x00\\x04\\x00\\x00\\x00\\xed\\x03\\x00\\x00', 'conv_rate', b'5\\xa0d\\x82>', '2022-02-23 13:00:00', '2022-02-23 14:19:15.332000')\n",
      "(b'\\x02\\x00\\x00\\x00driver_id\\x04\\x00\\x00\\x00\\x04\\x00\\x00\\x00\\xed\\x03\\x00\\x00', 'acc_rate', b'5>\\x1cW?', '2022-02-23 13:00:00', '2022-02-23 14:19:15.332000')\n",
      "(b'\\x02\\x00\\x00\\x00driver_id\\x04\\x00\\x00\\x00\\x04\\x00\\x00\\x00\\xed\\x03\\x00\\x00', 'avg_daily_trips', b' o', '2022-02-23 13:00:00', '2022-02-23 14:19:15.332000')\n",
      "(b'\\x02\\x00\\x00\\x00driver_id\\x04\\x00\\x00\\x00\\x04\\x00\\x00\\x00\\xec\\x03\\x00\\x00', 'conv_rate', b'5\\x92\\xd6B?', '2022-02-23 13:00:00', '2022-02-23 14:19:15.332000')\n",
      "(b'\\x02\\x00\\x00\\x00driver_id\\x04\\x00\\x00\\x00\\x04\\x00\\x00\\x00\\xec\\x03\\x00\\x00', 'acc_rate', b'5J\\x0b\\x7f?', '2022-02-23 13:00:00', '2022-02-23 14:19:15.332000')\n",
      "(b'\\x02\\x00\\x00\\x00driver_id\\x04\\x00\\x00\\x00\\x04\\x00\\x00\\x00\\xec\\x03\\x00\\x00', 'avg_daily_trips', b' \\xcd\\x07', '2022-02-23 13:00:00', '2022-02-23 14:19:15.332000')\n",
      "(b'\\x02\\x00\\x00\\x00driver_id\\x04\\x00\\x00\\x00\\x04\\x00\\x00\\x00\\xeb\\x03\\x00\\x00', 'conv_rate', b'5\\xd7\\xf6A?', '2022-02-23 13:00:00', '2022-02-23 14:19:15.332000')\n",
      "(b'\\x02\\x00\\x00\\x00driver_id\\x04\\x00\\x00\\x00\\x04\\x00\\x00\\x00\\xeb\\x03\\x00\\x00', 'acc_rate', b'5\\x1c{^?', '2022-02-23 13:00:00', '2022-02-23 14:19:15.332000')\n",
      "(b'\\x02\\x00\\x00\\x00driver_id\\x04\\x00\\x00\\x00\\x04\\x00\\x00\\x00\\xeb\\x03\\x00\\x00', 'avg_daily_trips', b' \\xa1\\x02', '2022-02-23 13:00:00', '2022-02-23 14:19:15.332000')\n",
      "(b'\\x02\\x00\\x00\\x00driver_id\\x04\\x00\\x00\\x00\\x04\\x00\\x00\\x00\\xea\\x03\\x00\\x00', 'conv_rate', b'5\\x8a\\x1aK?', '2022-02-23 13:00:00', '2022-02-23 14:19:15.332000')\n",
      "(b'\\x02\\x00\\x00\\x00driver_id\\x04\\x00\\x00\\x00\\x04\\x00\\x00\\x00\\xea\\x03\\x00\\x00', 'acc_rate', b'5K$t?', '2022-02-23 13:00:00', '2022-02-23 14:19:15.332000')\n",
      "(b'\\x02\\x00\\x00\\x00driver_id\\x04\\x00\\x00\\x00\\x04\\x00\\x00\\x00\\xea\\x03\\x00\\x00', 'avg_daily_trips', b' \\xf4\\x05', '2022-02-23 13:00:00', '2022-02-23 14:19:15.332000')\n",
      "(b'\\x02\\x00\\x00\\x00driver_id\\x04\\x00\\x00\\x00\\x04\\x00\\x00\\x00\\xe9\\x03\\x00\\x00', 'conv_rate', b'5\\x901\\n?', '2022-02-23 13:00:00', '2022-02-23 14:19:15.332000')\n",
      "(b'\\x02\\x00\\x00\\x00driver_id\\x04\\x00\\x00\\x00\\x04\\x00\\x00\\x00\\xe9\\x03\\x00\\x00', 'acc_rate', b'5#\\x8d\\xf7>', '2022-02-23 13:00:00', '2022-02-23 14:19:15.332000')\n",
      "(b'\\x02\\x00\\x00\\x00driver_id\\x04\\x00\\x00\\x00\\x04\\x00\\x00\\x00\\xe9\\x03\\x00\\x00', 'avg_daily_trips', b' \\x99\\x02', '2022-02-23 13:00:00', '2022-02-23 14:19:15.332000')\n"
     ]
    }
   ],
   "source": [
    "\n",
    "\n",
    "cur = con.cursor()\n",
    "\n",
    "# The result of a \"cursor.execute\" can be iterated over by row\n",
    "for row in cur.execute('SELECT * FROM feature_repo_driver_hourly_stats;'):\n",
    "    print(row)\n"
   ]
  },
  {
   "cell_type": "code",
   "execution_count": 14,
   "metadata": {},
   "outputs": [],
   "source": [
    "import pandas as pd"
   ]
  },
  {
   "cell_type": "code",
   "execution_count": 15,
   "metadata": {},
   "outputs": [],
   "source": [
    "# Load the data into a DataFrame\n",
    "df = pd.read_sql_query(\"SELECT * from feature_repo_driver_hourly_stats;\", con)"
   ]
  },
  {
   "cell_type": "code",
   "execution_count": 16,
   "metadata": {},
   "outputs": [
    {
     "data": {
      "text/html": [
       "<div>\n",
       "<style scoped>\n",
       "    .dataframe tbody tr th:only-of-type {\n",
       "        vertical-align: middle;\n",
       "    }\n",
       "\n",
       "    .dataframe tbody tr th {\n",
       "        vertical-align: top;\n",
       "    }\n",
       "\n",
       "    .dataframe thead th {\n",
       "        text-align: right;\n",
       "    }\n",
       "</style>\n",
       "<table border=\"1\" class=\"dataframe\">\n",
       "  <thead>\n",
       "    <tr style=\"text-align: right;\">\n",
       "      <th></th>\n",
       "      <th>entity_key</th>\n",
       "      <th>feature_name</th>\n",
       "      <th>value</th>\n",
       "      <th>event_ts</th>\n",
       "      <th>created_ts</th>\n",
       "    </tr>\n",
       "  </thead>\n",
       "  <tbody>\n",
       "    <tr>\n",
       "      <th>0</th>\n",
       "      <td>b'\\x02\\x00\\x00\\x00driver_id\\x04\\x00\\x00\\x00\\x0...</td>\n",
       "      <td>conv_rate</td>\n",
       "      <td>b'5\\xa0d\\x82&gt;'</td>\n",
       "      <td>2022-02-23 13:00:00</td>\n",
       "      <td>2022-02-23 14:19:15.332000</td>\n",
       "    </tr>\n",
       "    <tr>\n",
       "      <th>1</th>\n",
       "      <td>b'\\x02\\x00\\x00\\x00driver_id\\x04\\x00\\x00\\x00\\x0...</td>\n",
       "      <td>acc_rate</td>\n",
       "      <td>b'5&gt;\\x1cW?'</td>\n",
       "      <td>2022-02-23 13:00:00</td>\n",
       "      <td>2022-02-23 14:19:15.332000</td>\n",
       "    </tr>\n",
       "    <tr>\n",
       "      <th>2</th>\n",
       "      <td>b'\\x02\\x00\\x00\\x00driver_id\\x04\\x00\\x00\\x00\\x0...</td>\n",
       "      <td>avg_daily_trips</td>\n",
       "      <td>b' o'</td>\n",
       "      <td>2022-02-23 13:00:00</td>\n",
       "      <td>2022-02-23 14:19:15.332000</td>\n",
       "    </tr>\n",
       "    <tr>\n",
       "      <th>3</th>\n",
       "      <td>b'\\x02\\x00\\x00\\x00driver_id\\x04\\x00\\x00\\x00\\x0...</td>\n",
       "      <td>conv_rate</td>\n",
       "      <td>b'5\\x92\\xd6B?'</td>\n",
       "      <td>2022-02-23 13:00:00</td>\n",
       "      <td>2022-02-23 14:19:15.332000</td>\n",
       "    </tr>\n",
       "    <tr>\n",
       "      <th>4</th>\n",
       "      <td>b'\\x02\\x00\\x00\\x00driver_id\\x04\\x00\\x00\\x00\\x0...</td>\n",
       "      <td>acc_rate</td>\n",
       "      <td>b'5J\\x0b\\x7f?'</td>\n",
       "      <td>2022-02-23 13:00:00</td>\n",
       "      <td>2022-02-23 14:19:15.332000</td>\n",
       "    </tr>\n",
       "    <tr>\n",
       "      <th>5</th>\n",
       "      <td>b'\\x02\\x00\\x00\\x00driver_id\\x04\\x00\\x00\\x00\\x0...</td>\n",
       "      <td>avg_daily_trips</td>\n",
       "      <td>b' \\xcd\\x07'</td>\n",
       "      <td>2022-02-23 13:00:00</td>\n",
       "      <td>2022-02-23 14:19:15.332000</td>\n",
       "    </tr>\n",
       "    <tr>\n",
       "      <th>6</th>\n",
       "      <td>b'\\x02\\x00\\x00\\x00driver_id\\x04\\x00\\x00\\x00\\x0...</td>\n",
       "      <td>conv_rate</td>\n",
       "      <td>b'5\\xd7\\xf6A?'</td>\n",
       "      <td>2022-02-23 13:00:00</td>\n",
       "      <td>2022-02-23 14:19:15.332000</td>\n",
       "    </tr>\n",
       "    <tr>\n",
       "      <th>7</th>\n",
       "      <td>b'\\x02\\x00\\x00\\x00driver_id\\x04\\x00\\x00\\x00\\x0...</td>\n",
       "      <td>acc_rate</td>\n",
       "      <td>b'5\\x1c{^?'</td>\n",
       "      <td>2022-02-23 13:00:00</td>\n",
       "      <td>2022-02-23 14:19:15.332000</td>\n",
       "    </tr>\n",
       "    <tr>\n",
       "      <th>8</th>\n",
       "      <td>b'\\x02\\x00\\x00\\x00driver_id\\x04\\x00\\x00\\x00\\x0...</td>\n",
       "      <td>avg_daily_trips</td>\n",
       "      <td>b' \\xa1\\x02'</td>\n",
       "      <td>2022-02-23 13:00:00</td>\n",
       "      <td>2022-02-23 14:19:15.332000</td>\n",
       "    </tr>\n",
       "    <tr>\n",
       "      <th>9</th>\n",
       "      <td>b'\\x02\\x00\\x00\\x00driver_id\\x04\\x00\\x00\\x00\\x0...</td>\n",
       "      <td>conv_rate</td>\n",
       "      <td>b'5\\x8a\\x1aK?'</td>\n",
       "      <td>2022-02-23 13:00:00</td>\n",
       "      <td>2022-02-23 14:19:15.332000</td>\n",
       "    </tr>\n",
       "    <tr>\n",
       "      <th>10</th>\n",
       "      <td>b'\\x02\\x00\\x00\\x00driver_id\\x04\\x00\\x00\\x00\\x0...</td>\n",
       "      <td>acc_rate</td>\n",
       "      <td>b'5K$t?'</td>\n",
       "      <td>2022-02-23 13:00:00</td>\n",
       "      <td>2022-02-23 14:19:15.332000</td>\n",
       "    </tr>\n",
       "    <tr>\n",
       "      <th>11</th>\n",
       "      <td>b'\\x02\\x00\\x00\\x00driver_id\\x04\\x00\\x00\\x00\\x0...</td>\n",
       "      <td>avg_daily_trips</td>\n",
       "      <td>b' \\xf4\\x05'</td>\n",
       "      <td>2022-02-23 13:00:00</td>\n",
       "      <td>2022-02-23 14:19:15.332000</td>\n",
       "    </tr>\n",
       "    <tr>\n",
       "      <th>12</th>\n",
       "      <td>b'\\x02\\x00\\x00\\x00driver_id\\x04\\x00\\x00\\x00\\x0...</td>\n",
       "      <td>conv_rate</td>\n",
       "      <td>b'5\\x901\\n?'</td>\n",
       "      <td>2022-02-23 13:00:00</td>\n",
       "      <td>2022-02-23 14:19:15.332000</td>\n",
       "    </tr>\n",
       "    <tr>\n",
       "      <th>13</th>\n",
       "      <td>b'\\x02\\x00\\x00\\x00driver_id\\x04\\x00\\x00\\x00\\x0...</td>\n",
       "      <td>acc_rate</td>\n",
       "      <td>b'5#\\x8d\\xf7&gt;'</td>\n",
       "      <td>2022-02-23 13:00:00</td>\n",
       "      <td>2022-02-23 14:19:15.332000</td>\n",
       "    </tr>\n",
       "    <tr>\n",
       "      <th>14</th>\n",
       "      <td>b'\\x02\\x00\\x00\\x00driver_id\\x04\\x00\\x00\\x00\\x0...</td>\n",
       "      <td>avg_daily_trips</td>\n",
       "      <td>b' \\x99\\x02'</td>\n",
       "      <td>2022-02-23 13:00:00</td>\n",
       "      <td>2022-02-23 14:19:15.332000</td>\n",
       "    </tr>\n",
       "  </tbody>\n",
       "</table>\n",
       "</div>"
      ],
      "text/plain": [
       "                                           entity_key     feature_name  \\\n",
       "0   b'\\x02\\x00\\x00\\x00driver_id\\x04\\x00\\x00\\x00\\x0...        conv_rate   \n",
       "1   b'\\x02\\x00\\x00\\x00driver_id\\x04\\x00\\x00\\x00\\x0...         acc_rate   \n",
       "2   b'\\x02\\x00\\x00\\x00driver_id\\x04\\x00\\x00\\x00\\x0...  avg_daily_trips   \n",
       "3   b'\\x02\\x00\\x00\\x00driver_id\\x04\\x00\\x00\\x00\\x0...        conv_rate   \n",
       "4   b'\\x02\\x00\\x00\\x00driver_id\\x04\\x00\\x00\\x00\\x0...         acc_rate   \n",
       "5   b'\\x02\\x00\\x00\\x00driver_id\\x04\\x00\\x00\\x00\\x0...  avg_daily_trips   \n",
       "6   b'\\x02\\x00\\x00\\x00driver_id\\x04\\x00\\x00\\x00\\x0...        conv_rate   \n",
       "7   b'\\x02\\x00\\x00\\x00driver_id\\x04\\x00\\x00\\x00\\x0...         acc_rate   \n",
       "8   b'\\x02\\x00\\x00\\x00driver_id\\x04\\x00\\x00\\x00\\x0...  avg_daily_trips   \n",
       "9   b'\\x02\\x00\\x00\\x00driver_id\\x04\\x00\\x00\\x00\\x0...        conv_rate   \n",
       "10  b'\\x02\\x00\\x00\\x00driver_id\\x04\\x00\\x00\\x00\\x0...         acc_rate   \n",
       "11  b'\\x02\\x00\\x00\\x00driver_id\\x04\\x00\\x00\\x00\\x0...  avg_daily_trips   \n",
       "12  b'\\x02\\x00\\x00\\x00driver_id\\x04\\x00\\x00\\x00\\x0...        conv_rate   \n",
       "13  b'\\x02\\x00\\x00\\x00driver_id\\x04\\x00\\x00\\x00\\x0...         acc_rate   \n",
       "14  b'\\x02\\x00\\x00\\x00driver_id\\x04\\x00\\x00\\x00\\x0...  avg_daily_trips   \n",
       "\n",
       "             value             event_ts                  created_ts  \n",
       "0   b'5\\xa0d\\x82>'  2022-02-23 13:00:00  2022-02-23 14:19:15.332000  \n",
       "1      b'5>\\x1cW?'  2022-02-23 13:00:00  2022-02-23 14:19:15.332000  \n",
       "2            b' o'  2022-02-23 13:00:00  2022-02-23 14:19:15.332000  \n",
       "3   b'5\\x92\\xd6B?'  2022-02-23 13:00:00  2022-02-23 14:19:15.332000  \n",
       "4   b'5J\\x0b\\x7f?'  2022-02-23 13:00:00  2022-02-23 14:19:15.332000  \n",
       "5     b' \\xcd\\x07'  2022-02-23 13:00:00  2022-02-23 14:19:15.332000  \n",
       "6   b'5\\xd7\\xf6A?'  2022-02-23 13:00:00  2022-02-23 14:19:15.332000  \n",
       "7      b'5\\x1c{^?'  2022-02-23 13:00:00  2022-02-23 14:19:15.332000  \n",
       "8     b' \\xa1\\x02'  2022-02-23 13:00:00  2022-02-23 14:19:15.332000  \n",
       "9   b'5\\x8a\\x1aK?'  2022-02-23 13:00:00  2022-02-23 14:19:15.332000  \n",
       "10        b'5K$t?'  2022-02-23 13:00:00  2022-02-23 14:19:15.332000  \n",
       "11    b' \\xf4\\x05'  2022-02-23 13:00:00  2022-02-23 14:19:15.332000  \n",
       "12    b'5\\x901\\n?'  2022-02-23 13:00:00  2022-02-23 14:19:15.332000  \n",
       "13  b'5#\\x8d\\xf7>'  2022-02-23 13:00:00  2022-02-23 14:19:15.332000  \n",
       "14    b' \\x99\\x02'  2022-02-23 13:00:00  2022-02-23 14:19:15.332000  "
      ]
     },
     "execution_count": 16,
     "metadata": {},
     "output_type": "execute_result"
    }
   ],
   "source": [
    "df"
   ]
  },
  {
   "cell_type": "code",
   "execution_count": 17,
   "metadata": {},
   "outputs": [],
   "source": [
    "# Be sure to close the connection\n",
    "con.close()"
   ]
  },
  {
   "cell_type": "code",
   "execution_count": null,
   "metadata": {},
   "outputs": [],
   "source": []
  }
 ],
 "metadata": {
  "kernelspec": {
   "display_name": "Python 3",
   "language": "python",
   "name": "python3"
  },
  "language_info": {
   "codemirror_mode": {
    "name": "ipython",
    "version": 3
   },
   "file_extension": ".py",
   "mimetype": "text/x-python",
   "name": "python",
   "nbconvert_exporter": "python",
   "pygments_lexer": "ipython3",
   "version": "3.7.6"
  }
 },
 "nbformat": 4,
 "nbformat_minor": 5
}
