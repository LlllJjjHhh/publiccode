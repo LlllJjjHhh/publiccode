{
 "cells": [
  {
   "cell_type": "code",
   "execution_count": 1,
   "metadata": {},
   "outputs": [],
   "source": [
    "import feast\n",
    "from joblib import dump\n",
    "import pandas as pd\n",
    "from sklearn.linear_model import LinearRegression\n"
   ]
  },
  {
   "cell_type": "code",
   "execution_count": 4,
   "metadata": {},
   "outputs": [
    {
     "name": "stdout",
     "output_type": "stream",
     "text": [
      "1-Install-init.ipynb                 5-Prediction-stored-features.ipynb\r\n",
      "2-Using Existing Feature Store.ipynb Access-sqlite-db.ipynb\r\n",
      "3-Understand Data.ipynb              driver_orders.csv\r\n",
      "4-Working-with-features.ipynb        \u001b[1m\u001b[36mfeature_repo\u001b[m\u001b[m\r\n"
     ]
    }
   ],
   "source": [
    "!ls"
   ]
  },
  {
   "cell_type": "code",
   "execution_count": 2,
   "metadata": {},
   "outputs": [],
   "source": [
    "# Load driver order data\n",
    "orders = pd.read_csv(\"driver_orders.csv\", sep=\"\\t\")\n",
    "orders[\"event_timestamp\"] = pd.to_datetime(orders[\"event_timestamp\"])"
   ]
  },
  {
   "cell_type": "code",
   "execution_count": 3,
   "metadata": {},
   "outputs": [
    {
     "data": {
      "text/html": [
       "<div>\n",
       "<style scoped>\n",
       "    .dataframe tbody tr th:only-of-type {\n",
       "        vertical-align: middle;\n",
       "    }\n",
       "\n",
       "    .dataframe tbody tr th {\n",
       "        vertical-align: top;\n",
       "    }\n",
       "\n",
       "    .dataframe thead th {\n",
       "        text-align: right;\n",
       "    }\n",
       "</style>\n",
       "<table border=\"1\" class=\"dataframe\">\n",
       "  <thead>\n",
       "    <tr style=\"text-align: right;\">\n",
       "      <th></th>\n",
       "      <th>event_timestamp</th>\n",
       "      <th>driver_id</th>\n",
       "      <th>trip_completed</th>\n",
       "    </tr>\n",
       "  </thead>\n",
       "  <tbody>\n",
       "    <tr>\n",
       "      <th>0</th>\n",
       "      <td>2021-04-16 20:29:28+00:00</td>\n",
       "      <td>1001</td>\n",
       "      <td>1</td>\n",
       "    </tr>\n",
       "    <tr>\n",
       "      <th>1</th>\n",
       "      <td>2021-04-17 04:29:28+00:00</td>\n",
       "      <td>1002</td>\n",
       "      <td>0</td>\n",
       "    </tr>\n",
       "    <tr>\n",
       "      <th>2</th>\n",
       "      <td>2021-04-17 12:29:28+00:00</td>\n",
       "      <td>1003</td>\n",
       "      <td>0</td>\n",
       "    </tr>\n",
       "    <tr>\n",
       "      <th>3</th>\n",
       "      <td>2021-04-17 20:29:28+00:00</td>\n",
       "      <td>1001</td>\n",
       "      <td>1</td>\n",
       "    </tr>\n",
       "    <tr>\n",
       "      <th>4</th>\n",
       "      <td>2021-04-18 04:29:28+00:00</td>\n",
       "      <td>1002</td>\n",
       "      <td>0</td>\n",
       "    </tr>\n",
       "    <tr>\n",
       "      <th>5</th>\n",
       "      <td>2021-04-18 12:29:28+00:00</td>\n",
       "      <td>1003</td>\n",
       "      <td>0</td>\n",
       "    </tr>\n",
       "    <tr>\n",
       "      <th>6</th>\n",
       "      <td>2021-04-18 20:29:28+00:00</td>\n",
       "      <td>1001</td>\n",
       "      <td>1</td>\n",
       "    </tr>\n",
       "    <tr>\n",
       "      <th>7</th>\n",
       "      <td>2021-04-19 04:29:28+00:00</td>\n",
       "      <td>1002</td>\n",
       "      <td>0</td>\n",
       "    </tr>\n",
       "    <tr>\n",
       "      <th>8</th>\n",
       "      <td>2021-04-19 12:29:28+00:00</td>\n",
       "      <td>1003</td>\n",
       "      <td>0</td>\n",
       "    </tr>\n",
       "    <tr>\n",
       "      <th>9</th>\n",
       "      <td>2021-04-19 20:29:28+00:00</td>\n",
       "      <td>1004</td>\n",
       "      <td>1</td>\n",
       "    </tr>\n",
       "  </tbody>\n",
       "</table>\n",
       "</div>"
      ],
      "text/plain": [
       "            event_timestamp  driver_id  trip_completed\n",
       "0 2021-04-16 20:29:28+00:00       1001               1\n",
       "1 2021-04-17 04:29:28+00:00       1002               0\n",
       "2 2021-04-17 12:29:28+00:00       1003               0\n",
       "3 2021-04-17 20:29:28+00:00       1001               1\n",
       "4 2021-04-18 04:29:28+00:00       1002               0\n",
       "5 2021-04-18 12:29:28+00:00       1003               0\n",
       "6 2021-04-18 20:29:28+00:00       1001               1\n",
       "7 2021-04-19 04:29:28+00:00       1002               0\n",
       "8 2021-04-19 12:29:28+00:00       1003               0\n",
       "9 2021-04-19 20:29:28+00:00       1004               1"
      ]
     },
     "execution_count": 3,
     "metadata": {},
     "output_type": "execute_result"
    }
   ],
   "source": [
    "orders"
   ]
  },
  {
   "cell_type": "code",
   "execution_count": 5,
   "metadata": {},
   "outputs": [
    {
     "name": "stdout",
     "output_type": "stream",
     "text": [
      "/Users/avkash/work/prodramp/publiccode/feature-store/feast-starter/feature_repo\n"
     ]
    }
   ],
   "source": [
    "%cd feature_repo"
   ]
  },
  {
   "cell_type": "code",
   "execution_count": 6,
   "metadata": {},
   "outputs": [
    {
     "name": "stderr",
     "output_type": "stream",
     "text": [
      "/Users/avkash/anaconda3/lib/python3.7/site-packages/jinja2/utils.py:485: DeprecationWarning: Using or importing the ABCs from 'collections' instead of from 'collections.abc' is deprecated since Python 3.3,and in 3.9 it will stop working\n",
      "  from collections import MutableMapping\n",
      "/Users/avkash/anaconda3/lib/python3.7/site-packages/jinja2/runtime.py:318: DeprecationWarning: Using or importing the ABCs from 'collections' instead of from 'collections.abc' is deprecated since Python 3.3,and in 3.9 it will stop working\n",
      "  from collections import Mapping\n"
     ]
    }
   ],
   "source": [
    "# Connect to your feature store provider\n",
    "fs = feast.FeatureStore(repo_path=\".\")"
   ]
  },
  {
   "cell_type": "code",
   "execution_count": 7,
   "metadata": {},
   "outputs": [
    {
     "data": {
      "text/plain": [
       "<feast.feature_store.FeatureStore at 0x7f8a312b2dd0>"
      ]
     },
     "execution_count": 7,
     "metadata": {},
     "output_type": "execute_result"
    }
   ],
   "source": [
    "fs"
   ]
  },
  {
   "cell_type": "code",
   "execution_count": 8,
   "metadata": {},
   "outputs": [
    {
     "data": {
      "text/plain": [
       "[<FeatureView(_name = driver_hourly_stats, _features = [conv_rate-ValueType.FLOAT, acc_rate-ValueType.FLOAT, avg_daily_trips-ValueType.INT64], _projection = FeatureViewProjection(name='driver_hourly_stats', name_alias=None, features=[conv_rate-ValueType.FLOAT, acc_rate-ValueType.FLOAT, avg_daily_trips-ValueType.INT64], join_key_map={}), created_timestamp = 2022-02-23 22:37:42.665307, last_updated_timestamp = 2022-02-23 22:56:47.966606, entities = ['driver_id'], tags = {}, ttl = 1 day, 0:00:00, online = True, input = <feast.infra.offline_stores.file_source.FileSource object at 0x7f8a108fdd50>, batch_source = <feast.infra.offline_stores.file_source.FileSource object at 0x7f8a108fdd50>, stream_source = None, materialization_intervals = [(datetime.datetime(2022, 2, 22, 22, 54, 47, 558169, tzinfo=<UTC>), datetime.datetime(2022, 2, 23, 22, 54, 27, tzinfo=<UTC>)), (datetime.datetime(2022, 2, 23, 22, 54, 27, tzinfo=<UTC>), datetime.datetime(2022, 2, 23, 22, 56, 33, tzinfo=<UTC>))])>]"
      ]
     },
     "execution_count": 8,
     "metadata": {},
     "output_type": "execute_result"
    }
   ],
   "source": [
    "fs.list_feature_views()"
   ]
  },
  {
   "cell_type": "code",
   "execution_count": 9,
   "metadata": {},
   "outputs": [
    {
     "data": {
      "text/plain": [
       "[]"
      ]
     },
     "execution_count": 9,
     "metadata": {},
     "output_type": "execute_result"
    }
   ],
   "source": [
    "fs.list_feature_services()"
   ]
  },
  {
   "cell_type": "code",
   "execution_count": 10,
   "metadata": {},
   "outputs": [
    {
     "data": {
      "text/plain": [
       "[<feast.entity.Entity at 0x7f89e0115d10>]"
      ]
     },
     "execution_count": 10,
     "metadata": {},
     "output_type": "execute_result"
    }
   ],
   "source": [
    "fs.list_entities()"
   ]
  },
  {
   "cell_type": "code",
   "execution_count": 11,
   "metadata": {},
   "outputs": [
    {
     "data": {
      "text/plain": [
       "<bound method FeatureStore.get_online_features of <feast.feature_store.FeatureStore object at 0x7f8a312b2dd0>>"
      ]
     },
     "execution_count": 11,
     "metadata": {},
     "output_type": "execute_result"
    }
   ],
   "source": [
    "fs.get_online_features"
   ]
  },
  {
   "cell_type": "code",
   "execution_count": 12,
   "metadata": {},
   "outputs": [
    {
     "data": {
      "text/plain": [
       "<bound method FeatureStore.get_historical_features of <feast.feature_store.FeatureStore object at 0x7f8a312b2dd0>>"
      ]
     },
     "execution_count": 12,
     "metadata": {},
     "output_type": "execute_result"
    }
   ],
   "source": [
    "fs.get_historical_features"
   ]
  },
  {
   "cell_type": "code",
   "execution_count": 13,
   "metadata": {},
   "outputs": [
    {
     "name": "stdout",
     "output_type": "stream",
     "text": [
      "/Users/avkash/work/prodramp/publiccode/feature-store/feast-starter/feature_repo\r\n"
     ]
    }
   ],
   "source": [
    "!pwd"
   ]
  },
  {
   "cell_type": "code",
   "execution_count": 14,
   "metadata": {},
   "outputs": [],
   "source": [
    "import pandas as pd\n",
    "import feast\n",
    "from joblib import load\n",
    "\n",
    "\n",
    "class DriverRankingModel:\n",
    "    def __init__(self):\n",
    "        # Load model\n",
    "        self.model = load(\"driver_model.bin\")\n",
    "\n",
    "        # Set up feature store\n",
    "        self.fs = feast.FeatureStore(repo_path=\".\")\n",
    "\n",
    "    def predict(self, driver_ids):\n",
    "        # Read features from Feast\n",
    "        driver_features = self.fs.get_online_features(\n",
    "            entity_rows=[{\"driver_id\": driver_id} for driver_id in driver_ids],\n",
    "            features=[\n",
    "                \"driver_hourly_stats:conv_rate\",\n",
    "                \"driver_hourly_stats:acc_rate\",\n",
    "                \"driver_hourly_stats:avg_daily_trips\",\n",
    "            ],\n",
    "        )\n",
    "        df = pd.DataFrame.from_dict(driver_features.to_dict())\n",
    "        print(\"------------------ Driver Features ------------ \")\n",
    "        print(df)\n",
    "        \n",
    "        # Make prediction\n",
    "        df[\"prediction\"] = self.model.predict(df[sorted(df)])\n",
    "\n",
    "        # Choose best driver\n",
    "        best_driver_id = df[\"driver_id\"].iloc[df[\"prediction\"].argmax()]\n",
    "\n",
    "        # return best driver\n",
    "        return best_driver_id"
   ]
  },
  {
   "cell_type": "code",
   "execution_count": 15,
   "metadata": {},
   "outputs": [],
   "source": [
    "def make_drivers_prediction():\n",
    "    drivers = [1001, 1002, 1003, 1004]\n",
    "    model = DriverRankingModel()\n",
    "    best_driver = model.predict(drivers)\n",
    "    print()\n",
    "    print(\"------------------ Best Driver Prediction ------------ \")\n",
    "    print(f\"Prediction for best driver id: {best_driver}\")"
   ]
  },
  {
   "cell_type": "code",
   "execution_count": 16,
   "metadata": {},
   "outputs": [
    {
     "name": "stdout",
     "output_type": "stream",
     "text": [
      "------------------ Driver Features ------------ \n",
      "   driver_id  avg_daily_trips  conv_rate  acc_rate\n",
      "0       1001              281   0.539819  0.483499\n",
      "1       1002              756   0.793374  0.953679\n",
      "2       1003              289   0.757673  0.869066\n",
      "3       1004              973   0.761087  0.996266\n",
      "\n",
      "------------------ Best Driver Prediction ------------ \n",
      "Prediction for best driver id: 1004\n"
     ]
    }
   ],
   "source": [
    "make_drivers_prediction()"
   ]
  },
  {
   "cell_type": "code",
   "execution_count": null,
   "metadata": {},
   "outputs": [],
   "source": []
  },
  {
   "cell_type": "code",
   "execution_count": null,
   "metadata": {},
   "outputs": [],
   "source": []
  }
 ],
 "metadata": {
  "kernelspec": {
   "display_name": "Python 3",
   "language": "python",
   "name": "python3"
  },
  "language_info": {
   "codemirror_mode": {
    "name": "ipython",
    "version": 3
   },
   "file_extension": ".py",
   "mimetype": "text/x-python",
   "name": "python",
   "nbconvert_exporter": "python",
   "pygments_lexer": "ipython3",
   "version": "3.7.6"
  }
 },
 "nbformat": 4,
 "nbformat_minor": 5
}
