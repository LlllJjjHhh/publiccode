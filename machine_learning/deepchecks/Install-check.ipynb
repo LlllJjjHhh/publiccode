{
 "cells": [
  {
   "cell_type": "code",
   "execution_count": 1,
   "id": "8bdeaa13",
   "metadata": {},
   "outputs": [
    {
     "name": "stdout",
     "output_type": "stream",
     "text": [
      "Python 3.8.12\r\n"
     ]
    }
   ],
   "source": [
    "!python --version"
   ]
  },
  {
   "cell_type": "code",
   "execution_count": 2,
   "id": "e65fc955",
   "metadata": {},
   "outputs": [
    {
     "name": "stdout",
     "output_type": "stream",
     "text": [
      "Name: deepchecks\r\n",
      "Version: 0.5.0\r\n",
      "Summary: UNKNOWN\r\n",
      "Home-page: https://github.com/deepchecks/deepchecks\r\n",
      "Author: deepchecks\r\n",
      "Author-email: info@deepchecks.com\r\n",
      "License: UNKNOWN\r\n",
      "Location: /Users/avkash/anaconda3/envs/python38/lib/python3.8/site-packages\r\n",
      "Requires: category-encoders, ipykernel, ipython, ipywidgets, jsonpickle, matplotlib, numpy, pandas, plotly, scikit-learn, scipy, statsmodels, tqdm, typing-extensions\r\n",
      "Required-by: \r\n"
     ]
    }
   ],
   "source": [
    "!pip show deepchecks"
   ]
  },
  {
   "cell_type": "code",
   "execution_count": 3,
   "id": "9b987716",
   "metadata": {},
   "outputs": [],
   "source": [
    "from deepchecks.suites import full_suite"
   ]
  },
  {
   "cell_type": "code",
   "execution_count": 4,
   "id": "e8396718",
   "metadata": {},
   "outputs": [],
   "source": [
    "suites = full_suite()"
   ]
  },
  {
   "cell_type": "code",
   "execution_count": 5,
   "id": "c16b20de",
   "metadata": {},
   "outputs": [
    {
     "data": {
      "text/plain": [
       "Full Suite: [\n",
       "\t0: ModelInfo\n",
       "\t1: ColumnsInfo\n",
       "\t2: ConfusionMatrixReport\n",
       "\t3: PerformanceReport\n",
       "\t\tConditions:\n",
       "\t\t\t0: Train-Test scores relative degradation is not greater than 0.1\n",
       "\t4: RocReport(excluded_classes=[])\n",
       "\t\tConditions:\n",
       "\t\t\t0: AUC score for all the classes is not less than 0.7\n",
       "\t5: SimpleModelComparison\n",
       "\t\tConditions:\n",
       "\t\t\t0: Model performance gain over simple model is not less than 10%\n",
       "\t6: ModelErrorAnalysis\n",
       "\t\tConditions:\n",
       "\t\t\t0: The performance difference of the detected segments must not be greater than 5%\n",
       "\t7: CalibrationScore\n",
       "\t8: TrustScoreComparison\n",
       "\t\tConditions:\n",
       "\t\t\t0: Mean trust score decline is not greater than 20%\n",
       "\t9: RegressionSystematicError\n",
       "\t\tConditions:\n",
       "\t\t\t0: Bias ratio is not greater than 0.01\n",
       "\t10: RegressionErrorDistribution\n",
       "\t\tConditions:\n",
       "\t\t\t0: Kurtosis value is not less than -0.1\n",
       "\t11: BoostingOverfit\n",
       "\t\tConditions:\n",
       "\t\t\t0: Test score over iterations doesn't decline by more than 5% from the best score\n",
       "\t12: UnusedFeatures\n",
       "\t\tConditions:\n",
       "\t\t\t0: Number of high variance unused features is not greater than 5\n",
       "\t13: ModelInferenceTime\n",
       "\t\tConditions:\n",
       "\t\t\t0: Average model inference time for one sample is not greater than 0.001\n",
       "\t14: TrainTestFeatureDrift\n",
       "\t\tConditions:\n",
       "\t\t\t0: PSI <= 0.2 and Earth Mover's Distance <= 0.1\n",
       "\t15: TrainTestLabelDrift\n",
       "\t\tConditions:\n",
       "\t\t\t0: PSI <= 0.2 and Earth Mover's Distance <= 0.1 for label drift\n",
       "\t16: WholeDatasetDrift\n",
       "\t\tConditions:\n",
       "\t\t\t0: Drift value is not greater than 0.25\n",
       "\t17: DominantFrequencyChange\n",
       "\t\tConditions:\n",
       "\t\t\t0: Change in ratio of dominant value in data is not greater than 25%\n",
       "\t18: CategoryMismatchTrainTest\n",
       "\t\tConditions:\n",
       "\t\t\t0: Ratio of samples with a new category is not greater than 0%\n",
       "\t19: NewLabelTrainTest\n",
       "\t\tConditions:\n",
       "\t\t\t0: Number of new label values is not greater than 0\n",
       "\t20: StringMismatchComparison\n",
       "\t\tConditions:\n",
       "\t\t\t0: No new variants allowed in test data\n",
       "\t21: DatasetsSizeComparison\n",
       "\t\tConditions:\n",
       "\t\t\t0: Test-Train size ratio is not smaller than 0.01\n",
       "\t22: DateTrainTestLeakageDuplicates\n",
       "\t\tConditions:\n",
       "\t\t\t0: Date leakage ratio is not greater than 0%\n",
       "\t23: DateTrainTestLeakageOverlap\n",
       "\t\tConditions:\n",
       "\t\t\t0: Date leakage ratio is not greater than 0%\n",
       "\t24: SingleFeatureContributionTrainTest(ppscore_params={})\n",
       "\t\tConditions:\n",
       "\t\t\t0: Train-Test features' Predictive Power Score difference is not greater than 0.2\n",
       "\t\t\t1: Train features' Predictive Power Score is not greater than 0.7\n",
       "\t25: TrainTestSamplesMix\n",
       "\t\tConditions:\n",
       "\t\t\t0: Percentage of test data samples that appear in train data not greater than 10%\n",
       "\t26: IdentifierLeakage(ppscore_params={})\n",
       "\t\tConditions:\n",
       "\t\t\t0: Identifier columns PPS is not greater than 0\n",
       "\t27: IndexTrainTestLeakage\n",
       "\t\tConditions:\n",
       "\t\t\t0: Ratio of leaking indices is not greater than 0%\n",
       "\t28: IsSingleValue\n",
       "\t\tConditions:\n",
       "\t\t\t0: Does not contain only a single value\n",
       "\t29: MixedNulls\n",
       "\t\tConditions:\n",
       "\t\t\t0: Not more than 1 different null types\n",
       "\t30: MixedDataTypes\n",
       "\t\tConditions:\n",
       "\t\t\t0: Rare data types in column are either more than 10% or less than 1% of the data\n",
       "\t31: StringMismatch\n",
       "\t\tConditions:\n",
       "\t\t\t0: No string variants\n",
       "\t32: DataDuplicates\n",
       "\t\tConditions:\n",
       "\t\t\t0: Duplicate data ratio is not greater than 0%\n",
       "\t33: StringLengthOutOfBounds\n",
       "\t\tConditions:\n",
       "\t\t\t0: Ratio of outliers not greater than 0% string length outliers\n",
       "\t34: SpecialCharacters\n",
       "\t\tConditions:\n",
       "\t\t\t0: Ratio of entirely special character samples not greater than 0.1%\n",
       "\t35: LabelAmbiguity\n",
       "\t\tConditions:\n",
       "\t\t\t0: Ambiguous sample ratio is not greater than 0%\n",
       "]"
      ]
     },
     "execution_count": 5,
     "metadata": {},
     "output_type": "execute_result"
    }
   ],
   "source": [
    "suites"
   ]
  },
  {
   "cell_type": "code",
   "execution_count": null,
   "id": "2a0ea4ab",
   "metadata": {},
   "outputs": [],
   "source": []
  }
 ],
 "metadata": {
  "kernelspec": {
   "display_name": "Python 3 (ipykernel)",
   "language": "python",
   "name": "python3"
  },
  "language_info": {
   "codemirror_mode": {
    "name": "ipython",
    "version": 3
   },
   "file_extension": ".py",
   "mimetype": "text/x-python",
   "name": "python",
   "nbconvert_exporter": "python",
   "pygments_lexer": "ipython3",
   "version": "3.8.12"
  }
 },
 "nbformat": 4,
 "nbformat_minor": 5
}
