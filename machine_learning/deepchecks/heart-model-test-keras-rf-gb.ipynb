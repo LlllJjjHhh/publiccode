{
 "cells": [
  {
   "cell_type": "code",
   "execution_count": 1,
   "id": "4f02b02a",
   "metadata": {},
   "outputs": [],
   "source": [
    "from deepchecks.suites import full_suite\n",
    "import pandas as pd"
   ]
  },
  {
   "cell_type": "code",
   "execution_count": 2,
   "id": "ea27f302",
   "metadata": {},
   "outputs": [],
   "source": [
    "#source = 'https://raw.githubusercontent.com/prodramp/publiccode/master/datasets/titanic.csv'\n",
    "source = 'https://raw.githubusercontent.com/prodramp/publiccode/master/datasets/heart.csv'"
   ]
  },
  {
   "cell_type": "code",
   "execution_count": 3,
   "id": "25561471",
   "metadata": {},
   "outputs": [],
   "source": [
    "df = pd.read_csv(source)"
   ]
  },
  {
   "cell_type": "code",
   "execution_count": 4,
   "id": "b645c805",
   "metadata": {},
   "outputs": [
    {
     "data": {
      "text/html": [
       "<div>\n",
       "<style scoped>\n",
       "    .dataframe tbody tr th:only-of-type {\n",
       "        vertical-align: middle;\n",
       "    }\n",
       "\n",
       "    .dataframe tbody tr th {\n",
       "        vertical-align: top;\n",
       "    }\n",
       "\n",
       "    .dataframe thead th {\n",
       "        text-align: right;\n",
       "    }\n",
       "</style>\n",
       "<table border=\"1\" class=\"dataframe\">\n",
       "  <thead>\n",
       "    <tr style=\"text-align: right;\">\n",
       "      <th></th>\n",
       "      <th>age</th>\n",
       "      <th>sex</th>\n",
       "      <th>cp</th>\n",
       "      <th>trestbps</th>\n",
       "      <th>chol</th>\n",
       "      <th>fbs</th>\n",
       "      <th>restecg</th>\n",
       "      <th>thalach</th>\n",
       "      <th>exang</th>\n",
       "      <th>oldpeak</th>\n",
       "      <th>slope</th>\n",
       "      <th>ca</th>\n",
       "      <th>thal</th>\n",
       "      <th>target</th>\n",
       "    </tr>\n",
       "  </thead>\n",
       "  <tbody>\n",
       "    <tr>\n",
       "      <th>0</th>\n",
       "      <td>63</td>\n",
       "      <td>1</td>\n",
       "      <td>3</td>\n",
       "      <td>145</td>\n",
       "      <td>233</td>\n",
       "      <td>1</td>\n",
       "      <td>0</td>\n",
       "      <td>150</td>\n",
       "      <td>0</td>\n",
       "      <td>2.3</td>\n",
       "      <td>0</td>\n",
       "      <td>0</td>\n",
       "      <td>1</td>\n",
       "      <td>1</td>\n",
       "    </tr>\n",
       "    <tr>\n",
       "      <th>1</th>\n",
       "      <td>37</td>\n",
       "      <td>1</td>\n",
       "      <td>2</td>\n",
       "      <td>130</td>\n",
       "      <td>250</td>\n",
       "      <td>0</td>\n",
       "      <td>1</td>\n",
       "      <td>187</td>\n",
       "      <td>0</td>\n",
       "      <td>3.5</td>\n",
       "      <td>0</td>\n",
       "      <td>0</td>\n",
       "      <td>2</td>\n",
       "      <td>1</td>\n",
       "    </tr>\n",
       "    <tr>\n",
       "      <th>2</th>\n",
       "      <td>41</td>\n",
       "      <td>0</td>\n",
       "      <td>1</td>\n",
       "      <td>130</td>\n",
       "      <td>204</td>\n",
       "      <td>0</td>\n",
       "      <td>0</td>\n",
       "      <td>172</td>\n",
       "      <td>0</td>\n",
       "      <td>1.4</td>\n",
       "      <td>2</td>\n",
       "      <td>0</td>\n",
       "      <td>2</td>\n",
       "      <td>1</td>\n",
       "    </tr>\n",
       "    <tr>\n",
       "      <th>3</th>\n",
       "      <td>56</td>\n",
       "      <td>1</td>\n",
       "      <td>1</td>\n",
       "      <td>120</td>\n",
       "      <td>236</td>\n",
       "      <td>0</td>\n",
       "      <td>1</td>\n",
       "      <td>178</td>\n",
       "      <td>0</td>\n",
       "      <td>0.8</td>\n",
       "      <td>2</td>\n",
       "      <td>0</td>\n",
       "      <td>2</td>\n",
       "      <td>1</td>\n",
       "    </tr>\n",
       "    <tr>\n",
       "      <th>4</th>\n",
       "      <td>57</td>\n",
       "      <td>0</td>\n",
       "      <td>0</td>\n",
       "      <td>120</td>\n",
       "      <td>354</td>\n",
       "      <td>0</td>\n",
       "      <td>1</td>\n",
       "      <td>163</td>\n",
       "      <td>1</td>\n",
       "      <td>0.6</td>\n",
       "      <td>2</td>\n",
       "      <td>0</td>\n",
       "      <td>2</td>\n",
       "      <td>1</td>\n",
       "    </tr>\n",
       "    <tr>\n",
       "      <th>...</th>\n",
       "      <td>...</td>\n",
       "      <td>...</td>\n",
       "      <td>...</td>\n",
       "      <td>...</td>\n",
       "      <td>...</td>\n",
       "      <td>...</td>\n",
       "      <td>...</td>\n",
       "      <td>...</td>\n",
       "      <td>...</td>\n",
       "      <td>...</td>\n",
       "      <td>...</td>\n",
       "      <td>...</td>\n",
       "      <td>...</td>\n",
       "      <td>...</td>\n",
       "    </tr>\n",
       "    <tr>\n",
       "      <th>298</th>\n",
       "      <td>57</td>\n",
       "      <td>0</td>\n",
       "      <td>0</td>\n",
       "      <td>140</td>\n",
       "      <td>241</td>\n",
       "      <td>0</td>\n",
       "      <td>1</td>\n",
       "      <td>123</td>\n",
       "      <td>1</td>\n",
       "      <td>0.2</td>\n",
       "      <td>1</td>\n",
       "      <td>0</td>\n",
       "      <td>3</td>\n",
       "      <td>0</td>\n",
       "    </tr>\n",
       "    <tr>\n",
       "      <th>299</th>\n",
       "      <td>45</td>\n",
       "      <td>1</td>\n",
       "      <td>3</td>\n",
       "      <td>110</td>\n",
       "      <td>264</td>\n",
       "      <td>0</td>\n",
       "      <td>1</td>\n",
       "      <td>132</td>\n",
       "      <td>0</td>\n",
       "      <td>1.2</td>\n",
       "      <td>1</td>\n",
       "      <td>0</td>\n",
       "      <td>3</td>\n",
       "      <td>0</td>\n",
       "    </tr>\n",
       "    <tr>\n",
       "      <th>300</th>\n",
       "      <td>68</td>\n",
       "      <td>1</td>\n",
       "      <td>0</td>\n",
       "      <td>144</td>\n",
       "      <td>193</td>\n",
       "      <td>1</td>\n",
       "      <td>1</td>\n",
       "      <td>141</td>\n",
       "      <td>0</td>\n",
       "      <td>3.4</td>\n",
       "      <td>1</td>\n",
       "      <td>2</td>\n",
       "      <td>3</td>\n",
       "      <td>0</td>\n",
       "    </tr>\n",
       "    <tr>\n",
       "      <th>301</th>\n",
       "      <td>57</td>\n",
       "      <td>1</td>\n",
       "      <td>0</td>\n",
       "      <td>130</td>\n",
       "      <td>131</td>\n",
       "      <td>0</td>\n",
       "      <td>1</td>\n",
       "      <td>115</td>\n",
       "      <td>1</td>\n",
       "      <td>1.2</td>\n",
       "      <td>1</td>\n",
       "      <td>1</td>\n",
       "      <td>3</td>\n",
       "      <td>0</td>\n",
       "    </tr>\n",
       "    <tr>\n",
       "      <th>302</th>\n",
       "      <td>57</td>\n",
       "      <td>0</td>\n",
       "      <td>1</td>\n",
       "      <td>130</td>\n",
       "      <td>236</td>\n",
       "      <td>0</td>\n",
       "      <td>0</td>\n",
       "      <td>174</td>\n",
       "      <td>0</td>\n",
       "      <td>0.0</td>\n",
       "      <td>1</td>\n",
       "      <td>1</td>\n",
       "      <td>2</td>\n",
       "      <td>0</td>\n",
       "    </tr>\n",
       "  </tbody>\n",
       "</table>\n",
       "<p>303 rows × 14 columns</p>\n",
       "</div>"
      ],
      "text/plain": [
       "     age  sex  cp  trestbps  chol  fbs  restecg  thalach  exang  oldpeak  \\\n",
       "0     63    1   3       145   233    1        0      150      0      2.3   \n",
       "1     37    1   2       130   250    0        1      187      0      3.5   \n",
       "2     41    0   1       130   204    0        0      172      0      1.4   \n",
       "3     56    1   1       120   236    0        1      178      0      0.8   \n",
       "4     57    0   0       120   354    0        1      163      1      0.6   \n",
       "..   ...  ...  ..       ...   ...  ...      ...      ...    ...      ...   \n",
       "298   57    0   0       140   241    0        1      123      1      0.2   \n",
       "299   45    1   3       110   264    0        1      132      0      1.2   \n",
       "300   68    1   0       144   193    1        1      141      0      3.4   \n",
       "301   57    1   0       130   131    0        1      115      1      1.2   \n",
       "302   57    0   1       130   236    0        0      174      0      0.0   \n",
       "\n",
       "     slope  ca  thal  target  \n",
       "0        0   0     1       1  \n",
       "1        0   0     2       1  \n",
       "2        2   0     2       1  \n",
       "3        2   0     2       1  \n",
       "4        2   0     2       1  \n",
       "..     ...  ..   ...     ...  \n",
       "298      1   0     3       0  \n",
       "299      1   0     3       0  \n",
       "300      1   2     3       0  \n",
       "301      1   1     3       0  \n",
       "302      1   1     2       0  \n",
       "\n",
       "[303 rows x 14 columns]"
      ]
     },
     "execution_count": 4,
     "metadata": {},
     "output_type": "execute_result"
    }
   ],
   "source": [
    "df"
   ]
  },
  {
   "cell_type": "code",
   "execution_count": 5,
   "id": "d7177ede",
   "metadata": {},
   "outputs": [
    {
     "data": {
      "text/plain": [
       "Index(['age', 'sex', 'cp', 'trestbps', 'chol', 'fbs', 'restecg', 'thalach',\n",
       "       'exang', 'oldpeak', 'slope', 'ca', 'thal', 'target'],\n",
       "      dtype='object')"
      ]
     },
     "execution_count": 5,
     "metadata": {},
     "output_type": "execute_result"
    }
   ],
   "source": [
    "df.columns"
   ]
  },
  {
   "cell_type": "code",
   "execution_count": 6,
   "id": "20a8aabc",
   "metadata": {},
   "outputs": [],
   "source": [
    "df_input  = pd.DataFrame(df.iloc[:,0:13])"
   ]
  },
  {
   "cell_type": "code",
   "execution_count": 7,
   "id": "695bf7d6",
   "metadata": {},
   "outputs": [],
   "source": [
    "df_target  = pd.DataFrame(df.iloc[:,13], columns=['target'])"
   ]
  },
  {
   "cell_type": "code",
   "execution_count": 8,
   "id": "b3e77d14",
   "metadata": {},
   "outputs": [
    {
     "data": {
      "text/html": [
       "<div>\n",
       "<style scoped>\n",
       "    .dataframe tbody tr th:only-of-type {\n",
       "        vertical-align: middle;\n",
       "    }\n",
       "\n",
       "    .dataframe tbody tr th {\n",
       "        vertical-align: top;\n",
       "    }\n",
       "\n",
       "    .dataframe thead th {\n",
       "        text-align: right;\n",
       "    }\n",
       "</style>\n",
       "<table border=\"1\" class=\"dataframe\">\n",
       "  <thead>\n",
       "    <tr style=\"text-align: right;\">\n",
       "      <th></th>\n",
       "      <th>target</th>\n",
       "    </tr>\n",
       "  </thead>\n",
       "  <tbody>\n",
       "    <tr>\n",
       "      <th>0</th>\n",
       "      <td>1</td>\n",
       "    </tr>\n",
       "    <tr>\n",
       "      <th>1</th>\n",
       "      <td>1</td>\n",
       "    </tr>\n",
       "    <tr>\n",
       "      <th>2</th>\n",
       "      <td>1</td>\n",
       "    </tr>\n",
       "    <tr>\n",
       "      <th>3</th>\n",
       "      <td>1</td>\n",
       "    </tr>\n",
       "    <tr>\n",
       "      <th>4</th>\n",
       "      <td>1</td>\n",
       "    </tr>\n",
       "    <tr>\n",
       "      <th>...</th>\n",
       "      <td>...</td>\n",
       "    </tr>\n",
       "    <tr>\n",
       "      <th>298</th>\n",
       "      <td>0</td>\n",
       "    </tr>\n",
       "    <tr>\n",
       "      <th>299</th>\n",
       "      <td>0</td>\n",
       "    </tr>\n",
       "    <tr>\n",
       "      <th>300</th>\n",
       "      <td>0</td>\n",
       "    </tr>\n",
       "    <tr>\n",
       "      <th>301</th>\n",
       "      <td>0</td>\n",
       "    </tr>\n",
       "    <tr>\n",
       "      <th>302</th>\n",
       "      <td>0</td>\n",
       "    </tr>\n",
       "  </tbody>\n",
       "</table>\n",
       "<p>303 rows × 1 columns</p>\n",
       "</div>"
      ],
      "text/plain": [
       "     target\n",
       "0         1\n",
       "1         1\n",
       "2         1\n",
       "3         1\n",
       "4         1\n",
       "..      ...\n",
       "298       0\n",
       "299       0\n",
       "300       0\n",
       "301       0\n",
       "302       0\n",
       "\n",
       "[303 rows x 1 columns]"
      ]
     },
     "execution_count": 8,
     "metadata": {},
     "output_type": "execute_result"
    }
   ],
   "source": [
    "df_target"
   ]
  },
  {
   "cell_type": "code",
   "execution_count": 9,
   "id": "59488904",
   "metadata": {},
   "outputs": [],
   "source": [
    "from sklearn.preprocessing import StandardScaler\n",
    "\n",
    "scaler = StandardScaler()\n",
    "df_scaled_input = scaler.fit_transform(df_input)"
   ]
  },
  {
   "cell_type": "code",
   "execution_count": 10,
   "id": "02079f88",
   "metadata": {},
   "outputs": [
    {
     "name": "stdout",
     "output_type": "stream",
     "text": [
      "Training data Split (Train & Test)\n",
      "(212, 13)\n",
      "(91, 13)\n",
      "Target data Split (Train & Test)\n",
      "(212, 1)\n",
      "(91, 1)\n"
     ]
    }
   ],
   "source": [
    "from sklearn.model_selection import train_test_split\n",
    "df_input_train, df_input_test, df_target_train, df_target_test = train_test_split(df_scaled_input, df_target, test_size = 0.30, random_state = 5)\n",
    "print(\"Training data Split (Train & Test)\")\n",
    "print(df_input_train.shape)\n",
    "print(df_input_test.shape)\n",
    "\n",
    "print(\"Target data Split (Train & Test)\")\n",
    "print(df_target_train.shape)\n",
    "print(df_target_test.shape)"
   ]
  },
  {
   "cell_type": "code",
   "execution_count": 11,
   "id": "3235936f",
   "metadata": {},
   "outputs": [],
   "source": [
    "from keras.models import Sequential\n",
    "from keras.layers import Dense"
   ]
  },
  {
   "cell_type": "code",
   "execution_count": 12,
   "id": "7bab3a3b",
   "metadata": {},
   "outputs": [
    {
     "name": "stderr",
     "output_type": "stream",
     "text": [
      "2022-03-18 17:34:23.580945: I tensorflow/core/platform/cpu_feature_guard.cc:151] This TensorFlow binary is optimized with oneAPI Deep Neural Network Library (oneDNN) to use the following CPU instructions in performance-critical operations:  AVX2 FMA\n",
      "To enable them in other operations, rebuild TensorFlow with the appropriate compiler flags.\n"
     ]
    }
   ],
   "source": [
    "model = Sequential()\n",
    "model.add(Dense(30, input_dim=13, activation='tanh'))\n",
    "model.add(Dense(20, activation='tanh'))\n",
    "model.add(Dense(1, activation='sigmoid'))"
   ]
  },
  {
   "cell_type": "code",
   "execution_count": 13,
   "id": "67181126",
   "metadata": {},
   "outputs": [
    {
     "name": "stdout",
     "output_type": "stream",
     "text": [
      "Epoch 1/100\n",
      "7/7 [==============================] - 0s 2ms/step - loss: 0.6231 - accuracy: 0.6509\n",
      "Epoch 2/100\n",
      "7/7 [==============================] - 0s 1ms/step - loss: 0.5589 - accuracy: 0.7358\n",
      "Epoch 3/100\n",
      "7/7 [==============================] - 0s 1ms/step - loss: 0.5132 - accuracy: 0.7642\n",
      "Epoch 4/100\n",
      "7/7 [==============================] - 0s 1ms/step - loss: 0.4808 - accuracy: 0.7547\n",
      "Epoch 5/100\n",
      "7/7 [==============================] - 0s 1ms/step - loss: 0.4560 - accuracy: 0.7972\n",
      "Epoch 6/100\n",
      "7/7 [==============================] - 0s 1ms/step - loss: 0.4394 - accuracy: 0.7972\n",
      "Epoch 7/100\n",
      "7/7 [==============================] - 0s 1ms/step - loss: 0.4253 - accuracy: 0.7972\n",
      "Epoch 8/100\n",
      "7/7 [==============================] - 0s 1ms/step - loss: 0.4155 - accuracy: 0.7925\n",
      "Epoch 9/100\n",
      "7/7 [==============================] - 0s 1ms/step - loss: 0.4058 - accuracy: 0.8019\n",
      "Epoch 10/100\n",
      "7/7 [==============================] - 0s 1ms/step - loss: 0.3986 - accuracy: 0.8019\n",
      "Epoch 11/100\n",
      "7/7 [==============================] - 0s 1ms/step - loss: 0.3920 - accuracy: 0.8019\n",
      "Epoch 12/100\n",
      "7/7 [==============================] - 0s 1ms/step - loss: 0.3876 - accuracy: 0.8113\n",
      "Epoch 13/100\n",
      "7/7 [==============================] - 0s 988us/step - loss: 0.3831 - accuracy: 0.8160\n",
      "Epoch 14/100\n",
      "7/7 [==============================] - 0s 1ms/step - loss: 0.3789 - accuracy: 0.8113\n",
      "Epoch 15/100\n",
      "7/7 [==============================] - 0s 1ms/step - loss: 0.3757 - accuracy: 0.8160\n",
      "Epoch 16/100\n",
      "7/7 [==============================] - 0s 1ms/step - loss: 0.3724 - accuracy: 0.8160\n",
      "Epoch 17/100\n",
      "7/7 [==============================] - 0s 993us/step - loss: 0.3706 - accuracy: 0.8160\n",
      "Epoch 18/100\n",
      "7/7 [==============================] - 0s 1ms/step - loss: 0.3677 - accuracy: 0.8208\n",
      "Epoch 19/100\n",
      "7/7 [==============================] - 0s 1ms/step - loss: 0.3655 - accuracy: 0.8255\n",
      "Epoch 20/100\n",
      "7/7 [==============================] - 0s 989us/step - loss: 0.3633 - accuracy: 0.8208\n",
      "Epoch 21/100\n",
      "7/7 [==============================] - 0s 1ms/step - loss: 0.3609 - accuracy: 0.8255\n",
      "Epoch 22/100\n",
      "7/7 [==============================] - 0s 1ms/step - loss: 0.3594 - accuracy: 0.8302\n",
      "Epoch 23/100\n",
      "7/7 [==============================] - 0s 1ms/step - loss: 0.3573 - accuracy: 0.8302\n",
      "Epoch 24/100\n",
      "7/7 [==============================] - 0s 1ms/step - loss: 0.3551 - accuracy: 0.8302\n",
      "Epoch 25/100\n",
      "7/7 [==============================] - 0s 1ms/step - loss: 0.3540 - accuracy: 0.8302\n",
      "Epoch 26/100\n",
      "7/7 [==============================] - 0s 1ms/step - loss: 0.3516 - accuracy: 0.8302\n",
      "Epoch 27/100\n",
      "7/7 [==============================] - 0s 1ms/step - loss: 0.3504 - accuracy: 0.8302\n",
      "Epoch 28/100\n",
      "7/7 [==============================] - 0s 1ms/step - loss: 0.3481 - accuracy: 0.8302\n",
      "Epoch 29/100\n",
      "7/7 [==============================] - 0s 999us/step - loss: 0.3469 - accuracy: 0.8255\n",
      "Epoch 30/100\n",
      "7/7 [==============================] - 0s 2ms/step - loss: 0.3447 - accuracy: 0.8302\n",
      "Epoch 31/100\n",
      "7/7 [==============================] - 0s 2ms/step - loss: 0.3430 - accuracy: 0.8302\n",
      "Epoch 32/100\n",
      "7/7 [==============================] - 0s 1ms/step - loss: 0.3414 - accuracy: 0.8349\n",
      "Epoch 33/100\n",
      "7/7 [==============================] - 0s 1ms/step - loss: 0.3400 - accuracy: 0.8349\n",
      "Epoch 34/100\n",
      "7/7 [==============================] - 0s 1ms/step - loss: 0.3379 - accuracy: 0.8349\n",
      "Epoch 35/100\n",
      "7/7 [==============================] - 0s 1ms/step - loss: 0.3367 - accuracy: 0.8349\n",
      "Epoch 36/100\n",
      "7/7 [==============================] - 0s 1ms/step - loss: 0.3345 - accuracy: 0.8396\n",
      "Epoch 37/100\n",
      "7/7 [==============================] - 0s 1ms/step - loss: 0.3338 - accuracy: 0.8443\n",
      "Epoch 38/100\n",
      "7/7 [==============================] - 0s 1ms/step - loss: 0.3309 - accuracy: 0.8491\n",
      "Epoch 39/100\n",
      "7/7 [==============================] - 0s 1ms/step - loss: 0.3305 - accuracy: 0.8491\n",
      "Epoch 40/100\n",
      "7/7 [==============================] - 0s 1ms/step - loss: 0.3278 - accuracy: 0.8538\n",
      "Epoch 41/100\n",
      "7/7 [==============================] - 0s 1ms/step - loss: 0.3260 - accuracy: 0.8538\n",
      "Epoch 42/100\n",
      "7/7 [==============================] - 0s 1ms/step - loss: 0.3254 - accuracy: 0.8491\n",
      "Epoch 43/100\n",
      "7/7 [==============================] - 0s 1ms/step - loss: 0.3229 - accuracy: 0.8679\n",
      "Epoch 44/100\n",
      "7/7 [==============================] - 0s 1ms/step - loss: 0.3214 - accuracy: 0.8679\n",
      "Epoch 45/100\n",
      "7/7 [==============================] - 0s 1ms/step - loss: 0.3192 - accuracy: 0.8679\n",
      "Epoch 46/100\n",
      "7/7 [==============================] - 0s 1ms/step - loss: 0.3176 - accuracy: 0.8585\n",
      "Epoch 47/100\n",
      "7/7 [==============================] - 0s 1ms/step - loss: 0.3165 - accuracy: 0.8491\n",
      "Epoch 48/100\n",
      "7/7 [==============================] - 0s 1ms/step - loss: 0.3145 - accuracy: 0.8632\n",
      "Epoch 49/100\n",
      "7/7 [==============================] - 0s 1ms/step - loss: 0.3129 - accuracy: 0.8679\n",
      "Epoch 50/100\n",
      "7/7 [==============================] - 0s 1ms/step - loss: 0.3110 - accuracy: 0.8726\n",
      "Epoch 51/100\n",
      "7/7 [==============================] - 0s 1ms/step - loss: 0.3101 - accuracy: 0.8726\n",
      "Epoch 52/100\n",
      "7/7 [==============================] - 0s 1ms/step - loss: 0.3081 - accuracy: 0.8679\n",
      "Epoch 53/100\n",
      "7/7 [==============================] - 0s 1ms/step - loss: 0.3060 - accuracy: 0.8679\n",
      "Epoch 54/100\n",
      "7/7 [==============================] - 0s 979us/step - loss: 0.3043 - accuracy: 0.8726\n",
      "Epoch 55/100\n",
      "7/7 [==============================] - 0s 1ms/step - loss: 0.3028 - accuracy: 0.8774\n",
      "Epoch 56/100\n",
      "7/7 [==============================] - 0s 999us/step - loss: 0.3011 - accuracy: 0.8774\n",
      "Epoch 57/100\n",
      "7/7 [==============================] - 0s 1ms/step - loss: 0.2989 - accuracy: 0.8726\n",
      "Epoch 58/100\n",
      "7/7 [==============================] - 0s 1ms/step - loss: 0.2975 - accuracy: 0.8679\n",
      "Epoch 59/100\n",
      "7/7 [==============================] - 0s 1ms/step - loss: 0.2955 - accuracy: 0.8632\n",
      "Epoch 60/100\n",
      "7/7 [==============================] - 0s 1ms/step - loss: 0.2941 - accuracy: 0.8632\n",
      "Epoch 61/100\n",
      "7/7 [==============================] - 0s 988us/step - loss: 0.2925 - accuracy: 0.8632\n",
      "Epoch 62/100\n",
      "7/7 [==============================] - 0s 1ms/step - loss: 0.2905 - accuracy: 0.8679\n",
      "Epoch 63/100\n",
      "7/7 [==============================] - 0s 1ms/step - loss: 0.2889 - accuracy: 0.8679\n",
      "Epoch 64/100\n",
      "7/7 [==============================] - 0s 955us/step - loss: 0.2872 - accuracy: 0.8726\n",
      "Epoch 65/100\n",
      "7/7 [==============================] - 0s 1ms/step - loss: 0.2857 - accuracy: 0.8774\n",
      "Epoch 66/100\n",
      "7/7 [==============================] - 0s 985us/step - loss: 0.2841 - accuracy: 0.8774\n",
      "Epoch 67/100\n",
      "7/7 [==============================] - 0s 1ms/step - loss: 0.2833 - accuracy: 0.8821\n",
      "Epoch 68/100\n",
      "7/7 [==============================] - 0s 1ms/step - loss: 0.2805 - accuracy: 0.8821\n",
      "Epoch 69/100\n",
      "7/7 [==============================] - 0s 973us/step - loss: 0.2790 - accuracy: 0.8821\n",
      "Epoch 70/100\n",
      "7/7 [==============================] - 0s 1ms/step - loss: 0.2771 - accuracy: 0.8821\n",
      "Epoch 71/100\n",
      "7/7 [==============================] - 0s 1ms/step - loss: 0.2773 - accuracy: 0.8821\n",
      "Epoch 72/100\n",
      "7/7 [==============================] - 0s 1ms/step - loss: 0.2742 - accuracy: 0.8774\n",
      "Epoch 73/100\n",
      "7/7 [==============================] - 0s 1ms/step - loss: 0.2724 - accuracy: 0.8821\n",
      "Epoch 74/100\n",
      "7/7 [==============================] - 0s 1ms/step - loss: 0.2705 - accuracy: 0.8821\n",
      "Epoch 75/100\n",
      "7/7 [==============================] - 0s 1ms/step - loss: 0.2692 - accuracy: 0.8821\n",
      "Epoch 76/100\n",
      "7/7 [==============================] - 0s 1ms/step - loss: 0.2670 - accuracy: 0.8868\n",
      "Epoch 77/100\n",
      "7/7 [==============================] - 0s 1ms/step - loss: 0.2653 - accuracy: 0.8915\n",
      "Epoch 78/100\n",
      "7/7 [==============================] - 0s 938us/step - loss: 0.2634 - accuracy: 0.8915\n",
      "Epoch 79/100\n",
      "7/7 [==============================] - 0s 1ms/step - loss: 0.2620 - accuracy: 0.8962\n",
      "Epoch 80/100\n",
      "7/7 [==============================] - 0s 940us/step - loss: 0.2602 - accuracy: 0.8915\n",
      "Epoch 81/100\n",
      "7/7 [==============================] - 0s 1ms/step - loss: 0.2583 - accuracy: 0.8915\n",
      "Epoch 82/100\n",
      "7/7 [==============================] - 0s 1ms/step - loss: 0.2567 - accuracy: 0.8962\n",
      "Epoch 83/100\n",
      "7/7 [==============================] - 0s 970us/step - loss: 0.2549 - accuracy: 0.8962\n",
      "Epoch 84/100\n"
     ]
    },
    {
     "name": "stdout",
     "output_type": "stream",
     "text": [
      "7/7 [==============================] - 0s 1ms/step - loss: 0.2534 - accuracy: 0.8962\n",
      "Epoch 85/100\n",
      "7/7 [==============================] - 0s 959us/step - loss: 0.2518 - accuracy: 0.8962\n",
      "Epoch 86/100\n",
      "7/7 [==============================] - 0s 1ms/step - loss: 0.2501 - accuracy: 0.8962\n",
      "Epoch 87/100\n",
      "7/7 [==============================] - 0s 983us/step - loss: 0.2481 - accuracy: 0.9009\n",
      "Epoch 88/100\n",
      "7/7 [==============================] - 0s 967us/step - loss: 0.2462 - accuracy: 0.9057\n",
      "Epoch 89/100\n",
      "7/7 [==============================] - 0s 1ms/step - loss: 0.2447 - accuracy: 0.9057\n",
      "Epoch 90/100\n",
      "7/7 [==============================] - 0s 955us/step - loss: 0.2432 - accuracy: 0.9057\n",
      "Epoch 91/100\n",
      "7/7 [==============================] - 0s 1ms/step - loss: 0.2416 - accuracy: 0.9104\n",
      "Epoch 92/100\n",
      "7/7 [==============================] - 0s 2ms/step - loss: 0.2400 - accuracy: 0.9104\n",
      "Epoch 93/100\n",
      "7/7 [==============================] - 0s 1ms/step - loss: 0.2384 - accuracy: 0.9151\n",
      "Epoch 94/100\n",
      "7/7 [==============================] - 0s 1ms/step - loss: 0.2367 - accuracy: 0.9057\n",
      "Epoch 95/100\n",
      "7/7 [==============================] - 0s 1ms/step - loss: 0.2351 - accuracy: 0.9057\n",
      "Epoch 96/100\n",
      "7/7 [==============================] - 0s 990us/step - loss: 0.2341 - accuracy: 0.9151\n",
      "Epoch 97/100\n",
      "7/7 [==============================] - 0s 1ms/step - loss: 0.2313 - accuracy: 0.9151\n",
      "Epoch 98/100\n",
      "7/7 [==============================] - 0s 987us/step - loss: 0.2295 - accuracy: 0.9198\n",
      "Epoch 99/100\n",
      "7/7 [==============================] - 0s 1ms/step - loss: 0.2277 - accuracy: 0.9198\n",
      "Epoch 100/100\n",
      "7/7 [==============================] - 0s 958us/step - loss: 0.2261 - accuracy: 0.9198\n"
     ]
    }
   ],
   "source": [
    "model.compile(optimizer='adam',loss='binary_crossentropy',metrics=['accuracy'])\n",
    "history = model.fit(df_input_train, df_target_train, epochs=100, verbose=1)"
   ]
  },
  {
   "cell_type": "code",
   "execution_count": 14,
   "id": "9b33c65a",
   "metadata": {},
   "outputs": [
    {
     "name": "stdout",
     "output_type": "stream",
     "text": [
      "Model: \"sequential\"\n",
      "_________________________________________________________________\n",
      " Layer (type)                Output Shape              Param #   \n",
      "=================================================================\n",
      " dense (Dense)               (None, 30)                420       \n",
      "                                                                 \n",
      " dense_1 (Dense)             (None, 20)                620       \n",
      "                                                                 \n",
      " dense_2 (Dense)             (None, 1)                 21        \n",
      "                                                                 \n",
      "=================================================================\n",
      "Total params: 1,061\n",
      "Trainable params: 1,061\n",
      "Non-trainable params: 0\n",
      "_________________________________________________________________\n",
      "Model Accuracy =  0.901098906993866\n"
     ]
    }
   ],
   "source": [
    "model.summary()\n",
    "score = model.evaluate(df_input_test, df_target_test, verbose=0)\n",
    "print('Model Accuracy = ',score[1])"
   ]
  },
  {
   "cell_type": "code",
   "execution_count": 15,
   "id": "7cda6809",
   "metadata": {},
   "outputs": [],
   "source": [
    "from deepchecks.suites import full_suite"
   ]
  },
  {
   "cell_type": "code",
   "execution_count": 16,
   "id": "185c769a",
   "metadata": {},
   "outputs": [],
   "source": [
    "suite = full_suite()"
   ]
  },
  {
   "cell_type": "code",
   "execution_count": 17,
   "id": "46f56381",
   "metadata": {},
   "outputs": [],
   "source": [
    "df_train, df_test = train_test_split(df, test_size=0.3)"
   ]
  },
  {
   "cell_type": "code",
   "execution_count": 18,
   "id": "24b735df",
   "metadata": {},
   "outputs": [],
   "source": [
    "from deepchecks import Dataset"
   ]
  },
  {
   "cell_type": "code",
   "execution_count": 19,
   "id": "6fb922fb",
   "metadata": {},
   "outputs": [],
   "source": [
    "label_col = \"target\""
   ]
  },
  {
   "cell_type": "code",
   "execution_count": 20,
   "id": "335954d3",
   "metadata": {},
   "outputs": [],
   "source": [
    "ds_train = Dataset(df_train, label=label_col, cat_features=[])"
   ]
  },
  {
   "cell_type": "code",
   "execution_count": 21,
   "id": "a6da54b2",
   "metadata": {},
   "outputs": [],
   "source": [
    "ds_test = Dataset(df_test, label=label_col, cat_features=[])"
   ]
  },
  {
   "cell_type": "code",
   "execution_count": 22,
   "id": "ba6005ed",
   "metadata": {},
   "outputs": [
    {
     "data": {
      "application/vnd.jupyter.widget-view+json": {
       "model_id": "",
       "version_major": 2,
       "version_minor": 0
      },
      "text/plain": [
       "Full Suite:   0%|          | 0/36 [00:00<?, ? Check/s]"
      ]
     },
     "metadata": {},
     "output_type": "display_data"
    },
    {
     "name": "stderr",
     "output_type": "stream",
     "text": [
      "/Users/avkash/anaconda3/envs/python38/lib/python3.8/site-packages/deepchecks/utils/features.py:267: UserWarning:\n",
      "\n",
      "Calculating permutation feature importance without time limit\n",
      "\n",
      "2022-03-18 17:34:26.685154: W tensorflow/python/util/util.cc:368] Sets are not currently considered sequences, but this may change in the future, so consider avoiding using them.\n"
     ]
    },
    {
     "name": "stdout",
     "output_type": "stream",
     "text": [
      "INFO:tensorflow:Assets written to: ram://8a440b95-55f0-40a9-95a8-fd5d0bbf33ce/assets\n",
      "INFO:tensorflow:Assets written to: ram://0a40d5bf-48ac-4969-9a05-69096ee060e3/assets\n",
      "INFO:tensorflow:Assets written to: ram://a4f141b0-a5d5-41b9-91b9-2c1586de4cdf/assets\n",
      "INFO:tensorflow:Assets written to: ram://852ade14-c1a9-438b-a31e-14855605f95b/assets\n",
      "INFO:tensorflow:Assets written to: ram://eaf636ed-7877-4e59-a1d2-4392211f0fb0/assets\n",
      "INFO:tensorflow:Assets written to: ram://4a6cc4eb-e1fe-42f7-ba06-d59033a92a96/assets\n",
      "INFO:tensorflow:Assets written to: ram://290e4d90-d0f2-489c-b21d-4b3db5f5e9b7/assets\n",
      "INFO:tensorflow:Assets written to: ram://de7804ae-5e83-46a9-abf4-1441ec3ecdaa/assets\n",
      "INFO:tensorflow:Assets written to: ram://f8c13f26-3a04-4858-8361-c6b999d1ddde/assets\n",
      "INFO:tensorflow:Assets written to: ram://667516fd-2ecd-4783-93d3-b66a142ec8a1/assets\n",
      "INFO:tensorflow:Assets written to: ram://b1fe7a78-a85c-4671-a99c-24db4eba6c61/assets\n",
      "INFO:tensorflow:Assets written to: ram://d099e142-adad-48f6-b960-eb8838c901dc/assets\n"
     ]
    },
    {
     "name": "stderr",
     "output_type": "stream",
     "text": [
      "2022-03-18 17:34:32.613312: I tensorflow/core/platform/cpu_feature_guard.cc:151] This TensorFlow binary is optimized with oneAPI Deep Neural Network Library (oneDNN) to use the following CPU instructions in performance-critical operations:  AVX2 FMA\n",
      "To enable them in other operations, rebuild TensorFlow with the appropriate compiler flags.\n"
     ]
    },
    {
     "name": "stdout",
     "output_type": "stream",
     "text": [
      "INFO:tensorflow:Assets written to: ram://e7469b20-f0da-4ffa-9bd7-9fd06fa7c571/assets\n"
     ]
    },
    {
     "name": "stderr",
     "output_type": "stream",
     "text": [
      "2022-03-18 17:34:33.178440: I tensorflow/core/platform/cpu_feature_guard.cc:151] This TensorFlow binary is optimized with oneAPI Deep Neural Network Library (oneDNN) to use the following CPU instructions in performance-critical operations:  AVX2 FMA\n",
      "To enable them in other operations, rebuild TensorFlow with the appropriate compiler flags.\n",
      "2022-03-18 17:34:33.772063: I tensorflow/core/platform/cpu_feature_guard.cc:151] This TensorFlow binary is optimized with oneAPI Deep Neural Network Library (oneDNN) to use the following CPU instructions in performance-critical operations:  AVX2 FMA\n",
      "To enable them in other operations, rebuild TensorFlow with the appropriate compiler flags.\n",
      "2022-03-18 17:34:34.360613: I tensorflow/core/platform/cpu_feature_guard.cc:151] This TensorFlow binary is optimized with oneAPI Deep Neural Network Library (oneDNN) to use the following CPU instructions in performance-critical operations:  AVX2 FMA\n",
      "To enable them in other operations, rebuild TensorFlow with the appropriate compiler flags.\n",
      "2022-03-18 17:34:35.032489: I tensorflow/core/platform/cpu_feature_guard.cc:151] This TensorFlow binary is optimized with oneAPI Deep Neural Network Library (oneDNN) to use the following CPU instructions in performance-critical operations:  AVX2 FMA\n",
      "To enable them in other operations, rebuild TensorFlow with the appropriate compiler flags.\n",
      "2022-03-18 17:34:35.664599: I tensorflow/core/platform/cpu_feature_guard.cc:151] This TensorFlow binary is optimized with oneAPI Deep Neural Network Library (oneDNN) to use the following CPU instructions in performance-critical operations:  AVX2 FMA\n",
      "To enable them in other operations, rebuild TensorFlow with the appropriate compiler flags.\n",
      "2022-03-18 17:34:36.673268: I tensorflow/core/platform/cpu_feature_guard.cc:151] This TensorFlow binary is optimized with oneAPI Deep Neural Network Library (oneDNN) to use the following CPU instructions in performance-critical operations:  AVX2 FMA\n",
      "To enable them in other operations, rebuild TensorFlow with the appropriate compiler flags.\n",
      "2022-03-18 17:34:37.327124: I tensorflow/core/platform/cpu_feature_guard.cc:151] This TensorFlow binary is optimized with oneAPI Deep Neural Network Library (oneDNN) to use the following CPU instructions in performance-critical operations:  AVX2 FMA\n",
      "To enable them in other operations, rebuild TensorFlow with the appropriate compiler flags.\n",
      "2022-03-18 17:34:37.889485: I tensorflow/core/platform/cpu_feature_guard.cc:151] This TensorFlow binary is optimized with oneAPI Deep Neural Network Library (oneDNN) to use the following CPU instructions in performance-critical operations:  AVX2 FMA\n",
      "To enable them in other operations, rebuild TensorFlow with the appropriate compiler flags.\n",
      "2022-03-18 17:34:38.450692: I tensorflow/core/platform/cpu_feature_guard.cc:151] This TensorFlow binary is optimized with oneAPI Deep Neural Network Library (oneDNN) to use the following CPU instructions in performance-critical operations:  AVX2 FMA\n",
      "To enable them in other operations, rebuild TensorFlow with the appropriate compiler flags.\n",
      "2022-03-18 17:34:39.003915: I tensorflow/core/platform/cpu_feature_guard.cc:151] This TensorFlow binary is optimized with oneAPI Deep Neural Network Library (oneDNN) to use the following CPU instructions in performance-critical operations:  AVX2 FMA\n",
      "To enable them in other operations, rebuild TensorFlow with the appropriate compiler flags.\n",
      "2022-03-18 17:34:39.542086: I tensorflow/core/platform/cpu_feature_guard.cc:151] This TensorFlow binary is optimized with oneAPI Deep Neural Network Library (oneDNN) to use the following CPU instructions in performance-critical operations:  AVX2 FMA\n",
      "To enable them in other operations, rebuild TensorFlow with the appropriate compiler flags.\n",
      "2022-03-18 17:34:40.020516: I tensorflow/core/platform/cpu_feature_guard.cc:151] This TensorFlow binary is optimized with oneAPI Deep Neural Network Library (oneDNN) to use the following CPU instructions in performance-critical operations:  AVX2 FMA\n",
      "To enable them in other operations, rebuild TensorFlow with the appropriate compiler flags.\n",
      "/Users/avkash/anaconda3/envs/python38/lib/python3.8/site-packages/deepchecks/utils/features.py:174: UserWarning:\n",
      "\n",
      "Could not find built-in feature importance on the model, using permutation feature importance calculation\n",
      "\n"
     ]
    }
   ],
   "source": [
    "suite_result = suite.run(train_dataset=ds_train, test_dataset=ds_test, model=model)"
   ]
  },
  {
   "cell_type": "code",
   "execution_count": 23,
   "id": "4e7f63ab",
   "metadata": {},
   "outputs": [
    {
     "data": {
      "application/vnd.jupyter.widget-view+json": {
       "model_id": "08b42a7a92f44b029cf118e364dbacf2",
       "version_major": 2,
       "version_minor": 0
      },
      "text/plain": [
       "VBox(children=(HTML(value='\\n        <h1 id=\"summary_TDR74\">Full Suite</h1>\\n        <p>\\n            The suit…"
      ]
     },
     "metadata": {},
     "output_type": "display_data"
    }
   ],
   "source": [
    "suite_result"
   ]
  },
  {
   "cell_type": "code",
   "execution_count": null,
   "id": "4e381eb9",
   "metadata": {},
   "outputs": [],
   "source": [
    "suite_result.save_as_html('heart_keras_e100.html')"
   ]
  },
  {
   "cell_type": "markdown",
   "id": "ab3de060",
   "metadata": {},
   "source": [
    "## Adding RandomForestClassifier model"
   ]
  },
  {
   "cell_type": "code",
   "execution_count": 24,
   "id": "aecb7af0",
   "metadata": {},
   "outputs": [
    {
     "name": "stderr",
     "output_type": "stream",
     "text": [
      "/var/folders/j9/zkczhkln1w95vm9cj3p_qzhr0000gp/T/ipykernel_88515/3976616352.py:3: DataConversionWarning:\n",
      "\n",
      "A column-vector y was passed when a 1d array was expected. Please change the shape of y to (n_samples,), for example using ravel().\n",
      "\n"
     ]
    },
    {
     "data": {
      "text/plain": [
       "RandomForestClassifier(max_depth=5, random_state=1)"
      ]
     },
     "execution_count": 24,
     "metadata": {},
     "output_type": "execute_result"
    }
   ],
   "source": [
    "from sklearn.ensemble import RandomForestClassifier\n",
    "model_rf = RandomForestClassifier(n_estimators=100, max_depth=5, random_state=1)\n",
    "model_rf.fit(df_input_train, df_target_train)"
   ]
  },
  {
   "cell_type": "code",
   "execution_count": 25,
   "id": "0378c852",
   "metadata": {},
   "outputs": [
    {
     "name": "stdout",
     "output_type": "stream",
     "text": [
      "Training Score: 0.9339622641509434\n"
     ]
    }
   ],
   "source": [
    "Y_pred = model_rf.predict(df_input_test)\n",
    "score = model_rf.score(df_input_train, df_target_train)\n",
    "print('Training Score:', score)"
   ]
  },
  {
   "cell_type": "code",
   "execution_count": 27,
   "id": "729ebaa6",
   "metadata": {},
   "outputs": [
    {
     "name": "stdout",
     "output_type": "stream",
     "text": [
      "Testing Score: 0.9010989010989011\n"
     ]
    }
   ],
   "source": [
    "score = model_rf.score(df_input_test, df_target_test)\n",
    "print('Testing Score:', score)"
   ]
  },
  {
   "cell_type": "code",
   "execution_count": 28,
   "id": "b8875bde",
   "metadata": {},
   "outputs": [
    {
     "data": {
      "application/vnd.jupyter.widget-view+json": {
       "model_id": "",
       "version_major": 2,
       "version_minor": 0
      },
      "text/plain": [
       "Full Suite:   0%|          | 0/36 [00:00<?, ? Check/s]"
      ]
     },
     "metadata": {},
     "output_type": "display_data"
    },
    {
     "name": "stderr",
     "output_type": "stream",
     "text": [
      "/Users/avkash/anaconda3/envs/python38/lib/python3.8/site-packages/sklearn/base.py:438: UserWarning:\n",
      "\n",
      "X has feature names, but RandomForestClassifier was fitted without feature names\n",
      "\n",
      "/Users/avkash/anaconda3/envs/python38/lib/python3.8/site-packages/sklearn/base.py:438: UserWarning:\n",
      "\n",
      "X has feature names, but RandomForestClassifier was fitted without feature names\n",
      "\n",
      "/Users/avkash/anaconda3/envs/python38/lib/python3.8/site-packages/sklearn/base.py:438: UserWarning:\n",
      "\n",
      "X has feature names, but RandomForestClassifier was fitted without feature names\n",
      "\n",
      "/Users/avkash/anaconda3/envs/python38/lib/python3.8/site-packages/sklearn/base.py:438: UserWarning:\n",
      "\n",
      "X has feature names, but RandomForestClassifier was fitted without feature names\n",
      "\n",
      "/Users/avkash/anaconda3/envs/python38/lib/python3.8/site-packages/sklearn/base.py:438: UserWarning:\n",
      "\n",
      "X has feature names, but RandomForestClassifier was fitted without feature names\n",
      "\n",
      "/Users/avkash/anaconda3/envs/python38/lib/python3.8/site-packages/sklearn/base.py:438: UserWarning:\n",
      "\n",
      "X has feature names, but RandomForestClassifier was fitted without feature names\n",
      "\n",
      "/Users/avkash/anaconda3/envs/python38/lib/python3.8/site-packages/sklearn/base.py:438: UserWarning:\n",
      "\n",
      "X has feature names, but RandomForestClassifier was fitted without feature names\n",
      "\n",
      "/Users/avkash/anaconda3/envs/python38/lib/python3.8/site-packages/sklearn/base.py:438: UserWarning:\n",
      "\n",
      "X has feature names, but RandomForestClassifier was fitted without feature names\n",
      "\n",
      "/Users/avkash/anaconda3/envs/python38/lib/python3.8/site-packages/sklearn/base.py:438: UserWarning:\n",
      "\n",
      "X has feature names, but RandomForestClassifier was fitted without feature names\n",
      "\n",
      "/Users/avkash/anaconda3/envs/python38/lib/python3.8/site-packages/sklearn/base.py:438: UserWarning:\n",
      "\n",
      "X has feature names, but RandomForestClassifier was fitted without feature names\n",
      "\n",
      "/Users/avkash/anaconda3/envs/python38/lib/python3.8/site-packages/sklearn/base.py:438: UserWarning:\n",
      "\n",
      "X has feature names, but RandomForestClassifier was fitted without feature names\n",
      "\n",
      "/Users/avkash/anaconda3/envs/python38/lib/python3.8/site-packages/sklearn/base.py:438: UserWarning:\n",
      "\n",
      "X has feature names, but RandomForestClassifier was fitted without feature names\n",
      "\n",
      "/Users/avkash/anaconda3/envs/python38/lib/python3.8/site-packages/sklearn/base.py:438: UserWarning:\n",
      "\n",
      "X has feature names, but RandomForestClassifier was fitted without feature names\n",
      "\n",
      "/Users/avkash/anaconda3/envs/python38/lib/python3.8/site-packages/sklearn/base.py:438: UserWarning:\n",
      "\n",
      "X has feature names, but RandomForestClassifier was fitted without feature names\n",
      "\n",
      "/Users/avkash/anaconda3/envs/python38/lib/python3.8/site-packages/sklearn/base.py:438: UserWarning:\n",
      "\n",
      "X has feature names, but RandomForestClassifier was fitted without feature names\n",
      "\n",
      "/Users/avkash/anaconda3/envs/python38/lib/python3.8/site-packages/sklearn/base.py:438: UserWarning:\n",
      "\n",
      "X has feature names, but RandomForestClassifier was fitted without feature names\n",
      "\n",
      "/Users/avkash/anaconda3/envs/python38/lib/python3.8/site-packages/sklearn/base.py:438: UserWarning:\n",
      "\n",
      "X has feature names, but RandomForestClassifier was fitted without feature names\n",
      "\n",
      "/Users/avkash/anaconda3/envs/python38/lib/python3.8/site-packages/sklearn/base.py:438: UserWarning:\n",
      "\n",
      "X has feature names, but RandomForestClassifier was fitted without feature names\n",
      "\n",
      "/Users/avkash/anaconda3/envs/python38/lib/python3.8/site-packages/sklearn/base.py:438: UserWarning:\n",
      "\n",
      "X has feature names, but RandomForestClassifier was fitted without feature names\n",
      "\n",
      "/Users/avkash/anaconda3/envs/python38/lib/python3.8/site-packages/sklearn/base.py:438: UserWarning:\n",
      "\n",
      "X has feature names, but RandomForestClassifier was fitted without feature names\n",
      "\n",
      "/Users/avkash/anaconda3/envs/python38/lib/python3.8/site-packages/sklearn/base.py:438: UserWarning:\n",
      "\n",
      "X has feature names, but RandomForestClassifier was fitted without feature names\n",
      "\n",
      "/Users/avkash/anaconda3/envs/python38/lib/python3.8/site-packages/sklearn/base.py:438: UserWarning:\n",
      "\n",
      "X has feature names, but RandomForestClassifier was fitted without feature names\n",
      "\n",
      "/Users/avkash/anaconda3/envs/python38/lib/python3.8/site-packages/sklearn/base.py:438: UserWarning:\n",
      "\n",
      "X has feature names, but RandomForestClassifier was fitted without feature names\n",
      "\n",
      "/Users/avkash/anaconda3/envs/python38/lib/python3.8/site-packages/sklearn/base.py:438: UserWarning:\n",
      "\n",
      "X has feature names, but RandomForestClassifier was fitted without feature names\n",
      "\n",
      "/Users/avkash/anaconda3/envs/python38/lib/python3.8/site-packages/sklearn/base.py:438: UserWarning:\n",
      "\n",
      "X has feature names, but RandomForestClassifier was fitted without feature names\n",
      "\n"
     ]
    }
   ],
   "source": [
    "suite_result = suite.run(train_dataset=ds_train, test_dataset=ds_test, model=model_rf)"
   ]
  },
  {
   "cell_type": "code",
   "execution_count": 29,
   "id": "422b6801",
   "metadata": {},
   "outputs": [
    {
     "data": {
      "application/vnd.jupyter.widget-view+json": {
       "model_id": "4863a307db1a409c8a4ac315c32e40b0",
       "version_major": 2,
       "version_minor": 0
      },
      "text/plain": [
       "VBox(children=(HTML(value='\\n        <h1 id=\"summary_PUSI4\">Full Suite</h1>\\n        <p>\\n            The suit…"
      ]
     },
     "metadata": {},
     "output_type": "display_data"
    }
   ],
   "source": [
    "suite_result"
   ]
  },
  {
   "cell_type": "code",
   "execution_count": 30,
   "id": "008ea4b7",
   "metadata": {},
   "outputs": [],
   "source": [
    "suite_result.save_as_html('heart-rf-model.html')"
   ]
  },
  {
   "cell_type": "code",
   "execution_count": 31,
   "id": "8278cfea",
   "metadata": {},
   "outputs": [
    {
     "name": "stderr",
     "output_type": "stream",
     "text": [
      "/Users/avkash/anaconda3/envs/python38/lib/python3.8/site-packages/sklearn/ensemble/_gb.py:494: DataConversionWarning:\n",
      "\n",
      "A column-vector y was passed when a 1d array was expected. Please change the shape of y to (n_samples, ), for example using ravel().\n",
      "\n"
     ]
    },
    {
     "data": {
      "text/plain": [
       "GradientBoostingClassifier(max_depth=5, random_state=1)"
      ]
     },
     "execution_count": 31,
     "metadata": {},
     "output_type": "execute_result"
    }
   ],
   "source": [
    "from sklearn.ensemble import GradientBoostingClassifier\n",
    "model_gb = GradientBoostingClassifier(n_estimators=100, max_depth=5, random_state=1)\n",
    "model_gb.fit(df_input_train, df_target_train)"
   ]
  },
  {
   "cell_type": "code",
   "execution_count": 32,
   "id": "f86637c0",
   "metadata": {},
   "outputs": [
    {
     "name": "stdout",
     "output_type": "stream",
     "text": [
      "Training Score: 1.0\n"
     ]
    }
   ],
   "source": [
    "Y_pred = model_gb.predict(df_input_test)\n",
    "score = model_gb.score(df_input_train, df_target_train)\n",
    "print('Training Score:', score)"
   ]
  },
  {
   "cell_type": "code",
   "execution_count": 33,
   "id": "d09501a3",
   "metadata": {},
   "outputs": [
    {
     "data": {
      "application/vnd.jupyter.widget-view+json": {
       "model_id": "",
       "version_major": 2,
       "version_minor": 0
      },
      "text/plain": [
       "Full Suite:   0%|          | 0/36 [00:00<?, ? Check/s]"
      ]
     },
     "metadata": {},
     "output_type": "display_data"
    },
    {
     "name": "stderr",
     "output_type": "stream",
     "text": [
      "/Users/avkash/anaconda3/envs/python38/lib/python3.8/site-packages/sklearn/base.py:438: UserWarning:\n",
      "\n",
      "X has feature names, but GradientBoostingClassifier was fitted without feature names\n",
      "\n",
      "/Users/avkash/anaconda3/envs/python38/lib/python3.8/site-packages/sklearn/base.py:438: UserWarning:\n",
      "\n",
      "X has feature names, but GradientBoostingClassifier was fitted without feature names\n",
      "\n",
      "/Users/avkash/anaconda3/envs/python38/lib/python3.8/site-packages/sklearn/base.py:438: UserWarning:\n",
      "\n",
      "X has feature names, but GradientBoostingClassifier was fitted without feature names\n",
      "\n",
      "/Users/avkash/anaconda3/envs/python38/lib/python3.8/site-packages/sklearn/base.py:438: UserWarning:\n",
      "\n",
      "X has feature names, but GradientBoostingClassifier was fitted without feature names\n",
      "\n",
      "/Users/avkash/anaconda3/envs/python38/lib/python3.8/site-packages/sklearn/base.py:438: UserWarning:\n",
      "\n",
      "X has feature names, but GradientBoostingClassifier was fitted without feature names\n",
      "\n",
      "/Users/avkash/anaconda3/envs/python38/lib/python3.8/site-packages/sklearn/base.py:438: UserWarning:\n",
      "\n",
      "X has feature names, but GradientBoostingClassifier was fitted without feature names\n",
      "\n",
      "/Users/avkash/anaconda3/envs/python38/lib/python3.8/site-packages/sklearn/base.py:438: UserWarning:\n",
      "\n",
      "X has feature names, but GradientBoostingClassifier was fitted without feature names\n",
      "\n",
      "/Users/avkash/anaconda3/envs/python38/lib/python3.8/site-packages/sklearn/base.py:438: UserWarning:\n",
      "\n",
      "X has feature names, but GradientBoostingClassifier was fitted without feature names\n",
      "\n",
      "/Users/avkash/anaconda3/envs/python38/lib/python3.8/site-packages/sklearn/base.py:438: UserWarning:\n",
      "\n",
      "X has feature names, but GradientBoostingClassifier was fitted without feature names\n",
      "\n",
      "/Users/avkash/anaconda3/envs/python38/lib/python3.8/site-packages/sklearn/base.py:438: UserWarning:\n",
      "\n",
      "X has feature names, but GradientBoostingClassifier was fitted without feature names\n",
      "\n",
      "/Users/avkash/anaconda3/envs/python38/lib/python3.8/site-packages/sklearn/base.py:438: UserWarning:\n",
      "\n",
      "X has feature names, but GradientBoostingClassifier was fitted without feature names\n",
      "\n",
      "/Users/avkash/anaconda3/envs/python38/lib/python3.8/site-packages/sklearn/base.py:438: UserWarning:\n",
      "\n",
      "X has feature names, but GradientBoostingClassifier was fitted without feature names\n",
      "\n",
      "/Users/avkash/anaconda3/envs/python38/lib/python3.8/site-packages/sklearn/base.py:438: UserWarning:\n",
      "\n",
      "X has feature names, but GradientBoostingClassifier was fitted without feature names\n",
      "\n",
      "/Users/avkash/anaconda3/envs/python38/lib/python3.8/site-packages/sklearn/base.py:438: UserWarning:\n",
      "\n",
      "X has feature names, but GradientBoostingClassifier was fitted without feature names\n",
      "\n",
      "/Users/avkash/anaconda3/envs/python38/lib/python3.8/site-packages/sklearn/base.py:438: UserWarning:\n",
      "\n",
      "X has feature names, but GradientBoostingClassifier was fitted without feature names\n",
      "\n",
      "/Users/avkash/anaconda3/envs/python38/lib/python3.8/site-packages/sklearn/base.py:438: UserWarning:\n",
      "\n",
      "X has feature names, but GradientBoostingClassifier was fitted without feature names\n",
      "\n",
      "/Users/avkash/anaconda3/envs/python38/lib/python3.8/site-packages/sklearn/base.py:438: UserWarning:\n",
      "\n",
      "X has feature names, but GradientBoostingClassifier was fitted without feature names\n",
      "\n",
      "/Users/avkash/anaconda3/envs/python38/lib/python3.8/site-packages/sklearn/base.py:438: UserWarning:\n",
      "\n",
      "X has feature names, but GradientBoostingClassifier was fitted without feature names\n",
      "\n",
      "/Users/avkash/anaconda3/envs/python38/lib/python3.8/site-packages/sklearn/base.py:438: UserWarning:\n",
      "\n",
      "X has feature names, but GradientBoostingClassifier was fitted without feature names\n",
      "\n",
      "/Users/avkash/anaconda3/envs/python38/lib/python3.8/site-packages/sklearn/base.py:438: UserWarning:\n",
      "\n",
      "X has feature names, but GradientBoostingClassifier was fitted without feature names\n",
      "\n",
      "/Users/avkash/anaconda3/envs/python38/lib/python3.8/site-packages/sklearn/base.py:438: UserWarning:\n",
      "\n",
      "X has feature names, but GradientBoostingClassifier was fitted without feature names\n",
      "\n",
      "/Users/avkash/anaconda3/envs/python38/lib/python3.8/site-packages/sklearn/base.py:438: UserWarning:\n",
      "\n",
      "X has feature names, but GradientBoostingClassifier was fitted without feature names\n",
      "\n",
      "/Users/avkash/anaconda3/envs/python38/lib/python3.8/site-packages/sklearn/base.py:438: UserWarning:\n",
      "\n",
      "X has feature names, but GradientBoostingClassifier was fitted without feature names\n",
      "\n",
      "/Users/avkash/anaconda3/envs/python38/lib/python3.8/site-packages/sklearn/base.py:438: UserWarning:\n",
      "\n",
      "X has feature names, but GradientBoostingClassifier was fitted without feature names\n",
      "\n",
      "/Users/avkash/anaconda3/envs/python38/lib/python3.8/site-packages/sklearn/base.py:438: UserWarning:\n",
      "\n",
      "X has feature names, but GradientBoostingClassifier was fitted without feature names\n",
      "\n",
      "/Users/avkash/anaconda3/envs/python38/lib/python3.8/site-packages/sklearn/base.py:438: UserWarning:\n",
      "\n",
      "X has feature names, but GradientBoostingClassifier was fitted without feature names\n",
      "\n",
      "/Users/avkash/anaconda3/envs/python38/lib/python3.8/site-packages/sklearn/base.py:438: UserWarning:\n",
      "\n",
      "X has feature names, but GradientBoostingClassifier was fitted without feature names\n",
      "\n",
      "/Users/avkash/anaconda3/envs/python38/lib/python3.8/site-packages/sklearn/base.py:438: UserWarning:\n",
      "\n",
      "X has feature names, but GradientBoostingClassifier was fitted without feature names\n",
      "\n",
      "/Users/avkash/anaconda3/envs/python38/lib/python3.8/site-packages/sklearn/base.py:438: UserWarning:\n",
      "\n",
      "X has feature names, but GradientBoostingClassifier was fitted without feature names\n",
      "\n",
      "/Users/avkash/anaconda3/envs/python38/lib/python3.8/site-packages/sklearn/base.py:438: UserWarning:\n",
      "\n",
      "X has feature names, but GradientBoostingClassifier was fitted without feature names\n",
      "\n",
      "/Users/avkash/anaconda3/envs/python38/lib/python3.8/site-packages/sklearn/base.py:438: UserWarning:\n",
      "\n",
      "X has feature names, but GradientBoostingClassifier was fitted without feature names\n",
      "\n",
      "/Users/avkash/anaconda3/envs/python38/lib/python3.8/site-packages/sklearn/base.py:438: UserWarning:\n",
      "\n",
      "X has feature names, but GradientBoostingClassifier was fitted without feature names\n",
      "\n",
      "/Users/avkash/anaconda3/envs/python38/lib/python3.8/site-packages/sklearn/base.py:438: UserWarning:\n",
      "\n",
      "X has feature names, but GradientBoostingClassifier was fitted without feature names\n",
      "\n",
      "/Users/avkash/anaconda3/envs/python38/lib/python3.8/site-packages/sklearn/base.py:438: UserWarning:\n",
      "\n",
      "X has feature names, but GradientBoostingClassifier was fitted without feature names\n",
      "\n",
      "/Users/avkash/anaconda3/envs/python38/lib/python3.8/site-packages/sklearn/base.py:438: UserWarning:\n",
      "\n",
      "X has feature names, but GradientBoostingClassifier was fitted without feature names\n",
      "\n",
      "/Users/avkash/anaconda3/envs/python38/lib/python3.8/site-packages/sklearn/base.py:438: UserWarning:\n",
      "\n",
      "X has feature names, but GradientBoostingClassifier was fitted without feature names\n",
      "\n",
      "/Users/avkash/anaconda3/envs/python38/lib/python3.8/site-packages/sklearn/base.py:438: UserWarning:\n",
      "\n",
      "X has feature names, but GradientBoostingClassifier was fitted without feature names\n",
      "\n",
      "/Users/avkash/anaconda3/envs/python38/lib/python3.8/site-packages/sklearn/base.py:438: UserWarning:\n",
      "\n",
      "X has feature names, but GradientBoostingClassifier was fitted without feature names\n",
      "\n",
      "/Users/avkash/anaconda3/envs/python38/lib/python3.8/site-packages/sklearn/base.py:438: UserWarning:\n",
      "\n",
      "X has feature names, but GradientBoostingClassifier was fitted without feature names\n",
      "\n",
      "/Users/avkash/anaconda3/envs/python38/lib/python3.8/site-packages/sklearn/base.py:438: UserWarning:\n",
      "\n",
      "X has feature names, but GradientBoostingClassifier was fitted without feature names\n",
      "\n",
      "/Users/avkash/anaconda3/envs/python38/lib/python3.8/site-packages/sklearn/base.py:438: UserWarning:\n",
      "\n",
      "X has feature names, but GradientBoostingClassifier was fitted without feature names\n",
      "\n",
      "/Users/avkash/anaconda3/envs/python38/lib/python3.8/site-packages/sklearn/base.py:438: UserWarning:\n",
      "\n",
      "X has feature names, but GradientBoostingClassifier was fitted without feature names\n",
      "\n",
      "/Users/avkash/anaconda3/envs/python38/lib/python3.8/site-packages/sklearn/base.py:438: UserWarning:\n",
      "\n",
      "X has feature names, but GradientBoostingClassifier was fitted without feature names\n",
      "\n",
      "/Users/avkash/anaconda3/envs/python38/lib/python3.8/site-packages/sklearn/base.py:438: UserWarning:\n",
      "\n",
      "X has feature names, but GradientBoostingClassifier was fitted without feature names\n",
      "\n",
      "/Users/avkash/anaconda3/envs/python38/lib/python3.8/site-packages/sklearn/base.py:438: UserWarning:\n",
      "\n",
      "X has feature names, but GradientBoostingClassifier was fitted without feature names\n",
      "\n",
      "/Users/avkash/anaconda3/envs/python38/lib/python3.8/site-packages/sklearn/base.py:438: UserWarning:\n",
      "\n",
      "X has feature names, but GradientBoostingClassifier was fitted without feature names\n",
      "\n",
      "/Users/avkash/anaconda3/envs/python38/lib/python3.8/site-packages/sklearn/base.py:438: UserWarning:\n",
      "\n",
      "X has feature names, but GradientBoostingClassifier was fitted without feature names\n",
      "\n"
     ]
    },
    {
     "name": "stderr",
     "output_type": "stream",
     "text": [
      "/Users/avkash/anaconda3/envs/python38/lib/python3.8/site-packages/sklearn/base.py:438: UserWarning:\n",
      "\n",
      "X has feature names, but GradientBoostingClassifier was fitted without feature names\n",
      "\n",
      "/Users/avkash/anaconda3/envs/python38/lib/python3.8/site-packages/sklearn/base.py:438: UserWarning:\n",
      "\n",
      "X has feature names, but GradientBoostingClassifier was fitted without feature names\n",
      "\n",
      "/Users/avkash/anaconda3/envs/python38/lib/python3.8/site-packages/sklearn/base.py:438: UserWarning:\n",
      "\n",
      "X has feature names, but GradientBoostingClassifier was fitted without feature names\n",
      "\n",
      "/Users/avkash/anaconda3/envs/python38/lib/python3.8/site-packages/sklearn/base.py:438: UserWarning:\n",
      "\n",
      "X has feature names, but GradientBoostingClassifier was fitted without feature names\n",
      "\n",
      "/Users/avkash/anaconda3/envs/python38/lib/python3.8/site-packages/sklearn/base.py:438: UserWarning:\n",
      "\n",
      "X has feature names, but GradientBoostingClassifier was fitted without feature names\n",
      "\n",
      "/Users/avkash/anaconda3/envs/python38/lib/python3.8/site-packages/sklearn/base.py:438: UserWarning:\n",
      "\n",
      "X has feature names, but GradientBoostingClassifier was fitted without feature names\n",
      "\n",
      "/Users/avkash/anaconda3/envs/python38/lib/python3.8/site-packages/sklearn/base.py:438: UserWarning:\n",
      "\n",
      "X has feature names, but GradientBoostingClassifier was fitted without feature names\n",
      "\n",
      "/Users/avkash/anaconda3/envs/python38/lib/python3.8/site-packages/sklearn/base.py:438: UserWarning:\n",
      "\n",
      "X has feature names, but GradientBoostingClassifier was fitted without feature names\n",
      "\n",
      "/Users/avkash/anaconda3/envs/python38/lib/python3.8/site-packages/sklearn/base.py:438: UserWarning:\n",
      "\n",
      "X has feature names, but GradientBoostingClassifier was fitted without feature names\n",
      "\n",
      "/Users/avkash/anaconda3/envs/python38/lib/python3.8/site-packages/sklearn/base.py:438: UserWarning:\n",
      "\n",
      "X has feature names, but GradientBoostingClassifier was fitted without feature names\n",
      "\n",
      "/Users/avkash/anaconda3/envs/python38/lib/python3.8/site-packages/sklearn/base.py:438: UserWarning:\n",
      "\n",
      "X has feature names, but GradientBoostingClassifier was fitted without feature names\n",
      "\n",
      "/Users/avkash/anaconda3/envs/python38/lib/python3.8/site-packages/sklearn/base.py:438: UserWarning:\n",
      "\n",
      "X has feature names, but GradientBoostingClassifier was fitted without feature names\n",
      "\n",
      "/Users/avkash/anaconda3/envs/python38/lib/python3.8/site-packages/sklearn/base.py:438: UserWarning:\n",
      "\n",
      "X has feature names, but GradientBoostingClassifier was fitted without feature names\n",
      "\n",
      "/Users/avkash/anaconda3/envs/python38/lib/python3.8/site-packages/sklearn/base.py:438: UserWarning:\n",
      "\n",
      "X has feature names, but GradientBoostingClassifier was fitted without feature names\n",
      "\n",
      "/Users/avkash/anaconda3/envs/python38/lib/python3.8/site-packages/sklearn/base.py:438: UserWarning:\n",
      "\n",
      "X has feature names, but GradientBoostingClassifier was fitted without feature names\n",
      "\n",
      "/Users/avkash/anaconda3/envs/python38/lib/python3.8/site-packages/sklearn/base.py:438: UserWarning:\n",
      "\n",
      "X has feature names, but GradientBoostingClassifier was fitted without feature names\n",
      "\n",
      "/Users/avkash/anaconda3/envs/python38/lib/python3.8/site-packages/sklearn/base.py:438: UserWarning:\n",
      "\n",
      "X has feature names, but GradientBoostingClassifier was fitted without feature names\n",
      "\n",
      "/Users/avkash/anaconda3/envs/python38/lib/python3.8/site-packages/sklearn/base.py:438: UserWarning:\n",
      "\n",
      "X has feature names, but GradientBoostingClassifier was fitted without feature names\n",
      "\n",
      "/Users/avkash/anaconda3/envs/python38/lib/python3.8/site-packages/sklearn/base.py:438: UserWarning:\n",
      "\n",
      "X has feature names, but GradientBoostingClassifier was fitted without feature names\n",
      "\n",
      "/Users/avkash/anaconda3/envs/python38/lib/python3.8/site-packages/sklearn/base.py:438: UserWarning:\n",
      "\n",
      "X has feature names, but GradientBoostingClassifier was fitted without feature names\n",
      "\n"
     ]
    }
   ],
   "source": [
    "suite_result = suite.run(train_dataset=ds_train, test_dataset=ds_test, model=model_gb)"
   ]
  },
  {
   "cell_type": "code",
   "execution_count": 34,
   "id": "ac52cca3",
   "metadata": {},
   "outputs": [
    {
     "data": {
      "application/vnd.jupyter.widget-view+json": {
       "model_id": "d4318951afe24b9aa6068f58815c7c40",
       "version_major": 2,
       "version_minor": 0
      },
      "text/plain": [
       "VBox(children=(HTML(value='\\n        <h1 id=\"summary_E06FE\">Full Suite</h1>\\n        <p>\\n            The suit…"
      ]
     },
     "metadata": {},
     "output_type": "display_data"
    }
   ],
   "source": [
    "suite_result"
   ]
  },
  {
   "cell_type": "code",
   "execution_count": 35,
   "id": "ef21e245",
   "metadata": {},
   "outputs": [],
   "source": [
    "suite_result.save_as_html('heart-gb-report.html')"
   ]
  },
  {
   "cell_type": "code",
   "execution_count": null,
   "id": "4897300c",
   "metadata": {},
   "outputs": [],
   "source": []
  }
 ],
 "metadata": {
  "kernelspec": {
   "display_name": "Python 3 (ipykernel)",
   "language": "python",
   "name": "python3"
  },
  "language_info": {
   "codemirror_mode": {
    "name": "ipython",
    "version": 3
   },
   "file_extension": ".py",
   "mimetype": "text/x-python",
   "name": "python",
   "nbconvert_exporter": "python",
   "pygments_lexer": "ipython3",
   "version": "3.8.12"
  }
 },
 "nbformat": 4,
 "nbformat_minor": 5
}
