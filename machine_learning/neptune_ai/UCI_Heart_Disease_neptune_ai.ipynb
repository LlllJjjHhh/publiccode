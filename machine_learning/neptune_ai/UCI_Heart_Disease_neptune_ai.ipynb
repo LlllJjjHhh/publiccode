{
  "nbformat": 4,
  "nbformat_minor": 0,
  "metadata": {
    "colab": {
      "name": "UCI-Heart-Disease-neptune-ai.ipynb",
      "provenance": [],
      "authorship_tag": "ABX9TyOORXhTTbboEOBxL1pMIxmv",
      "include_colab_link": true
    },
    "kernelspec": {
      "name": "python3",
      "display_name": "Python 3"
    },
    "language_info": {
      "name": "python"
    }
  },
  "cells": [
    {
      "cell_type": "markdown",
      "metadata": {
        "id": "view-in-github",
        "colab_type": "text"
      },
      "source": [
        "<a href=\"https://colab.research.google.com/github/prodramp/publiccode/blob/master/machine_learning/neptune_ai/UCI_Heart_Disease_neptune_ai.ipynb\" target=\"_parent\"><img src=\"https://colab.research.google.com/assets/colab-badge.svg\" alt=\"Open In Colab\"/></a>"
      ]
    },
    {
      "cell_type": "markdown",
      "source": [
        "Original Data Source Link:\n",
        "https://archive.ics.uci.edu/ml/datasets/Heart+Disease\n",
        "\n",
        "CSV Formatted Dataset:\n",
        "https://www.kaggle.com/ronitf/heart-disease-uci?select=heart.csv"
      ],
      "metadata": {
        "id": "dfWNx_gMZWEV"
      }
    },
    {
      "cell_type": "markdown",
      "source": [
        "The dataset has 14 key attributes out of original 76, from the dataset along with their descriptions:"
      ],
      "metadata": {
        "id": "drv24DSmZFa-"
      }
    },
    {
      "cell_type": "markdown",
      "source": [
        "- age: The person’s age in years\n",
        "- sex: The person’s sex (1 = male, 0 = female)\n",
        "- cp: The chest pain experienced (Value 1: typical angina, Value 2: atypical - angina, Value 3: non-anginal pain, Value 4: asymptomatic)\n",
        "- trestbps: The person’s resting blood pressure\n",
        "- chol: The person’s cholesterol measurement in mg/dl\n",
        "- fbs: The person’s fasting blood sugar (> 120 mg/dl, 1 = true; 0 = false)\n",
        "- restecg: Resting electrocardiographic measurement (0 = normal, 1 = having ST-T wave abnormality, 2 = showing probable or definite left ventricular hypertrophy by Estes’ criteria)\n",
        "- thalach: The person’s maximum heart rate achieved\n",
        "- exang: Exercise induced angina (1 = yes; 0 = no)\n",
        "- oldpeak: ST depression induced by exercise relative to rest (‘ST’ relates to positions on the ECG plot)\n",
        "- slope: the slope of the peak exercise ST segment (Value 1: upsloping, Value 2: flat, Value 3: downsloping)\n",
        "- ca: The number of major vessels (0–3)\n",
        "- thal: A blood disorder called thalassemia (3 = normal; 6 = fixed defect; 7 = reversable defect)\n",
        "- target: Heart disease (0 = no, 1 = yes)"
      ],
      "metadata": {
        "id": "vuMbShKtYxKt"
      }
    },
    {
      "cell_type": "markdown",
      "source": [
        "Note: Make sure you have download the dataset from Kaggle link first. \n",
        "\n",
        "- Now we will upload the heart.csv from local file system to Google colab \n",
        "server.\n",
        "- You can also use pandas to upload the file from local file system also\n",
        "  - df = pd.read_csv(io.BytesIO(uploaded['heart.csv']))\n"
      ],
      "metadata": {
        "id": "c0q9ZFr3ZqDq"
      }
    },
    {
      "cell_type": "code",
      "source": [
        "!pip show neptune-client"
      ],
      "metadata": {
        "id": "Ar-m-qeiRuGL",
        "colab": {
          "base_uri": "https://localhost:8080/"
        },
        "outputId": "b194f4d8-bc0f-46e4-8d63-908b7812d3f2"
      },
      "execution_count": 1,
      "outputs": [
        {
          "output_type": "stream",
          "name": "stdout",
          "text": [
            "Name: neptune-client\n",
            "Version: 0.15.1\n",
            "Summary: Neptune Client\n",
            "Home-page: https://neptune.ai/\n",
            "Author: neptune.ai\n",
            "Author-email: contact@neptune.ai\n",
            "License: Apache License 2.0\n",
            "Location: /usr/local/lib/python3.7/dist-packages\n",
            "Requires: packaging, future, click, oauthlib, urllib3, pandas, swagger-spec-validator, requests-oauthlib, websocket-client, GitPython, bravado, Pillow, requests, psutil, PyJWT, boto3, six\n",
            "Required-by: neptune-tensorflow-keras, neptune-notebooks\n"
          ]
        }
      ]
    },
    {
      "cell_type": "code",
      "source": [
        "!pip install neptune-client neptune-tensorflow-keras"
      ],
      "metadata": {
        "id": "Z0qh0JnrRnTq"
      },
      "execution_count": null,
      "outputs": []
    },
    {
      "cell_type": "code",
      "source": [
        "!pip install neptune-notebooks"
      ],
      "metadata": {
        "id": "BwvvPN6_fNSQ"
      },
      "execution_count": null,
      "outputs": []
    },
    {
      "cell_type": "code",
      "source": [
        "!jupyter nbextension enable --py neptune-notebooks"
      ],
      "metadata": {
        "id": "7k0WSfV3fUFI"
      },
      "execution_count": null,
      "outputs": []
    },
    {
      "cell_type": "code",
      "source": [
        "!pip show neptune-client"
      ],
      "metadata": {
        "id": "-ahLahOTR6Ge"
      },
      "execution_count": null,
      "outputs": []
    },
    {
      "cell_type": "code",
      "source": [
        "!pip show neptune-tensorflow-keras"
      ],
      "metadata": {
        "id": "AuFqEnYNUz9Y",
        "colab": {
          "base_uri": "https://localhost:8080/"
        },
        "outputId": "626f5f39-c1e8-4653-f1fd-4be000e73038"
      },
      "execution_count": 2,
      "outputs": [
        {
          "output_type": "stream",
          "name": "stdout",
          "text": [
            "Name: neptune-tensorflow-keras\n",
            "Version: 0.9.9\n",
            "Summary: Neptune.ai tensorflow-keras integration library\n",
            "Home-page: https://neptune.ai/\n",
            "Author: neptune.ai\n",
            "Author-email: contact@neptune.ai\n",
            "License: Apache License 2.0\n",
            "Location: /usr/local/lib/python3.7/dist-packages\n",
            "Requires: neptune-client\n",
            "Required-by: \n"
          ]
        }
      ]
    },
    {
      "cell_type": "code",
      "source": [
        "import neptune.new as neptune\n",
        "from neptune.new.integrations.tensorflow_keras import NeptuneCallback"
      ],
      "metadata": {
        "id": "SarjXQJDTAQX"
      },
      "execution_count": 3,
      "outputs": []
    },
    {
      "cell_type": "code",
      "source": [
        "neptune_run = neptune.init(\n",
        "    name=\"Keras Heart Disease Experiment\",\n",
        "    project=\"avkash-prodramp/Keras-heart-disease\", \n",
        "    api_token=\"eyJhcGlfYWRkcmVzcyI6Imh0dHBzOi8vYXBwLm5lcHR1bmUuYWkiLCJhcGlfdXJsIjoiaHR0cHM6Ly9hcHAubmVwdHVuZS5haSIsImFwaV9rZXkiOiI5ZmIyZDVhZC1mYWYzLTRhNDEtOWE3ZS02NmY2M2Y2MzA0ZjgifQ==\", # your credentials\n",
        ")"
      ],
      "metadata": {
        "colab": {
          "base_uri": "https://localhost:8080/"
        },
        "id": "rhN-iKcLz8Ht",
        "outputId": "e0e78134-b627-43bb-bb4d-88dd12b7b391"
      },
      "execution_count": 78,
      "outputs": [
        {
          "output_type": "stream",
          "name": "stdout",
          "text": [
            "https://app.neptune.ai/avkash-prodramp/Keras-heart-disease/e/KHD-5\n",
            "Remember to stop your run once you’ve finished logging your metadata (https://docs.neptune.ai/api-reference/run#.stop). It will be stopped automatically only when the notebook kernel/interactive console is terminated.\n"
          ]
        }
      ]
    },
    {
      "cell_type": "code",
      "source": [
        "neptune_model = neptune.init_model(\n",
        "    name=\"Heart Disease Prediction model\",\n",
        "    key=\"MOD\", \n",
        "    project=\"avkash-prodramp/Keras-heart-disease\", \n",
        "    api_token=\"eyJhcGlfYWRkcmVzcyI6Imh0dHBzOi8vYXBwLm5lcHR1bmUuYWkiLCJhcGlfdXJsIjoiaHR0cHM6Ly9hcHAubmVwdHVuZS5haSIsImFwaV9rZXkiOiI5ZmIyZDVhZC1mYWYzLTRhNDEtOWE3ZS02NmY2M2Y2MzA0ZjgifQ==\", \n",
        ")\n"
      ],
      "metadata": {
        "id": "xvYKn0Nx5Gla"
      },
      "execution_count": null,
      "outputs": []
    },
    {
      "cell_type": "code",
      "source": [
        "model_version = neptune.init_model_version(\n",
        "    model=\"KHD-MOD\",\n",
        "    project=\"avkash-prodramp/Keras-heart-disease\",\n",
        "    api_token=\"eyJhcGlfYWRkcmVzcyI6Imh0dHBzOi8vYXBwLm5lcHR1bmUuYWkiLCJhcGlfdXJsIjoiaHR0cHM6Ly9hcHAubmVwdHVuZS5haSIsImFwaV9rZXkiOiI5ZmIyZDVhZC1mYWYzLTRhNDEtOWE3ZS02NmY2M2Y2MzA0ZjgifQ==\", # your credentials\n",
        ")\n"
      ],
      "metadata": {
        "id": "6oc4wQnxlHFH",
        "colab": {
          "base_uri": "https://localhost:8080/"
        },
        "outputId": "a18dd459-3f53-447c-96cd-32ec1527b91a"
      },
      "execution_count": 79,
      "outputs": [
        {
          "output_type": "stream",
          "name": "stdout",
          "text": [
            "https://app.neptune.ai/avkash-prodramp/Keras-heart-disease/m/KHD-MOD/v/KHD-MOD-3\n",
            "Remember to stop your model_version once you’ve finished logging your metadata (https://docs.neptune.ai/api-reference/model-version#.stop). It will be stopped automatically only when the notebook kernel/interactive console is terminated.\n"
          ]
        }
      ]
    },
    {
      "cell_type": "code",
      "source": [
        "!ls"
      ],
      "metadata": {
        "id": "tZzXsLa6TRMj"
      },
      "execution_count": null,
      "outputs": []
    },
    {
      "cell_type": "code",
      "source": [
        "from google.colab import files\n",
        "uploaded = files.upload()"
      ],
      "metadata": {
        "id": "OkmOS2LpZjRT"
      },
      "execution_count": null,
      "outputs": []
    },
    {
      "cell_type": "code",
      "source": [
        "!ls -l"
      ],
      "metadata": {
        "id": "mE18B1v9ayhm",
        "colab": {
          "base_uri": "https://localhost:8080/"
        },
        "outputId": "b7210080-ca26-4e3c-cd48-77d70dcffe1b"
      },
      "execution_count": 8,
      "outputs": [
        {
          "output_type": "stream",
          "name": "stdout",
          "text": [
            "total 44\n",
            "-rw-r--r-- 1 root root 11328 Mar 11 18:46 heart.csv\n",
            "drwxr-xr-x 3 root root  4096 Mar 11 19:56 model\n",
            "-rw-r--r-- 1 root root 20833 Mar 11 20:06 model_plot.png\n",
            "drwxr-xr-x 1 root root  4096 Mar  9 14:48 sample_data\n"
          ]
        }
      ]
    },
    {
      "cell_type": "code",
      "source": [
        "import pandas as pd\n",
        "import seaborn as  sns\n",
        "import matplotlib.pyplot as plt"
      ],
      "metadata": {
        "id": "x8281AvEauAR"
      },
      "execution_count": 9,
      "outputs": []
    },
    {
      "cell_type": "code",
      "source": [
        "import io\n",
        "df = pd.read_csv('heart.csv')"
      ],
      "metadata": {
        "id": "q6NpnH2aZkgI"
      },
      "execution_count": 10,
      "outputs": []
    },
    {
      "cell_type": "code",
      "source": [
        "df"
      ],
      "metadata": {
        "id": "bH9ycJYwar7c",
        "colab": {
          "base_uri": "https://localhost:8080/",
          "height": 423
        },
        "outputId": "ada99515-cda0-4136-9d8c-aea6abc4d9d7"
      },
      "execution_count": 11,
      "outputs": [
        {
          "output_type": "execute_result",
          "data": {
            "text/plain": [
              "     age  sex  cp  trestbps  chol  fbs  restecg  thalach  exang  oldpeak  \\\n",
              "0     63    1   3       145   233    1        0      150      0      2.3   \n",
              "1     37    1   2       130   250    0        1      187      0      3.5   \n",
              "2     41    0   1       130   204    0        0      172      0      1.4   \n",
              "3     56    1   1       120   236    0        1      178      0      0.8   \n",
              "4     57    0   0       120   354    0        1      163      1      0.6   \n",
              "..   ...  ...  ..       ...   ...  ...      ...      ...    ...      ...   \n",
              "298   57    0   0       140   241    0        1      123      1      0.2   \n",
              "299   45    1   3       110   264    0        1      132      0      1.2   \n",
              "300   68    1   0       144   193    1        1      141      0      3.4   \n",
              "301   57    1   0       130   131    0        1      115      1      1.2   \n",
              "302   57    0   1       130   236    0        0      174      0      0.0   \n",
              "\n",
              "     slope  ca  thal  target  \n",
              "0        0   0     1       1  \n",
              "1        0   0     2       1  \n",
              "2        2   0     2       1  \n",
              "3        2   0     2       1  \n",
              "4        2   0     2       1  \n",
              "..     ...  ..   ...     ...  \n",
              "298      1   0     3       0  \n",
              "299      1   0     3       0  \n",
              "300      1   2     3       0  \n",
              "301      1   1     3       0  \n",
              "302      1   1     2       0  \n",
              "\n",
              "[303 rows x 14 columns]"
            ],
            "text/html": [
              "\n",
              "  <div id=\"df-721d6ef6-707a-41a6-90f9-965bfd7e0c91\">\n",
              "    <div class=\"colab-df-container\">\n",
              "      <div>\n",
              "<style scoped>\n",
              "    .dataframe tbody tr th:only-of-type {\n",
              "        vertical-align: middle;\n",
              "    }\n",
              "\n",
              "    .dataframe tbody tr th {\n",
              "        vertical-align: top;\n",
              "    }\n",
              "\n",
              "    .dataframe thead th {\n",
              "        text-align: right;\n",
              "    }\n",
              "</style>\n",
              "<table border=\"1\" class=\"dataframe\">\n",
              "  <thead>\n",
              "    <tr style=\"text-align: right;\">\n",
              "      <th></th>\n",
              "      <th>age</th>\n",
              "      <th>sex</th>\n",
              "      <th>cp</th>\n",
              "      <th>trestbps</th>\n",
              "      <th>chol</th>\n",
              "      <th>fbs</th>\n",
              "      <th>restecg</th>\n",
              "      <th>thalach</th>\n",
              "      <th>exang</th>\n",
              "      <th>oldpeak</th>\n",
              "      <th>slope</th>\n",
              "      <th>ca</th>\n",
              "      <th>thal</th>\n",
              "      <th>target</th>\n",
              "    </tr>\n",
              "  </thead>\n",
              "  <tbody>\n",
              "    <tr>\n",
              "      <th>0</th>\n",
              "      <td>63</td>\n",
              "      <td>1</td>\n",
              "      <td>3</td>\n",
              "      <td>145</td>\n",
              "      <td>233</td>\n",
              "      <td>1</td>\n",
              "      <td>0</td>\n",
              "      <td>150</td>\n",
              "      <td>0</td>\n",
              "      <td>2.3</td>\n",
              "      <td>0</td>\n",
              "      <td>0</td>\n",
              "      <td>1</td>\n",
              "      <td>1</td>\n",
              "    </tr>\n",
              "    <tr>\n",
              "      <th>1</th>\n",
              "      <td>37</td>\n",
              "      <td>1</td>\n",
              "      <td>2</td>\n",
              "      <td>130</td>\n",
              "      <td>250</td>\n",
              "      <td>0</td>\n",
              "      <td>1</td>\n",
              "      <td>187</td>\n",
              "      <td>0</td>\n",
              "      <td>3.5</td>\n",
              "      <td>0</td>\n",
              "      <td>0</td>\n",
              "      <td>2</td>\n",
              "      <td>1</td>\n",
              "    </tr>\n",
              "    <tr>\n",
              "      <th>2</th>\n",
              "      <td>41</td>\n",
              "      <td>0</td>\n",
              "      <td>1</td>\n",
              "      <td>130</td>\n",
              "      <td>204</td>\n",
              "      <td>0</td>\n",
              "      <td>0</td>\n",
              "      <td>172</td>\n",
              "      <td>0</td>\n",
              "      <td>1.4</td>\n",
              "      <td>2</td>\n",
              "      <td>0</td>\n",
              "      <td>2</td>\n",
              "      <td>1</td>\n",
              "    </tr>\n",
              "    <tr>\n",
              "      <th>3</th>\n",
              "      <td>56</td>\n",
              "      <td>1</td>\n",
              "      <td>1</td>\n",
              "      <td>120</td>\n",
              "      <td>236</td>\n",
              "      <td>0</td>\n",
              "      <td>1</td>\n",
              "      <td>178</td>\n",
              "      <td>0</td>\n",
              "      <td>0.8</td>\n",
              "      <td>2</td>\n",
              "      <td>0</td>\n",
              "      <td>2</td>\n",
              "      <td>1</td>\n",
              "    </tr>\n",
              "    <tr>\n",
              "      <th>4</th>\n",
              "      <td>57</td>\n",
              "      <td>0</td>\n",
              "      <td>0</td>\n",
              "      <td>120</td>\n",
              "      <td>354</td>\n",
              "      <td>0</td>\n",
              "      <td>1</td>\n",
              "      <td>163</td>\n",
              "      <td>1</td>\n",
              "      <td>0.6</td>\n",
              "      <td>2</td>\n",
              "      <td>0</td>\n",
              "      <td>2</td>\n",
              "      <td>1</td>\n",
              "    </tr>\n",
              "    <tr>\n",
              "      <th>...</th>\n",
              "      <td>...</td>\n",
              "      <td>...</td>\n",
              "      <td>...</td>\n",
              "      <td>...</td>\n",
              "      <td>...</td>\n",
              "      <td>...</td>\n",
              "      <td>...</td>\n",
              "      <td>...</td>\n",
              "      <td>...</td>\n",
              "      <td>...</td>\n",
              "      <td>...</td>\n",
              "      <td>...</td>\n",
              "      <td>...</td>\n",
              "      <td>...</td>\n",
              "    </tr>\n",
              "    <tr>\n",
              "      <th>298</th>\n",
              "      <td>57</td>\n",
              "      <td>0</td>\n",
              "      <td>0</td>\n",
              "      <td>140</td>\n",
              "      <td>241</td>\n",
              "      <td>0</td>\n",
              "      <td>1</td>\n",
              "      <td>123</td>\n",
              "      <td>1</td>\n",
              "      <td>0.2</td>\n",
              "      <td>1</td>\n",
              "      <td>0</td>\n",
              "      <td>3</td>\n",
              "      <td>0</td>\n",
              "    </tr>\n",
              "    <tr>\n",
              "      <th>299</th>\n",
              "      <td>45</td>\n",
              "      <td>1</td>\n",
              "      <td>3</td>\n",
              "      <td>110</td>\n",
              "      <td>264</td>\n",
              "      <td>0</td>\n",
              "      <td>1</td>\n",
              "      <td>132</td>\n",
              "      <td>0</td>\n",
              "      <td>1.2</td>\n",
              "      <td>1</td>\n",
              "      <td>0</td>\n",
              "      <td>3</td>\n",
              "      <td>0</td>\n",
              "    </tr>\n",
              "    <tr>\n",
              "      <th>300</th>\n",
              "      <td>68</td>\n",
              "      <td>1</td>\n",
              "      <td>0</td>\n",
              "      <td>144</td>\n",
              "      <td>193</td>\n",
              "      <td>1</td>\n",
              "      <td>1</td>\n",
              "      <td>141</td>\n",
              "      <td>0</td>\n",
              "      <td>3.4</td>\n",
              "      <td>1</td>\n",
              "      <td>2</td>\n",
              "      <td>3</td>\n",
              "      <td>0</td>\n",
              "    </tr>\n",
              "    <tr>\n",
              "      <th>301</th>\n",
              "      <td>57</td>\n",
              "      <td>1</td>\n",
              "      <td>0</td>\n",
              "      <td>130</td>\n",
              "      <td>131</td>\n",
              "      <td>0</td>\n",
              "      <td>1</td>\n",
              "      <td>115</td>\n",
              "      <td>1</td>\n",
              "      <td>1.2</td>\n",
              "      <td>1</td>\n",
              "      <td>1</td>\n",
              "      <td>3</td>\n",
              "      <td>0</td>\n",
              "    </tr>\n",
              "    <tr>\n",
              "      <th>302</th>\n",
              "      <td>57</td>\n",
              "      <td>0</td>\n",
              "      <td>1</td>\n",
              "      <td>130</td>\n",
              "      <td>236</td>\n",
              "      <td>0</td>\n",
              "      <td>0</td>\n",
              "      <td>174</td>\n",
              "      <td>0</td>\n",
              "      <td>0.0</td>\n",
              "      <td>1</td>\n",
              "      <td>1</td>\n",
              "      <td>2</td>\n",
              "      <td>0</td>\n",
              "    </tr>\n",
              "  </tbody>\n",
              "</table>\n",
              "<p>303 rows × 14 columns</p>\n",
              "</div>\n",
              "      <button class=\"colab-df-convert\" onclick=\"convertToInteractive('df-721d6ef6-707a-41a6-90f9-965bfd7e0c91')\"\n",
              "              title=\"Convert this dataframe to an interactive table.\"\n",
              "              style=\"display:none;\">\n",
              "        \n",
              "  <svg xmlns=\"http://www.w3.org/2000/svg\" height=\"24px\"viewBox=\"0 0 24 24\"\n",
              "       width=\"24px\">\n",
              "    <path d=\"M0 0h24v24H0V0z\" fill=\"none\"/>\n",
              "    <path d=\"M18.56 5.44l.94 2.06.94-2.06 2.06-.94-2.06-.94-.94-2.06-.94 2.06-2.06.94zm-11 1L8.5 8.5l.94-2.06 2.06-.94-2.06-.94L8.5 2.5l-.94 2.06-2.06.94zm10 10l.94 2.06.94-2.06 2.06-.94-2.06-.94-.94-2.06-.94 2.06-2.06.94z\"/><path d=\"M17.41 7.96l-1.37-1.37c-.4-.4-.92-.59-1.43-.59-.52 0-1.04.2-1.43.59L10.3 9.45l-7.72 7.72c-.78.78-.78 2.05 0 2.83L4 21.41c.39.39.9.59 1.41.59.51 0 1.02-.2 1.41-.59l7.78-7.78 2.81-2.81c.8-.78.8-2.07 0-2.86zM5.41 20L4 18.59l7.72-7.72 1.47 1.35L5.41 20z\"/>\n",
              "  </svg>\n",
              "      </button>\n",
              "      \n",
              "  <style>\n",
              "    .colab-df-container {\n",
              "      display:flex;\n",
              "      flex-wrap:wrap;\n",
              "      gap: 12px;\n",
              "    }\n",
              "\n",
              "    .colab-df-convert {\n",
              "      background-color: #E8F0FE;\n",
              "      border: none;\n",
              "      border-radius: 50%;\n",
              "      cursor: pointer;\n",
              "      display: none;\n",
              "      fill: #1967D2;\n",
              "      height: 32px;\n",
              "      padding: 0 0 0 0;\n",
              "      width: 32px;\n",
              "    }\n",
              "\n",
              "    .colab-df-convert:hover {\n",
              "      background-color: #E2EBFA;\n",
              "      box-shadow: 0px 1px 2px rgba(60, 64, 67, 0.3), 0px 1px 3px 1px rgba(60, 64, 67, 0.15);\n",
              "      fill: #174EA6;\n",
              "    }\n",
              "\n",
              "    [theme=dark] .colab-df-convert {\n",
              "      background-color: #3B4455;\n",
              "      fill: #D2E3FC;\n",
              "    }\n",
              "\n",
              "    [theme=dark] .colab-df-convert:hover {\n",
              "      background-color: #434B5C;\n",
              "      box-shadow: 0px 1px 3px 1px rgba(0, 0, 0, 0.15);\n",
              "      filter: drop-shadow(0px 1px 2px rgba(0, 0, 0, 0.3));\n",
              "      fill: #FFFFFF;\n",
              "    }\n",
              "  </style>\n",
              "\n",
              "      <script>\n",
              "        const buttonEl =\n",
              "          document.querySelector('#df-721d6ef6-707a-41a6-90f9-965bfd7e0c91 button.colab-df-convert');\n",
              "        buttonEl.style.display =\n",
              "          google.colab.kernel.accessAllowed ? 'block' : 'none';\n",
              "\n",
              "        async function convertToInteractive(key) {\n",
              "          const element = document.querySelector('#df-721d6ef6-707a-41a6-90f9-965bfd7e0c91');\n",
              "          const dataTable =\n",
              "            await google.colab.kernel.invokeFunction('convertToInteractive',\n",
              "                                                     [key], {});\n",
              "          if (!dataTable) return;\n",
              "\n",
              "          const docLinkHtml = 'Like what you see? Visit the ' +\n",
              "            '<a target=\"_blank\" href=https://colab.research.google.com/notebooks/data_table.ipynb>data table notebook</a>'\n",
              "            + ' to learn more about interactive tables.';\n",
              "          element.innerHTML = '';\n",
              "          dataTable['output_type'] = 'display_data';\n",
              "          await google.colab.output.renderOutput(dataTable, element);\n",
              "          const docLink = document.createElement('div');\n",
              "          docLink.innerHTML = docLinkHtml;\n",
              "          element.appendChild(docLink);\n",
              "        }\n",
              "      </script>\n",
              "    </div>\n",
              "  </div>\n",
              "  "
            ]
          },
          "metadata": {},
          "execution_count": 11
        }
      ]
    },
    {
      "cell_type": "code",
      "source": [
        "df.shape"
      ],
      "metadata": {
        "id": "bZcuCjJTa9_B",
        "colab": {
          "base_uri": "https://localhost:8080/"
        },
        "outputId": "5259c603-75a9-40a5-8e75-05f9a5b130d2"
      },
      "execution_count": 12,
      "outputs": [
        {
          "output_type": "execute_result",
          "data": {
            "text/plain": [
              "(303, 14)"
            ]
          },
          "metadata": {},
          "execution_count": 12
        }
      ]
    },
    {
      "cell_type": "code",
      "source": [
        "df.columns"
      ],
      "metadata": {
        "id": "iSPwY3NfbCxq",
        "colab": {
          "base_uri": "https://localhost:8080/"
        },
        "outputId": "4266f485-db21-4e8d-9fc1-109b02f776c2"
      },
      "execution_count": 13,
      "outputs": [
        {
          "output_type": "execute_result",
          "data": {
            "text/plain": [
              "Index(['age', 'sex', 'cp', 'trestbps', 'chol', 'fbs', 'restecg', 'thalach',\n",
              "       'exang', 'oldpeak', 'slope', 'ca', 'thal', 'target'],\n",
              "      dtype='object')"
            ]
          },
          "metadata": {},
          "execution_count": 13
        }
      ]
    },
    {
      "cell_type": "code",
      "source": [
        "f = sns.countplot(x='target', data=df)\n",
        "f.set_title(\"Heart disease distribution (Target distribution)\")\n",
        "f.set_xticklabels(['Heart disease - Yes', 'Heart Disease - No'])\n",
        "plt.xlabel(\"\");"
      ],
      "metadata": {
        "id": "PBsziO8hbDkd",
        "colab": {
          "base_uri": "https://localhost:8080/",
          "height": 281
        },
        "outputId": "ccdffc9d-63e0-429a-8ae4-328d90e7b5c0"
      },
      "execution_count": 14,
      "outputs": [
        {
          "output_type": "display_data",
          "data": {
            "text/plain": [
              "<Figure size 432x288 with 1 Axes>"
            ],
            "image/png": "[encoded data removed]"
          },
          "metadata": {
            "needs_background": "light"
          }
        }
      ]
    },
    {
      "cell_type": "code",
      "source": [
        "f = sns.countplot(x='target', data=df, hue='sex')\n",
        "plt.legend(['Female', 'Male'])\n",
        "f.set_title(\"Heart Disease by gender\")\n",
        "f.set_xticklabels(['Heart disease - Yes', 'Heart Disease - No'])\n",
        "plt.xlabel(\"\");"
      ],
      "metadata": {
        "id": "jOw0E2SsbSsp",
        "colab": {
          "base_uri": "https://localhost:8080/",
          "height": 281
        },
        "outputId": "c17cd1d4-f1c8-4832-8ce3-e884550ba816"
      },
      "execution_count": 15,
      "outputs": [
        {
          "output_type": "display_data",
          "data": {
            "text/plain": [
              "<Figure size 432x288 with 1 Axes>"
            ],
            "image/png": "[encoded data removed]"
          },
          "metadata": {
            "needs_background": "light"
          }
        }
      ]
    },
    {
      "cell_type": "code",
      "source": [
        "heat_map = sns.heatmap(df.corr(method='pearson'), annot=True, fmt='.2f', linewidths=2)\n",
        "heat_map.set_xticklabels(heat_map.get_xticklabels(), rotation=45);\n",
        "plt.rcParams[\"figure.figsize\"] = (50,50)"
      ],
      "metadata": {
        "id": "bFVQ-2CSbiRI",
        "colab": {
          "base_uri": "https://localhost:8080/",
          "height": 295
        },
        "outputId": "aa06cee2-fb5a-448f-c7de-d2d7534dac21"
      },
      "execution_count": 16,
      "outputs": [
        {
          "output_type": "display_data",
          "data": {
            "text/plain": [
              "<Figure size 432x288 with 2 Axes>"
            ],
            "image/png": "[encoded data removed]"
          },
          "metadata": {
            "needs_background": "light"
          }
        }
      ]
    },
    {
      "cell_type": "markdown",
      "source": [
        "Now we need to split the dataset into target and training format.\n",
        "- Target will have only target column\n",
        "- Training data will have all the columns besides target column"
      ],
      "metadata": {
        "id": "QuNPHoT6h1lW"
      }
    },
    {
      "cell_type": "code",
      "source": [
        "df_input = pd.DataFrame(df.iloc[:, 0:13])"
      ],
      "metadata": {
        "id": "KsOnJr3Xccc3"
      },
      "execution_count": 17,
      "outputs": []
    },
    {
      "cell_type": "code",
      "source": [
        "df_input.shape"
      ],
      "metadata": {
        "id": "jEWh3FRah_4A",
        "colab": {
          "base_uri": "https://localhost:8080/"
        },
        "outputId": "195731f8-71c8-461f-c4c7-34f8826ed2d4"
      },
      "execution_count": 18,
      "outputs": [
        {
          "output_type": "execute_result",
          "data": {
            "text/plain": [
              "(303, 13)"
            ]
          },
          "metadata": {},
          "execution_count": 18
        }
      ]
    },
    {
      "cell_type": "code",
      "source": [
        "df_input"
      ],
      "metadata": {
        "id": "gul6bBABcpNJ",
        "colab": {
          "base_uri": "https://localhost:8080/",
          "height": 423
        },
        "outputId": "69eb8e70-e234-42dd-e4ba-7b32f6c3715b"
      },
      "execution_count": 19,
      "outputs": [
        {
          "output_type": "execute_result",
          "data": {
            "text/plain": [
              "     age  sex  cp  trestbps  chol  fbs  restecg  thalach  exang  oldpeak  \\\n",
              "0     63    1   3       145   233    1        0      150      0      2.3   \n",
              "1     37    1   2       130   250    0        1      187      0      3.5   \n",
              "2     41    0   1       130   204    0        0      172      0      1.4   \n",
              "3     56    1   1       120   236    0        1      178      0      0.8   \n",
              "4     57    0   0       120   354    0        1      163      1      0.6   \n",
              "..   ...  ...  ..       ...   ...  ...      ...      ...    ...      ...   \n",
              "298   57    0   0       140   241    0        1      123      1      0.2   \n",
              "299   45    1   3       110   264    0        1      132      0      1.2   \n",
              "300   68    1   0       144   193    1        1      141      0      3.4   \n",
              "301   57    1   0       130   131    0        1      115      1      1.2   \n",
              "302   57    0   1       130   236    0        0      174      0      0.0   \n",
              "\n",
              "     slope  ca  thal  \n",
              "0        0   0     1  \n",
              "1        0   0     2  \n",
              "2        2   0     2  \n",
              "3        2   0     2  \n",
              "4        2   0     2  \n",
              "..     ...  ..   ...  \n",
              "298      1   0     3  \n",
              "299      1   0     3  \n",
              "300      1   2     3  \n",
              "301      1   1     3  \n",
              "302      1   1     2  \n",
              "\n",
              "[303 rows x 13 columns]"
            ],
            "text/html": [
              "\n",
              "  <div id=\"df-9b0e7734-157c-4716-99bf-e280c9d9b170\">\n",
              "    <div class=\"colab-df-container\">\n",
              "      <div>\n",
              "<style scoped>\n",
              "    .dataframe tbody tr th:only-of-type {\n",
              "        vertical-align: middle;\n",
              "    }\n",
              "\n",
              "    .dataframe tbody tr th {\n",
              "        vertical-align: top;\n",
              "    }\n",
              "\n",
              "    .dataframe thead th {\n",
              "        text-align: right;\n",
              "    }\n",
              "</style>\n",
              "<table border=\"1\" class=\"dataframe\">\n",
              "  <thead>\n",
              "    <tr style=\"text-align: right;\">\n",
              "      <th></th>\n",
              "      <th>age</th>\n",
              "      <th>sex</th>\n",
              "      <th>cp</th>\n",
              "      <th>trestbps</th>\n",
              "      <th>chol</th>\n",
              "      <th>fbs</th>\n",
              "      <th>restecg</th>\n",
              "      <th>thalach</th>\n",
              "      <th>exang</th>\n",
              "      <th>oldpeak</th>\n",
              "      <th>slope</th>\n",
              "      <th>ca</th>\n",
              "      <th>thal</th>\n",
              "    </tr>\n",
              "  </thead>\n",
              "  <tbody>\n",
              "    <tr>\n",
              "      <th>0</th>\n",
              "      <td>63</td>\n",
              "      <td>1</td>\n",
              "      <td>3</td>\n",
              "      <td>145</td>\n",
              "      <td>233</td>\n",
              "      <td>1</td>\n",
              "      <td>0</td>\n",
              "      <td>150</td>\n",
              "      <td>0</td>\n",
              "      <td>2.3</td>\n",
              "      <td>0</td>\n",
              "      <td>0</td>\n",
              "      <td>1</td>\n",
              "    </tr>\n",
              "    <tr>\n",
              "      <th>1</th>\n",
              "      <td>37</td>\n",
              "      <td>1</td>\n",
              "      <td>2</td>\n",
              "      <td>130</td>\n",
              "      <td>250</td>\n",
              "      <td>0</td>\n",
              "      <td>1</td>\n",
              "      <td>187</td>\n",
              "      <td>0</td>\n",
              "      <td>3.5</td>\n",
              "      <td>0</td>\n",
              "      <td>0</td>\n",
              "      <td>2</td>\n",
              "    </tr>\n",
              "    <tr>\n",
              "      <th>2</th>\n",
              "      <td>41</td>\n",
              "      <td>0</td>\n",
              "      <td>1</td>\n",
              "      <td>130</td>\n",
              "      <td>204</td>\n",
              "      <td>0</td>\n",
              "      <td>0</td>\n",
              "      <td>172</td>\n",
              "      <td>0</td>\n",
              "      <td>1.4</td>\n",
              "      <td>2</td>\n",
              "      <td>0</td>\n",
              "      <td>2</td>\n",
              "    </tr>\n",
              "    <tr>\n",
              "      <th>3</th>\n",
              "      <td>56</td>\n",
              "      <td>1</td>\n",
              "      <td>1</td>\n",
              "      <td>120</td>\n",
              "      <td>236</td>\n",
              "      <td>0</td>\n",
              "      <td>1</td>\n",
              "      <td>178</td>\n",
              "      <td>0</td>\n",
              "      <td>0.8</td>\n",
              "      <td>2</td>\n",
              "      <td>0</td>\n",
              "      <td>2</td>\n",
              "    </tr>\n",
              "    <tr>\n",
              "      <th>4</th>\n",
              "      <td>57</td>\n",
              "      <td>0</td>\n",
              "      <td>0</td>\n",
              "      <td>120</td>\n",
              "      <td>354</td>\n",
              "      <td>0</td>\n",
              "      <td>1</td>\n",
              "      <td>163</td>\n",
              "      <td>1</td>\n",
              "      <td>0.6</td>\n",
              "      <td>2</td>\n",
              "      <td>0</td>\n",
              "      <td>2</td>\n",
              "    </tr>\n",
              "    <tr>\n",
              "      <th>...</th>\n",
              "      <td>...</td>\n",
              "      <td>...</td>\n",
              "      <td>...</td>\n",
              "      <td>...</td>\n",
              "      <td>...</td>\n",
              "      <td>...</td>\n",
              "      <td>...</td>\n",
              "      <td>...</td>\n",
              "      <td>...</td>\n",
              "      <td>...</td>\n",
              "      <td>...</td>\n",
              "      <td>...</td>\n",
              "      <td>...</td>\n",
              "    </tr>\n",
              "    <tr>\n",
              "      <th>298</th>\n",
              "      <td>57</td>\n",
              "      <td>0</td>\n",
              "      <td>0</td>\n",
              "      <td>140</td>\n",
              "      <td>241</td>\n",
              "      <td>0</td>\n",
              "      <td>1</td>\n",
              "      <td>123</td>\n",
              "      <td>1</td>\n",
              "      <td>0.2</td>\n",
              "      <td>1</td>\n",
              "      <td>0</td>\n",
              "      <td>3</td>\n",
              "    </tr>\n",
              "    <tr>\n",
              "      <th>299</th>\n",
              "      <td>45</td>\n",
              "      <td>1</td>\n",
              "      <td>3</td>\n",
              "      <td>110</td>\n",
              "      <td>264</td>\n",
              "      <td>0</td>\n",
              "      <td>1</td>\n",
              "      <td>132</td>\n",
              "      <td>0</td>\n",
              "      <td>1.2</td>\n",
              "      <td>1</td>\n",
              "      <td>0</td>\n",
              "      <td>3</td>\n",
              "    </tr>\n",
              "    <tr>\n",
              "      <th>300</th>\n",
              "      <td>68</td>\n",
              "      <td>1</td>\n",
              "      <td>0</td>\n",
              "      <td>144</td>\n",
              "      <td>193</td>\n",
              "      <td>1</td>\n",
              "      <td>1</td>\n",
              "      <td>141</td>\n",
              "      <td>0</td>\n",
              "      <td>3.4</td>\n",
              "      <td>1</td>\n",
              "      <td>2</td>\n",
              "      <td>3</td>\n",
              "    </tr>\n",
              "    <tr>\n",
              "      <th>301</th>\n",
              "      <td>57</td>\n",
              "      <td>1</td>\n",
              "      <td>0</td>\n",
              "      <td>130</td>\n",
              "      <td>131</td>\n",
              "      <td>0</td>\n",
              "      <td>1</td>\n",
              "      <td>115</td>\n",
              "      <td>1</td>\n",
              "      <td>1.2</td>\n",
              "      <td>1</td>\n",
              "      <td>1</td>\n",
              "      <td>3</td>\n",
              "    </tr>\n",
              "    <tr>\n",
              "      <th>302</th>\n",
              "      <td>57</td>\n",
              "      <td>0</td>\n",
              "      <td>1</td>\n",
              "      <td>130</td>\n",
              "      <td>236</td>\n",
              "      <td>0</td>\n",
              "      <td>0</td>\n",
              "      <td>174</td>\n",
              "      <td>0</td>\n",
              "      <td>0.0</td>\n",
              "      <td>1</td>\n",
              "      <td>1</td>\n",
              "      <td>2</td>\n",
              "    </tr>\n",
              "  </tbody>\n",
              "</table>\n",
              "<p>303 rows × 13 columns</p>\n",
              "</div>\n",
              "      <button class=\"colab-df-convert\" onclick=\"convertToInteractive('df-9b0e7734-157c-4716-99bf-e280c9d9b170')\"\n",
              "              title=\"Convert this dataframe to an interactive table.\"\n",
              "              style=\"display:none;\">\n",
              "        \n",
              "  <svg xmlns=\"http://www.w3.org/2000/svg\" height=\"24px\"viewBox=\"0 0 24 24\"\n",
              "       width=\"24px\">\n",
              "    <path d=\"M0 0h24v24H0V0z\" fill=\"none\"/>\n",
              "    <path d=\"M18.56 5.44l.94 2.06.94-2.06 2.06-.94-2.06-.94-.94-2.06-.94 2.06-2.06.94zm-11 1L8.5 8.5l.94-2.06 2.06-.94-2.06-.94L8.5 2.5l-.94 2.06-2.06.94zm10 10l.94 2.06.94-2.06 2.06-.94-2.06-.94-.94-2.06-.94 2.06-2.06.94z\"/><path d=\"M17.41 7.96l-1.37-1.37c-.4-.4-.92-.59-1.43-.59-.52 0-1.04.2-1.43.59L10.3 9.45l-7.72 7.72c-.78.78-.78 2.05 0 2.83L4 21.41c.39.39.9.59 1.41.59.51 0 1.02-.2 1.41-.59l7.78-7.78 2.81-2.81c.8-.78.8-2.07 0-2.86zM5.41 20L4 18.59l7.72-7.72 1.47 1.35L5.41 20z\"/>\n",
              "  </svg>\n",
              "      </button>\n",
              "      \n",
              "  <style>\n",
              "    .colab-df-container {\n",
              "      display:flex;\n",
              "      flex-wrap:wrap;\n",
              "      gap: 12px;\n",
              "    }\n",
              "\n",
              "    .colab-df-convert {\n",
              "      background-color: #E8F0FE;\n",
              "      border: none;\n",
              "      border-radius: 50%;\n",
              "      cursor: pointer;\n",
              "      display: none;\n",
              "      fill: #1967D2;\n",
              "      height: 32px;\n",
              "      padding: 0 0 0 0;\n",
              "      width: 32px;\n",
              "    }\n",
              "\n",
              "    .colab-df-convert:hover {\n",
              "      background-color: #E2EBFA;\n",
              "      box-shadow: 0px 1px 2px rgba(60, 64, 67, 0.3), 0px 1px 3px 1px rgba(60, 64, 67, 0.15);\n",
              "      fill: #174EA6;\n",
              "    }\n",
              "\n",
              "    [theme=dark] .colab-df-convert {\n",
              "      background-color: #3B4455;\n",
              "      fill: #D2E3FC;\n",
              "    }\n",
              "\n",
              "    [theme=dark] .colab-df-convert:hover {\n",
              "      background-color: #434B5C;\n",
              "      box-shadow: 0px 1px 3px 1px rgba(0, 0, 0, 0.15);\n",
              "      filter: drop-shadow(0px 1px 2px rgba(0, 0, 0, 0.3));\n",
              "      fill: #FFFFFF;\n",
              "    }\n",
              "  </style>\n",
              "\n",
              "      <script>\n",
              "        const buttonEl =\n",
              "          document.querySelector('#df-9b0e7734-157c-4716-99bf-e280c9d9b170 button.colab-df-convert');\n",
              "        buttonEl.style.display =\n",
              "          google.colab.kernel.accessAllowed ? 'block' : 'none';\n",
              "\n",
              "        async function convertToInteractive(key) {\n",
              "          const element = document.querySelector('#df-9b0e7734-157c-4716-99bf-e280c9d9b170');\n",
              "          const dataTable =\n",
              "            await google.colab.kernel.invokeFunction('convertToInteractive',\n",
              "                                                     [key], {});\n",
              "          if (!dataTable) return;\n",
              "\n",
              "          const docLinkHtml = 'Like what you see? Visit the ' +\n",
              "            '<a target=\"_blank\" href=https://colab.research.google.com/notebooks/data_table.ipynb>data table notebook</a>'\n",
              "            + ' to learn more about interactive tables.';\n",
              "          element.innerHTML = '';\n",
              "          dataTable['output_type'] = 'display_data';\n",
              "          await google.colab.output.renderOutput(dataTable, element);\n",
              "          const docLink = document.createElement('div');\n",
              "          docLink.innerHTML = docLinkHtml;\n",
              "          element.appendChild(docLink);\n",
              "        }\n",
              "      </script>\n",
              "    </div>\n",
              "  </div>\n",
              "  "
            ]
          },
          "metadata": {},
          "execution_count": 19
        }
      ]
    },
    {
      "cell_type": "code",
      "source": [
        "df_target = pd.DataFrame(df.iloc[:, 13],columns=['target'])"
      ],
      "metadata": {
        "id": "vxZevGIScv6W"
      },
      "execution_count": 20,
      "outputs": []
    },
    {
      "cell_type": "code",
      "source": [
        "df_target.shape"
      ],
      "metadata": {
        "id": "71LyngJAiDzk",
        "colab": {
          "base_uri": "https://localhost:8080/"
        },
        "outputId": "77bc5b3d-c244-4d95-ef0b-09c92a06f6be"
      },
      "execution_count": 21,
      "outputs": [
        {
          "output_type": "execute_result",
          "data": {
            "text/plain": [
              "(303, 1)"
            ]
          },
          "metadata": {},
          "execution_count": 21
        }
      ]
    },
    {
      "cell_type": "code",
      "source": [
        "df_target"
      ],
      "metadata": {
        "id": "iBaQ7PaKcyAH",
        "colab": {
          "base_uri": "https://localhost:8080/",
          "height": 423
        },
        "outputId": "9b8186fc-f6be-4fff-95ef-e82153998f31"
      },
      "execution_count": 22,
      "outputs": [
        {
          "output_type": "execute_result",
          "data": {
            "text/plain": [
              "     target\n",
              "0         1\n",
              "1         1\n",
              "2         1\n",
              "3         1\n",
              "4         1\n",
              "..      ...\n",
              "298       0\n",
              "299       0\n",
              "300       0\n",
              "301       0\n",
              "302       0\n",
              "\n",
              "[303 rows x 1 columns]"
            ],
            "text/html": [
              "\n",
              "  <div id=\"df-83c596ce-ca85-4021-a25e-ea42822af3eb\">\n",
              "    <div class=\"colab-df-container\">\n",
              "      <div>\n",
              "<style scoped>\n",
              "    .dataframe tbody tr th:only-of-type {\n",
              "        vertical-align: middle;\n",
              "    }\n",
              "\n",
              "    .dataframe tbody tr th {\n",
              "        vertical-align: top;\n",
              "    }\n",
              "\n",
              "    .dataframe thead th {\n",
              "        text-align: right;\n",
              "    }\n",
              "</style>\n",
              "<table border=\"1\" class=\"dataframe\">\n",
              "  <thead>\n",
              "    <tr style=\"text-align: right;\">\n",
              "      <th></th>\n",
              "      <th>target</th>\n",
              "    </tr>\n",
              "  </thead>\n",
              "  <tbody>\n",
              "    <tr>\n",
              "      <th>0</th>\n",
              "      <td>1</td>\n",
              "    </tr>\n",
              "    <tr>\n",
              "      <th>1</th>\n",
              "      <td>1</td>\n",
              "    </tr>\n",
              "    <tr>\n",
              "      <th>2</th>\n",
              "      <td>1</td>\n",
              "    </tr>\n",
              "    <tr>\n",
              "      <th>3</th>\n",
              "      <td>1</td>\n",
              "    </tr>\n",
              "    <tr>\n",
              "      <th>4</th>\n",
              "      <td>1</td>\n",
              "    </tr>\n",
              "    <tr>\n",
              "      <th>...</th>\n",
              "      <td>...</td>\n",
              "    </tr>\n",
              "    <tr>\n",
              "      <th>298</th>\n",
              "      <td>0</td>\n",
              "    </tr>\n",
              "    <tr>\n",
              "      <th>299</th>\n",
              "      <td>0</td>\n",
              "    </tr>\n",
              "    <tr>\n",
              "      <th>300</th>\n",
              "      <td>0</td>\n",
              "    </tr>\n",
              "    <tr>\n",
              "      <th>301</th>\n",
              "      <td>0</td>\n",
              "    </tr>\n",
              "    <tr>\n",
              "      <th>302</th>\n",
              "      <td>0</td>\n",
              "    </tr>\n",
              "  </tbody>\n",
              "</table>\n",
              "<p>303 rows × 1 columns</p>\n",
              "</div>\n",
              "      <button class=\"colab-df-convert\" onclick=\"convertToInteractive('df-83c596ce-ca85-4021-a25e-ea42822af3eb')\"\n",
              "              title=\"Convert this dataframe to an interactive table.\"\n",
              "              style=\"display:none;\">\n",
              "        \n",
              "  <svg xmlns=\"http://www.w3.org/2000/svg\" height=\"24px\"viewBox=\"0 0 24 24\"\n",
              "       width=\"24px\">\n",
              "    <path d=\"M0 0h24v24H0V0z\" fill=\"none\"/>\n",
              "    <path d=\"M18.56 5.44l.94 2.06.94-2.06 2.06-.94-2.06-.94-.94-2.06-.94 2.06-2.06.94zm-11 1L8.5 8.5l.94-2.06 2.06-.94-2.06-.94L8.5 2.5l-.94 2.06-2.06.94zm10 10l.94 2.06.94-2.06 2.06-.94-2.06-.94-.94-2.06-.94 2.06-2.06.94z\"/><path d=\"M17.41 7.96l-1.37-1.37c-.4-.4-.92-.59-1.43-.59-.52 0-1.04.2-1.43.59L10.3 9.45l-7.72 7.72c-.78.78-.78 2.05 0 2.83L4 21.41c.39.39.9.59 1.41.59.51 0 1.02-.2 1.41-.59l7.78-7.78 2.81-2.81c.8-.78.8-2.07 0-2.86zM5.41 20L4 18.59l7.72-7.72 1.47 1.35L5.41 20z\"/>\n",
              "  </svg>\n",
              "      </button>\n",
              "      \n",
              "  <style>\n",
              "    .colab-df-container {\n",
              "      display:flex;\n",
              "      flex-wrap:wrap;\n",
              "      gap: 12px;\n",
              "    }\n",
              "\n",
              "    .colab-df-convert {\n",
              "      background-color: #E8F0FE;\n",
              "      border: none;\n",
              "      border-radius: 50%;\n",
              "      cursor: pointer;\n",
              "      display: none;\n",
              "      fill: #1967D2;\n",
              "      height: 32px;\n",
              "      padding: 0 0 0 0;\n",
              "      width: 32px;\n",
              "    }\n",
              "\n",
              "    .colab-df-convert:hover {\n",
              "      background-color: #E2EBFA;\n",
              "      box-shadow: 0px 1px 2px rgba(60, 64, 67, 0.3), 0px 1px 3px 1px rgba(60, 64, 67, 0.15);\n",
              "      fill: #174EA6;\n",
              "    }\n",
              "\n",
              "    [theme=dark] .colab-df-convert {\n",
              "      background-color: #3B4455;\n",
              "      fill: #D2E3FC;\n",
              "    }\n",
              "\n",
              "    [theme=dark] .colab-df-convert:hover {\n",
              "      background-color: #434B5C;\n",
              "      box-shadow: 0px 1px 3px 1px rgba(0, 0, 0, 0.15);\n",
              "      filter: drop-shadow(0px 1px 2px rgba(0, 0, 0, 0.3));\n",
              "      fill: #FFFFFF;\n",
              "    }\n",
              "  </style>\n",
              "\n",
              "      <script>\n",
              "        const buttonEl =\n",
              "          document.querySelector('#df-83c596ce-ca85-4021-a25e-ea42822af3eb button.colab-df-convert');\n",
              "        buttonEl.style.display =\n",
              "          google.colab.kernel.accessAllowed ? 'block' : 'none';\n",
              "\n",
              "        async function convertToInteractive(key) {\n",
              "          const element = document.querySelector('#df-83c596ce-ca85-4021-a25e-ea42822af3eb');\n",
              "          const dataTable =\n",
              "            await google.colab.kernel.invokeFunction('convertToInteractive',\n",
              "                                                     [key], {});\n",
              "          if (!dataTable) return;\n",
              "\n",
              "          const docLinkHtml = 'Like what you see? Visit the ' +\n",
              "            '<a target=\"_blank\" href=https://colab.research.google.com/notebooks/data_table.ipynb>data table notebook</a>'\n",
              "            + ' to learn more about interactive tables.';\n",
              "          element.innerHTML = '';\n",
              "          dataTable['output_type'] = 'display_data';\n",
              "          await google.colab.output.renderOutput(dataTable, element);\n",
              "          const docLink = document.createElement('div');\n",
              "          docLink.innerHTML = docLinkHtml;\n",
              "          element.appendChild(docLink);\n",
              "        }\n",
              "      </script>\n",
              "    </div>\n",
              "  </div>\n",
              "  "
            ]
          },
          "metadata": {},
          "execution_count": 22
        }
      ]
    },
    {
      "cell_type": "markdown",
      "source": [
        "Transforming the training data so it can be understood by the deep learning engine. \n",
        "\n",
        "- StandardScaler removes the mean and scales the data to unit variance.\n",
        "\n",
        "More info: \n",
        "- https://scikit-learn.org/stable/modules/generated/sklearn.preprocessing.StandardScaler.html\n",
        "- https://scikit-learn.org/stable/auto_examples/preprocessing/plot_all_scaling.html#sphx-glr-auto-examples-preprocessing-plot-all-scaling-py\n"
      ],
      "metadata": {
        "id": "cm4D5iE5iJJm"
      }
    },
    {
      "cell_type": "code",
      "source": [
        "\n",
        "from sklearn.preprocessing import StandardScaler\n",
        "\n",
        "scaler = StandardScaler()\n",
        "df_scaled_input = scaler.fit_transform(df_input)"
      ],
      "metadata": {
        "id": "QTRpE43fcMdT"
      },
      "execution_count": 23,
      "outputs": []
    },
    {
      "cell_type": "code",
      "source": [
        "df_scaled_input"
      ],
      "metadata": {
        "id": "jpRgEztXdD8g"
      },
      "execution_count": null,
      "outputs": []
    },
    {
      "cell_type": "markdown",
      "source": [
        "\n",
        "- Splitting the dataset into two sets: \n",
        "  - training set\n",
        "  - testing set. \n",
        "- Library Used:\n",
        "   - scikit-learn library has been used with function sklearn.model_selection.train_test_split() function to split the source data"
      ],
      "metadata": {
        "id": "8DxNs4UdfvFb"
      }
    },
    {
      "cell_type": "code",
      "source": [
        "from sklearn.model_selection import train_test_split\n",
        "df_input_train, df_input_test, df_target_train, df_target_test = train_test_split(df_scaled_input, df_target, test_size = 0.30, random_state = 5)\n",
        "print(\"Training data Split (Train & Test)\")\n",
        "print(df_input_train.shape)\n",
        "print(df_input_test.shape)\n",
        "\n",
        "print(\"Target data Split (Train & Test)\")\n",
        "print(df_target_train.shape)\n",
        "print(df_target_test.shape)"
      ],
      "metadata": {
        "id": "9jXIf5iybk-W",
        "colab": {
          "base_uri": "https://localhost:8080/"
        },
        "outputId": "c82169b5-0395-4150-c127-acd74412b20a"
      },
      "execution_count": 24,
      "outputs": [
        {
          "output_type": "stream",
          "name": "stdout",
          "text": [
            "Training data Split (Train & Test)\n",
            "(212, 13)\n",
            "(91, 13)\n",
            "Target data Split (Train & Test)\n",
            "(212, 1)\n",
            "(91, 1)\n"
          ]
        }
      ]
    },
    {
      "cell_type": "markdown",
      "source": [
        "**Build the Keras classifier to predict the heart disease**"
      ],
      "metadata": {
        "id": "DxmIkURlf1Qc"
      }
    },
    {
      "cell_type": "code",
      "source": [
        "from keras.models import Sequential\n",
        "from keras.layers import Dense"
      ],
      "metadata": {
        "id": "rOEjEyqqe4bp"
      },
      "execution_count": 25,
      "outputs": []
    },
    {
      "cell_type": "markdown",
      "source": [
        "**Keras Settings:**\n",
        "\n",
        "- In the first line, we se the model as Sequential. \n",
        "- All Layers\n",
        "  - Added 3 fully connected Dense layers, two hidden and one output. \n",
        "  - All layers are from Dense class.\n",
        "- First Layer (Dense(30, input_dim=13, activation='tanh'))\n",
        "  - The first input layer has inout dimension as 13 for all 13 columns.\n",
        "  - the activation function is tanh\n",
        "- Second Layer (Dense(20, activation='tanh'))\n",
        "  - It has 20 neurons and the tanh activation function. \n",
        "- Output Layer (Dense(1, activation='sigmoid'))\n",
        "  - Output layer has a single neuron (output) \n",
        "  - The sigmoid activation function is selected for binary classification problems \n",
        "  - Out target data is binay - Yes or No heart disease .\n"
      ],
      "metadata": {
        "id": "6o5_SjTre1CL"
      }
    },
    {
      "cell_type": "code",
      "source": [
        "model = Sequential()\n",
        "model.add(Dense(30, input_dim=13, activation='tanh'))\n",
        "model.add(Dense(20, activation='tanh'))\n",
        "model.add(Dense(10, activation='tanh'))\n",
        "model.add(Dense(1, activation='sigmoid'))"
      ],
      "metadata": {
        "id": "EpynGWLFbyuZ"
      },
      "execution_count": 80,
      "outputs": []
    },
    {
      "cell_type": "markdown",
      "source": [
        "**Compile and fit Step:**\n",
        "\n",
        "Compile function has 3 arguments:\n",
        "- The adam optimizer: An algorithm for first-order gradient-based optimization.\n",
        "- The binary_crossentropy loss function: logarithmic loss, which for a binary classification problem is defined in Keras as binary_crossentropy\n",
        "- The accuracy metric: to evaluate the performance of your model during training and testing\n",
        "\n",
        "Fit Function has the following parameters:\n",
        "- epochs = 100"
      ],
      "metadata": {
        "id": "Ge2c7zVKek5S"
      }
    },
    {
      "cell_type": "markdown",
      "source": [
        "**Plotting Keras Model**\n",
        "- https://keras.io/api/utils/model_plotting_utils/\n"
      ],
      "metadata": {
        "id": "ZqVTdsqOlrFR"
      }
    },
    {
      "cell_type": "code",
      "source": [
        "from keras.utils.vis_utils import plot_model"
      ],
      "metadata": {
        "id": "i0WzBLOzk89K"
      },
      "execution_count": 27,
      "outputs": []
    },
    {
      "cell_type": "code",
      "source": [
        "plot_model(model, to_file='model_plot.png', show_shapes=True, show_layer_names=True)"
      ],
      "metadata": {
        "id": "M3PyZJ5NlWg6",
        "colab": {
          "base_uri": "https://localhost:8080/",
          "height": 533
        },
        "outputId": "78953bef-d92e-43ac-ca41-56c59e61cfdd"
      },
      "execution_count": 81,
      "outputs": [
        {
          "output_type": "execute_result",
          "data": {
            "text/plain": [
              "<IPython.core.display.Image object>"
            ],
            "image/png": "[encoded data removed]"
          },
          "metadata": {},
          "execution_count": 81
        }
      ]
    },
    {
      "cell_type": "code",
      "source": [
        "params = {\"lr\": 0.001, \"momentum\": 0.5, \"epochs\": 250, \"batch_size\": 364}\n",
        "neptune_run[\"parameters\"] = params"
      ],
      "metadata": {
        "id": "4jqa0RTQWLk8"
      },
      "execution_count": 82,
      "outputs": []
    },
    {
      "cell_type": "code",
      "source": [
        "import tensorflow as tf"
      ],
      "metadata": {
        "id": "4hnZivWdWrFK"
      },
      "execution_count": 31,
      "outputs": []
    },
    {
      "cell_type": "code",
      "source": [
        "optimizer = tf.keras.optimizers.Adam(\n",
        "    learning_rate=params[\"lr\"],\n",
        ")"
      ],
      "metadata": {
        "id": "ruRxyH1rWc1M"
      },
      "execution_count": 32,
      "outputs": []
    },
    {
      "cell_type": "code",
      "source": [
        "neptune_cbk = NeptuneCallback(run=neptune_run, base_namespace=\"training\")"
      ],
      "metadata": {
        "id": "SbqNgmdnY36o"
      },
      "execution_count": 83,
      "outputs": []
    },
    {
      "cell_type": "code",
      "source": [
        "for epoch in range(10):\n",
        "    neptune_run[\"train/loss\"].log(0.9 ** epoch)\n",
        "\n",
        "neptune_run[\"eval/f1_score\"] = 0.66"
      ],
      "metadata": {
        "id": "Ak6jZOngToU3"
      },
      "execution_count": 84,
      "outputs": []
    },
    {
      "cell_type": "code",
      "source": [
        "model.compile(\n",
        "    optimizer=optimizer, loss=\"binary_crossentropy\", metrics=[\"accuracy\"]\n",
        ")\n"
      ],
      "metadata": {
        "id": "G27gnW4sd7pF"
      },
      "execution_count": 85,
      "outputs": []
    },
    {
      "cell_type": "code",
      "source": [
        "history = model.fit(df_input_train, df_target_train, \n",
        "                    epochs=params['epochs'], \n",
        "                    batch_size=params[\"batch_size\"],\n",
        "                    callbacks=[neptune_cbk],\n",
        "                    verbose=1)"
      ],
      "metadata": {
        "id": "0Qqj2Kw6X5_6",
        "colab": {
          "base_uri": "https://localhost:8080/"
        },
        "outputId": "8c97b090-9765-4a96-ea6e-2c3c6882ee24"
      },
      "execution_count": 86,
      "outputs": [
        {
          "output_type": "stream",
          "name": "stdout",
          "text": [
            "Epoch 1/250\n",
            "1/1 [==============================] - 1s 643ms/step - loss: 0.6209 - accuracy: 0.6887\n",
            "Epoch 2/250\n",
            "1/1 [==============================] - 0s 17ms/step - loss: 0.5927 - accuracy: 0.7075\n",
            "Epoch 3/250\n",
            "1/1 [==============================] - 0s 23ms/step - loss: 0.5609 - accuracy: 0.7217\n",
            "Epoch 4/250\n",
            "1/1 [==============================] - 0s 20ms/step - loss: 0.5316 - accuracy: 0.7500\n",
            "Epoch 5/250\n",
            "1/1 [==============================] - 0s 18ms/step - loss: 0.5068 - accuracy: 0.7547\n",
            "Epoch 6/250\n",
            "1/1 [==============================] - 0s 18ms/step - loss: 0.4860 - accuracy: 0.7547\n",
            "Epoch 7/250\n",
            "1/1 [==============================] - 0s 21ms/step - loss: 0.4680 - accuracy: 0.7642\n",
            "Epoch 8/250\n",
            "1/1 [==============================] - 0s 18ms/step - loss: 0.4516 - accuracy: 0.7689\n",
            "Epoch 9/250\n",
            "1/1 [==============================] - 0s 25ms/step - loss: 0.4362 - accuracy: 0.7783\n",
            "Epoch 10/250\n",
            "1/1 [==============================] - 0s 19ms/step - loss: 0.4219 - accuracy: 0.7925\n",
            "Epoch 11/250\n",
            "1/1 [==============================] - 0s 15ms/step - loss: 0.4093 - accuracy: 0.7972\n",
            "Epoch 12/250\n",
            "1/1 [==============================] - 0s 16ms/step - loss: 0.3988 - accuracy: 0.8019\n",
            "Epoch 13/250\n",
            "1/1 [==============================] - 0s 16ms/step - loss: 0.3905 - accuracy: 0.8160\n",
            "Epoch 14/250\n",
            "1/1 [==============================] - 0s 19ms/step - loss: 0.3838 - accuracy: 0.8443\n",
            "Epoch 15/250\n",
            "1/1 [==============================] - 0s 21ms/step - loss: 0.3778 - accuracy: 0.8491\n",
            "Epoch 16/250\n",
            "1/1 [==============================] - 0s 14ms/step - loss: 0.3720 - accuracy: 0.8538\n",
            "Epoch 17/250\n",
            "1/1 [==============================] - 0s 18ms/step - loss: 0.3663 - accuracy: 0.8632\n",
            "Epoch 18/250\n",
            "1/1 [==============================] - 0s 18ms/step - loss: 0.3608 - accuracy: 0.8538\n",
            "Epoch 19/250\n",
            "1/1 [==============================] - 0s 19ms/step - loss: 0.3554 - accuracy: 0.8491\n",
            "Epoch 20/250\n",
            "1/1 [==============================] - 0s 22ms/step - loss: 0.3501 - accuracy: 0.8396\n",
            "Epoch 21/250\n",
            "1/1 [==============================] - 0s 15ms/step - loss: 0.3447 - accuracy: 0.8396\n",
            "Epoch 22/250\n",
            "1/1 [==============================] - 0s 22ms/step - loss: 0.3393 - accuracy: 0.8491\n",
            "Epoch 23/250\n",
            "1/1 [==============================] - 0s 20ms/step - loss: 0.3339 - accuracy: 0.8538\n",
            "Epoch 24/250\n",
            "1/1 [==============================] - 0s 15ms/step - loss: 0.3287 - accuracy: 0.8632\n",
            "Epoch 25/250\n",
            "1/1 [==============================] - 0s 19ms/step - loss: 0.3238 - accuracy: 0.8726\n",
            "Epoch 26/250\n",
            "1/1 [==============================] - 0s 19ms/step - loss: 0.3190 - accuracy: 0.8585\n",
            "Epoch 27/250\n",
            "1/1 [==============================] - 0s 14ms/step - loss: 0.3143 - accuracy: 0.8679\n",
            "Epoch 28/250\n",
            "1/1 [==============================] - 0s 21ms/step - loss: 0.3095 - accuracy: 0.8679\n",
            "Epoch 29/250\n",
            "1/1 [==============================] - 0s 15ms/step - loss: 0.3044 - accuracy: 0.8679\n",
            "Epoch 30/250\n",
            "1/1 [==============================] - 0s 19ms/step - loss: 0.2992 - accuracy: 0.8774\n",
            "Epoch 31/250\n",
            "1/1 [==============================] - 0s 16ms/step - loss: 0.2941 - accuracy: 0.8774\n",
            "Epoch 32/250\n",
            "1/1 [==============================] - 0s 18ms/step - loss: 0.2889 - accuracy: 0.8774\n",
            "Epoch 33/250\n",
            "1/1 [==============================] - 0s 17ms/step - loss: 0.2839 - accuracy: 0.8821\n",
            "Epoch 34/250\n",
            "1/1 [==============================] - 0s 17ms/step - loss: 0.2788 - accuracy: 0.8774\n",
            "Epoch 35/250\n",
            "1/1 [==============================] - 0s 15ms/step - loss: 0.2736 - accuracy: 0.8821\n",
            "Epoch 36/250\n",
            "1/1 [==============================] - 0s 15ms/step - loss: 0.2683 - accuracy: 0.8915\n",
            "Epoch 37/250\n",
            "1/1 [==============================] - 0s 17ms/step - loss: 0.2631 - accuracy: 0.8915\n",
            "Epoch 38/250\n",
            "1/1 [==============================] - 0s 13ms/step - loss: 0.2579 - accuracy: 0.8962\n",
            "Epoch 39/250\n",
            "1/1 [==============================] - 0s 13ms/step - loss: 0.2528 - accuracy: 0.9009\n",
            "Epoch 40/250\n",
            "1/1 [==============================] - 0s 13ms/step - loss: 0.2478 - accuracy: 0.9057\n",
            "Epoch 41/250\n",
            "1/1 [==============================] - 0s 14ms/step - loss: 0.2429 - accuracy: 0.9057\n",
            "Epoch 42/250\n",
            "1/1 [==============================] - 0s 14ms/step - loss: 0.2380 - accuracy: 0.9057\n",
            "Epoch 43/250\n",
            "1/1 [==============================] - 0s 14ms/step - loss: 0.2331 - accuracy: 0.9151\n",
            "Epoch 44/250\n",
            "1/1 [==============================] - 0s 15ms/step - loss: 0.2282 - accuracy: 0.9151\n",
            "Epoch 45/250\n",
            "1/1 [==============================] - 0s 15ms/step - loss: 0.2234 - accuracy: 0.9245\n",
            "Epoch 46/250\n",
            "1/1 [==============================] - 0s 14ms/step - loss: 0.2185 - accuracy: 0.9245\n",
            "Epoch 47/250\n",
            "1/1 [==============================] - 0s 17ms/step - loss: 0.2136 - accuracy: 0.9245\n",
            "Epoch 48/250\n",
            "1/1 [==============================] - 0s 15ms/step - loss: 0.2087 - accuracy: 0.9245\n",
            "Epoch 49/250\n",
            "1/1 [==============================] - 0s 15ms/step - loss: 0.2039 - accuracy: 0.9292\n",
            "Epoch 50/250\n",
            "1/1 [==============================] - 0s 15ms/step - loss: 0.1990 - accuracy: 0.9292\n",
            "Epoch 51/250\n",
            "1/1 [==============================] - 0s 16ms/step - loss: 0.1942 - accuracy: 0.9292\n",
            "Epoch 52/250\n",
            "1/1 [==============================] - 0s 17ms/step - loss: 0.1893 - accuracy: 0.9340\n",
            "Epoch 53/250\n",
            "1/1 [==============================] - 0s 15ms/step - loss: 0.1845 - accuracy: 0.9340\n",
            "Epoch 54/250\n",
            "1/1 [==============================] - 0s 15ms/step - loss: 0.1796 - accuracy: 0.9434\n",
            "Epoch 55/250\n",
            "1/1 [==============================] - 0s 14ms/step - loss: 0.1749 - accuracy: 0.9481\n",
            "Epoch 56/250\n",
            "1/1 [==============================] - 0s 14ms/step - loss: 0.1702 - accuracy: 0.9481\n",
            "Epoch 57/250\n",
            "1/1 [==============================] - 0s 15ms/step - loss: 0.1656 - accuracy: 0.9528\n",
            "Epoch 58/250\n",
            "1/1 [==============================] - 0s 16ms/step - loss: 0.1610 - accuracy: 0.9575\n",
            "Epoch 59/250\n",
            "1/1 [==============================] - 0s 15ms/step - loss: 0.1565 - accuracy: 0.9575\n",
            "Epoch 60/250\n",
            "1/1 [==============================] - 0s 13ms/step - loss: 0.1521 - accuracy: 0.9575\n",
            "Epoch 61/250\n",
            "1/1 [==============================] - 0s 14ms/step - loss: 0.1477 - accuracy: 0.9575\n",
            "Epoch 62/250\n",
            "1/1 [==============================] - 0s 14ms/step - loss: 0.1434 - accuracy: 0.9623\n",
            "Epoch 63/250\n",
            "1/1 [==============================] - 0s 15ms/step - loss: 0.1391 - accuracy: 0.9670\n",
            "Epoch 64/250\n",
            "1/1 [==============================] - 0s 19ms/step - loss: 0.1349 - accuracy: 0.9717\n",
            "Epoch 65/250\n",
            "1/1 [==============================] - 0s 17ms/step - loss: 0.1308 - accuracy: 0.9717\n",
            "Epoch 66/250\n",
            "1/1 [==============================] - 0s 15ms/step - loss: 0.1267 - accuracy: 0.9764\n",
            "Epoch 67/250\n",
            "1/1 [==============================] - 0s 17ms/step - loss: 0.1227 - accuracy: 0.9764\n",
            "Epoch 68/250\n",
            "1/1 [==============================] - 0s 15ms/step - loss: 0.1188 - accuracy: 0.9858\n",
            "Epoch 69/250\n",
            "1/1 [==============================] - 0s 19ms/step - loss: 0.1149 - accuracy: 0.9858\n",
            "Epoch 70/250\n",
            "1/1 [==============================] - 0s 15ms/step - loss: 0.1111 - accuracy: 0.9858\n",
            "Epoch 71/250\n",
            "1/1 [==============================] - 0s 15ms/step - loss: 0.1074 - accuracy: 0.9858\n",
            "Epoch 72/250\n",
            "1/1 [==============================] - 0s 37ms/step - loss: 0.1038 - accuracy: 0.9858\n",
            "Epoch 73/250\n",
            "1/1 [==============================] - 0s 20ms/step - loss: 0.1003 - accuracy: 0.9858\n",
            "Epoch 74/250\n",
            "1/1 [==============================] - 0s 19ms/step - loss: 0.0968 - accuracy: 0.9858\n",
            "Epoch 75/250\n",
            "1/1 [==============================] - 0s 21ms/step - loss: 0.0934 - accuracy: 0.9858\n",
            "Epoch 76/250\n",
            "1/1 [==============================] - 0s 16ms/step - loss: 0.0901 - accuracy: 0.9858\n",
            "Epoch 77/250\n",
            "1/1 [==============================] - 0s 20ms/step - loss: 0.0868 - accuracy: 0.9858\n",
            "Epoch 78/250\n",
            "1/1 [==============================] - 0s 16ms/step - loss: 0.0836 - accuracy: 0.9858\n",
            "Epoch 79/250\n",
            "1/1 [==============================] - 0s 15ms/step - loss: 0.0805 - accuracy: 0.9858\n",
            "Epoch 80/250\n",
            "1/1 [==============================] - 0s 15ms/step - loss: 0.0775 - accuracy: 0.9858\n",
            "Epoch 81/250\n",
            "1/1 [==============================] - 0s 16ms/step - loss: 0.0745 - accuracy: 0.9858\n",
            "Epoch 82/250\n",
            "1/1 [==============================] - 0s 14ms/step - loss: 0.0716 - accuracy: 0.9858\n",
            "Epoch 83/250\n",
            "1/1 [==============================] - 0s 13ms/step - loss: 0.0688 - accuracy: 0.9858\n",
            "Epoch 84/250\n",
            "1/1 [==============================] - 0s 15ms/step - loss: 0.0661 - accuracy: 0.9858\n",
            "Epoch 85/250\n",
            "1/1 [==============================] - 0s 16ms/step - loss: 0.0635 - accuracy: 0.9858\n",
            "Epoch 86/250\n",
            "1/1 [==============================] - 0s 19ms/step - loss: 0.0610 - accuracy: 0.9906\n",
            "Epoch 87/250\n",
            "1/1 [==============================] - 0s 17ms/step - loss: 0.0585 - accuracy: 0.9906\n",
            "Epoch 88/250\n",
            "1/1 [==============================] - 0s 15ms/step - loss: 0.0562 - accuracy: 0.9906\n",
            "Epoch 89/250\n",
            "1/1 [==============================] - 0s 14ms/step - loss: 0.0539 - accuracy: 0.9906\n",
            "Epoch 90/250\n",
            "1/1 [==============================] - 0s 15ms/step - loss: 0.0518 - accuracy: 0.9906\n",
            "Epoch 91/250\n",
            "1/1 [==============================] - 0s 16ms/step - loss: 0.0497 - accuracy: 0.9906\n",
            "Epoch 92/250\n",
            "1/1 [==============================] - 0s 15ms/step - loss: 0.0477 - accuracy: 0.9906\n",
            "Epoch 93/250\n",
            "1/1 [==============================] - 0s 21ms/step - loss: 0.0458 - accuracy: 0.9906\n",
            "Epoch 94/250\n",
            "1/1 [==============================] - 0s 18ms/step - loss: 0.0440 - accuracy: 0.9906\n",
            "Epoch 95/250\n",
            "1/1 [==============================] - 0s 16ms/step - loss: 0.0422 - accuracy: 0.9906\n",
            "Epoch 96/250\n",
            "1/1 [==============================] - 0s 17ms/step - loss: 0.0405 - accuracy: 0.9906\n",
            "Epoch 97/250\n",
            "1/1 [==============================] - 0s 16ms/step - loss: 0.0389 - accuracy: 0.9906\n",
            "Epoch 98/250\n",
            "1/1 [==============================] - 0s 19ms/step - loss: 0.0374 - accuracy: 0.9906\n",
            "Epoch 99/250\n",
            "1/1 [==============================] - 0s 17ms/step - loss: 0.0360 - accuracy: 0.9906\n",
            "Epoch 100/250\n",
            "1/1 [==============================] - 0s 21ms/step - loss: 0.0346 - accuracy: 0.9953\n",
            "Epoch 101/250\n",
            "1/1 [==============================] - 0s 17ms/step - loss: 0.0333 - accuracy: 0.9953\n",
            "Epoch 102/250\n",
            "1/1 [==============================] - 0s 16ms/step - loss: 0.0320 - accuracy: 0.9953\n",
            "Epoch 103/250\n",
            "1/1 [==============================] - 0s 18ms/step - loss: 0.0308 - accuracy: 1.0000\n",
            "Epoch 104/250\n",
            "1/1 [==============================] - 0s 16ms/step - loss: 0.0297 - accuracy: 1.0000\n",
            "Epoch 105/250\n",
            "1/1 [==============================] - 0s 15ms/step - loss: 0.0286 - accuracy: 1.0000\n",
            "Epoch 106/250\n",
            "1/1 [==============================] - 0s 21ms/step - loss: 0.0276 - accuracy: 1.0000\n",
            "Epoch 107/250\n",
            "1/1 [==============================] - 0s 16ms/step - loss: 0.0266 - accuracy: 1.0000\n",
            "Epoch 108/250\n",
            "1/1 [==============================] - 0s 32ms/step - loss: 0.0257 - accuracy: 1.0000\n",
            "Epoch 109/250\n",
            "1/1 [==============================] - 0s 18ms/step - loss: 0.0248 - accuracy: 1.0000\n",
            "Epoch 110/250\n",
            "1/1 [==============================] - 0s 18ms/step - loss: 0.0239 - accuracy: 1.0000\n",
            "Epoch 111/250\n",
            "1/1 [==============================] - 0s 13ms/step - loss: 0.0231 - accuracy: 1.0000\n",
            "Epoch 112/250\n",
            "1/1 [==============================] - 0s 13ms/step - loss: 0.0223 - accuracy: 1.0000\n",
            "Epoch 113/250\n",
            "1/1 [==============================] - 0s 13ms/step - loss: 0.0216 - accuracy: 1.0000\n",
            "Epoch 114/250\n",
            "1/1 [==============================] - 0s 17ms/step - loss: 0.0209 - accuracy: 1.0000\n",
            "Epoch 115/250\n",
            "1/1 [==============================] - 0s 13ms/step - loss: 0.0202 - accuracy: 1.0000\n",
            "Epoch 116/250\n",
            "1/1 [==============================] - 0s 15ms/step - loss: 0.0196 - accuracy: 1.0000\n",
            "Epoch 117/250\n",
            "1/1 [==============================] - 0s 17ms/step - loss: 0.0189 - accuracy: 1.0000\n",
            "Epoch 118/250\n",
            "1/1 [==============================] - 0s 18ms/step - loss: 0.0183 - accuracy: 1.0000\n",
            "Epoch 119/250\n",
            "1/1 [==============================] - 0s 18ms/step - loss: 0.0178 - accuracy: 1.0000\n",
            "Epoch 120/250\n",
            "1/1 [==============================] - 0s 21ms/step - loss: 0.0172 - accuracy: 1.0000\n",
            "Epoch 121/250\n",
            "1/1 [==============================] - 0s 26ms/step - loss: 0.0167 - accuracy: 1.0000\n",
            "Epoch 122/250\n",
            "1/1 [==============================] - 0s 18ms/step - loss: 0.0162 - accuracy: 1.0000\n",
            "Epoch 123/250\n",
            "1/1 [==============================] - 0s 16ms/step - loss: 0.0157 - accuracy: 1.0000\n",
            "Epoch 124/250\n",
            "1/1 [==============================] - 0s 17ms/step - loss: 0.0153 - accuracy: 1.0000\n",
            "Epoch 125/250\n",
            "1/1 [==============================] - 0s 15ms/step - loss: 0.0148 - accuracy: 1.0000\n",
            "Epoch 126/250\n",
            "1/1 [==============================] - 0s 15ms/step - loss: 0.0144 - accuracy: 1.0000\n",
            "Epoch 127/250\n",
            "1/1 [==============================] - 0s 16ms/step - loss: 0.0140 - accuracy: 1.0000\n",
            "Epoch 128/250\n",
            "1/1 [==============================] - 0s 16ms/step - loss: 0.0136 - accuracy: 1.0000\n",
            "Epoch 129/250\n",
            "1/1 [==============================] - 0s 16ms/step - loss: 0.0132 - accuracy: 1.0000\n",
            "Epoch 130/250\n",
            "1/1 [==============================] - 0s 17ms/step - loss: 0.0129 - accuracy: 1.0000\n",
            "Epoch 131/250\n",
            "1/1 [==============================] - 0s 21ms/step - loss: 0.0125 - accuracy: 1.0000\n",
            "Epoch 132/250\n",
            "1/1 [==============================] - 0s 18ms/step - loss: 0.0122 - accuracy: 1.0000\n",
            "Epoch 133/250\n",
            "1/1 [==============================] - 0s 14ms/step - loss: 0.0119 - accuracy: 1.0000\n",
            "Epoch 134/250\n",
            "1/1 [==============================] - 0s 13ms/step - loss: 0.0116 - accuracy: 1.0000\n",
            "Epoch 135/250\n",
            "1/1 [==============================] - 0s 34ms/step - loss: 0.0113 - accuracy: 1.0000\n",
            "Epoch 136/250\n",
            "1/1 [==============================] - 0s 15ms/step - loss: 0.0110 - accuracy: 1.0000\n",
            "Epoch 137/250\n",
            "1/1 [==============================] - 0s 17ms/step - loss: 0.0107 - accuracy: 1.0000\n",
            "Epoch 138/250\n",
            "1/1 [==============================] - 0s 20ms/step - loss: 0.0105 - accuracy: 1.0000\n",
            "Epoch 139/250\n",
            "1/1 [==============================] - 0s 18ms/step - loss: 0.0102 - accuracy: 1.0000\n",
            "Epoch 140/250\n",
            "1/1 [==============================] - 0s 16ms/step - loss: 0.0100 - accuracy: 1.0000\n",
            "Epoch 141/250\n",
            "1/1 [==============================] - 0s 14ms/step - loss: 0.0098 - accuracy: 1.0000\n",
            "Epoch 142/250\n",
            "1/1 [==============================] - 0s 16ms/step - loss: 0.0095 - accuracy: 1.0000\n",
            "Epoch 143/250\n",
            "1/1 [==============================] - 0s 13ms/step - loss: 0.0093 - accuracy: 1.0000\n",
            "Epoch 144/250\n",
            "1/1 [==============================] - 0s 12ms/step - loss: 0.0091 - accuracy: 1.0000\n",
            "Epoch 145/250\n",
            "1/1 [==============================] - 0s 13ms/step - loss: 0.0089 - accuracy: 1.0000\n",
            "Epoch 146/250\n",
            "1/1 [==============================] - 0s 15ms/step - loss: 0.0087 - accuracy: 1.0000\n",
            "Epoch 147/250\n",
            "1/1 [==============================] - 0s 23ms/step - loss: 0.0086 - accuracy: 1.0000\n",
            "Epoch 148/250\n",
            "1/1 [==============================] - 0s 21ms/step - loss: 0.0084 - accuracy: 1.0000\n",
            "Epoch 149/250\n",
            "1/1 [==============================] - 0s 18ms/step - loss: 0.0082 - accuracy: 1.0000\n",
            "Epoch 150/250\n",
            "1/1 [==============================] - 0s 15ms/step - loss: 0.0080 - accuracy: 1.0000\n",
            "Epoch 151/250\n",
            "1/1 [==============================] - 0s 20ms/step - loss: 0.0079 - accuracy: 1.0000\n",
            "Epoch 152/250\n",
            "1/1 [==============================] - 0s 15ms/step - loss: 0.0077 - accuracy: 1.0000\n",
            "Epoch 153/250\n",
            "1/1 [==============================] - 0s 16ms/step - loss: 0.0076 - accuracy: 1.0000\n",
            "Epoch 154/250\n",
            "1/1 [==============================] - 0s 16ms/step - loss: 0.0074 - accuracy: 1.0000\n",
            "Epoch 155/250\n",
            "1/1 [==============================] - 0s 16ms/step - loss: 0.0073 - accuracy: 1.0000\n",
            "Epoch 156/250\n",
            "1/1 [==============================] - 0s 30ms/step - loss: 0.0072 - accuracy: 1.0000\n",
            "Epoch 157/250\n",
            "1/1 [==============================] - 0s 24ms/step - loss: 0.0070 - accuracy: 1.0000\n",
            "Epoch 158/250\n",
            "1/1 [==============================] - 0s 15ms/step - loss: 0.0069 - accuracy: 1.0000\n",
            "Epoch 159/250\n",
            "1/1 [==============================] - 0s 16ms/step - loss: 0.0068 - accuracy: 1.0000\n",
            "Epoch 160/250\n",
            "1/1 [==============================] - 0s 21ms/step - loss: 0.0067 - accuracy: 1.0000\n",
            "Epoch 161/250\n",
            "1/1 [==============================] - 0s 18ms/step - loss: 0.0066 - accuracy: 1.0000\n",
            "Epoch 162/250\n",
            "1/1 [==============================] - 0s 13ms/step - loss: 0.0064 - accuracy: 1.0000\n",
            "Epoch 163/250\n",
            "1/1 [==============================] - 0s 15ms/step - loss: 0.0063 - accuracy: 1.0000\n",
            "Epoch 164/250\n",
            "1/1 [==============================] - 0s 14ms/step - loss: 0.0062 - accuracy: 1.0000\n",
            "Epoch 165/250\n",
            "1/1 [==============================] - 0s 15ms/step - loss: 0.0061 - accuracy: 1.0000\n",
            "Epoch 166/250\n",
            "1/1 [==============================] - 0s 15ms/step - loss: 0.0060 - accuracy: 1.0000\n",
            "Epoch 167/250\n",
            "1/1 [==============================] - 0s 15ms/step - loss: 0.0059 - accuracy: 1.0000\n",
            "Epoch 168/250\n",
            "1/1 [==============================] - 0s 17ms/step - loss: 0.0058 - accuracy: 1.0000\n",
            "Epoch 169/250\n",
            "1/1 [==============================] - 0s 19ms/step - loss: 0.0058 - accuracy: 1.0000\n",
            "Epoch 170/250\n",
            "1/1 [==============================] - 0s 22ms/step - loss: 0.0057 - accuracy: 1.0000\n",
            "Epoch 171/250\n",
            "1/1 [==============================] - 0s 16ms/step - loss: 0.0056 - accuracy: 1.0000\n",
            "Epoch 172/250\n",
            "1/1 [==============================] - 0s 21ms/step - loss: 0.0055 - accuracy: 1.0000\n",
            "Epoch 173/250\n",
            "1/1 [==============================] - 0s 16ms/step - loss: 0.0054 - accuracy: 1.0000\n",
            "Epoch 174/250\n",
            "1/1 [==============================] - 0s 22ms/step - loss: 0.0053 - accuracy: 1.0000\n",
            "Epoch 175/250\n",
            "1/1 [==============================] - 0s 15ms/step - loss: 0.0053 - accuracy: 1.0000\n",
            "Epoch 176/250\n",
            "1/1 [==============================] - 0s 19ms/step - loss: 0.0052 - accuracy: 1.0000\n",
            "Epoch 177/250\n",
            "1/1 [==============================] - 0s 19ms/step - loss: 0.0051 - accuracy: 1.0000\n",
            "Epoch 178/250\n",
            "1/1 [==============================] - 0s 18ms/step - loss: 0.0050 - accuracy: 1.0000\n",
            "Epoch 179/250\n",
            "1/1 [==============================] - 0s 14ms/step - loss: 0.0050 - accuracy: 1.0000\n",
            "Epoch 180/250\n",
            "1/1 [==============================] - 0s 14ms/step - loss: 0.0049 - accuracy: 1.0000\n",
            "Epoch 181/250\n",
            "1/1 [==============================] - 0s 17ms/step - loss: 0.0048 - accuracy: 1.0000\n",
            "Epoch 182/250\n",
            "1/1 [==============================] - 0s 18ms/step - loss: 0.0048 - accuracy: 1.0000\n",
            "Epoch 183/250\n",
            "1/1 [==============================] - 0s 15ms/step - loss: 0.0047 - accuracy: 1.0000\n",
            "Epoch 184/250\n",
            "1/1 [==============================] - 0s 15ms/step - loss: 0.0047 - accuracy: 1.0000\n",
            "Epoch 185/250\n",
            "1/1 [==============================] - 0s 13ms/step - loss: 0.0046 - accuracy: 1.0000\n",
            "Epoch 186/250\n",
            "1/1 [==============================] - 0s 16ms/step - loss: 0.0045 - accuracy: 1.0000\n",
            "Epoch 187/250\n",
            "1/1 [==============================] - 0s 23ms/step - loss: 0.0045 - accuracy: 1.0000\n",
            "Epoch 188/250\n",
            "1/1 [==============================] - 0s 18ms/step - loss: 0.0044 - accuracy: 1.0000\n",
            "Epoch 189/250\n",
            "1/1 [==============================] - 0s 12ms/step - loss: 0.0044 - accuracy: 1.0000\n",
            "Epoch 190/250\n",
            "1/1 [==============================] - 0s 12ms/step - loss: 0.0043 - accuracy: 1.0000\n",
            "Epoch 191/250\n",
            "1/1 [==============================] - 0s 12ms/step - loss: 0.0043 - accuracy: 1.0000\n",
            "Epoch 192/250\n",
            "1/1 [==============================] - 0s 25ms/step - loss: 0.0042 - accuracy: 1.0000\n",
            "Epoch 193/250\n",
            "1/1 [==============================] - 0s 14ms/step - loss: 0.0042 - accuracy: 1.0000\n",
            "Epoch 194/250\n",
            "1/1 [==============================] - 0s 13ms/step - loss: 0.0041 - accuracy: 1.0000\n",
            "Epoch 195/250\n",
            "1/1 [==============================] - 0s 13ms/step - loss: 0.0041 - accuracy: 1.0000\n",
            "Epoch 196/250\n",
            "1/1 [==============================] - 0s 16ms/step - loss: 0.0040 - accuracy: 1.0000\n",
            "Epoch 197/250\n",
            "1/1 [==============================] - 0s 12ms/step - loss: 0.0040 - accuracy: 1.0000\n",
            "Epoch 198/250\n",
            "1/1 [==============================] - 0s 17ms/step - loss: 0.0039 - accuracy: 1.0000\n",
            "Epoch 199/250\n",
            "1/1 [==============================] - 0s 16ms/step - loss: 0.0039 - accuracy: 1.0000\n",
            "Epoch 200/250\n",
            "1/1 [==============================] - 0s 13ms/step - loss: 0.0039 - accuracy: 1.0000\n",
            "Epoch 201/250\n",
            "1/1 [==============================] - 0s 13ms/step - loss: 0.0038 - accuracy: 1.0000\n",
            "Epoch 202/250\n",
            "1/1 [==============================] - 0s 13ms/step - loss: 0.0038 - accuracy: 1.0000\n",
            "Epoch 203/250\n",
            "1/1 [==============================] - 0s 14ms/step - loss: 0.0037 - accuracy: 1.0000\n",
            "Epoch 204/250\n",
            "1/1 [==============================] - 0s 14ms/step - loss: 0.0037 - accuracy: 1.0000\n",
            "Epoch 205/250\n",
            "1/1 [==============================] - 0s 17ms/step - loss: 0.0037 - accuracy: 1.0000\n",
            "Epoch 206/250\n",
            "1/1 [==============================] - 0s 22ms/step - loss: 0.0036 - accuracy: 1.0000\n",
            "Epoch 207/250\n",
            "1/1 [==============================] - 0s 17ms/step - loss: 0.0036 - accuracy: 1.0000\n",
            "Epoch 208/250\n",
            "1/1 [==============================] - 0s 12ms/step - loss: 0.0035 - accuracy: 1.0000\n",
            "Epoch 209/250\n",
            "1/1 [==============================] - 0s 17ms/step - loss: 0.0035 - accuracy: 1.0000\n",
            "Epoch 210/250\n",
            "1/1 [==============================] - 0s 14ms/step - loss: 0.0035 - accuracy: 1.0000\n",
            "Epoch 211/250\n",
            "1/1 [==============================] - 0s 14ms/step - loss: 0.0034 - accuracy: 1.0000\n",
            "Epoch 212/250\n",
            "1/1 [==============================] - 0s 14ms/step - loss: 0.0034 - accuracy: 1.0000\n",
            "Epoch 213/250\n",
            "1/1 [==============================] - 0s 17ms/step - loss: 0.0034 - accuracy: 1.0000\n",
            "Epoch 214/250\n",
            "1/1 [==============================] - 0s 22ms/step - loss: 0.0033 - accuracy: 1.0000\n",
            "Epoch 215/250\n",
            "1/1 [==============================] - 0s 16ms/step - loss: 0.0033 - accuracy: 1.0000\n",
            "Epoch 216/250\n",
            "1/1 [==============================] - 0s 22ms/step - loss: 0.0033 - accuracy: 1.0000\n",
            "Epoch 217/250\n",
            "1/1 [==============================] - 0s 17ms/step - loss: 0.0032 - accuracy: 1.0000\n",
            "Epoch 218/250\n",
            "1/1 [==============================] - 0s 17ms/step - loss: 0.0032 - accuracy: 1.0000\n",
            "Epoch 219/250\n",
            "1/1 [==============================] - 0s 16ms/step - loss: 0.0032 - accuracy: 1.0000\n",
            "Epoch 220/250\n",
            "1/1 [==============================] - 0s 14ms/step - loss: 0.0031 - accuracy: 1.0000\n",
            "Epoch 221/250\n",
            "1/1 [==============================] - 0s 13ms/step - loss: 0.0031 - accuracy: 1.0000\n",
            "Epoch 222/250\n",
            "1/1 [==============================] - 0s 15ms/step - loss: 0.0031 - accuracy: 1.0000\n",
            "Epoch 223/250\n",
            "1/1 [==============================] - 0s 16ms/step - loss: 0.0031 - accuracy: 1.0000\n",
            "Epoch 224/250\n",
            "1/1 [==============================] - 0s 15ms/step - loss: 0.0030 - accuracy: 1.0000\n",
            "Epoch 225/250\n",
            "1/1 [==============================] - 0s 14ms/step - loss: 0.0030 - accuracy: 1.0000\n",
            "Epoch 226/250\n",
            "1/1 [==============================] - 0s 17ms/step - loss: 0.0030 - accuracy: 1.0000\n",
            "Epoch 227/250\n",
            "1/1 [==============================] - 0s 14ms/step - loss: 0.0030 - accuracy: 1.0000\n",
            "Epoch 228/250\n",
            "1/1 [==============================] - 0s 14ms/step - loss: 0.0029 - accuracy: 1.0000\n",
            "Epoch 229/250\n",
            "1/1 [==============================] - 0s 14ms/step - loss: 0.0029 - accuracy: 1.0000\n",
            "Epoch 230/250\n",
            "1/1 [==============================] - 0s 14ms/step - loss: 0.0029 - accuracy: 1.0000\n",
            "Epoch 231/250\n",
            "1/1 [==============================] - 0s 15ms/step - loss: 0.0028 - accuracy: 1.0000\n",
            "Epoch 232/250\n",
            "1/1 [==============================] - 0s 16ms/step - loss: 0.0028 - accuracy: 1.0000\n",
            "Epoch 233/250\n",
            "1/1 [==============================] - 0s 14ms/step - loss: 0.0028 - accuracy: 1.0000\n",
            "Epoch 234/250\n",
            "1/1 [==============================] - 0s 15ms/step - loss: 0.0028 - accuracy: 1.0000\n",
            "Epoch 235/250\n",
            "1/1 [==============================] - 0s 14ms/step - loss: 0.0028 - accuracy: 1.0000\n",
            "Epoch 236/250\n",
            "1/1 [==============================] - 0s 14ms/step - loss: 0.0027 - accuracy: 1.0000\n",
            "Epoch 237/250\n",
            "1/1 [==============================] - 0s 14ms/step - loss: 0.0027 - accuracy: 1.0000\n",
            "Epoch 238/250\n",
            "1/1 [==============================] - 0s 14ms/step - loss: 0.0027 - accuracy: 1.0000\n",
            "Epoch 239/250\n",
            "1/1 [==============================] - 0s 15ms/step - loss: 0.0027 - accuracy: 1.0000\n",
            "Epoch 240/250\n",
            "1/1 [==============================] - 0s 15ms/step - loss: 0.0026 - accuracy: 1.0000\n",
            "Epoch 241/250\n",
            "1/1 [==============================] - 0s 14ms/step - loss: 0.0026 - accuracy: 1.0000\n",
            "Epoch 242/250\n",
            "1/1 [==============================] - 0s 14ms/step - loss: 0.0026 - accuracy: 1.0000\n",
            "Epoch 243/250\n",
            "1/1 [==============================] - 0s 14ms/step - loss: 0.0026 - accuracy: 1.0000\n",
            "Epoch 244/250\n",
            "1/1 [==============================] - 0s 17ms/step - loss: 0.0026 - accuracy: 1.0000\n",
            "Epoch 245/250\n",
            "1/1 [==============================] - 0s 21ms/step - loss: 0.0025 - accuracy: 1.0000\n",
            "Epoch 246/250\n",
            "1/1 [==============================] - 0s 35ms/step - loss: 0.0025 - accuracy: 1.0000\n",
            "Epoch 247/250\n",
            "1/1 [==============================] - 0s 18ms/step - loss: 0.0025 - accuracy: 1.0000\n",
            "Epoch 248/250\n",
            "1/1 [==============================] - 0s 22ms/step - loss: 0.0025 - accuracy: 1.0000\n",
            "Epoch 249/250\n",
            "1/1 [==============================] - 0s 14ms/step - loss: 0.0025 - accuracy: 1.0000\n",
            "Epoch 250/250\n",
            "1/1 [==============================] - 0s 14ms/step - loss: 0.0024 - accuracy: 1.0000\n"
          ]
        }
      ]
    },
    {
      "cell_type": "code",
      "source": [
        "eval_metrics = model.evaluate(df_input_test, df_target_test, verbose=0)"
      ],
      "metadata": {
        "id": "bumUA94yco_U"
      },
      "execution_count": 87,
      "outputs": []
    },
    {
      "cell_type": "code",
      "source": [
        "for j, metric in enumerate(eval_metrics):\n",
        "    neptune_run[\"eval/{}\".format(model.metrics_names[j])] = metric"
      ],
      "metadata": {
        "id": "TxtjVM3Vc_Wf"
      },
      "execution_count": 88,
      "outputs": []
    },
    {
      "cell_type": "code",
      "source": [
        ""
      ],
      "metadata": {
        "id": "M2vWrnVedWP6"
      },
      "execution_count": null,
      "outputs": []
    },
    {
      "cell_type": "code",
      "source": [
        "model.summary()\n",
        "score = model.evaluate(df_input_test, df_target_test, verbose=0)\n",
        "print('Model Accuracy = ',score[1])"
      ],
      "metadata": {
        "id": "L3OhehhieCn5"
      },
      "execution_count": null,
      "outputs": []
    },
    {
      "cell_type": "code",
      "source": [
        "history"
      ],
      "metadata": {
        "id": "FTsH7sBOm0Ur"
      },
      "execution_count": null,
      "outputs": []
    },
    {
      "cell_type": "code",
      "source": [
        "history.history.keys()"
      ],
      "metadata": {
        "id": "Qs1S2fCirKQm"
      },
      "execution_count": null,
      "outputs": []
    },
    {
      "cell_type": "code",
      "source": [
        "pd.DataFrame(history.history).plot(figsize=(8,5))\n",
        "plt.show()"
      ],
      "metadata": {
        "id": "_EPtVYL6mVQv"
      },
      "execution_count": null,
      "outputs": []
    },
    {
      "cell_type": "code",
      "source": [
        "acc = history.history['accuracy']\n",
        "loss = history.history['loss']"
      ],
      "metadata": {
        "id": "-ztC0wiKrEus"
      },
      "execution_count": null,
      "outputs": []
    },
    {
      "cell_type": "code",
      "source": [
        "epochs = range(1, len(acc) + 1)\n",
        "\n",
        "plt.plot(epochs, acc, 'b', label='Accuracy', color=\"green\")\n",
        "plt.plot(epochs, loss, 'b', label='Loss', color=\"red\")\n",
        "plt.title('Accuracy & Loss')\n",
        "plt.xlabel('Epochs')\n",
        "plt.ylabel('Accuracy & Loss')\n",
        "plt.legend()\n",
        "\n",
        "\n",
        "plt.show()"
      ],
      "metadata": {
        "id": "QKaUEJGKxota"
      },
      "execution_count": null,
      "outputs": []
    },
    {
      "cell_type": "code",
      "source": [
        "Target_Classification = model.predict(df_input_test)\n",
        "Target_Classification = (Target_Classification > 0.5)\n",
        "\n",
        "\n",
        "\n",
        "from sklearn.metrics import confusion_matrix\n",
        "\n",
        "print(confusion_matrix(df_target_test, Target_Classification))"
      ],
      "metadata": {
        "id": "PnSvH_pmeGca"
      },
      "execution_count": null,
      "outputs": []
    },
    {
      "cell_type": "code",
      "source": [
        "import numpy as np\n",
        "best_model_accuracy = history.history['accuracy'][np.argmin(history.history['loss'])]\n",
        "print(best_model_accuracy)"
      ],
      "metadata": {
        "id": "abuDP43meVuG"
      },
      "execution_count": null,
      "outputs": []
    },
    {
      "cell_type": "code",
      "source": [
        "model.save('model/keras-heart-disease.bin')"
      ],
      "metadata": {
        "id": "jL2P2o3zz7XZ",
        "colab": {
          "base_uri": "https://localhost:8080/"
        },
        "outputId": "89bfd7bd-22db-479f-f8f0-29e7c7070601"
      },
      "execution_count": 95,
      "outputs": [
        {
          "output_type": "stream",
          "name": "stdout",
          "text": [
            "INFO:tensorflow:Assets written to: model/keras-heart-disease.bin/assets\n"
          ]
        }
      ]
    },
    {
      "cell_type": "code",
      "source": [
        "!ls -l model"
      ],
      "metadata": {
        "id": "1HeR3kT1jW94",
        "colab": {
          "base_uri": "https://localhost:8080/"
        },
        "outputId": "ed69913a-eb36-4827-b01f-1c491ea3c9d5"
      },
      "execution_count": 96,
      "outputs": [
        {
          "output_type": "stream",
          "name": "stdout",
          "text": [
            "total 4\n",
            "drwxr-xr-x 4 root root 4096 Mar 11 21:47 keras-heart-disease.bin\n"
          ]
        }
      ]
    },
    {
      "cell_type": "code",
      "source": [
        "from tensorflow import keras"
      ],
      "metadata": {
        "id": "_u6JcEBdjYZS"
      },
      "execution_count": 97,
      "outputs": []
    },
    {
      "cell_type": "code",
      "source": [
        "model_x = keras.models.load_model('model/keras-heart-disease.bin')"
      ],
      "metadata": {
        "id": "Cqi8slm3jcP2"
      },
      "execution_count": 98,
      "outputs": []
    },
    {
      "cell_type": "code",
      "source": [
        "print(model_x.metrics[0])\n",
        "print(model_x.metrics[1])"
      ],
      "metadata": {
        "id": "Dh4STlSjjf-V",
        "colab": {
          "base_uri": "https://localhost:8080/"
        },
        "outputId": "edc43499-4490-4011-9b25-c70082b8e8c8"
      },
      "execution_count": 99,
      "outputs": [
        {
          "output_type": "stream",
          "name": "stdout",
          "text": [
            "Mean(name=loss,dtype=float32)\n",
            "MeanMetricWrapper(name=accuracy,dtype=float32,fn=<function binary_accuracy at 0x7fc3653057a0>)\n"
          ]
        }
      ]
    },
    {
      "cell_type": "code",
      "source": [
        "model_x.summary()"
      ],
      "metadata": {
        "id": "KV9VJ8W0jiGM",
        "colab": {
          "base_uri": "https://localhost:8080/"
        },
        "outputId": "d4f9d1f4-4002-4c9f-ca74-769a671b2967"
      },
      "execution_count": 100,
      "outputs": [
        {
          "output_type": "stream",
          "name": "stdout",
          "text": [
            "Model: \"sequential_1\"\n",
            "_________________________________________________________________\n",
            " Layer (type)                Output Shape              Param #   \n",
            "=================================================================\n",
            " dense_3 (Dense)             (None, 30)                420       \n",
            "                                                                 \n",
            " dense_4 (Dense)             (None, 20)                620       \n",
            "                                                                 \n",
            " dense_5 (Dense)             (None, 10)                210       \n",
            "                                                                 \n",
            " dense_6 (Dense)             (None, 1)                 11        \n",
            "                                                                 \n",
            "=================================================================\n",
            "Total params: 1,261\n",
            "Trainable params: 1,261\n",
            "Non-trainable params: 0\n",
            "_________________________________________________________________\n"
          ]
        }
      ]
    },
    {
      "cell_type": "code",
      "source": [
        "model_version[\"model\"].upload('model/keras-heart-disease.bin')"
      ],
      "metadata": {
        "id": "YcFyYxprjlWt"
      },
      "execution_count": 101,
      "outputs": []
    },
    {
      "cell_type": "code",
      "source": [
        "model_version.change_stage(\"production\")"
      ],
      "metadata": {
        "id": "5lVgkS8ujxS3",
        "colab": {
          "base_uri": "https://localhost:8080/"
        },
        "outputId": "6b31d69a-6013-469d-a51d-3571a09fd07d"
      },
      "execution_count": 94,
      "outputs": [
        {
          "output_type": "stream",
          "name": "stderr",
          "text": [
            "Error occurred during asynchronous operation processing: Cannot upload file /content/model/keras-heart-disease.bin: Path not found or is a not a file.\n"
          ]
        }
      ]
    },
    {
      "cell_type": "code",
      "source": [
        "!ls"
      ],
      "metadata": {
        "colab": {
          "base_uri": "https://localhost:8080/"
        },
        "id": "BAqiFvZA7hNp",
        "outputId": "ca227c66-65ae-4531-ebf5-6aef4eaf5d07"
      },
      "execution_count": 73,
      "outputs": [
        {
          "output_type": "stream",
          "name": "stdout",
          "text": [
            "heart.csv  model  model_plot.png  sample_data\n"
          ]
        }
      ]
    },
    {
      "cell_type": "code",
      "source": [
        "neptune_run[\"data/network_plot\"].upload('model_plot.png')"
      ],
      "metadata": {
        "id": "Rb3JN06S7i7D"
      },
      "execution_count": 102,
      "outputs": []
    },
    {
      "cell_type": "code",
      "source": [
        "neptune_model['model'].upload('model/keras-heart-disease.bin')"
      ],
      "metadata": {
        "id": "reTAywJ74iu9"
      },
      "execution_count": 51,
      "outputs": []
    },
    {
      "cell_type": "code",
      "source": [
        "model_version.stop()"
      ],
      "metadata": {
        "id": "eLGlY0rEmD75",
        "colab": {
          "base_uri": "https://localhost:8080/"
        },
        "outputId": "55e44c84-0d00-4dbf-ac39-a6b8bd8b3486"
      },
      "execution_count": 103,
      "outputs": [
        {
          "output_type": "stream",
          "name": "stdout",
          "text": [
            "Shutting down background jobs, please wait a moment...\n",
            "Done!\n",
            "All 0 operations synced, thanks for waiting!\n"
          ]
        }
      ]
    },
    {
      "cell_type": "code",
      "source": [
        "neptune_run.stop()"
      ],
      "metadata": {
        "id": "NSx6KUIpj-vS",
        "colab": {
          "base_uri": "https://localhost:8080/"
        },
        "outputId": "a80cd87f-df4d-4afb-976f-b58470f5e16a"
      },
      "execution_count": 104,
      "outputs": [
        {
          "output_type": "stream",
          "name": "stdout",
          "text": [
            "Shutting down background jobs, please wait a moment...\n",
            "Done!\n"
          ]
        },
        {
          "output_type": "stream",
          "name": "stderr",
          "text": [
            "Waiting for the remaining 6 operations to synchronize with Neptune. Do not kill this process.\n"
          ]
        },
        {
          "output_type": "stream",
          "name": "stdout",
          "text": [
            "All 6 operations synced, thanks for waiting!\n"
          ]
        }
      ]
    },
    {
      "cell_type": "code",
      "source": [
        ""
      ],
      "metadata": {
        "id": "g0p4Eg_zkNma"
      },
      "execution_count": null,
      "outputs": []
    }
  ]
}