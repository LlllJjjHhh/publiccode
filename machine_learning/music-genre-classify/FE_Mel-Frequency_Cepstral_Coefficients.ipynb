{
 "cells": [
  {
   "cell_type": "markdown",
   "id": "d2840034",
   "metadata": {},
   "source": [
    "# Feature Extraction\n",
    "## Mel frequency cepstral coefficients (MFCC)\n",
    "- The MFCCs of a signal are a small set of features (usually about 10–20) that concisely describe the overall shape of a spectral envelope. \n",
    "- So in given 10 to 20 feature set, the music information is packed for the all music frames\n",
    "- It models the characteristics of the human voice.\n",
    "  \n",
    "### Library.function  \n",
    "- librosa.feature.mfcc computes MFCCs across an audio signal"
   ]
  },
  {
   "cell_type": "code",
   "execution_count": null,
   "id": "ee94f2e0",
   "metadata": {},
   "outputs": [],
   "source": [
    "import librosa\n",
    "import IPython.display as ipd\n",
    "%matplotlib inline\n",
    "import matplotlib.pyplot as plt\n",
    "import librosa.display\n",
    "from sklearn.preprocessing import minmax_scale"
   ]
  },
  {
   "cell_type": "code",
   "execution_count": null,
   "id": "8bd79bee",
   "metadata": {},
   "outputs": [],
   "source": [
    "!ls"
   ]
  },
  {
   "cell_type": "code",
   "execution_count": null,
   "id": "1f2bd8a5",
   "metadata": {},
   "outputs": [],
   "source": [
    "source_audio = 'royalty-free-music/58bpm.wav'"
   ]
  },
  {
   "cell_type": "code",
   "execution_count": null,
   "id": "9872aa0b",
   "metadata": {},
   "outputs": [],
   "source": [
    "wave_x, sample_rate = librosa.load(source_audio)\n",
    "ipd.Audio(wave_x, rate=sample_rate)"
   ]
  },
  {
   "cell_type": "code",
   "execution_count": null,
   "id": "4fa7fe36",
   "metadata": {},
   "outputs": [],
   "source": [
    "plt.figure(figsize=(15, 4), facecolor=(.9, .9, .9))\n",
    "librosa.display.waveshow(wave_x, sr=sample_rate, color='pink')"
   ]
  },
  {
   "cell_type": "code",
   "execution_count": null,
   "id": "f2696ee7",
   "metadata": {},
   "outputs": [],
   "source": [
    "mfccs = librosa.feature.mfcc(wave_x, sr=sample_rate)\n",
    "print(mfccs.shape)"
   ]
  },
  {
   "cell_type": "markdown",
   "id": "81622fcf",
   "metadata": {},
   "source": [
    "### Above 20 MFCC features for the 357 frames "
   ]
  },
  {
   "cell_type": "code",
   "execution_count": null,
   "id": "5c05a1c8",
   "metadata": {},
   "outputs": [],
   "source": [
    "librosa.display.specshow(mfccs, sr=sample_rate, x_axis='time')"
   ]
  },
  {
   "cell_type": "code",
   "execution_count": null,
   "id": "31bab71b",
   "metadata": {},
   "outputs": [],
   "source": [
    "import sklearn\n",
    "mfccs = sklearn.preprocessing.scale(mfccs, axis=1)\n",
    "print(mfccs.mean(axis=1))\n",
    "print(mfccs.var(axis=1))\n",
    "librosa.display.specshow(mfccs, sr=sample_rate, x_axis='time')\n"
   ]
  },
  {
   "cell_type": "code",
   "execution_count": null,
   "id": "46df9eda",
   "metadata": {},
   "outputs": [],
   "source": [
    "def count_mfcc(source_file_name):\n",
    "    temp_wave_x, temp_sample_rate = librosa.load(source_file_name)\n",
    "    mfccs = librosa.feature.mfcc(temp_wave_x, sr=temp_sample_rate)\n",
    "    print(\"Total MFCC features \" + str(mfccs.shape[0]) + \" for the total \" + str(mfccs.shape[1]) + \" frames.\" )    "
   ]
  },
  {
   "cell_type": "code",
   "execution_count": null,
   "id": "74d7b94b",
   "metadata": {},
   "outputs": [],
   "source": [
    "!ls"
   ]
  },
  {
   "cell_type": "code",
   "execution_count": null,
   "id": "eb5e9b6d",
   "metadata": {},
   "outputs": [],
   "source": [
    "count_mfcc('stereo_file.wav')"
   ]
  },
  {
   "cell_type": "code",
   "execution_count": null,
   "id": "d25179f2",
   "metadata": {},
   "outputs": [],
   "source": [
    "!ls royalty-free-music"
   ]
  },
  {
   "cell_type": "code",
   "execution_count": null,
   "id": "2e12126b",
   "metadata": {},
   "outputs": [],
   "source": [
    "count_mfcc('royalty-free-music/bensound-dubstep.mp3')"
   ]
  },
  {
   "cell_type": "code",
   "execution_count": null,
   "id": "338dfc23",
   "metadata": {},
   "outputs": [],
   "source": []
  }
 ],
 "metadata": {
  "kernelspec": {
   "display_name": "Python 3 (ipykernel)",
   "language": "python",
   "name": "python3"
  },
  "language_info": {
   "codemirror_mode": {
    "name": "ipython",
    "version": 3
   },
   "file_extension": ".py",
   "mimetype": "text/x-python",
   "name": "python",
   "nbconvert_exporter": "python",
   "pygments_lexer": "ipython3",
   "version": "3.8.12"
  }
 },
 "nbformat": 4,
 "nbformat_minor": 5
}
