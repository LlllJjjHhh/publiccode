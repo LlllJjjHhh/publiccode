{
 "cells": [
  {
   "cell_type": "markdown",
   "id": "d2840034",
   "metadata": {},
   "source": [
    "# Feature Extraction\n",
    "## Spectral Rolloff\n",
    "- Spectral rolloff is a measure of the shape of the signal. \n",
    "- It represents the frequency below which a specified percentage of the total spectral energy, e.g., 85%, lies.\n",
    "  \n",
    "### Library.function  \n",
    "- librosa.feature.spectral_rolloff computes the roll-off frequency for each frame in a signal"
   ]
  },
  {
   "cell_type": "code",
   "execution_count": null,
   "id": "ee94f2e0",
   "metadata": {},
   "outputs": [],
   "source": [
    "import librosa\n",
    "import IPython.display as ipd\n",
    "%matplotlib inline\n",
    "import matplotlib.pyplot as plt\n",
    "import librosa.display\n",
    "from sklearn.preprocessing import minmax_scale"
   ]
  },
  {
   "cell_type": "code",
   "execution_count": null,
   "id": "8bd79bee",
   "metadata": {},
   "outputs": [],
   "source": [
    "!ls"
   ]
  },
  {
   "cell_type": "code",
   "execution_count": null,
   "id": "1f2bd8a5",
   "metadata": {},
   "outputs": [],
   "source": [
    "source_audio = 'royalty-free-music/58bpm.wav'"
   ]
  },
  {
   "cell_type": "code",
   "execution_count": null,
   "id": "9872aa0b",
   "metadata": {},
   "outputs": [],
   "source": [
    "wave_x, sample_rate = librosa.load(source_audio)\n",
    "ipd.Audio(wave_x, rate=sample_rate)"
   ]
  },
  {
   "cell_type": "code",
   "execution_count": null,
   "id": "4fa7fe36",
   "metadata": {},
   "outputs": [],
   "source": [
    "plt.figure(figsize=(15, 4), facecolor=(.9, .9, .9))\n",
    "librosa.display.waveshow(wave_x, sr=sample_rate, color='pink')"
   ]
  },
  {
   "cell_type": "code",
   "execution_count": null,
   "id": "5db0d343",
   "metadata": {},
   "outputs": [],
   "source": [
    "all_spectral_rolloff = librosa.feature.spectral_rolloff(wave_x+0.01, sr=sample_rate)"
   ]
  },
  {
   "cell_type": "code",
   "execution_count": null,
   "id": "1859871c",
   "metadata": {},
   "outputs": [],
   "source": [
    "all_spectral_rolloff.shape"
   ]
  },
  {
   "cell_type": "code",
   "execution_count": null,
   "id": "c873283f",
   "metadata": {},
   "outputs": [],
   "source": [
    "spectral_rolloff = librosa.feature.spectral_rolloff(wave_x+0.01, sr=sample_rate)[0]"
   ]
  },
  {
   "cell_type": "code",
   "execution_count": null,
   "id": "ea81aaa4",
   "metadata": {},
   "outputs": [],
   "source": [
    "spectral_rolloff.shape"
   ]
  },
  {
   "cell_type": "code",
   "execution_count": null,
   "id": "465cc16c",
   "metadata": {},
   "outputs": [],
   "source": [
    "# Computing the time variable for visualization\n",
    "frames = range(len(spectral_rolloff))\n",
    "t = librosa.frames_to_time(frames)"
   ]
  },
  {
   "cell_type": "code",
   "execution_count": null,
   "id": "4c44d3de",
   "metadata": {},
   "outputs": [],
   "source": [
    "frames"
   ]
  },
  {
   "cell_type": "code",
   "execution_count": null,
   "id": "da04db7d",
   "metadata": {},
   "outputs": [],
   "source": [
    "t = librosa.frames_to_time(frames)"
   ]
  },
  {
   "cell_type": "code",
   "execution_count": null,
   "id": "19d91c67",
   "metadata": {},
   "outputs": [],
   "source": [
    "t.shape"
   ]
  },
  {
   "cell_type": "code",
   "execution_count": null,
   "id": "d53f50ec",
   "metadata": {},
   "outputs": [],
   "source": [
    "# Normalising the spectral centroid for visualisation\n",
    "def normalize(x, axis=0):\n",
    "    return minmax_scale(x, axis=axis)"
   ]
  },
  {
   "cell_type": "code",
   "execution_count": null,
   "id": "d3510e47",
   "metadata": {},
   "outputs": [],
   "source": [
    "librosa.display.waveshow(wave_x, sr=sample_rate, alpha=0.4)\n",
    "plt.plot(t, normalize(spectral_rolloff), color='r')"
   ]
  },
  {
   "cell_type": "code",
   "execution_count": null,
   "id": "46df9eda",
   "metadata": {},
   "outputs": [],
   "source": []
  }
 ],
 "metadata": {
  "kernelspec": {
   "display_name": "Python 3 (ipykernel)",
   "language": "python",
   "name": "python3"
  },
  "language_info": {
   "codemirror_mode": {
    "name": "ipython",
    "version": 3
   },
   "file_extension": ".py",
   "mimetype": "text/x-python",
   "name": "python",
   "nbconvert_exporter": "python",
   "pygments_lexer": "ipython3",
   "version": "3.8.12"
  }
 },
 "nbformat": 4,
 "nbformat_minor": 5
}
