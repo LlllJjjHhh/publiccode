{
 "cells": [
  {
   "cell_type": "markdown",
   "id": "d2840034",
   "metadata": {},
   "source": [
    "# Feature Extraction\n",
    "## Chroma Frequencies\n",
    "- Chroma features represents the entire spectrum onto 12 bins representing the 12 distinct semitones (or chroma) of the musical octave.\n",
    "  \n",
    "### Library.function  \n",
    "- librosa.feature.chroma_stft computes Chroma features for the given audio signals"
   ]
  },
  {
   "cell_type": "code",
   "execution_count": null,
   "id": "ee94f2e0",
   "metadata": {},
   "outputs": [],
   "source": [
    "import librosa\n",
    "import IPython.display as ipd\n",
    "%matplotlib inline\n",
    "import matplotlib.pyplot as plt\n",
    "import librosa.display\n",
    "from sklearn.preprocessing import minmax_scale"
   ]
  },
  {
   "cell_type": "code",
   "execution_count": null,
   "id": "8bd79bee",
   "metadata": {},
   "outputs": [],
   "source": [
    "!ls"
   ]
  },
  {
   "cell_type": "code",
   "execution_count": null,
   "id": "1f2bd8a5",
   "metadata": {},
   "outputs": [],
   "source": [
    "source_audio = 'royalty-free-music/58bpm.wav'"
   ]
  },
  {
   "cell_type": "code",
   "execution_count": null,
   "id": "9872aa0b",
   "metadata": {},
   "outputs": [],
   "source": [
    "wave_x, sample_rate = librosa.load(source_audio)\n",
    "ipd.Audio(wave_x, rate=sample_rate)"
   ]
  },
  {
   "cell_type": "code",
   "execution_count": null,
   "id": "4fa7fe36",
   "metadata": {},
   "outputs": [],
   "source": [
    "plt.figure(figsize=(15, 4), facecolor=(.9, .9, .9))\n",
    "librosa.display.waveshow(wave_x, sr=sample_rate, color='pink')"
   ]
  },
  {
   "cell_type": "code",
   "execution_count": null,
   "id": "b27fcc02",
   "metadata": {},
   "outputs": [],
   "source": [
    "hop_length = 512\n",
    "chromagram = librosa.feature.chroma_stft(wave_x, sr=sample_rate, hop_length=hop_length)"
   ]
  },
  {
   "cell_type": "code",
   "execution_count": null,
   "id": "7e939e66",
   "metadata": {},
   "outputs": [],
   "source": [
    "chromagram"
   ]
  },
  {
   "cell_type": "code",
   "execution_count": null,
   "id": "c42b778a",
   "metadata": {},
   "outputs": [],
   "source": [
    "chromagram.shape"
   ]
  },
  {
   "cell_type": "code",
   "execution_count": null,
   "id": "25b556c4",
   "metadata": {},
   "outputs": [],
   "source": [
    "plt.figure(figsize=(15, 5))\n",
    "librosa.display.specshow(chromagram, x_axis='time', y_axis='chroma', hop_length=hop_length, cmap='coolwarm')"
   ]
  },
  {
   "cell_type": "code",
   "execution_count": null,
   "id": "46df9eda",
   "metadata": {},
   "outputs": [],
   "source": [
    "def chroma_frequencies(source_file_name):\n",
    "    temp_wave_x, temp_sample_rate = librosa.load(source_file_name)\n",
    "    hop_length = 512\n",
    "    chromagram = librosa.feature.chroma_stft(temp_wave_x, sr=temp_sample_rate, hop_length=hop_length)\n",
    "    plt.figure(figsize=(15, 5))\n",
    "    librosa.display.specshow(chromagram, x_axis='time', y_axis='chroma', hop_length=hop_length, cmap='coolwarm')"
   ]
  },
  {
   "cell_type": "code",
   "execution_count": null,
   "id": "2e42225d",
   "metadata": {},
   "outputs": [],
   "source": [
    "chroma_frequencies('stereo_file.wav')"
   ]
  },
  {
   "cell_type": "code",
   "execution_count": null,
   "id": "624d7a13",
   "metadata": {},
   "outputs": [],
   "source": [
    "!ls royalty-free-music"
   ]
  },
  {
   "cell_type": "code",
   "execution_count": null,
   "id": "c52cf371",
   "metadata": {},
   "outputs": [],
   "source": [
    "chroma_frequencies('royalty-free-music/T08-violin.wav')"
   ]
  },
  {
   "cell_type": "code",
   "execution_count": null,
   "id": "10b8ef69",
   "metadata": {},
   "outputs": [],
   "source": []
  }
 ],
 "metadata": {
  "kernelspec": {
   "display_name": "Python 3 (ipykernel)",
   "language": "python",
   "name": "python3"
  },
  "language_info": {
   "codemirror_mode": {
    "name": "ipython",
    "version": 3
   },
   "file_extension": ".py",
   "mimetype": "text/x-python",
   "name": "python",
   "nbconvert_exporter": "python",
   "pygments_lexer": "ipython3",
   "version": "3.8.12"
  }
 },
 "nbformat": 4,
 "nbformat_minor": 5
}
