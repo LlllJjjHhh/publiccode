{
 "cells": [
  {
   "cell_type": "code",
   "execution_count": 1,
   "id": "1e2ddc75",
   "metadata": {},
   "outputs": [
    {
     "name": "stdout",
     "output_type": "stream",
     "text": [
      "\u001b[33mWARNING: Package(s) not found: librose\u001b[0m\u001b[33m\r\n",
      "\u001b[0m"
     ]
    }
   ],
   "source": [
    "!pip show librose"
   ]
  },
  {
   "cell_type": "code",
   "execution_count": 2,
   "id": "13bade4b",
   "metadata": {},
   "outputs": [
    {
     "name": "stdout",
     "output_type": "stream",
     "text": [
      "Collecting librosa\n",
      "  Downloading librosa-0.9.1-py3-none-any.whl (213 kB)\n",
      "\u001b[2K     \u001b[38;2;114;156;31m━━━━━━━━━━━━━━━━━━━━━━━━━━━━━━━━━━━━━\u001b[0m \u001b[32m213.1/213.1 KB\u001b[0m \u001b[31m901.4 kB/s\u001b[0m eta \u001b[36m0:00:00\u001b[0m kB/s\u001b[0m eta \u001b[36m0:00:01\u001b[0m:01\u001b[0m\n",
      "\u001b[?25hRequirement already satisfied: numpy>=1.17.0 in /Users/avkash/anaconda3/envs/python38/lib/python3.8/site-packages (from librosa) (1.20.3)\n",
      "Collecting resampy>=0.2.2\n",
      "  Downloading resampy-0.2.2.tar.gz (323 kB)\n",
      "\u001b[2K     \u001b[38;2;114;156;31m━━━━━━━━━━━━━━━━━━━━━━━━━━━━━━━━━━━━━━━\u001b[0m \u001b[32m323.4/323.4 KB\u001b[0m \u001b[31m2.3 MB/s\u001b[0m eta \u001b[36m0:00:00\u001b[0m[36m0:00:01\u001b[0m[36m0:00:01\u001b[0m:01\u001b[0m\n",
      "\u001b[?25h  Preparing metadata (setup.py) ... \u001b[?25ldone\n",
      "\u001b[?25hRequirement already satisfied: numba>=0.45.1 in /Users/avkash/anaconda3/envs/python38/lib/python3.8/site-packages (from librosa) (0.54.1)\n",
      "Collecting pooch>=1.0\n",
      "  Downloading pooch-1.6.0-py3-none-any.whl (56 kB)\n",
      "\u001b[2K     \u001b[38;2;114;156;31m━━━━━━━━━━━━━━━━━━━━━━━━━━━━━━━━━━━━━━━━\u001b[0m \u001b[32m56.3/56.3 KB\u001b[0m \u001b[31m1.6 MB/s\u001b[0m eta \u001b[36m0:00:00\u001b[0m\n",
      "\u001b[?25hCollecting audioread>=2.1.5\n",
      "  Downloading audioread-2.1.9.tar.gz (377 kB)\n",
      "\u001b[2K     \u001b[38;2;114;156;31m━━━━━━━━━━━━━━━━━━━━━━━━━━━━━━━━━━━━━━━\u001b[0m \u001b[32m377.5/377.5 KB\u001b[0m \u001b[31m3.7 MB/s\u001b[0m eta \u001b[36m0:00:00\u001b[0m[36m0:00:01\u001b[0mm eta \u001b[36m0:00:01\u001b[0m\n",
      "\u001b[?25h  Preparing metadata (setup.py) ... \u001b[?25ldone\n",
      "\u001b[?25hRequirement already satisfied: scipy>=1.2.0 in /Users/avkash/anaconda3/envs/python38/lib/python3.8/site-packages (from librosa) (1.7.1)\n",
      "Requirement already satisfied: scikit-learn>=0.19.1 in /Users/avkash/anaconda3/envs/python38/lib/python3.8/site-packages (from librosa) (1.0.1)\n",
      "Requirement already satisfied: packaging>=20.0 in /Users/avkash/anaconda3/envs/python38/lib/python3.8/site-packages (from librosa) (21.3)\n",
      "Collecting soundfile>=0.10.2\n",
      "  Downloading SoundFile-0.10.3.post1-py2.py3.cp26.cp27.cp32.cp33.cp34.cp35.cp36.pp27.pp32.pp33-none-macosx_10_5_x86_64.macosx_10_6_intel.macosx_10_9_intel.macosx_10_9_x86_64.whl (613 kB)\n",
      "\u001b[2K     \u001b[38;2;114;156;31m━━━━━━━━━━━━━━━━━━━━━━━━━━━━━━━━━━━━━━━\u001b[0m \u001b[32m613.4/613.4 KB\u001b[0m \u001b[31m4.4 MB/s\u001b[0m eta \u001b[36m0:00:00\u001b[0m[36m0:00:01\u001b[0mm eta \u001b[36m0:00:01\u001b[0m\n",
      "\u001b[?25hRequirement already satisfied: joblib>=0.14 in /Users/avkash/anaconda3/envs/python38/lib/python3.8/site-packages (from librosa) (1.0.1)\n",
      "Requirement already satisfied: decorator>=4.0.10 in /Users/avkash/anaconda3/envs/python38/lib/python3.8/site-packages (from librosa) (5.1.0)\n",
      "Requirement already satisfied: llvmlite<0.38,>=0.37.0rc1 in /Users/avkash/anaconda3/envs/python38/lib/python3.8/site-packages (from numba>=0.45.1->librosa) (0.37.0)\n",
      "Requirement already satisfied: setuptools in /Users/avkash/anaconda3/envs/python38/lib/python3.8/site-packages (from numba>=0.45.1->librosa) (58.0.4)\n",
      "Requirement already satisfied: pyparsing!=3.0.5,>=2.0.2 in /Users/avkash/anaconda3/envs/python38/lib/python3.8/site-packages (from packaging>=20.0->librosa) (2.4.7)\n",
      "Requirement already satisfied: appdirs>=1.3.0 in /Users/avkash/anaconda3/envs/python38/lib/python3.8/site-packages (from pooch>=1.0->librosa) (1.4.4)\n",
      "Requirement already satisfied: requests>=2.19.0 in /Users/avkash/anaconda3/envs/python38/lib/python3.8/site-packages (from pooch>=1.0->librosa) (2.26.0)\n",
      "Requirement already satisfied: six>=1.3 in /Users/avkash/anaconda3/envs/python38/lib/python3.8/site-packages (from resampy>=0.2.2->librosa) (1.16.0)\n",
      "Requirement already satisfied: threadpoolctl>=2.0.0 in /Users/avkash/anaconda3/envs/python38/lib/python3.8/site-packages (from scikit-learn>=0.19.1->librosa) (2.2.0)\n",
      "Requirement already satisfied: cffi>=1.0 in /Users/avkash/anaconda3/envs/python38/lib/python3.8/site-packages (from soundfile>=0.10.2->librosa) (1.14.6)\n",
      "Requirement already satisfied: pycparser in /Users/avkash/anaconda3/envs/python38/lib/python3.8/site-packages (from cffi>=1.0->soundfile>=0.10.2->librosa) (2.21)\n",
      "Requirement already satisfied: idna<4,>=2.5 in /Users/avkash/anaconda3/envs/python38/lib/python3.8/site-packages (from requests>=2.19.0->pooch>=1.0->librosa) (3.3)\n",
      "Requirement already satisfied: charset-normalizer~=2.0.0 in /Users/avkash/anaconda3/envs/python38/lib/python3.8/site-packages (from requests>=2.19.0->pooch>=1.0->librosa) (2.0.4)\n",
      "Requirement already satisfied: urllib3<1.27,>=1.21.1 in /Users/avkash/anaconda3/envs/python38/lib/python3.8/site-packages (from requests>=2.19.0->pooch>=1.0->librosa) (1.26.7)\n",
      "Requirement already satisfied: certifi>=2017.4.17 in /Users/avkash/anaconda3/envs/python38/lib/python3.8/site-packages (from requests>=2.19.0->pooch>=1.0->librosa) (2021.10.8)\n",
      "Building wheels for collected packages: audioread, resampy\n",
      "  Building wheel for audioread (setup.py) ... \u001b[?25ldone\n",
      "\u001b[?25h  Created wheel for audioread: filename=audioread-2.1.9-py3-none-any.whl size=23154 sha256=76dc4b9aaf7ef5582f0167223e955bc5c0d452ac4ea5201e53f52f3bea49d51a\n",
      "  Stored in directory: /Users/avkash/Library/Caches/pip/wheels/49/5a/e4/df590783499a992a88de6c0898991d1167453a3196d0d1eeb7\n",
      "  Building wheel for resampy (setup.py) ... \u001b[?25ldone\n",
      "\u001b[?25h  Created wheel for resampy: filename=resampy-0.2.2-py3-none-any.whl size=320731 sha256=38422ec5c91a5ec90626a117f5c4f7767ef515790a3ce8d0002fe2f6d5df99e2\n",
      "  Stored in directory: /Users/avkash/Library/Caches/pip/wheels/6f/d1/5d/f13da53b1dcbc2624ff548456c9ffb526c914f53c12c318bb4\n",
      "Successfully built audioread resampy\n",
      "Installing collected packages: audioread, soundfile, resampy, pooch, librosa\n",
      "Successfully installed audioread-2.1.9 librosa-0.9.1 pooch-1.6.0 resampy-0.2.2 soundfile-0.10.3.post1\n"
     ]
    }
   ],
   "source": [
    "!pip install librosa"
   ]
  },
  {
   "cell_type": "code",
   "execution_count": 3,
   "id": "4c3f1c35",
   "metadata": {},
   "outputs": [
    {
     "name": "stdout",
     "output_type": "stream",
     "text": [
      "Name: librosa\r\n",
      "Version: 0.9.1\r\n",
      "Summary: Python module for audio and music processing\r\n",
      "Home-page: https://librosa.org\r\n",
      "Author: Brian McFee, librosa development team\r\n",
      "Author-email: brian.mcfee@nyu.edu\r\n",
      "License: ISC\r\n",
      "Location: /Users/avkash/anaconda3/envs/python38/lib/python3.8/site-packages\r\n",
      "Requires: audioread, decorator, joblib, numba, numpy, packaging, pooch, resampy, scikit-learn, scipy, soundfile\r\n",
      "Required-by: \r\n"
     ]
    }
   ],
   "source": [
    "!pip show librosa"
   ]
  },
  {
   "cell_type": "code",
   "execution_count": null,
   "id": "fdbb015c",
   "metadata": {},
   "outputs": [],
   "source": []
  }
 ],
 "metadata": {
  "kernelspec": {
   "display_name": "Python 3 (ipykernel)",
   "language": "python",
   "name": "python3"
  },
  "language_info": {
   "codemirror_mode": {
    "name": "ipython",
    "version": 3
   },
   "file_extension": ".py",
   "mimetype": "text/x-python",
   "name": "python",
   "nbconvert_exporter": "python",
   "pygments_lexer": "ipython3",
   "version": "3.8.12"
  }
 },
 "nbformat": 4,
 "nbformat_minor": 5
}
