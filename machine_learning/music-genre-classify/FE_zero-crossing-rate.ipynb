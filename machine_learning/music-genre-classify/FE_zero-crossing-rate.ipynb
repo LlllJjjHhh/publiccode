{
 "cells": [
  {
   "cell_type": "markdown",
   "id": "ea003a12",
   "metadata": {},
   "source": [
    "# Feature extraction\n",
    "## Zero Crossing Rate\n",
    "- The zero-crossing rate is the rate of sign-changes along with a signal, \n",
    "- The rate at which the signal changes from positive to negative or back.\n",
    "- Each time signal crosses to positve to negative boundary it counts as 1 "
   ]
  },
  {
   "cell_type": "code",
   "execution_count": null,
   "id": "880b79fc",
   "metadata": {},
   "outputs": [],
   "source": [
    "import librosa\n",
    "import IPython.display as ipd\n",
    "%matplotlib inline\n",
    "import matplotlib.pyplot as plt\n",
    "import librosa.display"
   ]
  },
  {
   "cell_type": "code",
   "execution_count": null,
   "id": "2132777a",
   "metadata": {},
   "outputs": [],
   "source": [
    "### Ze"
   ]
  },
  {
   "cell_type": "code",
   "execution_count": null,
   "id": "33a0da72",
   "metadata": {},
   "outputs": [],
   "source": [
    "!ls"
   ]
  },
  {
   "cell_type": "code",
   "execution_count": null,
   "id": "e78a3dc3",
   "metadata": {},
   "outputs": [],
   "source": [
    "source_audio = 'royalty-free-music/58bpm.wav'"
   ]
  },
  {
   "cell_type": "code",
   "execution_count": null,
   "id": "74a30a51",
   "metadata": {},
   "outputs": [],
   "source": [
    "wave_x, sample_rate = librosa.load(source_audio)\n",
    "ipd.Audio(wave_x, rate=sample_rate)"
   ]
  },
  {
   "cell_type": "code",
   "execution_count": null,
   "id": "d6a3bb17",
   "metadata": {},
   "outputs": [],
   "source": [
    "plt.figure(figsize=(15, 4), facecolor=(.9, .9, .9))\n",
    "librosa.display.waveshow(wave_x, sr=sample_rate, color='pink')"
   ]
  },
  {
   "cell_type": "code",
   "execution_count": null,
   "id": "df839583",
   "metadata": {},
   "outputs": [],
   "source": [
    "wave_x.shape"
   ]
  },
  {
   "cell_type": "code",
   "execution_count": null,
   "id": "7737d7e6",
   "metadata": {},
   "outputs": [],
   "source": [
    "# If you decided to Zooming in\n",
    "n0 = 10000\n",
    "n1 = 10020\n",
    "plt.figure(figsize=(14, 5))\n",
    "plt.plot(wave_x[n0:n1])\n",
    "plt.grid()"
   ]
  },
  {
   "cell_type": "code",
   "execution_count": null,
   "id": "6b1f3687",
   "metadata": {},
   "outputs": [],
   "source": [
    "zero_crossings = librosa.zero_crossings(wave_x[n0:n1], pad=False)\n",
    "print(sum(zero_crossings))"
   ]
  },
  {
   "cell_type": "code",
   "execution_count": null,
   "id": "cf69de85",
   "metadata": {},
   "outputs": [],
   "source": [
    "zero_crossings = librosa.zero_crossings(wave_x, pad=False)\n",
    "print(sum(zero_crossings))"
   ]
  },
  {
   "cell_type": "code",
   "execution_count": null,
   "id": "f270b56f",
   "metadata": {},
   "outputs": [],
   "source": [
    "def get_zero_crossings_count(file_name):\n",
    "    temp_wave_x, temp_sample_rate = librosa.load(file_name)\n",
    "    zero_crossings_count = librosa.zero_crossings(temp_wave_x, pad=False)\n",
    "    return sum(zero_crossings_count)"
   ]
  },
  {
   "cell_type": "code",
   "execution_count": null,
   "id": "7a677744",
   "metadata": {},
   "outputs": [],
   "source": [
    "!ls"
   ]
  },
  {
   "cell_type": "code",
   "execution_count": null,
   "id": "ec425ec2",
   "metadata": {},
   "outputs": [],
   "source": [
    "!ls -la royalty-free-music"
   ]
  },
  {
   "cell_type": "code",
   "execution_count": null,
   "id": "d03c59e7",
   "metadata": {},
   "outputs": [],
   "source": [
    "print(get_zero_crossings_count('royalty-free-music/bensound-dubstep.mp3'))"
   ]
  },
  {
   "cell_type": "code",
   "execution_count": null,
   "id": "d6a3786a",
   "metadata": {},
   "outputs": [],
   "source": []
  }
 ],
 "metadata": {
  "kernelspec": {
   "display_name": "Python 3 (ipykernel)",
   "language": "python",
   "name": "python3"
  },
  "language_info": {
   "codemirror_mode": {
    "name": "ipython",
    "version": 3
   },
   "file_extension": ".py",
   "mimetype": "text/x-python",
   "name": "python",
   "nbconvert_exporter": "python",
   "pygments_lexer": "ipython3",
   "version": "3.8.12"
  }
 },
 "nbformat": 4,
 "nbformat_minor": 5
}
