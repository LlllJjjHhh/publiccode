{
  "nbformat": 4,
  "nbformat_minor": 0,
  "metadata": {
    "colab": {
      "name": "UCI-Heart-Disease-Keras-Cometml-ModelReg.ipynb",
      "provenance": [],
      "authorship_tag": "ABX9TyOX+Z/5BRq0prLkbVxsMHIr",
      "include_colab_link": true
    },
    "kernelspec": {
      "name": "python3",
      "display_name": "Python 3"
    },
    "language_info": {
      "name": "python"
    }
  },
  "cells": [
    {
      "cell_type": "markdown",
      "metadata": {
        "id": "view-in-github",
        "colab_type": "text"
      },
      "source": [
        "<a href=\"https://colab.research.google.com/github/prodramp/publiccode/blob/master/machine_learning/comet_ml/UCI_Heart_Disease_Keras_Cometml_ModelReg.ipynb\" target=\"_parent\"><img src=\"https://colab.research.google.com/assets/colab-badge.svg\" alt=\"Open In Colab\"/></a>"
      ]
    },
    {
      "cell_type": "markdown",
      "source": [
        "Original Data Source Link:\n",
        "https://archive.ics.uci.edu/ml/datasets/Heart+Disease\n",
        "\n",
        "CSV Formatted Dataset:\n",
        "https://www.kaggle.com/ronitf/heart-disease-uci?select=heart.csv"
      ],
      "metadata": {
        "id": "dfWNx_gMZWEV"
      }
    },
    {
      "cell_type": "markdown",
      "source": [
        "The dataset has 14 key attributes out of original 76, from the dataset along with their descriptions:"
      ],
      "metadata": {
        "id": "drv24DSmZFa-"
      }
    },
    {
      "cell_type": "markdown",
      "source": [
        "- age: The person’s age in years\n",
        "- sex: The person’s sex (1 = male, 0 = female)\n",
        "- cp: The chest pain experienced (Value 1: typical angina, Value 2: atypical - angina, Value 3: non-anginal pain, Value 4: asymptomatic)\n",
        "- trestbps: The person’s resting blood pressure\n",
        "- chol: The person’s cholesterol measurement in mg/dl\n",
        "- fbs: The person’s fasting blood sugar (> 120 mg/dl, 1 = true; 0 = false)\n",
        "- restecg: Resting electrocardiographic measurement (0 = normal, 1 = having ST-T wave abnormality, 2 = showing probable or definite left ventricular hypertrophy by Estes’ criteria)\n",
        "- thalach: The person’s maximum heart rate achieved\n",
        "- exang: Exercise induced angina (1 = yes; 0 = no)\n",
        "- oldpeak: ST depression induced by exercise relative to rest (‘ST’ relates to positions on the ECG plot)\n",
        "- slope: the slope of the peak exercise ST segment (Value 1: upsloping, Value 2: flat, Value 3: downsloping)\n",
        "- ca: The number of major vessels (0–3)\n",
        "- thal: A blood disorder called thalassemia (3 = normal; 6 = fixed defect; 7 = reversable defect)\n",
        "- target: Heart disease (0 = no, 1 = yes)"
      ],
      "metadata": {
        "id": "vuMbShKtYxKt"
      }
    },
    {
      "cell_type": "markdown",
      "source": [
        "Note: Make sure you have download the dataset from Kaggle link first. \n",
        "\n",
        "- Now we will upload the heart.csv from local file system to Google colab \n",
        "server.\n",
        "- You can also use pandas to upload the file from local file system also\n",
        "  - df = pd.read_csv(io.BytesIO(uploaded['heart.csv']))\n"
      ],
      "metadata": {
        "id": "c0q9ZFr3ZqDq"
      }
    },
    {
      "cell_type": "code",
      "source": [
        "!pip show comet_ml"
      ],
      "metadata": {
        "id": "gJpWNDZut11m"
      },
      "execution_count": null,
      "outputs": []
    },
    {
      "cell_type": "code",
      "source": [
        "!pip install comet_ml"
      ],
      "metadata": {
        "id": "5xxM8aBT5jk_"
      },
      "execution_count": null,
      "outputs": []
    },
    {
      "cell_type": "code",
      "source": [
        "from comet_ml import Experiment"
      ],
      "metadata": {
        "id": "VdJvD-MB5xuc"
      },
      "execution_count": null,
      "outputs": []
    },
    {
      "cell_type": "code",
      "source": [
        "experiment = Experiment(\n",
        "    api_key=\"TjOdGIw502EUf8Ge4IQKWJP76\", ## \"YOUR_COMET_ML_API_KEY_HERE\",\n",
        "    project_name=\"keras_heart_disease\", \n",
        "    workspace=\"avkash-prodramp-com\",\n",
        "    auto_metric_logging=True,\n",
        "    auto_param_logging=True,\n",
        "    log_graph=True,\n",
        "    auto_metric_step_rate=True,\n",
        "    parse_args=True,\n",
        "    auto_histogram_weight_logging=True,\n",
        "    auto_histogram_gradient_logging=True,\n",
        "    auto_histogram_activation_logging=True,\n",
        "    auto_histogram_epoch_rate=True,\n",
        ")"
      ],
      "metadata": {
        "id": "UngVQzNo6ZsU"
      },
      "execution_count": null,
      "outputs": []
    },
    {
      "cell_type": "code",
      "source": [
        "from google.colab import files\n",
        "uploaded = files.upload()"
      ],
      "metadata": {
        "id": "OkmOS2LpZjRT"
      },
      "execution_count": null,
      "outputs": []
    },
    {
      "cell_type": "code",
      "source": [
        "!ls -l"
      ],
      "metadata": {
        "id": "mE18B1v9ayhm"
      },
      "execution_count": null,
      "outputs": []
    },
    {
      "cell_type": "code",
      "source": [
        "import pandas as pd\n",
        "import seaborn as  sns\n",
        "import matplotlib.pyplot as plt"
      ],
      "metadata": {
        "id": "x8281AvEauAR"
      },
      "execution_count": null,
      "outputs": []
    },
    {
      "cell_type": "code",
      "source": [
        "import io\n",
        "df = pd.read_csv('heart.csv')"
      ],
      "metadata": {
        "id": "q6NpnH2aZkgI"
      },
      "execution_count": null,
      "outputs": []
    },
    {
      "cell_type": "code",
      "source": [
        "df"
      ],
      "metadata": {
        "id": "bH9ycJYwar7c"
      },
      "execution_count": null,
      "outputs": []
    },
    {
      "cell_type": "code",
      "source": [
        "df.shape"
      ],
      "metadata": {
        "id": "bZcuCjJTa9_B"
      },
      "execution_count": null,
      "outputs": []
    },
    {
      "cell_type": "code",
      "source": [
        "df.columns"
      ],
      "metadata": {
        "id": "iSPwY3NfbCxq"
      },
      "execution_count": null,
      "outputs": []
    },
    {
      "cell_type": "code",
      "source": [
        "f = sns.countplot(x='target', data=df)\n",
        "f.set_title(\"Heart disease distribution (Target distribution)\")\n",
        "f.set_xticklabels(['Heart disease - Yes', 'Heart Disease - No'])\n",
        "plt.xlabel(\"\");"
      ],
      "metadata": {
        "id": "PBsziO8hbDkd"
      },
      "execution_count": null,
      "outputs": []
    },
    {
      "cell_type": "code",
      "source": [
        "f = sns.countplot(x='target', data=df, hue='sex')\n",
        "plt.legend(['Female', 'Male'])\n",
        "f.set_title(\"Heart Disease by gender\")\n",
        "f.set_xticklabels(['Heart disease - Yes', 'Heart Disease - No'])\n",
        "plt.xlabel(\"\");"
      ],
      "metadata": {
        "id": "jOw0E2SsbSsp"
      },
      "execution_count": null,
      "outputs": []
    },
    {
      "cell_type": "code",
      "source": [
        "heat_map = sns.heatmap(df.corr(method='pearson'), annot=True, fmt='.2f', linewidths=2)\n",
        "heat_map.set_xticklabels(heat_map.get_xticklabels(), rotation=45);\n",
        "plt.rcParams[\"figure.figsize\"] = (50,50)"
      ],
      "metadata": {
        "id": "bFVQ-2CSbiRI"
      },
      "execution_count": null,
      "outputs": []
    },
    {
      "cell_type": "markdown",
      "source": [
        "Now we need to split the dataset into target and training format.\n",
        "- Target will have only target column\n",
        "- Training data will have all the columns besides target column"
      ],
      "metadata": {
        "id": "QuNPHoT6h1lW"
      }
    },
    {
      "cell_type": "code",
      "source": [
        "df_input = pd.DataFrame(df.iloc[:, 0:13])"
      ],
      "metadata": {
        "id": "KsOnJr3Xccc3"
      },
      "execution_count": null,
      "outputs": []
    },
    {
      "cell_type": "code",
      "source": [
        "df_input.shape"
      ],
      "metadata": {
        "id": "jEWh3FRah_4A"
      },
      "execution_count": null,
      "outputs": []
    },
    {
      "cell_type": "code",
      "source": [
        "df_input"
      ],
      "metadata": {
        "id": "gul6bBABcpNJ"
      },
      "execution_count": null,
      "outputs": []
    },
    {
      "cell_type": "code",
      "source": [
        "df_target = pd.DataFrame(df.iloc[:, 13],columns=['target'])"
      ],
      "metadata": {
        "id": "vxZevGIScv6W"
      },
      "execution_count": null,
      "outputs": []
    },
    {
      "cell_type": "code",
      "source": [
        "df_target.shape"
      ],
      "metadata": {
        "id": "71LyngJAiDzk"
      },
      "execution_count": null,
      "outputs": []
    },
    {
      "cell_type": "code",
      "source": [
        "df_target"
      ],
      "metadata": {
        "id": "iBaQ7PaKcyAH"
      },
      "execution_count": null,
      "outputs": []
    },
    {
      "cell_type": "markdown",
      "source": [
        "Transforming the training data so it can be understood by the deep learning engine. \n",
        "\n",
        "- StandardScaler removes the mean and scales the data to unit variance.\n",
        "\n",
        "More info: \n",
        "- https://scikit-learn.org/stable/modules/generated/sklearn.preprocessing.StandardScaler.html\n",
        "- https://scikit-learn.org/stable/auto_examples/preprocessing/plot_all_scaling.html#sphx-glr-auto-examples-preprocessing-plot-all-scaling-py\n"
      ],
      "metadata": {
        "id": "cm4D5iE5iJJm"
      }
    },
    {
      "cell_type": "code",
      "source": [
        "from sklearn.preprocessing import StandardScaler\n",
        "\n",
        "scaler = StandardScaler()\n",
        "df_scaled_input = scaler.fit_transform(df_input)"
      ],
      "metadata": {
        "id": "QTRpE43fcMdT"
      },
      "execution_count": null,
      "outputs": []
    },
    {
      "cell_type": "code",
      "source": [
        "df_scaled_input"
      ],
      "metadata": {
        "id": "jpRgEztXdD8g"
      },
      "execution_count": null,
      "outputs": []
    },
    {
      "cell_type": "markdown",
      "source": [
        "\n",
        "- Splitting the dataset into two sets: \n",
        "  - training set\n",
        "  - testing set. \n",
        "- Library Used:\n",
        "   - scikit-learn library has been used with function sklearn.model_selection.train_test_split() function to split the source data"
      ],
      "metadata": {
        "id": "8DxNs4UdfvFb"
      }
    },
    {
      "cell_type": "code",
      "source": [
        "from sklearn.model_selection import train_test_split\n",
        "df_input_train, df_input_test, df_target_train, df_target_test = train_test_split(df_scaled_input, df_target, test_size = 0.30, random_state = 5)\n",
        "print(\"Training data Split (Train & Test)\")\n",
        "print(df_input_train.shape)\n",
        "print(df_input_test.shape)\n",
        "\n",
        "print(\"Target data Split (Train & Test)\")\n",
        "print(df_target_train.shape)\n",
        "print(df_target_test.shape)"
      ],
      "metadata": {
        "id": "9jXIf5iybk-W"
      },
      "execution_count": null,
      "outputs": []
    },
    {
      "cell_type": "code",
      "source": [
        "## Adding Validation data with Training\n",
        "X_train, X_val, y_train, y_val = train_test_split(df_input_train, df_target_train, test_size=0.2, random_state=1)\n",
        "print(\"Training data Split with  (Train & Test)\")\n",
        "print(X_train.shape)\n",
        "print(y_train.shape)\n",
        "\n",
        "print(\"Validation data Split (Train & Test)\")\n",
        "print(X_val.shape)\n",
        "print(y_val.shape)"
      ],
      "metadata": {
        "id": "taVpCSnzs82G"
      },
      "execution_count": null,
      "outputs": []
    },
    {
      "cell_type": "markdown",
      "source": [
        "**Build the Keras classifier to predict the heart disease**"
      ],
      "metadata": {
        "id": "DxmIkURlf1Qc"
      }
    },
    {
      "cell_type": "code",
      "source": [
        "from keras.models import Sequential\n",
        "from keras.layers import Dense"
      ],
      "metadata": {
        "id": "rOEjEyqqe4bp"
      },
      "execution_count": null,
      "outputs": []
    },
    {
      "cell_type": "markdown",
      "source": [
        "**Keras Settings:**\n",
        "\n",
        "- In the first line, we se the model as Sequential. \n",
        "- All Layers\n",
        "  - Added 3 fully connected Dense layers, two hidden and one output. \n",
        "  - All layers are from Dense class.\n",
        "- First Layer (Dense(30, input_dim=13, activation='tanh'))\n",
        "  - The first input layer has inout dimension as 13 for all 13 columns.\n",
        "  - the activation function is tanh\n",
        "- Second Layer (Dense(20, activation='tanh'))\n",
        "  - It has 20 neurons and the tanh activation function. \n",
        "- Output Layer (Dense(1, activation='sigmoid'))\n",
        "  - Output layer has a single neuron (output) \n",
        "  - The sigmoid activation function is selected for binary classification problems \n",
        "  - Out target data is binay - Yes or No heart disease .\n"
      ],
      "metadata": {
        "id": "6o5_SjTre1CL"
      }
    },
    {
      "cell_type": "code",
      "source": [
        "model = Sequential()\n",
        "model.add(Dense(30, input_dim=13, activation='tanh'))\n",
        "model.add(Dense(20, activation='tanh'))\n",
        "model.add(Dense(10, activation='tanh'))\n",
        "model.add(Dense(1, activation='sigmoid'))"
      ],
      "metadata": {
        "id": "EpynGWLFbyuZ"
      },
      "execution_count": null,
      "outputs": []
    },
    {
      "cell_type": "markdown",
      "source": [
        "**Compile and fit Step:**\n",
        "\n",
        "Compile function has 3 arguments:\n",
        "- The adam optimizer: An algorithm for first-order gradient-based optimization.\n",
        "- The binary_crossentropy loss function: logarithmic loss, which for a binary classification problem is defined in Keras as binary_crossentropy\n",
        "- The accuracy metric: to evaluate the performance of your model during training and testing\n",
        "\n",
        "Fit Function has the following parameters:\n",
        "- epochs = 100"
      ],
      "metadata": {
        "id": "Ge2c7zVKek5S"
      }
    },
    {
      "cell_type": "markdown",
      "source": [
        "**Plotting Keras Model**\n",
        "- https://keras.io/api/utils/model_plotting_utils/\n"
      ],
      "metadata": {
        "id": "ZqVTdsqOlrFR"
      }
    },
    {
      "cell_type": "code",
      "source": [
        "from keras.utils.vis_utils import plot_model"
      ],
      "metadata": {
        "id": "i0WzBLOzk89K"
      },
      "execution_count": null,
      "outputs": []
    },
    {
      "cell_type": "code",
      "source": [
        "plot_model(model, to_file='model_plot.png', show_shapes=True, show_layer_names=True)"
      ],
      "metadata": {
        "id": "M3PyZJ5NlWg6"
      },
      "execution_count": null,
      "outputs": []
    },
    {
      "cell_type": "code",
      "source": [
        "%matplotlib inline\n",
        "\n",
        "import keras\n",
        "from IPython.display import clear_output"
      ],
      "metadata": {
        "id": "hL_6hpKUnssu"
      },
      "execution_count": null,
      "outputs": []
    },
    {
      "cell_type": "code",
      "source": [
        "# updatable live loss plot with Keras Model Training\n",
        "# a minimal example (sort of)\n",
        "# Code Source: https://gist.github.com/stared/dfb4dfaf6d9a8501cd1cc8b8cb806d2e\n",
        "\n",
        "class PlotLosses(keras.callbacks.Callback):\n",
        "    def on_train_begin(self, logs={}):\n",
        "        self.i = 0\n",
        "        self.x = []\n",
        "        self.losses = []\n",
        "        self.val_losses = []\n",
        "        \n",
        "        self.fig = plt.figure()\n",
        "        \n",
        "        self.logs = []\n",
        "\n",
        "    def on_epoch_end(self, epoch, logs={}):\n",
        "        \n",
        "        self.logs.append(logs)\n",
        "        self.x.append(self.i)\n",
        "        self.losses.append(logs.get('loss'))\n",
        "        self.val_losses.append(logs.get('val_loss'))\n",
        "        self.i += 1\n",
        "        \n",
        "        clear_output(wait=True)\n",
        "        plt.plot(self.x, self.losses, label=\"loss\")\n",
        "        plt.plot(self.x, self.val_losses, label=\"val_loss\")\n",
        "        plt.legend()\n",
        "        plt.show();\n",
        "        \n",
        "plot_losses = PlotLosses()"
      ],
      "metadata": {
        "id": "9E4fyVBGnnBC"
      },
      "execution_count": null,
      "outputs": []
    },
    {
      "cell_type": "code",
      "source": [
        "model.compile(optimizer='adam',loss='binary_crossentropy',metrics=['accuracy'])\n",
        "#history = model.fit(df_input_train, df_target_train, epochs=100, verbose=1)\n",
        "\n",
        "# Note: To print the live training graph, you need to add the callback function as below:\n",
        "# history = model.fit(X_train, y_train, epochs=100, callbacks=[plot_losses], verbose=1, validation_data=(X_val, y_val))\n",
        "history = model.fit(X_train, y_train, epochs=100, verbose=1, validation_data=(X_val, y_val))"
      ],
      "metadata": {
        "id": "G27gnW4sd7pF"
      },
      "execution_count": null,
      "outputs": []
    },
    {
      "cell_type": "code",
      "source": [
        "# Live plotting of model training\n",
        "# Code Source: https://gist.github.com/stared/dfb4dfaf6d9a8501cd1cc8b8cb806d2e\n",
        "\n",
        "class PlotLearning(keras.callbacks.Callback):\n",
        "    def on_train_begin(self, logs={}):\n",
        "        self.i = 0\n",
        "        self.x = []\n",
        "        self.losses = []\n",
        "        self.val_losses = []\n",
        "        self.acc = []\n",
        "        self.val_acc = []\n",
        "        self.fig = plt.figure()\n",
        "        \n",
        "        self.logs = []\n",
        "\n",
        "    def on_epoch_end(self, epoch, logs={}):\n",
        "        \n",
        "        self.logs.append(logs)\n",
        "        self.x.append(self.i)\n",
        "        self.losses.append(logs.get('loss'))\n",
        "        self.val_losses.append(logs.get('val_loss'))\n",
        "        self.acc.append(logs.get('acc'))\n",
        "        self.val_acc.append(logs.get('val_acc'))\n",
        "        self.i += 1\n",
        "        f, (ax1, ax2) = plt.subplots(1, 2, sharex=True)\n",
        "        \n",
        "        clear_output(wait=True)\n",
        "        \n",
        "        ax1.set_yscale('log')\n",
        "        ax1.plot(self.x, self.losses, label=\"loss\")\n",
        "        ax1.plot(self.x, self.val_losses, label=\"val_loss\")\n",
        "        ax1.legend()\n",
        "        \n",
        "        ax2.plot(self.x, self.acc, label=\"accuracy\")\n",
        "        ax2.plot(self.x, self.val_acc, label=\"validation accuracy\")\n",
        "        ax2.legend()\n",
        "        \n",
        "        plt.show();\n",
        "        \n",
        "plot_learn_loss_with_acc = PlotLearning()"
      ],
      "metadata": {
        "id": "0fpJ2nXepPX_"
      },
      "execution_count": null,
      "outputs": []
    },
    {
      "cell_type": "code",
      "source": [
        "model.compile(optimizer='adam',loss='binary_crossentropy',metrics=['accuracy'])\n",
        "#history = model.fit(df_input_train, df_target_train, epochs=100, verbose=1)\n",
        "\n",
        "# Note: To print the live training graph, you need to add the callback function as below:\n",
        "history = model.fit(X_train, y_train, epochs=100, callbacks=[plot_learn_loss_with_acc], verbose=1, validation_data=(X_val, y_val))"
      ],
      "metadata": {
        "id": "iEu2ZYaXpa8k"
      },
      "execution_count": null,
      "outputs": []
    },
    {
      "cell_type": "code",
      "source": [
        "model.summary()\n",
        "score = model.evaluate(X_train, y_train, verbose=0)\n",
        "print('Model Accuracy = ',score[1])"
      ],
      "metadata": {
        "id": "L3OhehhieCn5"
      },
      "execution_count": null,
      "outputs": []
    },
    {
      "cell_type": "code",
      "source": [
        "history"
      ],
      "metadata": {
        "id": "FTsH7sBOm0Ur"
      },
      "execution_count": null,
      "outputs": []
    },
    {
      "cell_type": "code",
      "source": [
        "history.history.keys()"
      ],
      "metadata": {
        "id": "Qs1S2fCirKQm"
      },
      "execution_count": null,
      "outputs": []
    },
    {
      "cell_type": "code",
      "source": [
        "pd.DataFrame(history.history).plot(figsize=(8,5))\n",
        "plt.show()"
      ],
      "metadata": {
        "id": "_EPtVYL6mVQv"
      },
      "execution_count": null,
      "outputs": []
    },
    {
      "cell_type": "code",
      "source": [
        "acc = history.history['accuracy']\n",
        "val_acc = history.history['val_accuracy']\n",
        "loss = history.history['loss']\n",
        "val_loss = history.history['val_loss']"
      ],
      "metadata": {
        "id": "-ztC0wiKrEus"
      },
      "execution_count": null,
      "outputs": []
    },
    {
      "cell_type": "code",
      "source": [
        "epochs = range(1, len(acc) + 1)\n",
        "\n",
        "plt.plot(epochs, acc, 'bo', label='Training acc', color=\"green\")\n",
        "plt.plot(epochs, val_acc, 'b', label='Validation acc', color=\"red\")\n",
        "plt.title('Training and validation accuracy')\n",
        "plt.xlabel('Epochs')\n",
        "plt.ylabel('Accuracy')\n",
        "plt.legend()\n",
        "\n",
        "plt.figure()\n",
        "\n",
        "plt.plot(epochs, loss, 'bo', label='Training loss')\n",
        "plt.plot(epochs, val_loss, 'b', label='Validation loss', color=\"orange\")\n",
        "plt.title('Training and validation loss')\n",
        "plt.xlabel('Epochs')\n",
        "plt.ylabel('Loss')\n",
        "plt.legend()\n",
        "\n",
        "plt.show()"
      ],
      "metadata": {
        "id": "6cx5cFkEwrRv"
      },
      "execution_count": null,
      "outputs": []
    },
    {
      "cell_type": "code",
      "source": [
        "Target_Classification = model.predict(df_input_test)\n",
        "Target_Classification = (Target_Classification > 0.5)\n",
        "\n",
        "\n",
        "\n",
        "from sklearn.metrics import confusion_matrix\n",
        "\n",
        "print(confusion_matrix(df_target_test, Target_Classification))"
      ],
      "metadata": {
        "id": "PnSvH_pmeGca"
      },
      "execution_count": null,
      "outputs": []
    },
    {
      "cell_type": "code",
      "source": [
        "import numpy as np\n",
        "best_model_accuracy = history.history['accuracy'][np.argmin(history.history['loss'])]\n",
        "print(best_model_accuracy)"
      ],
      "metadata": {
        "id": "abuDP43meVuG"
      },
      "execution_count": null,
      "outputs": []
    },
    {
      "cell_type": "code",
      "source": [
        "model.save('model/keras-heart-disease.bin')"
      ],
      "metadata": {
        "id": "J1sdn2uBzscx"
      },
      "execution_count": null,
      "outputs": []
    },
    {
      "cell_type": "code",
      "source": [
        "!ls"
      ],
      "metadata": {
        "id": "M9ojUiyIusMd"
      },
      "execution_count": null,
      "outputs": []
    },
    {
      "cell_type": "code",
      "source": [
        "!ls model/"
      ],
      "metadata": {
        "id": "wJ8Xh-ecvygb"
      },
      "execution_count": null,
      "outputs": []
    },
    {
      "cell_type": "code",
      "source": [
        "from tensorflow import keras"
      ],
      "metadata": {
        "id": "UO9AhSU1u4Gg"
      },
      "execution_count": null,
      "outputs": []
    },
    {
      "cell_type": "code",
      "source": [
        "model_x = keras.models.load_model('model/keras-heart-disease.bin')"
      ],
      "metadata": {
        "id": "mkulxJEcuufx"
      },
      "execution_count": null,
      "outputs": []
    },
    {
      "cell_type": "code",
      "source": [
        "print(model_x.metrics[0])\n",
        "print(model_x.metrics[1])"
      ],
      "metadata": {
        "id": "N1ikaL5iu6mT"
      },
      "execution_count": null,
      "outputs": []
    },
    {
      "cell_type": "code",
      "source": [
        "model_x.summary()\n",
        "score_x = model_x.evaluate(X_train, y_train, verbose=0)\n",
        "print('Model Accuracy = ',score_x[1])"
      ],
      "metadata": {
        "id": "UP2YEa60vW-H"
      },
      "execution_count": null,
      "outputs": []
    },
    {
      "cell_type": "code",
      "source": [
        "!pwd"
      ],
      "metadata": {
        "id": "24hg8hURwH9y"
      },
      "execution_count": null,
      "outputs": []
    },
    {
      "cell_type": "code",
      "source": [
        "!ls /content/model"
      ],
      "metadata": {
        "id": "jwjelS0NwL-f"
      },
      "execution_count": null,
      "outputs": []
    },
    {
      "cell_type": "code",
      "source": [
        ""
      ],
      "metadata": {
        "id": "Dpdx-ZdXxasI"
      },
      "execution_count": null,
      "outputs": []
    },
    {
      "cell_type": "code",
      "source": [
        "experiment.display()"
      ],
      "metadata": {
        "id": "zwFoETcMxGR8"
      },
      "execution_count": null,
      "outputs": []
    },
    {
      "cell_type": "code",
      "source": [
        "experiment.log_model(\"Keras Heart Disease Model\", \"/content/model/keras-heart-disease.bin\")"
      ],
      "metadata": {
        "id": "blLBG1PHvhEf"
      },
      "execution_count": null,
      "outputs": []
    },
    {
      "cell_type": "code",
      "source": [
        "experiment.log_dataset_hash(X_train)"
      ],
      "metadata": {
        "id": "doagBFH2xb-6"
      },
      "execution_count": null,
      "outputs": []
    },
    {
      "cell_type": "code",
      "source": [
        "experiment.end()"
      ],
      "metadata": {
        "id": "YcVUmghez3xQ"
      },
      "execution_count": null,
      "outputs": []
    },
    {
      "cell_type": "code",
      "source": [
        ""
      ],
      "metadata": {
        "id": "f1Kr5Ydq937B"
      },
      "execution_count": null,
      "outputs": []
    }
  ]
}