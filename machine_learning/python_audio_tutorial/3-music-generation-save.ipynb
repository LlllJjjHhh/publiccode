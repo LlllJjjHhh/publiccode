{
 "cells": [
  {
   "cell_type": "code",
   "execution_count": null,
   "id": "4658548f",
   "metadata": {},
   "outputs": [],
   "source": [
    "import librosa as lib\n",
    "import numpy as np\n",
    "import matplotlib.pyplot as plot\n",
    "import IPython.display as ipd"
   ]
  },
  {
   "cell_type": "code",
   "execution_count": null,
   "id": "038b02f6",
   "metadata": {},
   "outputs": [],
   "source": [
    "sample_rate = 22050 # sample rate\n",
    "total_time = 5.0    # seconds"
   ]
  },
  {
   "cell_type": "code",
   "execution_count": null,
   "id": "7e06c3be",
   "metadata": {},
   "outputs": [],
   "source": [
    "# time (x values of the sine wave) variable\n",
    "time_x = np.linspace(0, total_time, int(total_time*sample_rate), endpoint=False) "
   ]
  },
  {
   "cell_type": "code",
   "execution_count": null,
   "id": "5e8d8bb5",
   "metadata": {},
   "outputs": [],
   "source": [
    "time_x"
   ]
  },
  {
   "cell_type": "code",
   "execution_count": null,
   "id": "962ac092",
   "metadata": {},
   "outputs": [],
   "source": [
    "# sine wave at 220 Hz\n",
    "x = 0.5*np.sin(2*np.pi*220*time_x)"
   ]
  },
  {
   "cell_type": "code",
   "execution_count": null,
   "id": "e1aa6c24",
   "metadata": {},
   "outputs": [],
   "source": [
    "x"
   ]
  },
  {
   "cell_type": "code",
   "execution_count": null,
   "id": "1c8e5f60",
   "metadata": {},
   "outputs": [],
   "source": [
    "amplitude   = np.sin(time_x)"
   ]
  },
  {
   "cell_type": "code",
   "execution_count": null,
   "id": "09f2e3c9",
   "metadata": {},
   "outputs": [],
   "source": [
    "amplitude"
   ]
  },
  {
   "cell_type": "markdown",
   "id": "051e751b",
   "metadata": {},
   "source": [
    "## Plotting sin wave "
   ]
  },
  {
   "cell_type": "code",
   "execution_count": null,
   "id": "3a3eb472",
   "metadata": {},
   "outputs": [],
   "source": [
    "# Plot a sine wave using time and amplitude obtained for the sine wave\n",
    "plot.plot(time_x, amplitude)\n",
    "# Give a title for the sine wave plot\n",
    "plot.title('Sine wave')\n",
    "# Give x axis label for the sine wave plot\n",
    "plot.xlabel('Time')\n",
    "# Give y axis label for the sine wave plot\n",
    "plot.ylabel('Amplitude = sin(time)')\n",
    "plot.grid(True, which='both')\n",
    "plot.axhline(y=0, color='k')\n",
    "plot.show()\n",
    "# Display the sine wave\n",
    "plot.show()"
   ]
  },
  {
   "cell_type": "markdown",
   "id": "812a62e4",
   "metadata": {},
   "source": [
    "# Playing the audio"
   ]
  },
  {
   "cell_type": "code",
   "execution_count": null,
   "id": "4c130428",
   "metadata": {},
   "outputs": [],
   "source": [
    "# load a NumPy array\n",
    "ipd.Audio(x, rate=sample_rate) "
   ]
  },
  {
   "cell_type": "markdown",
   "id": "d5da2f03",
   "metadata": {},
   "source": [
    "# Save wave audio to disk"
   ]
  },
  {
   "cell_type": "code",
   "execution_count": null,
   "id": "348aebb8",
   "metadata": {},
   "outputs": [],
   "source": [
    "import soundfile as sf"
   ]
  },
  {
   "cell_type": "code",
   "execution_count": null,
   "id": "afe9717e",
   "metadata": {},
   "outputs": [],
   "source": [
    "sf.write('stereo_file.wav', x, samplerate=sample_rate)"
   ]
  },
  {
   "cell_type": "code",
   "execution_count": null,
   "id": "cc4b950f",
   "metadata": {},
   "outputs": [],
   "source": [
    "!ls"
   ]
  },
  {
   "cell_type": "code",
   "execution_count": null,
   "id": "af4822f1",
   "metadata": {},
   "outputs": [],
   "source": [
    "temp_x, temp_sr = sf.read('stereo_file.wav')\n",
    "print(temp_x.shape, temp_sr)\n",
    "ipd.Audio(temp_x, rate=temp_sr) "
   ]
  },
  {
   "cell_type": "code",
   "execution_count": null,
   "id": "a508803e",
   "metadata": {},
   "outputs": [],
   "source": [
    "sf.write('wave_22050.wav', x, 48000, 'PCM_24')"
   ]
  },
  {
   "cell_type": "code",
   "execution_count": null,
   "id": "96ae04ea",
   "metadata": {},
   "outputs": [],
   "source": [
    "!ls"
   ]
  },
  {
   "cell_type": "code",
   "execution_count": null,
   "id": "2b15c900",
   "metadata": {},
   "outputs": [],
   "source": [
    "temp_x, temp_sr = sf.read('wave_22050.wav')\n",
    "print(temp_x.shape, temp_sr)\n",
    "ipd.Audio(temp_x, rate=temp_sr) "
   ]
  },
  {
   "cell_type": "code",
   "execution_count": null,
   "id": "4d982c57",
   "metadata": {},
   "outputs": [],
   "source": []
  }
 ],
 "metadata": {
  "kernelspec": {
   "display_name": "Python 3 (ipykernel)",
   "language": "python",
   "name": "python3"
  },
  "language_info": {
   "codemirror_mode": {
    "name": "ipython",
    "version": 3
   },
   "file_extension": ".py",
   "mimetype": "text/x-python",
   "name": "python",
   "nbconvert_exporter": "python",
   "pygments_lexer": "ipython3",
   "version": "3.8.12"
  }
 },
 "nbformat": 4,
 "nbformat_minor": 5
}
