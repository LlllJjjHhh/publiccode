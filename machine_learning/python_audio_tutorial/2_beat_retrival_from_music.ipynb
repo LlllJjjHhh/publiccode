{
 "cells": [
  {
   "cell_type": "code",
   "execution_count": null,
   "id": "ebf58b30",
   "metadata": {},
   "outputs": [],
   "source": [
    "import librosa\n",
    "import IPython.display as ipd\n",
    "%matplotlib inline\n",
    "import matplotlib.pyplot as plt\n",
    "import librosa.display"
   ]
  },
  {
   "cell_type": "code",
   "execution_count": null,
   "id": "7c7df181",
   "metadata": {},
   "outputs": [],
   "source": [
    "!ls"
   ]
  },
  {
   "cell_type": "code",
   "execution_count": null,
   "id": "5f7a7014",
   "metadata": {},
   "outputs": [],
   "source": [
    "wave_x, sample_rate = librosa.load('royalty-free-music/58bpm.wav')\n",
    "ipd.Audio(wave_x, rate=sample_rate)"
   ]
  },
  {
   "cell_type": "code",
   "execution_count": null,
   "id": "5fe45c02",
   "metadata": {},
   "outputs": [],
   "source": [
    "plt.figure(figsize=(15, 4), facecolor=(.9, .9, .9))\n",
    "librosa.display.waveshow(wave_x, sr=sample_rate, color='pink')"
   ]
  },
  {
   "cell_type": "code",
   "execution_count": null,
   "id": "c7eeebc5",
   "metadata": {},
   "outputs": [],
   "source": [
    "X = librosa.stft(wave_x)\n",
    "Xdb = librosa.amplitude_to_db(abs(X))"
   ]
  },
  {
   "cell_type": "code",
   "execution_count": null,
   "id": "ec62d5d6",
   "metadata": {},
   "outputs": [],
   "source": [
    "plt.figure(figsize=(14, 5))\n",
    "librosa.display.specshow(Xdb, sr=sample_rate, x_axis='time', y_axis='hz')\n",
    "plt.colorbar()"
   ]
  },
  {
   "cell_type": "code",
   "execution_count": null,
   "id": "2bf0c69e",
   "metadata": {},
   "outputs": [],
   "source": [
    "tempo, beat_frames = librosa.beat.beat_track(y=wave_x, sr=sample_rate)\n",
    "print('Estimated tempo: {:.2f} beats per minute'.format(tempo))"
   ]
  },
  {
   "cell_type": "code",
   "execution_count": null,
   "id": "e7293810",
   "metadata": {},
   "outputs": [],
   "source": [
    "# 4. Convert the frame indices of beat events into timestamps\n",
    "beat_times = librosa.frames_to_time(beat_frames, sr=sample_rate)"
   ]
  },
  {
   "cell_type": "code",
   "execution_count": null,
   "id": "1352777f",
   "metadata": {},
   "outputs": [],
   "source": [
    "print(beat_times)\n",
    "print(beat_times.shape)"
   ]
  },
  {
   "cell_type": "code",
   "execution_count": null,
   "id": "9f58f346",
   "metadata": {},
   "outputs": [],
   "source": [
    "plt.figure(figsize=(14, 5))\n",
    "librosa.display.waveshow(wave_x, alpha=0.4)\n",
    "plt.vlines(beat_times, -1, 1, color='r')\n",
    "plt.ylim(-1, 1)"
   ]
  },
  {
   "cell_type": "code",
   "execution_count": null,
   "id": "08fbc812",
   "metadata": {},
   "outputs": [],
   "source": [
    "from ipywidgets import interact"
   ]
  },
  {
   "cell_type": "code",
   "execution_count": null,
   "id": "e2c786f6",
   "metadata": {},
   "outputs": [],
   "source": [
    "def f(start_bpm, tightness_exp):\n",
    "    return librosa.beat.beat_track(wave_x, sr=sample_rate, start_bpm=start_bpm, tightness=10**tightness_exp, units='time')\n",
    "interact(f, start_bpm=60, tightness_exp=2)"
   ]
  },
  {
   "cell_type": "code",
   "execution_count": null,
   "id": "119b444e",
   "metadata": {},
   "outputs": [],
   "source": [
    "plt.figure(figsize=(14, 5))\n",
    "librosa.display.waveshow(wave_x, alpha=0.4)\n",
    "plt.vlines(beat_times, -1, 1, color='r')\n",
    "plt.ylim(-1, 1)"
   ]
  },
  {
   "cell_type": "code",
   "execution_count": null,
   "id": "7a7049db",
   "metadata": {},
   "outputs": [],
   "source": []
  }
 ],
 "metadata": {
  "kernelspec": {
   "display_name": "Python 3 (ipykernel)",
   "language": "python",
   "name": "python3"
  },
  "language_info": {
   "codemirror_mode": {
    "name": "ipython",
    "version": 3
   },
   "file_extension": ".py",
   "mimetype": "text/x-python",
   "name": "python",
   "nbconvert_exporter": "python",
   "pygments_lexer": "ipython3",
   "version": "3.8.12"
  }
 },
 "nbformat": 4,
 "nbformat_minor": 5
}
