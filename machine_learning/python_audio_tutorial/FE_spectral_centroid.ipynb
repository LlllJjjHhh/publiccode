{
 "cells": [
  {
   "cell_type": "markdown",
   "id": "6208d604",
   "metadata": {},
   "source": [
    "# Feature Extraction\n",
    "## Spectral Centroid\n",
    "- Spectral centroid indicates where the ”center of mass” for a sound is located\n",
    "- Calculated as the weighted mean of the frequencies present in the sound. \n",
    "- Consider two songs, one from a blues genre and the other belonging to metal. \n",
    "- Now, as compared to the blues genre song, which is the same throughout its length, the metal song has more frequencies towards the end. \n",
    "  - For blues song spectral centroid will lie somewhere near the middle of its spectrum \n",
    "  - For a metal song spectral centroid would be towards its end\n",
    "  \n",
    "### Library.function  \n",
    "- librosa.feature.spectral_centroid computes the spectral centroid for each frame in a signal:"
   ]
  },
  {
   "cell_type": "code",
   "execution_count": null,
   "id": "e072a983",
   "metadata": {},
   "outputs": [],
   "source": [
    "import librosa\n",
    "import IPython.display as ipd\n",
    "%matplotlib inline\n",
    "import matplotlib.pyplot as plt\n",
    "import librosa.display\n",
    "from sklearn.preprocessing import minmax_scale"
   ]
  },
  {
   "cell_type": "code",
   "execution_count": null,
   "id": "4b076c72",
   "metadata": {},
   "outputs": [],
   "source": [
    "!ls"
   ]
  },
  {
   "cell_type": "code",
   "execution_count": null,
   "id": "d871851c",
   "metadata": {},
   "outputs": [],
   "source": [
    "source_audio = 'royalty-free-music/58bpm.wav'"
   ]
  },
  {
   "cell_type": "code",
   "execution_count": null,
   "id": "d99c303f",
   "metadata": {},
   "outputs": [],
   "source": [
    "wave_x, sample_rate = librosa.load(source_audio)\n",
    "ipd.Audio(wave_x, rate=sample_rate)"
   ]
  },
  {
   "cell_type": "code",
   "execution_count": null,
   "id": "0858713b",
   "metadata": {},
   "outputs": [],
   "source": [
    "plt.figure(figsize=(15, 4), facecolor=(.9, .9, .9))\n",
    "librosa.display.waveshow(wave_x, sr=sample_rate, color='pink')"
   ]
  },
  {
   "cell_type": "code",
   "execution_count": null,
   "id": "2c1eae38",
   "metadata": {},
   "outputs": [],
   "source": [
    "all_centroids = librosa.feature.spectral_centroid(wave_x, sr=sample_rate)"
   ]
  },
  {
   "cell_type": "code",
   "execution_count": null,
   "id": "464706a6",
   "metadata": {},
   "outputs": [],
   "source": [
    "all_centroids.shape"
   ]
  },
  {
   "cell_type": "code",
   "execution_count": null,
   "id": "d328bff0",
   "metadata": {},
   "outputs": [],
   "source": [
    "spectral_centroids = librosa.feature.spectral_centroid(wave_x, sr=sample_rate)[0]\n",
    "spectral_centroids.shape"
   ]
  },
  {
   "cell_type": "code",
   "execution_count": null,
   "id": "4d0e317e",
   "metadata": {},
   "outputs": [],
   "source": [
    "# Computing the time variable for visualization\n",
    "frames = range(len(spectral_centroids))"
   ]
  },
  {
   "cell_type": "code",
   "execution_count": null,
   "id": "c3f7b375",
   "metadata": {},
   "outputs": [],
   "source": [
    "frames"
   ]
  },
  {
   "cell_type": "code",
   "execution_count": null,
   "id": "75d00622",
   "metadata": {},
   "outputs": [],
   "source": [
    "t = librosa.frames_to_time(frames)"
   ]
  },
  {
   "cell_type": "code",
   "execution_count": null,
   "id": "ff138bcd",
   "metadata": {},
   "outputs": [],
   "source": [
    "t.shape"
   ]
  },
  {
   "cell_type": "code",
   "execution_count": null,
   "id": "f85c6898",
   "metadata": {},
   "outputs": [],
   "source": [
    "# Normalising the spectral centroid for visualisation\n",
    "def normalize(x, axis=0):\n",
    "    return minmax_scale(x, axis=axis)"
   ]
  },
  {
   "cell_type": "code",
   "execution_count": null,
   "id": "0b1bbbd7",
   "metadata": {},
   "outputs": [],
   "source": [
    "#Plotting the Spectral Centroid along the waveform\n",
    "librosa.display.waveshow(wave_x, sr=sample_rate, alpha=0.4)\n",
    "plt.plot(t, normalize(spectral_centroids), color='r')"
   ]
  },
  {
   "cell_type": "code",
   "execution_count": null,
   "id": "521135f3",
   "metadata": {},
   "outputs": [],
   "source": []
  }
 ],
 "metadata": {
  "kernelspec": {
   "display_name": "Python 3 (ipykernel)",
   "language": "python",
   "name": "python3"
  },
  "language_info": {
   "codemirror_mode": {
    "name": "ipython",
    "version": 3
   },
   "file_extension": ".py",
   "mimetype": "text/x-python",
   "name": "python",
   "nbconvert_exporter": "python",
   "pygments_lexer": "ipython3",
   "version": "3.8.12"
  }
 },
 "nbformat": 4,
 "nbformat_minor": 5
}
