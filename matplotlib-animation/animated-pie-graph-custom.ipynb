{
 "cells": [
  {
   "cell_type": "markdown",
   "metadata": {},
   "source": [
    "# Animated Pie Graph with Matplotlib"
   ]
  },
  {
   "cell_type": "code",
   "execution_count": null,
   "metadata": {},
   "outputs": [],
   "source": [
    "import matplotlib.animation as animation\n",
    "from matplotlib.animation import FuncAnimation\n",
    "from matplotlib import pyplot as plt "
   ]
  },
  {
   "cell_type": "markdown",
   "metadata": {},
   "source": [
    "## Please download the ddmpeg librarary and place into your execution path \n",
    "- https://www.ffmpeg.org/download.html"
   ]
  },
  {
   "cell_type": "code",
   "execution_count": 5,
   "metadata": {},
   "outputs": [
    {
     "name": "stdout",
     "output_type": "stream",
     "text": [
      "\u001b[31m../../tools/ffmpeg/ffmpeg\u001b[m\u001b[m\r\n"
     ]
    }
   ],
   "source": [
    "!ls ../../tools/ffmpeg/ffmpeg"
   ]
  },
  {
   "cell_type": "code",
   "execution_count": null,
   "metadata": {},
   "outputs": [],
   "source": [
    "plt.rcParams['animation.ffmpeg_path'] = '../../tools/ffmpeg/ffmpeg'"
   ]
  },
  {
   "cell_type": "code",
   "execution_count": null,
   "metadata": {},
   "outputs": [],
   "source": [
    "from IPython import display"
   ]
  },
  {
   "cell_type": "code",
   "execution_count": null,
   "metadata": {},
   "outputs": [],
   "source": [
    "plt.rcParams['animation.ffmpeg_path'] = '/usr/local/bin/ffmpeg'"
   ]
  },
  {
   "cell_type": "code",
   "execution_count": null,
   "metadata": {},
   "outputs": [],
   "source": [
    "numbers = [[20, 40, 50, 21, 37],\n",
    " [23, 45,54,11,59],\n",
    " [10,10,10,45,25],\n",
    " [20,30,40,10,10],\n",
    " [50,10,10,10,10],\n",
    " [8,10,34,23,33],\n",
    " [20,20,20,20,20],\n",
    " [10,10,10,10,60],\n",
    " [50,10,10,20,5],\n",
    " [70,10,10,5,5]]"
   ]
  },
  {
   "cell_type": "code",
   "execution_count": null,
   "metadata": {},
   "outputs": [],
   "source": [
    "import numpy as np"
   ]
  },
  {
   "cell_type": "code",
   "execution_count": null,
   "metadata": {},
   "outputs": [],
   "source": [
    "numbers = np.array(numbers)"
   ]
  },
  {
   "cell_type": "code",
   "execution_count": null,
   "metadata": {},
   "outputs": [],
   "source": [
    "numbers.shape"
   ]
  },
  {
   "cell_type": "code",
   "execution_count": null,
   "metadata": {},
   "outputs": [],
   "source": [
    "z = np.array([0,0,0,0,0]).astype(np.float)\n",
    "fig,ax = plt.subplots(figsize=(12, 10))\n",
    "def update(num):\n",
    "    global z\n",
    "    ax.clear()\n",
    "    ax.axis('equal')     \n",
    "    z += numbers[num]  \n",
    "    pie = ax.pie(z, explode=explode, labels=labels, colors=colors, autopct='% 1.1f%%', shadow=True, startangle=140)\n",
    "    ax.set_title('Animated Pie Demo with Matplotlib')\n",
    "    #ax.set_title(sum(z))    "
   ]
  },
  {
   "cell_type": "code",
   "execution_count": null,
   "metadata": {},
   "outputs": [],
   "source": [
    "explode = [0.1, 0.05, 0, 0, 0]\n",
    "colors = [\"blue\", \"green\", \"pink\", \"teal\", \"yellow\"]\n",
    "labels = [\"Orange\", \"Banana\", \"Apple\", \"Pineapple\", \"Kiwi\"]\n",
    "    \n",
    "animation = FuncAnimation(fig, update, frames=range(10), interval=1000, repeat=True)"
   ]
  },
  {
   "cell_type": "code",
   "execution_count": null,
   "metadata": {},
   "outputs": [],
   "source": [
    "video = animation.to_html5_video()\n",
    "html = display.HTML(video)\n",
    "display.display(html)\n",
    "plt.close() "
   ]
  },
  {
   "cell_type": "code",
   "execution_count": null,
   "metadata": {},
   "outputs": [],
   "source": [
    "animation.save('animated_pie.gif', writer='pillow', fps=1)"
   ]
  },
  {
   "cell_type": "code",
   "execution_count": null,
   "metadata": {},
   "outputs": [],
   "source": [
    "animation.save('animated_pie.mp4')"
   ]
  },
  {
   "cell_type": "code",
   "execution_count": null,
   "metadata": {},
   "outputs": [],
   "source": []
  }
 ],
 "metadata": {
  "kernelspec": {
   "display_name": "Python 3",
   "language": "python",
   "name": "python3"
  },
  "language_info": {
   "codemirror_mode": {
    "name": "ipython",
    "version": 3
   },
   "file_extension": ".py",
   "mimetype": "text/x-python",
   "name": "python",
   "nbconvert_exporter": "python",
   "pygments_lexer": "ipython3",
   "version": "3.7.6"
  }
 },
 "nbformat": 4,
 "nbformat_minor": 4
}
