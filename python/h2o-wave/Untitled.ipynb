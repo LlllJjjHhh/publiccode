{
 "cells": [
  {
   "cell_type": "code",
   "execution_count": 2,
   "id": "7a19a3b6",
   "metadata": {},
   "outputs": [
    {
     "name": "stdout",
     "output_type": "stream",
     "text": [
      "Name: h2o-wave\r\n",
      "Version: 0.20.0\r\n",
      "Summary: Python driver for H2O Wave Realtime Apps\r\n",
      "Home-page: https://h2o.ai/products/h2o-wave\r\n",
      "Author: Prithvi Prabhu\r\n",
      "Author-email: prithvi@h2o.ai\r\n",
      "License: UNKNOWN\r\n",
      "Location: /Users/avkash/anaconda3/envs/python38/lib/python3.8/site-packages\r\n",
      "Requires: certifi, Click, httpx, starlette, uvicorn\r\n",
      "Required-by: \r\n"
     ]
    }
   ],
   "source": [
    "!pip show h2o-wave"
   ]
  },
  {
   "cell_type": "code",
   "execution_count": 1,
   "id": "1750f744",
   "metadata": {},
   "outputs": [
    {
     "name": "stdout",
     "output_type": "stream",
     "text": [
      "Collecting h2o-wave\n",
      "  Downloading h2o_wave-0.20.0-py3-none-macosx_10_9_x86_64.whl (7.8 MB)\n",
      "\u001b[2K     \u001b[38;2;114;156;31m━━━━━━━━━━━━━━━━━━━━━━━━━━━━━━━━━━━━━━━━\u001b[0m \u001b[32m7.8/7.8 MB\u001b[0m \u001b[31m23.4 MB/s\u001b[0m eta \u001b[36m0:00:00\u001b[0mm eta \u001b[36m0:00:01\u001b[0m0:01\u001b[0m:01\u001b[0m\n",
      "\u001b[?25hCollecting httpx==0.16.1\n",
      "  Downloading httpx-0.16.1-py3-none-any.whl (65 kB)\n",
      "\u001b[2K     \u001b[38;2;114;156;31m━━━━━━━━━━━━━━━━━━━━━━━━━━━━━━━━━━━━━━━━\u001b[0m \u001b[32m65.6/65.6 KB\u001b[0m \u001b[31m2.3 MB/s\u001b[0m eta \u001b[36m0:00:00\u001b[0m\n",
      "\u001b[?25hRequirement already satisfied: Click in /Users/avkash/anaconda3/envs/python38/lib/python3.8/site-packages (from h2o-wave) (7.1.2)\n",
      "Requirement already satisfied: certifi in /Users/avkash/anaconda3/envs/python38/lib/python3.8/site-packages (from h2o-wave) (2021.10.8)\n",
      "Collecting uvicorn==0.12.2\n",
      "  Downloading uvicorn-0.12.2-py3-none-any.whl (45 kB)\n",
      "\u001b[2K     \u001b[38;2;114;156;31m━━━━━━━━━━━━━━━━━━━━━━━━━━━━━━━━━━━━━━━━\u001b[0m \u001b[32m45.1/45.1 KB\u001b[0m \u001b[31m1.5 MB/s\u001b[0m eta \u001b[36m0:00:00\u001b[0m\n",
      "\u001b[?25hCollecting starlette==0.13.8\n",
      "  Downloading starlette-0.13.8-py3-none-any.whl (60 kB)\n",
      "\u001b[2K     \u001b[38;2;114;156;31m━━━━━━━━━━━━━━━━━━━━━━━━━━━━━━━━━━━━━━━━\u001b[0m \u001b[32m60.2/60.2 KB\u001b[0m \u001b[31m2.1 MB/s\u001b[0m eta \u001b[36m0:00:00\u001b[0m\n",
      "\u001b[?25hRequirement already satisfied: sniffio in /Users/avkash/anaconda3/envs/python38/lib/python3.8/site-packages (from httpx==0.16.1->h2o-wave) (1.2.0)\n",
      "Collecting rfc3986[idna2008]<2,>=1.3\n",
      "  Downloading rfc3986-1.5.0-py2.py3-none-any.whl (31 kB)\n",
      "Collecting httpcore==0.12.*\n",
      "  Downloading httpcore-0.12.3-py3-none-any.whl (55 kB)\n",
      "\u001b[2K     \u001b[38;2;114;156;31m━━━━━━━━━━━━━━━━━━━━━━━━━━━━━━━━━━━━━━━━\u001b[0m \u001b[32m55.8/55.8 KB\u001b[0m \u001b[31m2.0 MB/s\u001b[0m eta \u001b[36m0:00:00\u001b[0m\n",
      "\u001b[?25hRequirement already satisfied: h11>=0.8 in /Users/avkash/anaconda3/envs/python38/lib/python3.8/site-packages (from uvicorn==0.12.2->h2o-wave) (0.12.0)\n",
      "Requirement already satisfied: idna in /Users/avkash/anaconda3/envs/python38/lib/python3.8/site-packages (from rfc3986[idna2008]<2,>=1.3->httpx==0.16.1->h2o-wave) (3.3)\n",
      "Installing collected packages: rfc3986, uvicorn, starlette, httpcore, httpx, h2o-wave\n",
      "  Attempting uninstall: uvicorn\n",
      "    Found existing installation: uvicorn 0.16.0\n",
      "    Uninstalling uvicorn-0.16.0:\n",
      "      Successfully uninstalled uvicorn-0.16.0\n",
      "  Attempting uninstall: starlette\n",
      "    Found existing installation: starlette 0.16.0\n",
      "    Uninstalling starlette-0.16.0:\n",
      "      Successfully uninstalled starlette-0.16.0\n",
      "\u001b[31mERROR: pip's dependency resolver does not currently take into account all the packages that are installed. This behaviour is the source of the following dependency conflicts.\n",
      "feast 0.16.1 requires uvicorn[standard]>=0.14.0, but you have uvicorn 0.12.2 which is incompatible.\n",
      "fastapi 0.70.1 requires starlette==0.16.0, but you have starlette 0.13.8 which is incompatible.\u001b[0m\u001b[31m\n",
      "\u001b[0mSuccessfully installed h2o-wave-0.20.0 httpcore-0.12.3 httpx-0.16.1 rfc3986-1.5.0 starlette-0.13.8 uvicorn-0.12.2\n",
      "\u001b[33mWARNING: You are using pip version 22.0.3; however, version 22.0.4 is available.\n",
      "You should consider upgrading via the '/Users/avkash/anaconda3/envs/python38/bin/python3 -m pip install --upgrade pip' command.\u001b[0m\u001b[33m\n",
      "\u001b[0m"
     ]
    }
   ],
   "source": [
    "!pip install h2o-wave"
   ]
  },
  {
   "cell_type": "code",
   "execution_count": null,
   "id": "de3b61e7",
   "metadata": {},
   "outputs": [],
   "source": []
  }
 ],
 "metadata": {
  "kernelspec": {
   "display_name": "Python 3 (ipykernel)",
   "language": "python",
   "name": "python3"
  },
  "language_info": {
   "codemirror_mode": {
    "name": "ipython",
    "version": 3
   },
   "file_extension": ".py",
   "mimetype": "text/x-python",
   "name": "python",
   "nbconvert_exporter": "python",
   "pygments_lexer": "ipython3",
   "version": "3.8.12"
  }
 },
 "nbformat": 4,
 "nbformat_minor": 5
}
