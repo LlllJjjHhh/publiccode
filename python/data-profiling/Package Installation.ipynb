{
 "cells": [
  {
   "cell_type": "code",
   "execution_count": 1,
   "id": "158b7a94",
   "metadata": {},
   "outputs": [
    {
     "name": "stdout",
     "output_type": "stream",
     "text": [
      "Python 3.8.12\r\n"
     ]
    }
   ],
   "source": [
    "!python --version"
   ]
  },
  {
   "cell_type": "code",
   "execution_count": 2,
   "id": "864a5530",
   "metadata": {},
   "outputs": [
    {
     "name": "stdout",
     "output_type": "stream",
     "text": [
      "Name: pandas-profiling\r\n",
      "Version: 3.1.0\r\n",
      "Summary: Generate profile report for pandas DataFrame\r\n",
      "Home-page: https://github.com/pandas-profiling/pandas-profiling\r\n",
      "Author: Simon Brugman\r\n",
      "Author-email: pandasprofiling@gmail.com\r\n",
      "License: MIT\r\n",
      "Location: /Users/avkash/anaconda3/envs/python38/lib/python3.8/site-packages\r\n",
      "Requires: htmlmin, jinja2, joblib, markupsafe, matplotlib, missingno, multimethod, numpy, pandas, phik, pydantic, PyYAML, requests, scipy, seaborn, tangled-up-in-unicode, tqdm, visions\r\n",
      "Required-by: streamlit-pandas-profiling\r\n"
     ]
    }
   ],
   "source": [
    "!pip show pandas_profiling"
   ]
  },
  {
   "cell_type": "code",
   "execution_count": 3,
   "id": "5a1507fc",
   "metadata": {},
   "outputs": [
    {
     "name": "stdout",
     "output_type": "stream",
     "text": [
      "Requirement already satisfied: pandas_profiling in /Users/avkash/anaconda3/envs/python38/lib/python3.8/site-packages (3.1.0)\n",
      "Requirement already satisfied: multimethod>=1.4 in /Users/avkash/anaconda3/envs/python38/lib/python3.8/site-packages (from pandas_profiling) (1.7)\n",
      "Requirement already satisfied: numpy>=1.16.0 in /Users/avkash/anaconda3/envs/python38/lib/python3.8/site-packages (from pandas_profiling) (1.20.3)\n",
      "Requirement already satisfied: tqdm>=4.48.2 in /Users/avkash/anaconda3/envs/python38/lib/python3.8/site-packages (from pandas_profiling) (4.62.3)\n",
      "Requirement already satisfied: missingno>=0.4.2 in /Users/avkash/anaconda3/envs/python38/lib/python3.8/site-packages (from pandas_profiling) (0.5.1)\n",
      "Requirement already satisfied: requests>=2.24.0 in /Users/avkash/anaconda3/envs/python38/lib/python3.8/site-packages (from pandas_profiling) (2.26.0)\n",
      "Requirement already satisfied: scipy>=1.4.1 in /Users/avkash/anaconda3/envs/python38/lib/python3.8/site-packages (from pandas_profiling) (1.7.1)\n",
      "Requirement already satisfied: pydantic>=1.8.1 in /Users/avkash/anaconda3/envs/python38/lib/python3.8/site-packages (from pandas_profiling) (1.8.2)\n",
      "Requirement already satisfied: matplotlib>=3.2.0 in /Users/avkash/anaconda3/envs/python38/lib/python3.8/site-packages (from pandas_profiling) (3.5.0)\n",
      "Requirement already satisfied: joblib~=1.0.1 in /Users/avkash/anaconda3/envs/python38/lib/python3.8/site-packages (from pandas_profiling) (1.0.1)\n",
      "Requirement already satisfied: pandas!=1.0.0,!=1.0.1,!=1.0.2,!=1.1.0,>=0.25.3 in /Users/avkash/anaconda3/envs/python38/lib/python3.8/site-packages (from pandas_profiling) (1.3.4)\n",
      "Requirement already satisfied: markupsafe~=2.0.1 in /Users/avkash/anaconda3/envs/python38/lib/python3.8/site-packages (from pandas_profiling) (2.0.1)\n",
      "Requirement already satisfied: visions[type_image_path]==0.7.4 in /Users/avkash/anaconda3/envs/python38/lib/python3.8/site-packages (from pandas_profiling) (0.7.4)\n",
      "Requirement already satisfied: PyYAML>=5.0.0 in /Users/avkash/anaconda3/envs/python38/lib/python3.8/site-packages (from pandas_profiling) (6.0)\n",
      "Requirement already satisfied: seaborn>=0.10.1 in /Users/avkash/anaconda3/envs/python38/lib/python3.8/site-packages (from pandas_profiling) (0.11.2)\n",
      "Requirement already satisfied: phik>=0.11.1 in /Users/avkash/anaconda3/envs/python38/lib/python3.8/site-packages (from pandas_profiling) (0.12.0)\n",
      "Requirement already satisfied: jinja2>=2.11.1 in /Users/avkash/anaconda3/envs/python38/lib/python3.8/site-packages (from pandas_profiling) (2.11.3)\n",
      "Requirement already satisfied: htmlmin>=0.1.12 in /Users/avkash/anaconda3/envs/python38/lib/python3.8/site-packages (from pandas_profiling) (0.1.12)\n",
      "Requirement already satisfied: tangled-up-in-unicode==0.1.0 in /Users/avkash/anaconda3/envs/python38/lib/python3.8/site-packages (from pandas_profiling) (0.1.0)\n",
      "Requirement already satisfied: attrs>=19.3.0 in /Users/avkash/anaconda3/envs/python38/lib/python3.8/site-packages (from visions[type_image_path]==0.7.4->pandas_profiling) (21.2.0)\n",
      "Requirement already satisfied: networkx>=2.4 in /Users/avkash/anaconda3/envs/python38/lib/python3.8/site-packages (from visions[type_image_path]==0.7.4->pandas_profiling) (2.6.3)\n",
      "Requirement already satisfied: imagehash in /Users/avkash/anaconda3/envs/python38/lib/python3.8/site-packages (from visions[type_image_path]==0.7.4->pandas_profiling) (4.2.1)\n",
      "Requirement already satisfied: Pillow in /Users/avkash/anaconda3/envs/python38/lib/python3.8/site-packages (from visions[type_image_path]==0.7.4->pandas_profiling) (8.4.0)\n",
      "Requirement already satisfied: fonttools>=4.22.0 in /Users/avkash/anaconda3/envs/python38/lib/python3.8/site-packages (from matplotlib>=3.2.0->pandas_profiling) (4.25.0)\n",
      "Requirement already satisfied: python-dateutil>=2.7 in /Users/avkash/anaconda3/envs/python38/lib/python3.8/site-packages (from matplotlib>=3.2.0->pandas_profiling) (2.8.2)\n",
      "Requirement already satisfied: cycler>=0.10 in /Users/avkash/anaconda3/envs/python38/lib/python3.8/site-packages (from matplotlib>=3.2.0->pandas_profiling) (0.11.0)\n",
      "Requirement already satisfied: kiwisolver>=1.0.1 in /Users/avkash/anaconda3/envs/python38/lib/python3.8/site-packages (from matplotlib>=3.2.0->pandas_profiling) (1.3.1)\n",
      "Requirement already satisfied: pyparsing>=2.2.1 in /Users/avkash/anaconda3/envs/python38/lib/python3.8/site-packages (from matplotlib>=3.2.0->pandas_profiling) (2.4.7)\n",
      "Requirement already satisfied: packaging>=20.0 in /Users/avkash/anaconda3/envs/python38/lib/python3.8/site-packages (from matplotlib>=3.2.0->pandas_profiling) (21.3)\n",
      "Requirement already satisfied: pytz>=2017.3 in /Users/avkash/anaconda3/envs/python38/lib/python3.8/site-packages (from pandas!=1.0.0,!=1.0.1,!=1.0.2,!=1.1.0,>=0.25.3->pandas_profiling) (2021.3)\n",
      "Requirement already satisfied: typing-extensions>=3.7.4.3 in /Users/avkash/anaconda3/envs/python38/lib/python3.8/site-packages (from pydantic>=1.8.1->pandas_profiling) (3.10.0.2)\n",
      "Requirement already satisfied: idna<4,>=2.5 in /Users/avkash/anaconda3/envs/python38/lib/python3.8/site-packages (from requests>=2.24.0->pandas_profiling) (3.3)\n",
      "Requirement already satisfied: charset-normalizer~=2.0.0 in /Users/avkash/anaconda3/envs/python38/lib/python3.8/site-packages (from requests>=2.24.0->pandas_profiling) (2.0.4)\n",
      "Requirement already satisfied: urllib3<1.27,>=1.21.1 in /Users/avkash/anaconda3/envs/python38/lib/python3.8/site-packages (from requests>=2.24.0->pandas_profiling) (1.26.7)\n",
      "Requirement already satisfied: certifi>=2017.4.17 in /Users/avkash/anaconda3/envs/python38/lib/python3.8/site-packages (from requests>=2.24.0->pandas_profiling) (2021.10.8)\n",
      "Requirement already satisfied: six>=1.5 in /Users/avkash/anaconda3/envs/python38/lib/python3.8/site-packages (from python-dateutil>=2.7->matplotlib>=3.2.0->pandas_profiling) (1.16.0)\n",
      "Requirement already satisfied: PyWavelets in /Users/avkash/anaconda3/envs/python38/lib/python3.8/site-packages (from imagehash->visions[type_image_path]==0.7.4->pandas_profiling) (1.1.1)\n",
      "\u001b[33mWARNING: You are using pip version 22.0.3; however, version 22.0.4 is available.\n",
      "You should consider upgrading via the '/Users/avkash/anaconda3/envs/python38/bin/python3 -m pip install --upgrade pip' command.\u001b[0m\u001b[33m\n",
      "\u001b[0m"
     ]
    }
   ],
   "source": [
    "!pip install pandas_profiling"
   ]
  },
  {
   "cell_type": "code",
   "execution_count": null,
   "id": "4b4fec7c",
   "metadata": {},
   "outputs": [],
   "source": [
    "!pip show pandas_profiling"
   ]
  },
  {
   "cell_type": "code",
   "execution_count": null,
   "id": "2ba6c0fc",
   "metadata": {},
   "outputs": [],
   "source": []
  }
 ],
 "metadata": {
  "kernelspec": {
   "display_name": "Python 3 (ipykernel)",
   "language": "python",
   "name": "python3"
  },
  "language_info": {
   "codemirror_mode": {
    "name": "ipython",
    "version": 3
   },
   "file_extension": ".py",
   "mimetype": "text/x-python",
   "name": "python",
   "nbconvert_exporter": "python",
   "pygments_lexer": "ipython3",
   "version": "3.8.12"
  }
 },
 "nbformat": 4,
 "nbformat_minor": 5
}
