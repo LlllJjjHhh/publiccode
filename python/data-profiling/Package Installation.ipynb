{
 "cells": [
  {
   "cell_type": "code",
   "execution_count": 1,
   "id": "158b7a94",
   "metadata": {},
   "outputs": [
    {
     "name": "stdout",
     "output_type": "stream",
     "text": [
      "Python 3.8.12\r\n"
     ]
    }
   ],
   "source": [
    "!python --version"
   ]
  },
  {
   "cell_type": "code",
   "execution_count": 2,
   "id": "d9c64081",
   "metadata": {},
   "outputs": [
    {
     "name": "stdout",
     "output_type": "stream",
     "text": [
      "\u001b[33mWARNING: Package(s) not found: great_expectations\u001b[0m\u001b[33m\r\n",
      "\u001b[0m"
     ]
    }
   ],
   "source": [
    "!pip show great_expectations"
   ]
  },
  {
   "cell_type": "code",
   "execution_count": 3,
   "id": "f81e7ef6",
   "metadata": {},
   "outputs": [
    {
     "name": "stdout",
     "output_type": "stream",
     "text": [
      "Collecting great_expectations\n",
      "  Downloading great_expectations-0.14.9-py3-none-any.whl (4.9 MB)\n",
      "\u001b[2K     \u001b[38;2;114;156;31m━━━━━━━━━━━━━━━━━━━━━━━━━━━━━━━━━━━━━━━━\u001b[0m \u001b[32m4.9/4.9 MB\u001b[0m \u001b[31m20.1 MB/s\u001b[0m eta \u001b[36m0:00:00\u001b[0mm eta \u001b[36m0:00:01\u001b[0m[36m0:00:01\u001b[0m\n",
      "\u001b[?25hCollecting jsonpatch>=1.22\n",
      "  Using cached jsonpatch-1.32-py2.py3-none-any.whl (12 kB)\n",
      "Requirement already satisfied: pandas>=0.23.0 in /Users/avkash/anaconda3/envs/python38/lib/python3.8/site-packages (from great_expectations) (1.3.4)\n",
      "Requirement already satisfied: tqdm>=4.59.0 in /Users/avkash/anaconda3/envs/python38/lib/python3.8/site-packages (from great_expectations) (4.62.3)\n",
      "Requirement already satisfied: typing-extensions>=3.10.0.0 in /Users/avkash/anaconda3/envs/python38/lib/python3.8/site-packages (from great_expectations) (3.10.0.2)\n",
      "Collecting altair<5,>=4.0.0\n",
      "  Using cached altair-4.2.0-py3-none-any.whl (812 kB)\n",
      "Requirement already satisfied: mistune<2.0.0,>=0.8.4 in /Users/avkash/anaconda3/envs/python38/lib/python3.8/site-packages (from great_expectations) (0.8.4)\n",
      "Collecting ruamel.yaml<0.17.18,>=0.16\n",
      "  Downloading ruamel.yaml-0.17.17-py3-none-any.whl (109 kB)\n",
      "\u001b[2K     \u001b[38;2;114;156;31m━━━━━━━━━━━━━━━━━━━━━━━━━━━━━━━━━━━━━━━\u001b[0m \u001b[32m109.1/109.1 KB\u001b[0m \u001b[31m3.6 MB/s\u001b[0m eta \u001b[36m0:00:00\u001b[0m\n",
      "\u001b[?25hRequirement already satisfied: jsonschema>=2.5.1 in /Users/avkash/anaconda3/envs/python38/lib/python3.8/site-packages (from great_expectations) (3.2.0)\n",
      "Requirement already satisfied: pytz>=2015.6 in /Users/avkash/anaconda3/envs/python38/lib/python3.8/site-packages (from great_expectations) (2021.3)\n",
      "Collecting termcolor>=1.1.0\n",
      "  Using cached termcolor-1.1.0.tar.gz (3.9 kB)\n",
      "  Preparing metadata (setup.py) ... \u001b[?25ldone\n",
      "\u001b[?25hRequirement already satisfied: Click>=7.1.2 in /Users/avkash/anaconda3/envs/python38/lib/python3.8/site-packages (from great_expectations) (7.1.2)\n",
      "Requirement already satisfied: scipy>=0.19.0 in /Users/avkash/anaconda3/envs/python38/lib/python3.8/site-packages (from great_expectations) (1.7.1)\n",
      "Requirement already satisfied: python-dateutil>=2.8.1 in /Users/avkash/anaconda3/envs/python38/lib/python3.8/site-packages (from great_expectations) (2.8.2)\n",
      "Requirement already satisfied: importlib-metadata>=1.7.0 in /Users/avkash/anaconda3/envs/python38/lib/python3.8/site-packages (from great_expectations) (4.8.2)\n",
      "Requirement already satisfied: requests>=2.20 in /Users/avkash/anaconda3/envs/python38/lib/python3.8/site-packages (from great_expectations) (2.26.0)\n",
      "Requirement already satisfied: jinja2>=2.10 in /Users/avkash/anaconda3/envs/python38/lib/python3.8/site-packages (from great_expectations) (2.11.3)\n",
      "Requirement already satisfied: ipywidgets>=7.5.1 in /Users/avkash/anaconda3/envs/python38/lib/python3.8/site-packages (from great_expectations) (7.6.5)\n",
      "Requirement already satisfied: numpy>=1.14.1 in /Users/avkash/anaconda3/envs/python38/lib/python3.8/site-packages (from great_expectations) (1.20.3)\n",
      "Collecting pyparsing<3,>=2.4\n",
      "  Using cached pyparsing-2.4.7-py2.py3-none-any.whl (67 kB)\n",
      "Collecting tzlocal>=1.2\n",
      "  Using cached tzlocal-4.1-py3-none-any.whl (19 kB)\n",
      "Requirement already satisfied: entrypoints in /Users/avkash/anaconda3/envs/python38/lib/python3.8/site-packages (from altair<5,>=4.0.0->great_expectations) (0.3)\n",
      "Requirement already satisfied: toolz in /Users/avkash/anaconda3/envs/python38/lib/python3.8/site-packages (from altair<5,>=4.0.0->great_expectations) (0.11.2)\n",
      "Requirement already satisfied: zipp>=0.5 in /Users/avkash/anaconda3/envs/python38/lib/python3.8/site-packages (from importlib-metadata>=1.7.0->great_expectations) (3.6.0)\n",
      "Requirement already satisfied: ipython>=4.0.0 in /Users/avkash/anaconda3/envs/python38/lib/python3.8/site-packages (from ipywidgets>=7.5.1->great_expectations) (7.29.0)\n",
      "Requirement already satisfied: nbformat>=4.2.0 in /Users/avkash/anaconda3/envs/python38/lib/python3.8/site-packages (from ipywidgets>=7.5.1->great_expectations) (5.1.3)\n",
      "Requirement already satisfied: widgetsnbextension~=3.5.0 in /Users/avkash/anaconda3/envs/python38/lib/python3.8/site-packages (from ipywidgets>=7.5.1->great_expectations) (3.5.1)\n",
      "Requirement already satisfied: jupyterlab-widgets>=1.0.0 in /Users/avkash/anaconda3/envs/python38/lib/python3.8/site-packages (from ipywidgets>=7.5.1->great_expectations) (1.0.0)\n",
      "Requirement already satisfied: traitlets>=4.3.1 in /Users/avkash/anaconda3/envs/python38/lib/python3.8/site-packages (from ipywidgets>=7.5.1->great_expectations) (5.1.1)\n",
      "Requirement already satisfied: ipykernel>=4.5.1 in /Users/avkash/anaconda3/envs/python38/lib/python3.8/site-packages (from ipywidgets>=7.5.1->great_expectations) (6.4.1)\n",
      "Requirement already satisfied: ipython-genutils~=0.2.0 in /Users/avkash/anaconda3/envs/python38/lib/python3.8/site-packages (from ipywidgets>=7.5.1->great_expectations) (0.2.0)\n",
      "Requirement already satisfied: MarkupSafe>=0.23 in /Users/avkash/anaconda3/envs/python38/lib/python3.8/site-packages (from jinja2>=2.10->great_expectations) (1.1.1)\n",
      "Collecting jsonpointer>=1.9\n",
      "  Using cached jsonpointer-2.2-py2.py3-none-any.whl (7.5 kB)\n",
      "Requirement already satisfied: attrs>=17.4.0 in /Users/avkash/anaconda3/envs/python38/lib/python3.8/site-packages (from jsonschema>=2.5.1->great_expectations) (21.2.0)\n",
      "Requirement already satisfied: six>=1.11.0 in /Users/avkash/anaconda3/envs/python38/lib/python3.8/site-packages (from jsonschema>=2.5.1->great_expectations) (1.16.0)\n",
      "Requirement already satisfied: setuptools in /Users/avkash/anaconda3/envs/python38/lib/python3.8/site-packages (from jsonschema>=2.5.1->great_expectations) (58.0.4)\n",
      "Requirement already satisfied: pyrsistent>=0.14.0 in /Users/avkash/anaconda3/envs/python38/lib/python3.8/site-packages (from jsonschema>=2.5.1->great_expectations) (0.18.0)\n",
      "Requirement already satisfied: idna<4,>=2.5 in /Users/avkash/anaconda3/envs/python38/lib/python3.8/site-packages (from requests>=2.20->great_expectations) (3.3)\n",
      "Requirement already satisfied: charset-normalizer~=2.0.0 in /Users/avkash/anaconda3/envs/python38/lib/python3.8/site-packages (from requests>=2.20->great_expectations) (2.0.4)\n",
      "Requirement already satisfied: certifi>=2017.4.17 in /Users/avkash/anaconda3/envs/python38/lib/python3.8/site-packages (from requests>=2.20->great_expectations) (2021.10.8)\n",
      "Requirement already satisfied: urllib3<1.27,>=1.21.1 in /Users/avkash/anaconda3/envs/python38/lib/python3.8/site-packages (from requests>=2.20->great_expectations) (1.26.7)\n",
      "Collecting ruamel.yaml.clib>=0.1.2\n",
      "  Downloading ruamel.yaml.clib-0.2.6-cp38-cp38-macosx_10_9_x86_64.whl (142 kB)\n",
      "\u001b[2K     \u001b[38;2;114;156;31m━━━━━━━━━━━━━━━━━━━━━━━━━━━━━━━━━━━━━━━\u001b[0m \u001b[32m142.9/142.9 KB\u001b[0m \u001b[31m4.8 MB/s\u001b[0m eta \u001b[36m0:00:00\u001b[0m\n",
      "\u001b[?25hCollecting pytz-deprecation-shim\n",
      "  Using cached pytz_deprecation_shim-0.1.0.post0-py2.py3-none-any.whl (15 kB)\n",
      "Collecting backports.zoneinfo\n",
      "  Downloading backports.zoneinfo-0.2.1-cp38-cp38-macosx_10_14_x86_64.whl (35 kB)\n",
      "Requirement already satisfied: debugpy<2.0,>=1.0.0 in /Users/avkash/anaconda3/envs/python38/lib/python3.8/site-packages (from ipykernel>=4.5.1->ipywidgets>=7.5.1->great_expectations) (1.5.1)\n",
      "Requirement already satisfied: matplotlib-inline<0.2.0,>=0.1.0 in /Users/avkash/anaconda3/envs/python38/lib/python3.8/site-packages (from ipykernel>=4.5.1->ipywidgets>=7.5.1->great_expectations) (0.1.2)\n",
      "Requirement already satisfied: jupyter-client<8.0 in /Users/avkash/anaconda3/envs/python38/lib/python3.8/site-packages (from ipykernel>=4.5.1->ipywidgets>=7.5.1->great_expectations) (6.1.12)\n",
      "Requirement already satisfied: tornado<7.0,>=4.2 in /Users/avkash/anaconda3/envs/python38/lib/python3.8/site-packages (from ipykernel>=4.5.1->ipywidgets>=7.5.1->great_expectations) (6.1)\n",
      "Requirement already satisfied: appnope in /Users/avkash/anaconda3/envs/python38/lib/python3.8/site-packages (from ipykernel>=4.5.1->ipywidgets>=7.5.1->great_expectations) (0.1.2)\n",
      "Requirement already satisfied: pickleshare in /Users/avkash/anaconda3/envs/python38/lib/python3.8/site-packages (from ipython>=4.0.0->ipywidgets>=7.5.1->great_expectations) (0.7.5)\n",
      "Requirement already satisfied: pexpect>4.3 in /Users/avkash/anaconda3/envs/python38/lib/python3.8/site-packages (from ipython>=4.0.0->ipywidgets>=7.5.1->great_expectations) (4.8.0)\n",
      "Requirement already satisfied: pygments in /Users/avkash/anaconda3/envs/python38/lib/python3.8/site-packages (from ipython>=4.0.0->ipywidgets>=7.5.1->great_expectations) (2.10.0)\n",
      "Requirement already satisfied: backcall in /Users/avkash/anaconda3/envs/python38/lib/python3.8/site-packages (from ipython>=4.0.0->ipywidgets>=7.5.1->great_expectations) (0.2.0)\n",
      "Requirement already satisfied: jedi>=0.16 in /Users/avkash/anaconda3/envs/python38/lib/python3.8/site-packages (from ipython>=4.0.0->ipywidgets>=7.5.1->great_expectations) (0.18.0)\n",
      "Requirement already satisfied: decorator in /Users/avkash/anaconda3/envs/python38/lib/python3.8/site-packages (from ipython>=4.0.0->ipywidgets>=7.5.1->great_expectations) (5.1.0)\n",
      "Requirement already satisfied: prompt-toolkit!=3.0.0,!=3.0.1,<3.1.0,>=2.0.0 in /Users/avkash/anaconda3/envs/python38/lib/python3.8/site-packages (from ipython>=4.0.0->ipywidgets>=7.5.1->great_expectations) (3.0.20)\n"
     ]
    },
    {
     "name": "stdout",
     "output_type": "stream",
     "text": [
      "Requirement already satisfied: jupyter-core in /Users/avkash/anaconda3/envs/python38/lib/python3.8/site-packages (from nbformat>=4.2.0->ipywidgets>=7.5.1->great_expectations) (4.9.1)\n",
      "Requirement already satisfied: notebook>=4.4.1 in /Users/avkash/anaconda3/envs/python38/lib/python3.8/site-packages (from widgetsnbextension~=3.5.0->ipywidgets>=7.5.1->great_expectations) (6.4.6)\n",
      "Collecting tzdata\n",
      "  Using cached tzdata-2021.5-py2.py3-none-any.whl (339 kB)\n",
      "Requirement already satisfied: parso<0.9.0,>=0.8.0 in /Users/avkash/anaconda3/envs/python38/lib/python3.8/site-packages (from jedi>=0.16->ipython>=4.0.0->ipywidgets>=7.5.1->great_expectations) (0.8.2)\n",
      "Requirement already satisfied: pyzmq>=13 in /Users/avkash/anaconda3/envs/python38/lib/python3.8/site-packages (from jupyter-client<8.0->ipykernel>=4.5.1->ipywidgets>=7.5.1->great_expectations) (22.3.0)\n",
      "Requirement already satisfied: nbconvert in /Users/avkash/anaconda3/envs/python38/lib/python3.8/site-packages (from notebook>=4.4.1->widgetsnbextension~=3.5.0->ipywidgets>=7.5.1->great_expectations) (6.1.0)\n",
      "Requirement already satisfied: nest-asyncio>=1.5 in /Users/avkash/anaconda3/envs/python38/lib/python3.8/site-packages (from notebook>=4.4.1->widgetsnbextension~=3.5.0->ipywidgets>=7.5.1->great_expectations) (1.5.1)\n",
      "Requirement already satisfied: terminado>=0.8.3 in /Users/avkash/anaconda3/envs/python38/lib/python3.8/site-packages (from notebook>=4.4.1->widgetsnbextension~=3.5.0->ipywidgets>=7.5.1->great_expectations) (0.9.4)\n",
      "Requirement already satisfied: Send2Trash>=1.8.0 in /Users/avkash/anaconda3/envs/python38/lib/python3.8/site-packages (from notebook>=4.4.1->widgetsnbextension~=3.5.0->ipywidgets>=7.5.1->great_expectations) (1.8.0)\n",
      "Requirement already satisfied: prometheus-client in /Users/avkash/anaconda3/envs/python38/lib/python3.8/site-packages (from notebook>=4.4.1->widgetsnbextension~=3.5.0->ipywidgets>=7.5.1->great_expectations) (0.12.0)\n",
      "Requirement already satisfied: argon2-cffi in /Users/avkash/anaconda3/envs/python38/lib/python3.8/site-packages (from notebook>=4.4.1->widgetsnbextension~=3.5.0->ipywidgets>=7.5.1->great_expectations) (20.1.0)\n",
      "Requirement already satisfied: ptyprocess>=0.5 in /Users/avkash/anaconda3/envs/python38/lib/python3.8/site-packages (from pexpect>4.3->ipython>=4.0.0->ipywidgets>=7.5.1->great_expectations) (0.7.0)\n",
      "Requirement already satisfied: wcwidth in /Users/avkash/anaconda3/envs/python38/lib/python3.8/site-packages (from prompt-toolkit!=3.0.0,!=3.0.1,<3.1.0,>=2.0.0->ipython>=4.0.0->ipywidgets>=7.5.1->great_expectations) (0.2.5)\n",
      "Requirement already satisfied: cffi>=1.0.0 in /Users/avkash/anaconda3/envs/python38/lib/python3.8/site-packages (from argon2-cffi->notebook>=4.4.1->widgetsnbextension~=3.5.0->ipywidgets>=7.5.1->great_expectations) (1.14.6)\n",
      "Requirement already satisfied: defusedxml in /Users/avkash/anaconda3/envs/python38/lib/python3.8/site-packages (from nbconvert->notebook>=4.4.1->widgetsnbextension~=3.5.0->ipywidgets>=7.5.1->great_expectations) (0.7.1)\n",
      "Requirement already satisfied: jupyterlab-pygments in /Users/avkash/anaconda3/envs/python38/lib/python3.8/site-packages (from nbconvert->notebook>=4.4.1->widgetsnbextension~=3.5.0->ipywidgets>=7.5.1->great_expectations) (0.1.2)\n",
      "Requirement already satisfied: bleach in /Users/avkash/anaconda3/envs/python38/lib/python3.8/site-packages (from nbconvert->notebook>=4.4.1->widgetsnbextension~=3.5.0->ipywidgets>=7.5.1->great_expectations) (4.0.0)\n",
      "Requirement already satisfied: testpath in /Users/avkash/anaconda3/envs/python38/lib/python3.8/site-packages (from nbconvert->notebook>=4.4.1->widgetsnbextension~=3.5.0->ipywidgets>=7.5.1->great_expectations) (0.5.0)\n",
      "Requirement already satisfied: nbclient<0.6.0,>=0.5.0 in /Users/avkash/anaconda3/envs/python38/lib/python3.8/site-packages (from nbconvert->notebook>=4.4.1->widgetsnbextension~=3.5.0->ipywidgets>=7.5.1->great_expectations) (0.5.3)\n",
      "Requirement already satisfied: pandocfilters>=1.4.1 in /Users/avkash/anaconda3/envs/python38/lib/python3.8/site-packages (from nbconvert->notebook>=4.4.1->widgetsnbextension~=3.5.0->ipywidgets>=7.5.1->great_expectations) (1.4.3)\n",
      "Requirement already satisfied: pycparser in /Users/avkash/anaconda3/envs/python38/lib/python3.8/site-packages (from cffi>=1.0.0->argon2-cffi->notebook>=4.4.1->widgetsnbextension~=3.5.0->ipywidgets>=7.5.1->great_expectations) (2.21)\n",
      "Requirement already satisfied: async-generator in /Users/avkash/anaconda3/envs/python38/lib/python3.8/site-packages (from nbclient<0.6.0,>=0.5.0->nbconvert->notebook>=4.4.1->widgetsnbextension~=3.5.0->ipywidgets>=7.5.1->great_expectations) (1.10)\n",
      "Requirement already satisfied: packaging in /Users/avkash/anaconda3/envs/python38/lib/python3.8/site-packages (from bleach->nbconvert->notebook>=4.4.1->widgetsnbextension~=3.5.0->ipywidgets>=7.5.1->great_expectations) (21.3)\n",
      "Requirement already satisfied: webencodings in /Users/avkash/anaconda3/envs/python38/lib/python3.8/site-packages (from bleach->nbconvert->notebook>=4.4.1->widgetsnbextension~=3.5.0->ipywidgets>=7.5.1->great_expectations) (0.5.1)\n",
      "Building wheels for collected packages: termcolor\n",
      "  Building wheel for termcolor (setup.py) ... \u001b[?25ldone\n",
      "\u001b[?25h  Created wheel for termcolor: filename=termcolor-1.1.0-py3-none-any.whl size=4847 sha256=7c7b952a87d5ddf5f866e52837b2bb83761f2a937498dca36736d332fe0ac32d\n",
      "  Stored in directory: /Users/avkash/Library/Caches/pip/wheels/a0/16/9c/5473df82468f958445479c59e784896fa24f4a5fc024b0f501\n",
      "Successfully built termcolor\n",
      "Installing collected packages: termcolor, tzdata, ruamel.yaml.clib, pyparsing, jsonpointer, backports.zoneinfo, ruamel.yaml, pytz-deprecation-shim, jsonpatch, tzlocal, altair, great_expectations\n",
      "  Attempting uninstall: pyparsing\n",
      "    Found existing installation: pyparsing 3.0.4\n",
      "    Uninstalling pyparsing-3.0.4:\n",
      "      Successfully uninstalled pyparsing-3.0.4\n",
      "Successfully installed altair-4.2.0 backports.zoneinfo-0.2.1 great_expectations-0.14.9 jsonpatch-1.32 jsonpointer-2.2 pyparsing-2.4.7 pytz-deprecation-shim-0.1.0.post0 ruamel.yaml-0.17.17 ruamel.yaml.clib-0.2.6 termcolor-1.1.0 tzdata-2021.5 tzlocal-4.1\n",
      "\u001b[33mWARNING: You are using pip version 22.0.3; however, version 22.0.4 is available.\n",
      "You should consider upgrading via the '/Users/avkash/anaconda3/envs/python38/bin/python3 -m pip install --upgrade pip' command.\u001b[0m\u001b[33m\n",
      "\u001b[0m"
     ]
    }
   ],
   "source": [
    "!pip install great_expectations"
   ]
  },
  {
   "cell_type": "code",
   "execution_count": 4,
   "id": "864a5530",
   "metadata": {},
   "outputs": [
    {
     "name": "stdout",
     "output_type": "stream",
     "text": [
      "\u001b[33mWARNING: Package(s) not found: pandas_profiling\u001b[0m\u001b[33m\r\n",
      "\u001b[0m"
     ]
    }
   ],
   "source": [
    "!pip show pandas_profiling"
   ]
  },
  {
   "cell_type": "code",
   "execution_count": 5,
   "id": "5a1507fc",
   "metadata": {},
   "outputs": [
    {
     "name": "stdout",
     "output_type": "stream",
     "text": [
      "Collecting pandas_profiling\n",
      "  Downloading pandas_profiling-3.1.0-py2.py3-none-any.whl (261 kB)\n",
      "\u001b[2K     \u001b[38;2;114;156;31m━━━━━━━━━━━━━━━━━━━━━━━━━━━━━━━━━━━━━━━\u001b[0m \u001b[32m261.2/261.2 KB\u001b[0m \u001b[31m3.8 MB/s\u001b[0m eta \u001b[36m0:00:00\u001b[0m[31m4.8 MB/s\u001b[0m eta \u001b[36m0:00:01\u001b[0m\n",
      "\u001b[?25hCollecting visions[type_image_path]==0.7.4\n",
      "  Downloading visions-0.7.4-py3-none-any.whl (102 kB)\n",
      "\u001b[2K     \u001b[38;2;114;156;31m━━━━━━━━━━━━━━━━━━━━━━━━━━━━━━━━━━━━━━━\u001b[0m \u001b[32m102.4/102.4 KB\u001b[0m \u001b[31m3.8 MB/s\u001b[0m eta \u001b[36m0:00:00\u001b[0m\n",
      "\u001b[?25hRequirement already satisfied: pydantic>=1.8.1 in /Users/avkash/anaconda3/envs/python38/lib/python3.8/site-packages (from pandas_profiling) (1.8.2)\n",
      "Collecting tangled-up-in-unicode==0.1.0\n",
      "  Downloading tangled_up_in_unicode-0.1.0-py3-none-any.whl (3.1 MB)\n",
      "\u001b[2K     \u001b[38;2;114;156;31m━━━━━━━━━━━━━━━━━━━━━━━━━━━━━━━━━━━━━━━━\u001b[0m \u001b[32m3.1/3.1 MB\u001b[0m \u001b[31m21.7 MB/s\u001b[0m eta \u001b[36m0:00:00\u001b[0m31m29.0 MB/s\u001b[0m eta \u001b[36m0:00:01\u001b[0m\n",
      "\u001b[?25hRequirement already satisfied: tqdm>=4.48.2 in /Users/avkash/anaconda3/envs/python38/lib/python3.8/site-packages (from pandas_profiling) (4.62.3)\n",
      "Requirement already satisfied: jinja2>=2.11.1 in /Users/avkash/anaconda3/envs/python38/lib/python3.8/site-packages (from pandas_profiling) (2.11.3)\n",
      "Requirement already satisfied: requests>=2.24.0 in /Users/avkash/anaconda3/envs/python38/lib/python3.8/site-packages (from pandas_profiling) (2.26.0)\n",
      "Collecting multimethod>=1.4\n",
      "  Downloading multimethod-1.7-py3-none-any.whl (9.5 kB)\n",
      "Collecting joblib~=1.0.1\n",
      "  Downloading joblib-1.0.1-py3-none-any.whl (303 kB)\n",
      "\u001b[2K     \u001b[38;2;114;156;31m━━━━━━━━━━━━━━━━━━━━━━━━━━━━━━━━━━━━━━\u001b[0m \u001b[32m303.1/303.1 KB\u001b[0m \u001b[31m10.9 MB/s\u001b[0m eta \u001b[36m0:00:00\u001b[0m\n",
      "\u001b[?25hRequirement already satisfied: pandas!=1.0.0,!=1.0.1,!=1.0.2,!=1.1.0,>=0.25.3 in /Users/avkash/anaconda3/envs/python38/lib/python3.8/site-packages (from pandas_profiling) (1.3.4)\n",
      "Collecting htmlmin>=0.1.12\n",
      "  Downloading htmlmin-0.1.12.tar.gz (19 kB)\n",
      "  Preparing metadata (setup.py) ... \u001b[?25ldone\n",
      "\u001b[?25hRequirement already satisfied: PyYAML>=5.0.0 in /Users/avkash/anaconda3/envs/python38/lib/python3.8/site-packages (from pandas_profiling) (6.0)\n",
      "Requirement already satisfied: matplotlib>=3.2.0 in /Users/avkash/anaconda3/envs/python38/lib/python3.8/site-packages (from pandas_profiling) (3.5.0)\n",
      "Requirement already satisfied: scipy>=1.4.1 in /Users/avkash/anaconda3/envs/python38/lib/python3.8/site-packages (from pandas_profiling) (1.7.1)\n",
      "Collecting markupsafe~=2.0.1\n",
      "  Downloading MarkupSafe-2.0.1-cp38-cp38-macosx_10_9_x86_64.whl (13 kB)\n",
      "Collecting missingno>=0.4.2\n",
      "  Downloading missingno-0.5.1-py3-none-any.whl (8.7 kB)\n",
      "Collecting phik>=0.11.1\n",
      "  Downloading phik-0.12.0-cp38-cp38-macosx_10_13_x86_64.whl (653 kB)\n",
      "\u001b[2K     \u001b[38;2;114;156;31m━━━━━━━━━━━━━━━━━━━━━━━━━━━━━━━━━━━━━━\u001b[0m \u001b[32m653.0/653.0 KB\u001b[0m \u001b[31m20.3 MB/s\u001b[0m eta \u001b[36m0:00:00\u001b[0m\n",
      "\u001b[?25hRequirement already satisfied: seaborn>=0.10.1 in /Users/avkash/anaconda3/envs/python38/lib/python3.8/site-packages (from pandas_profiling) (0.11.2)\n",
      "Requirement already satisfied: numpy>=1.16.0 in /Users/avkash/anaconda3/envs/python38/lib/python3.8/site-packages (from pandas_profiling) (1.20.3)\n",
      "Requirement already satisfied: attrs>=19.3.0 in /Users/avkash/anaconda3/envs/python38/lib/python3.8/site-packages (from visions[type_image_path]==0.7.4->pandas_profiling) (21.2.0)\n",
      "Requirement already satisfied: networkx>=2.4 in /Users/avkash/anaconda3/envs/python38/lib/python3.8/site-packages (from visions[type_image_path]==0.7.4->pandas_profiling) (2.6.3)\n",
      "Requirement already satisfied: Pillow in /Users/avkash/anaconda3/envs/python38/lib/python3.8/site-packages (from visions[type_image_path]==0.7.4->pandas_profiling) (8.4.0)\n",
      "Collecting imagehash\n",
      "  Downloading ImageHash-4.2.1.tar.gz (812 kB)\n",
      "\u001b[2K     \u001b[38;2;114;156;31m━━━━━━━━━━━━━━━━━━━━━━━━━━━━━━━━━━━━━━\u001b[0m \u001b[32m812.6/812.6 KB\u001b[0m \u001b[31m15.7 MB/s\u001b[0m eta \u001b[36m0:00:00\u001b[0mm eta \u001b[36m0:00:01\u001b[0m\n",
      "\u001b[?25h  Preparing metadata (setup.py) ... \u001b[?25ldone\n",
      "\u001b[?25hRequirement already satisfied: packaging>=20.0 in /Users/avkash/anaconda3/envs/python38/lib/python3.8/site-packages (from matplotlib>=3.2.0->pandas_profiling) (21.3)\n",
      "Requirement already satisfied: kiwisolver>=1.0.1 in /Users/avkash/anaconda3/envs/python38/lib/python3.8/site-packages (from matplotlib>=3.2.0->pandas_profiling) (1.3.1)\n",
      "Requirement already satisfied: python-dateutil>=2.7 in /Users/avkash/anaconda3/envs/python38/lib/python3.8/site-packages (from matplotlib>=3.2.0->pandas_profiling) (2.8.2)\n",
      "Requirement already satisfied: pyparsing>=2.2.1 in /Users/avkash/anaconda3/envs/python38/lib/python3.8/site-packages (from matplotlib>=3.2.0->pandas_profiling) (2.4.7)\n",
      "Requirement already satisfied: fonttools>=4.22.0 in /Users/avkash/anaconda3/envs/python38/lib/python3.8/site-packages (from matplotlib>=3.2.0->pandas_profiling) (4.25.0)\n",
      "Requirement already satisfied: cycler>=0.10 in /Users/avkash/anaconda3/envs/python38/lib/python3.8/site-packages (from matplotlib>=3.2.0->pandas_profiling) (0.11.0)\n",
      "Requirement already satisfied: pytz>=2017.3 in /Users/avkash/anaconda3/envs/python38/lib/python3.8/site-packages (from pandas!=1.0.0,!=1.0.1,!=1.0.2,!=1.1.0,>=0.25.3->pandas_profiling) (2021.3)\n",
      "Requirement already satisfied: typing-extensions>=3.7.4.3 in /Users/avkash/anaconda3/envs/python38/lib/python3.8/site-packages (from pydantic>=1.8.1->pandas_profiling) (3.10.0.2)\n",
      "Requirement already satisfied: idna<4,>=2.5 in /Users/avkash/anaconda3/envs/python38/lib/python3.8/site-packages (from requests>=2.24.0->pandas_profiling) (3.3)\n",
      "Requirement already satisfied: urllib3<1.27,>=1.21.1 in /Users/avkash/anaconda3/envs/python38/lib/python3.8/site-packages (from requests>=2.24.0->pandas_profiling) (1.26.7)\n",
      "Requirement already satisfied: charset-normalizer~=2.0.0 in /Users/avkash/anaconda3/envs/python38/lib/python3.8/site-packages (from requests>=2.24.0->pandas_profiling) (2.0.4)\n",
      "Requirement already satisfied: certifi>=2017.4.17 in /Users/avkash/anaconda3/envs/python38/lib/python3.8/site-packages (from requests>=2.24.0->pandas_profiling) (2021.10.8)\n",
      "Requirement already satisfied: six>=1.5 in /Users/avkash/anaconda3/envs/python38/lib/python3.8/site-packages (from python-dateutil>=2.7->matplotlib>=3.2.0->pandas_profiling) (1.16.0)\n",
      "Requirement already satisfied: PyWavelets in /Users/avkash/anaconda3/envs/python38/lib/python3.8/site-packages (from imagehash->visions[type_image_path]==0.7.4->pandas_profiling) (1.1.1)\n",
      "Building wheels for collected packages: htmlmin, imagehash\n",
      "  Building wheel for htmlmin (setup.py) ... \u001b[?25ldone\n",
      "\u001b[?25h  Created wheel for htmlmin: filename=htmlmin-0.1.12-py3-none-any.whl size=27098 sha256=7d9b0b7360bc255f5a9cd361e20744127d1180d2d2735fc5d98384db59932b48\n",
      "  Stored in directory: /Users/avkash/Library/Caches/pip/wheels/23/14/6e/4be5bfeeb027f4939a01764b48edd5996acf574b0913fe5243\n",
      "  Building wheel for imagehash (setup.py) ... \u001b[?25ldone\n",
      "\u001b[?25h  Created wheel for imagehash: filename=ImageHash-4.2.1-py2.py3-none-any.whl size=295207 sha256=b6eb1b6c615b811e7d9991b3c8a0d8bd6ed0bad9a72cf24c29f9062ffb48fe04\n",
      "  Stored in directory: /Users/avkash/Library/Caches/pip/wheels/48/a1/7f/096c1269d6bf78d4768180602579b35a1e8cb1250bb4b40c74\n",
      "Successfully built htmlmin imagehash\n",
      "Installing collected packages: htmlmin, tangled-up-in-unicode, multimethod, markupsafe, joblib, imagehash, visions, phik, missingno, pandas_profiling\n",
      "  Attempting uninstall: markupsafe\n",
      "    Found existing installation: MarkupSafe 1.1.1\n",
      "    Uninstalling MarkupSafe-1.1.1:\n",
      "      Successfully uninstalled MarkupSafe-1.1.1\n",
      "  Attempting uninstall: joblib\n",
      "    Found existing installation: joblib 1.1.0\n",
      "    Uninstalling joblib-1.1.0:\n",
      "      Successfully uninstalled joblib-1.1.0\n",
      "\u001b[31mERROR: pip's dependency resolver does not currently take into account all the packages that are installed. This behaviour is the source of the following dependency conflicts.\n",
      "cookiecutter 1.7.2 requires MarkupSafe<2.0.0, but you have markupsafe 2.0.1 which is incompatible.\u001b[0m\u001b[31m\n",
      "\u001b[0mSuccessfully installed htmlmin-0.1.12 imagehash-4.2.1 joblib-1.0.1 markupsafe-2.0.1 missingno-0.5.1 multimethod-1.7 pandas_profiling-3.1.0 phik-0.12.0 tangled-up-in-unicode-0.1.0 visions-0.7.4\n",
      "\u001b[33mWARNING: You are using pip version 22.0.3; however, version 22.0.4 is available.\n",
      "You should consider upgrading via the '/Users/avkash/anaconda3/envs/python38/bin/python3 -m pip install --upgrade pip' command.\u001b[0m\u001b[33m\n",
      "\u001b[0m"
     ]
    }
   ],
   "source": [
    "!pip install pandas_profiling"
   ]
  },
  {
   "cell_type": "code",
   "execution_count": 6,
   "id": "4b4fec7c",
   "metadata": {},
   "outputs": [
    {
     "name": "stdout",
     "output_type": "stream",
     "text": [
      "Name: pandas-profiling\r\n",
      "Version: 3.1.0\r\n",
      "Summary: Generate profile report for pandas DataFrame\r\n",
      "Home-page: https://github.com/pandas-profiling/pandas-profiling\r\n",
      "Author: Simon Brugman\r\n",
      "Author-email: pandasprofiling@gmail.com\r\n",
      "License: MIT\r\n",
      "Location: /Users/avkash/anaconda3/envs/python38/lib/python3.8/site-packages\r\n",
      "Requires: htmlmin, jinja2, joblib, markupsafe, matplotlib, missingno, multimethod, numpy, pandas, phik, pydantic, PyYAML, requests, scipy, seaborn, tangled-up-in-unicode, tqdm, visions\r\n",
      "Required-by: \r\n"
     ]
    }
   ],
   "source": [
    "!pip show pandas_profiling"
   ]
  },
  {
   "cell_type": "code",
   "execution_count": 7,
   "id": "9a2afa6c",
   "metadata": {},
   "outputs": [
    {
     "name": "stdout",
     "output_type": "stream",
     "text": [
      "Name: great-expectations\r\n",
      "Version: 0.14.9\r\n",
      "Summary: Always know what to expect from your data.\r\n",
      "Home-page: https://github.com/great-expectations/great_expectations\r\n",
      "Author: The Great Expectations Team\r\n",
      "Author-email: team@greatexpectations.io\r\n",
      "License: Apache-2.0\r\n",
      "Location: /Users/avkash/anaconda3/envs/python38/lib/python3.8/site-packages\r\n",
      "Requires: altair, Click, importlib-metadata, ipywidgets, jinja2, jsonpatch, jsonschema, mistune, numpy, pandas, pyparsing, python-dateutil, pytz, requests, ruamel.yaml, scipy, termcolor, tqdm, typing-extensions, tzlocal\r\n",
      "Required-by: \r\n"
     ]
    }
   ],
   "source": [
    "!pip show great_expectations"
   ]
  },
  {
   "cell_type": "code",
   "execution_count": null,
   "id": "2ba6c0fc",
   "metadata": {},
   "outputs": [],
   "source": []
  }
 ],
 "metadata": {
  "kernelspec": {
   "display_name": "Python 3 (ipykernel)",
   "language": "python",
   "name": "python3"
  },
  "language_info": {
   "codemirror_mode": {
    "name": "ipython",
    "version": 3
   },
   "file_extension": ".py",
   "mimetype": "text/x-python",
   "name": "python",
   "nbconvert_exporter": "python",
   "pygments_lexer": "ipython3",
   "version": "3.8.12"
  }
 },
 "nbformat": 4,
 "nbformat_minor": 5
}
