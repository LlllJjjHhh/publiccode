{
 "cells": [
  {
   "cell_type": "markdown",
   "id": "4a4041cc",
   "metadata": {},
   "source": [
    "## Streamlit Pandas Profiling ##\n",
    " - Package - streamlit_pandas_profiling\n",
    " - https://github.com/okld/streamlit-pandas-profiling"
   ]
  },
  {
   "cell_type": "code",
   "execution_count": 1,
   "id": "da921b31",
   "metadata": {},
   "outputs": [
    {
     "name": "stdout",
     "output_type": "stream",
     "text": [
      "\u001b[33mWARNING: Package(s) not found: streamlit-pandas-profiling\u001b[0m\u001b[33m\r\n",
      "\u001b[0m"
     ]
    }
   ],
   "source": [
    "!pip show streamlit-pandas-profiling"
   ]
  },
  {
   "cell_type": "code",
   "execution_count": 2,
   "id": "047b175b",
   "metadata": {},
   "outputs": [
    {
     "name": "stdout",
     "output_type": "stream",
     "text": [
      "Collecting streamlit-pandas-profiling\n",
      "  Downloading streamlit_pandas_profiling-0.1.3-py3-none-any.whl (259 kB)\n",
      "\u001b[2K     \u001b[38;2;114;156;31m━━━━━━━━━━━━━━━━━━━━━━━━━━━━━━━━━━━━━━━\u001b[0m \u001b[32m259.8/259.8 KB\u001b[0m \u001b[31m2.4 MB/s\u001b[0m eta \u001b[36m0:00:00\u001b[0m[31m3.0 MB/s\u001b[0m eta \u001b[36m0:00:01\u001b[0m\n",
      "\u001b[?25hRequirement already satisfied: pandas-profiling in /Users/avkash/anaconda3/envs/python38/lib/python3.8/site-packages (from streamlit-pandas-profiling) (3.1.0)\n",
      "Collecting streamlit>=0.63\n",
      "  Downloading streamlit-1.7.0-py2.py3-none-any.whl (9.9 MB)\n",
      "\u001b[2K     \u001b[38;2;114;156;31m━━━━━━━━━━━━━━━━━━━━━━━━━━━━━━━━━━━━━━━━\u001b[0m \u001b[32m9.9/9.9 MB\u001b[0m \u001b[31m11.6 MB/s\u001b[0m eta \u001b[36m0:00:00\u001b[0mm eta \u001b[36m0:00:01\u001b[0m0:01\u001b[0m:01\u001b[0m\n",
      "\u001b[?25hCollecting blinker\n",
      "  Downloading blinker-1.4.tar.gz (111 kB)\n",
      "\u001b[2K     \u001b[38;2;114;156;31m━━━━━━━━━━━━━━━━━━━━━━━━━━━━━━━━━━━━━━━\u001b[0m \u001b[32m111.5/111.5 KB\u001b[0m \u001b[31m4.2 MB/s\u001b[0m eta \u001b[36m0:00:00\u001b[0m\n",
      "\u001b[?25h  Preparing metadata (setup.py) ... \u001b[?25ldone\n",
      "\u001b[?25hRequirement already satisfied: python-dateutil in /Users/avkash/anaconda3/envs/python38/lib/python3.8/site-packages (from streamlit>=0.63->streamlit-pandas-profiling) (2.8.2)\n",
      "Requirement already satisfied: requests in /Users/avkash/anaconda3/envs/python38/lib/python3.8/site-packages (from streamlit>=0.63->streamlit-pandas-profiling) (2.26.0)\n",
      "Requirement already satisfied: toml in /Users/avkash/anaconda3/envs/python38/lib/python3.8/site-packages (from streamlit>=0.63->streamlit-pandas-profiling) (0.10.2)\n",
      "Collecting pympler>=0.9\n",
      "  Downloading Pympler-1.0.1-py3-none-any.whl (164 kB)\n",
      "\u001b[2K     \u001b[38;2;114;156;31m━━━━━━━━━━━━━━━━━━━━━━━━━━━━━━━━━━━━━━━\u001b[0m \u001b[32m164.8/164.8 KB\u001b[0m \u001b[31m5.4 MB/s\u001b[0m eta \u001b[36m0:00:00\u001b[0m\n",
      "\u001b[?25hCollecting pydeck>=0.1.dev5\n",
      "  Downloading pydeck-0.7.1-py2.py3-none-any.whl (4.3 MB)\n",
      "\u001b[2K     \u001b[38;2;114;156;31m━━━━━━━━━━━━━━━━━━━━━━━━━━━━━━━━━━━━━━━━\u001b[0m \u001b[32m4.3/4.3 MB\u001b[0m \u001b[31m19.9 MB/s\u001b[0m eta \u001b[36m0:00:00\u001b[0mm eta \u001b[36m0:00:01\u001b[0m[36m0:00:01\u001b[0m\n",
      "\u001b[?25hRequirement already satisfied: click>=7.0 in /Users/avkash/anaconda3/envs/python38/lib/python3.8/site-packages (from streamlit>=0.63->streamlit-pandas-profiling) (7.1.2)\n",
      "Requirement already satisfied: numpy in /Users/avkash/anaconda3/envs/python38/lib/python3.8/site-packages (from streamlit>=0.63->streamlit-pandas-profiling) (1.20.3)\n",
      "Collecting validators\n",
      "  Downloading validators-0.18.2-py3-none-any.whl (19 kB)\n",
      "Collecting semver\n",
      "  Downloading semver-2.13.0-py2.py3-none-any.whl (12 kB)\n",
      "Requirement already satisfied: pillow>=6.2.0 in /Users/avkash/anaconda3/envs/python38/lib/python3.8/site-packages (from streamlit>=0.63->streamlit-pandas-profiling) (8.4.0)\n",
      "Collecting base58\n",
      "  Downloading base58-2.1.1-py3-none-any.whl (5.6 kB)\n",
      "Requirement already satisfied: attrs in /Users/avkash/anaconda3/envs/python38/lib/python3.8/site-packages (from streamlit>=0.63->streamlit-pandas-profiling) (21.2.0)\n",
      "Collecting astor\n",
      "  Downloading astor-0.8.1-py2.py3-none-any.whl (27 kB)\n",
      "Requirement already satisfied: altair>=3.2.0 in /Users/avkash/anaconda3/envs/python38/lib/python3.8/site-packages (from streamlit>=0.63->streamlit-pandas-profiling) (4.2.0)\n",
      "Requirement already satisfied: cachetools>=4.0 in /Users/avkash/anaconda3/envs/python38/lib/python3.8/site-packages (from streamlit>=0.63->streamlit-pandas-profiling) (4.2.4)\n",
      "Requirement already satisfied: importlib-metadata>=1.4 in /Users/avkash/anaconda3/envs/python38/lib/python3.8/site-packages (from streamlit>=0.63->streamlit-pandas-profiling) (4.8.2)\n",
      "Requirement already satisfied: tornado>=5.0 in /Users/avkash/anaconda3/envs/python38/lib/python3.8/site-packages (from streamlit>=0.63->streamlit-pandas-profiling) (6.1)\n",
      "Requirement already satisfied: tzlocal in /Users/avkash/anaconda3/envs/python38/lib/python3.8/site-packages (from streamlit>=0.63->streamlit-pandas-profiling) (4.1)\n",
      "Requirement already satisfied: packaging in /Users/avkash/anaconda3/envs/python38/lib/python3.8/site-packages (from streamlit>=0.63->streamlit-pandas-profiling) (21.3)\n",
      "Requirement already satisfied: pandas>=0.21.0 in /Users/avkash/anaconda3/envs/python38/lib/python3.8/site-packages (from streamlit>=0.63->streamlit-pandas-profiling) (1.3.4)\n",
      "Collecting gitpython!=3.1.19\n",
      "  Downloading GitPython-3.1.27-py3-none-any.whl (181 kB)\n",
      "\u001b[2K     \u001b[38;2;114;156;31m━━━━━━━━━━━━━━━━━━━━━━━━━━━━━━━━━━━━━━━\u001b[0m \u001b[32m181.2/181.2 KB\u001b[0m \u001b[31m6.8 MB/s\u001b[0m eta \u001b[36m0:00:00\u001b[0m\n",
      "\u001b[?25hRequirement already satisfied: protobuf!=3.11,>=3.6.0 in /Users/avkash/anaconda3/envs/python38/lib/python3.8/site-packages (from streamlit>=0.63->streamlit-pandas-profiling) (3.19.1)\n",
      "Requirement already satisfied: pyarrow in /Users/avkash/anaconda3/envs/python38/lib/python3.8/site-packages (from streamlit>=0.63->streamlit-pandas-profiling) (6.0.1)\n",
      "Requirement already satisfied: pydantic>=1.8.1 in /Users/avkash/anaconda3/envs/python38/lib/python3.8/site-packages (from pandas-profiling->streamlit-pandas-profiling) (1.8.2)\n",
      "Requirement already satisfied: phik>=0.11.1 in /Users/avkash/anaconda3/envs/python38/lib/python3.8/site-packages (from pandas-profiling->streamlit-pandas-profiling) (0.12.0)\n",
      "Requirement already satisfied: PyYAML>=5.0.0 in /Users/avkash/anaconda3/envs/python38/lib/python3.8/site-packages (from pandas-profiling->streamlit-pandas-profiling) (6.0)\n",
      "Requirement already satisfied: htmlmin>=0.1.12 in /Users/avkash/anaconda3/envs/python38/lib/python3.8/site-packages (from pandas-profiling->streamlit-pandas-profiling) (0.1.12)\n",
      "Requirement already satisfied: tangled-up-in-unicode==0.1.0 in /Users/avkash/anaconda3/envs/python38/lib/python3.8/site-packages (from pandas-profiling->streamlit-pandas-profiling) (0.1.0)\n",
      "Requirement already satisfied: tqdm>=4.48.2 in /Users/avkash/anaconda3/envs/python38/lib/python3.8/site-packages (from pandas-profiling->streamlit-pandas-profiling) (4.62.3)\n",
      "Requirement already satisfied: visions[type_image_path]==0.7.4 in /Users/avkash/anaconda3/envs/python38/lib/python3.8/site-packages (from pandas-profiling->streamlit-pandas-profiling) (0.7.4)\n",
      "Requirement already satisfied: jinja2>=2.11.1 in /Users/avkash/anaconda3/envs/python38/lib/python3.8/site-packages (from pandas-profiling->streamlit-pandas-profiling) (2.11.3)\n",
      "Requirement already satisfied: joblib~=1.0.1 in /Users/avkash/anaconda3/envs/python38/lib/python3.8/site-packages (from pandas-profiling->streamlit-pandas-profiling) (1.0.1)\n",
      "Requirement already satisfied: matplotlib>=3.2.0 in /Users/avkash/anaconda3/envs/python38/lib/python3.8/site-packages (from pandas-profiling->streamlit-pandas-profiling) (3.5.0)\n",
      "Requirement already satisfied: markupsafe~=2.0.1 in /Users/avkash/anaconda3/envs/python38/lib/python3.8/site-packages (from pandas-profiling->streamlit-pandas-profiling) (2.0.1)\n",
      "Requirement already satisfied: multimethod>=1.4 in /Users/avkash/anaconda3/envs/python38/lib/python3.8/site-packages (from pandas-profiling->streamlit-pandas-profiling) (1.7)\n",
      "Requirement already satisfied: scipy>=1.4.1 in /Users/avkash/anaconda3/envs/python38/lib/python3.8/site-packages (from pandas-profiling->streamlit-pandas-profiling) (1.7.1)\n",
      "Requirement already satisfied: missingno>=0.4.2 in /Users/avkash/anaconda3/envs/python38/lib/python3.8/site-packages (from pandas-profiling->streamlit-pandas-profiling) (0.5.1)\n",
      "Requirement already satisfied: seaborn>=0.10.1 in /Users/avkash/anaconda3/envs/python38/lib/python3.8/site-packages (from pandas-profiling->streamlit-pandas-profiling) (0.11.2)\n",
      "Requirement already satisfied: networkx>=2.4 in /Users/avkash/anaconda3/envs/python38/lib/python3.8/site-packages (from visions[type_image_path]==0.7.4->pandas-profiling->streamlit-pandas-profiling) (2.6.3)\n",
      "Requirement already satisfied: imagehash in /Users/avkash/anaconda3/envs/python38/lib/python3.8/site-packages (from visions[type_image_path]==0.7.4->pandas-profiling->streamlit-pandas-profiling) (4.2.1)\n",
      "Requirement already satisfied: jsonschema>=3.0 in /Users/avkash/anaconda3/envs/python38/lib/python3.8/site-packages (from altair>=3.2.0->streamlit>=0.63->streamlit-pandas-profiling) (3.2.0)\n",
      "Requirement already satisfied: entrypoints in /Users/avkash/anaconda3/envs/python38/lib/python3.8/site-packages (from altair>=3.2.0->streamlit>=0.63->streamlit-pandas-profiling) (0.3)\n",
      "Requirement already satisfied: toolz in /Users/avkash/anaconda3/envs/python38/lib/python3.8/site-packages (from altair>=3.2.0->streamlit>=0.63->streamlit-pandas-profiling) (0.11.2)\n"
     ]
    },
    {
     "name": "stdout",
     "output_type": "stream",
     "text": [
      "Collecting gitdb<5,>=4.0.1\n",
      "  Downloading gitdb-4.0.9-py3-none-any.whl (63 kB)\n",
      "\u001b[2K     \u001b[38;2;114;156;31m━━━━━━━━━━━━━━━━━━━━━━━━━━━━━━━━━━━━━━━━\u001b[0m \u001b[32m63.1/63.1 KB\u001b[0m \u001b[31m2.2 MB/s\u001b[0m eta \u001b[36m0:00:00\u001b[0m\n",
      "\u001b[?25hRequirement already satisfied: zipp>=0.5 in /Users/avkash/anaconda3/envs/python38/lib/python3.8/site-packages (from importlib-metadata>=1.4->streamlit>=0.63->streamlit-pandas-profiling) (3.6.0)\n",
      "Requirement already satisfied: pyparsing>=2.2.1 in /Users/avkash/anaconda3/envs/python38/lib/python3.8/site-packages (from matplotlib>=3.2.0->pandas-profiling->streamlit-pandas-profiling) (2.4.7)\n",
      "Requirement already satisfied: cycler>=0.10 in /Users/avkash/anaconda3/envs/python38/lib/python3.8/site-packages (from matplotlib>=3.2.0->pandas-profiling->streamlit-pandas-profiling) (0.11.0)\n",
      "Requirement already satisfied: fonttools>=4.22.0 in /Users/avkash/anaconda3/envs/python38/lib/python3.8/site-packages (from matplotlib>=3.2.0->pandas-profiling->streamlit-pandas-profiling) (4.25.0)\n",
      "Requirement already satisfied: kiwisolver>=1.0.1 in /Users/avkash/anaconda3/envs/python38/lib/python3.8/site-packages (from matplotlib>=3.2.0->pandas-profiling->streamlit-pandas-profiling) (1.3.1)\n",
      "Requirement already satisfied: pytz>=2017.3 in /Users/avkash/anaconda3/envs/python38/lib/python3.8/site-packages (from pandas>=0.21.0->streamlit>=0.63->streamlit-pandas-profiling) (2021.3)\n",
      "Requirement already satisfied: typing-extensions>=3.7.4.3 in /Users/avkash/anaconda3/envs/python38/lib/python3.8/site-packages (from pydantic>=1.8.1->pandas-profiling->streamlit-pandas-profiling) (3.10.0.2)\n",
      "Requirement already satisfied: ipywidgets>=7.0.0 in /Users/avkash/anaconda3/envs/python38/lib/python3.8/site-packages (from pydeck>=0.1.dev5->streamlit>=0.63->streamlit-pandas-profiling) (7.6.5)\n",
      "Requirement already satisfied: traitlets>=4.3.2 in /Users/avkash/anaconda3/envs/python38/lib/python3.8/site-packages (from pydeck>=0.1.dev5->streamlit>=0.63->streamlit-pandas-profiling) (5.1.1)\n",
      "Requirement already satisfied: ipykernel>=5.1.2 in /Users/avkash/anaconda3/envs/python38/lib/python3.8/site-packages (from pydeck>=0.1.dev5->streamlit>=0.63->streamlit-pandas-profiling) (6.4.1)\n",
      "Requirement already satisfied: six>=1.5 in /Users/avkash/anaconda3/envs/python38/lib/python3.8/site-packages (from python-dateutil->streamlit>=0.63->streamlit-pandas-profiling) (1.16.0)\n",
      "Requirement already satisfied: certifi>=2017.4.17 in /Users/avkash/anaconda3/envs/python38/lib/python3.8/site-packages (from requests->streamlit>=0.63->streamlit-pandas-profiling) (2021.10.8)\n",
      "Requirement already satisfied: charset-normalizer~=2.0.0 in /Users/avkash/anaconda3/envs/python38/lib/python3.8/site-packages (from requests->streamlit>=0.63->streamlit-pandas-profiling) (2.0.4)\n",
      "Requirement already satisfied: urllib3<1.27,>=1.21.1 in /Users/avkash/anaconda3/envs/python38/lib/python3.8/site-packages (from requests->streamlit>=0.63->streamlit-pandas-profiling) (1.26.7)\n",
      "Requirement already satisfied: idna<4,>=2.5 in /Users/avkash/anaconda3/envs/python38/lib/python3.8/site-packages (from requests->streamlit>=0.63->streamlit-pandas-profiling) (3.3)\n",
      "Requirement already satisfied: backports.zoneinfo in /Users/avkash/anaconda3/envs/python38/lib/python3.8/site-packages (from tzlocal->streamlit>=0.63->streamlit-pandas-profiling) (0.2.1)\n",
      "Requirement already satisfied: pytz-deprecation-shim in /Users/avkash/anaconda3/envs/python38/lib/python3.8/site-packages (from tzlocal->streamlit>=0.63->streamlit-pandas-profiling) (0.1.0.post0)\n",
      "Requirement already satisfied: decorator>=3.4.0 in /Users/avkash/anaconda3/envs/python38/lib/python3.8/site-packages (from validators->streamlit>=0.63->streamlit-pandas-profiling) (5.1.0)\n",
      "Collecting smmap<6,>=3.0.1\n",
      "  Downloading smmap-5.0.0-py3-none-any.whl (24 kB)\n",
      "Requirement already satisfied: ipython-genutils in /Users/avkash/anaconda3/envs/python38/lib/python3.8/site-packages (from ipykernel>=5.1.2->pydeck>=0.1.dev5->streamlit>=0.63->streamlit-pandas-profiling) (0.2.0)\n",
      "Requirement already satisfied: debugpy<2.0,>=1.0.0 in /Users/avkash/anaconda3/envs/python38/lib/python3.8/site-packages (from ipykernel>=5.1.2->pydeck>=0.1.dev5->streamlit>=0.63->streamlit-pandas-profiling) (1.5.1)\n",
      "Requirement already satisfied: jupyter-client<8.0 in /Users/avkash/anaconda3/envs/python38/lib/python3.8/site-packages (from ipykernel>=5.1.2->pydeck>=0.1.dev5->streamlit>=0.63->streamlit-pandas-profiling) (6.1.12)\n",
      "Requirement already satisfied: ipython<8.0,>=7.23.1 in /Users/avkash/anaconda3/envs/python38/lib/python3.8/site-packages (from ipykernel>=5.1.2->pydeck>=0.1.dev5->streamlit>=0.63->streamlit-pandas-profiling) (7.29.0)\n",
      "Requirement already satisfied: appnope in /Users/avkash/anaconda3/envs/python38/lib/python3.8/site-packages (from ipykernel>=5.1.2->pydeck>=0.1.dev5->streamlit>=0.63->streamlit-pandas-profiling) (0.1.2)\n",
      "Requirement already satisfied: matplotlib-inline<0.2.0,>=0.1.0 in /Users/avkash/anaconda3/envs/python38/lib/python3.8/site-packages (from ipykernel>=5.1.2->pydeck>=0.1.dev5->streamlit>=0.63->streamlit-pandas-profiling) (0.1.2)\n",
      "Requirement already satisfied: jupyterlab-widgets>=1.0.0 in /Users/avkash/anaconda3/envs/python38/lib/python3.8/site-packages (from ipywidgets>=7.0.0->pydeck>=0.1.dev5->streamlit>=0.63->streamlit-pandas-profiling) (1.0.0)\n",
      "Requirement already satisfied: widgetsnbextension~=3.5.0 in /Users/avkash/anaconda3/envs/python38/lib/python3.8/site-packages (from ipywidgets>=7.0.0->pydeck>=0.1.dev5->streamlit>=0.63->streamlit-pandas-profiling) (3.5.1)\n",
      "Requirement already satisfied: nbformat>=4.2.0 in /Users/avkash/anaconda3/envs/python38/lib/python3.8/site-packages (from ipywidgets>=7.0.0->pydeck>=0.1.dev5->streamlit>=0.63->streamlit-pandas-profiling) (5.1.3)\n",
      "Requirement already satisfied: setuptools in /Users/avkash/anaconda3/envs/python38/lib/python3.8/site-packages (from jsonschema>=3.0->altair>=3.2.0->streamlit>=0.63->streamlit-pandas-profiling) (58.0.4)\n",
      "Requirement already satisfied: pyrsistent>=0.14.0 in /Users/avkash/anaconda3/envs/python38/lib/python3.8/site-packages (from jsonschema>=3.0->altair>=3.2.0->streamlit>=0.63->streamlit-pandas-profiling) (0.18.0)\n",
      "Requirement already satisfied: PyWavelets in /Users/avkash/anaconda3/envs/python38/lib/python3.8/site-packages (from imagehash->visions[type_image_path]==0.7.4->pandas-profiling->streamlit-pandas-profiling) (1.1.1)\n",
      "Requirement already satisfied: tzdata in /Users/avkash/anaconda3/envs/python38/lib/python3.8/site-packages (from pytz-deprecation-shim->tzlocal->streamlit>=0.63->streamlit-pandas-profiling) (2021.5)\n",
      "Requirement already satisfied: jedi>=0.16 in /Users/avkash/anaconda3/envs/python38/lib/python3.8/site-packages (from ipython<8.0,>=7.23.1->ipykernel>=5.1.2->pydeck>=0.1.dev5->streamlit>=0.63->streamlit-pandas-profiling) (0.18.0)\n",
      "Requirement already satisfied: pygments in /Users/avkash/anaconda3/envs/python38/lib/python3.8/site-packages (from ipython<8.0,>=7.23.1->ipykernel>=5.1.2->pydeck>=0.1.dev5->streamlit>=0.63->streamlit-pandas-profiling) (2.10.0)\n",
      "Requirement already satisfied: prompt-toolkit!=3.0.0,!=3.0.1,<3.1.0,>=2.0.0 in /Users/avkash/anaconda3/envs/python38/lib/python3.8/site-packages (from ipython<8.0,>=7.23.1->ipykernel>=5.1.2->pydeck>=0.1.dev5->streamlit>=0.63->streamlit-pandas-profiling) (3.0.20)\n",
      "Requirement already satisfied: backcall in /Users/avkash/anaconda3/envs/python38/lib/python3.8/site-packages (from ipython<8.0,>=7.23.1->ipykernel>=5.1.2->pydeck>=0.1.dev5->streamlit>=0.63->streamlit-pandas-profiling) (0.2.0)\n",
      "Requirement already satisfied: pexpect>4.3 in /Users/avkash/anaconda3/envs/python38/lib/python3.8/site-packages (from ipython<8.0,>=7.23.1->ipykernel>=5.1.2->pydeck>=0.1.dev5->streamlit>=0.63->streamlit-pandas-profiling) (4.8.0)\n",
      "Requirement already satisfied: pickleshare in /Users/avkash/anaconda3/envs/python38/lib/python3.8/site-packages (from ipython<8.0,>=7.23.1->ipykernel>=5.1.2->pydeck>=0.1.dev5->streamlit>=0.63->streamlit-pandas-profiling) (0.7.5)\n",
      "Requirement already satisfied: jupyter-core>=4.6.0 in /Users/avkash/anaconda3/envs/python38/lib/python3.8/site-packages (from jupyter-client<8.0->ipykernel>=5.1.2->pydeck>=0.1.dev5->streamlit>=0.63->streamlit-pandas-profiling) (4.9.1)\n",
      "Requirement already satisfied: pyzmq>=13 in /Users/avkash/anaconda3/envs/python38/lib/python3.8/site-packages (from jupyter-client<8.0->ipykernel>=5.1.2->pydeck>=0.1.dev5->streamlit>=0.63->streamlit-pandas-profiling) (22.3.0)\n"
     ]
    },
    {
     "name": "stdout",
     "output_type": "stream",
     "text": [
      "Requirement already satisfied: notebook>=4.4.1 in /Users/avkash/anaconda3/envs/python38/lib/python3.8/site-packages (from widgetsnbextension~=3.5.0->ipywidgets>=7.0.0->pydeck>=0.1.dev5->streamlit>=0.63->streamlit-pandas-profiling) (6.4.6)\n",
      "Requirement already satisfied: parso<0.9.0,>=0.8.0 in /Users/avkash/anaconda3/envs/python38/lib/python3.8/site-packages (from jedi>=0.16->ipython<8.0,>=7.23.1->ipykernel>=5.1.2->pydeck>=0.1.dev5->streamlit>=0.63->streamlit-pandas-profiling) (0.8.2)\n",
      "Requirement already satisfied: prometheus-client in /Users/avkash/anaconda3/envs/python38/lib/python3.8/site-packages (from notebook>=4.4.1->widgetsnbextension~=3.5.0->ipywidgets>=7.0.0->pydeck>=0.1.dev5->streamlit>=0.63->streamlit-pandas-profiling) (0.12.0)\n",
      "Requirement already satisfied: nest-asyncio>=1.5 in /Users/avkash/anaconda3/envs/python38/lib/python3.8/site-packages (from notebook>=4.4.1->widgetsnbextension~=3.5.0->ipywidgets>=7.0.0->pydeck>=0.1.dev5->streamlit>=0.63->streamlit-pandas-profiling) (1.5.1)\n",
      "Requirement already satisfied: nbconvert in /Users/avkash/anaconda3/envs/python38/lib/python3.8/site-packages (from notebook>=4.4.1->widgetsnbextension~=3.5.0->ipywidgets>=7.0.0->pydeck>=0.1.dev5->streamlit>=0.63->streamlit-pandas-profiling) (6.1.0)\n",
      "Requirement already satisfied: terminado>=0.8.3 in /Users/avkash/anaconda3/envs/python38/lib/python3.8/site-packages (from notebook>=4.4.1->widgetsnbextension~=3.5.0->ipywidgets>=7.0.0->pydeck>=0.1.dev5->streamlit>=0.63->streamlit-pandas-profiling) (0.9.4)\n",
      "Requirement already satisfied: argon2-cffi in /Users/avkash/anaconda3/envs/python38/lib/python3.8/site-packages (from notebook>=4.4.1->widgetsnbextension~=3.5.0->ipywidgets>=7.0.0->pydeck>=0.1.dev5->streamlit>=0.63->streamlit-pandas-profiling) (20.1.0)\n",
      "Requirement already satisfied: Send2Trash>=1.8.0 in /Users/avkash/anaconda3/envs/python38/lib/python3.8/site-packages (from notebook>=4.4.1->widgetsnbextension~=3.5.0->ipywidgets>=7.0.0->pydeck>=0.1.dev5->streamlit>=0.63->streamlit-pandas-profiling) (1.8.0)\n",
      "Requirement already satisfied: ptyprocess>=0.5 in /Users/avkash/anaconda3/envs/python38/lib/python3.8/site-packages (from pexpect>4.3->ipython<8.0,>=7.23.1->ipykernel>=5.1.2->pydeck>=0.1.dev5->streamlit>=0.63->streamlit-pandas-profiling) (0.7.0)\n",
      "Requirement already satisfied: wcwidth in /Users/avkash/anaconda3/envs/python38/lib/python3.8/site-packages (from prompt-toolkit!=3.0.0,!=3.0.1,<3.1.0,>=2.0.0->ipython<8.0,>=7.23.1->ipykernel>=5.1.2->pydeck>=0.1.dev5->streamlit>=0.63->streamlit-pandas-profiling) (0.2.5)\n",
      "Requirement already satisfied: cffi>=1.0.0 in /Users/avkash/anaconda3/envs/python38/lib/python3.8/site-packages (from argon2-cffi->notebook>=4.4.1->widgetsnbextension~=3.5.0->ipywidgets>=7.0.0->pydeck>=0.1.dev5->streamlit>=0.63->streamlit-pandas-profiling) (1.14.6)\n",
      "Requirement already satisfied: jupyterlab-pygments in /Users/avkash/anaconda3/envs/python38/lib/python3.8/site-packages (from nbconvert->notebook>=4.4.1->widgetsnbextension~=3.5.0->ipywidgets>=7.0.0->pydeck>=0.1.dev5->streamlit>=0.63->streamlit-pandas-profiling) (0.1.2)\n",
      "Requirement already satisfied: testpath in /Users/avkash/anaconda3/envs/python38/lib/python3.8/site-packages (from nbconvert->notebook>=4.4.1->widgetsnbextension~=3.5.0->ipywidgets>=7.0.0->pydeck>=0.1.dev5->streamlit>=0.63->streamlit-pandas-profiling) (0.5.0)\n",
      "Requirement already satisfied: pandocfilters>=1.4.1 in /Users/avkash/anaconda3/envs/python38/lib/python3.8/site-packages (from nbconvert->notebook>=4.4.1->widgetsnbextension~=3.5.0->ipywidgets>=7.0.0->pydeck>=0.1.dev5->streamlit>=0.63->streamlit-pandas-profiling) (1.4.3)\n",
      "Requirement already satisfied: mistune<2,>=0.8.1 in /Users/avkash/anaconda3/envs/python38/lib/python3.8/site-packages (from nbconvert->notebook>=4.4.1->widgetsnbextension~=3.5.0->ipywidgets>=7.0.0->pydeck>=0.1.dev5->streamlit>=0.63->streamlit-pandas-profiling) (0.8.4)\n",
      "Requirement already satisfied: bleach in /Users/avkash/anaconda3/envs/python38/lib/python3.8/site-packages (from nbconvert->notebook>=4.4.1->widgetsnbextension~=3.5.0->ipywidgets>=7.0.0->pydeck>=0.1.dev5->streamlit>=0.63->streamlit-pandas-profiling) (4.0.0)\n",
      "Requirement already satisfied: defusedxml in /Users/avkash/anaconda3/envs/python38/lib/python3.8/site-packages (from nbconvert->notebook>=4.4.1->widgetsnbextension~=3.5.0->ipywidgets>=7.0.0->pydeck>=0.1.dev5->streamlit>=0.63->streamlit-pandas-profiling) (0.7.1)\n",
      "Requirement already satisfied: nbclient<0.6.0,>=0.5.0 in /Users/avkash/anaconda3/envs/python38/lib/python3.8/site-packages (from nbconvert->notebook>=4.4.1->widgetsnbextension~=3.5.0->ipywidgets>=7.0.0->pydeck>=0.1.dev5->streamlit>=0.63->streamlit-pandas-profiling) (0.5.3)\n",
      "Requirement already satisfied: pycparser in /Users/avkash/anaconda3/envs/python38/lib/python3.8/site-packages (from cffi>=1.0.0->argon2-cffi->notebook>=4.4.1->widgetsnbextension~=3.5.0->ipywidgets>=7.0.0->pydeck>=0.1.dev5->streamlit>=0.63->streamlit-pandas-profiling) (2.21)\n",
      "Requirement already satisfied: async-generator in /Users/avkash/anaconda3/envs/python38/lib/python3.8/site-packages (from nbclient<0.6.0,>=0.5.0->nbconvert->notebook>=4.4.1->widgetsnbextension~=3.5.0->ipywidgets>=7.0.0->pydeck>=0.1.dev5->streamlit>=0.63->streamlit-pandas-profiling) (1.10)\n",
      "Requirement already satisfied: webencodings in /Users/avkash/anaconda3/envs/python38/lib/python3.8/site-packages (from bleach->nbconvert->notebook>=4.4.1->widgetsnbextension~=3.5.0->ipywidgets>=7.0.0->pydeck>=0.1.dev5->streamlit>=0.63->streamlit-pandas-profiling) (0.5.1)\n",
      "Building wheels for collected packages: blinker\n",
      "  Building wheel for blinker (setup.py) ... \u001b[?25ldone\n",
      "\u001b[?25h  Created wheel for blinker: filename=blinker-1.4-py3-none-any.whl size=13478 sha256=b537507fb65a418f79205deee803a15bc817dc60c6dacbb01d5b2e5cfd3b345f\n",
      "  Stored in directory: /Users/avkash/Library/Caches/pip/wheels/b7/a5/68/fe632054a5eadd531c7a49d740c50eb6adfbeca822b4eab8d4\n",
      "Successfully built blinker\n",
      "Installing collected packages: blinker, validators, smmap, semver, pympler, base58, astor, gitdb, gitpython, pydeck, streamlit, streamlit-pandas-profiling\n",
      "Successfully installed astor-0.8.1 base58-2.1.1 blinker-1.4 gitdb-4.0.9 gitpython-3.1.27 pydeck-0.7.1 pympler-1.0.1 semver-2.13.0 smmap-5.0.0 streamlit-1.7.0 streamlit-pandas-profiling-0.1.3 validators-0.18.2\n",
      "\u001b[33mWARNING: You are using pip version 22.0.3; however, version 22.0.4 is available.\n",
      "You should consider upgrading via the '/Users/avkash/anaconda3/envs/python38/bin/python3 -m pip install --upgrade pip' command.\u001b[0m\u001b[33m\n",
      "\u001b[0m"
     ]
    }
   ],
   "source": [
    "!pip install streamlit-pandas-profiling"
   ]
  },
  {
   "cell_type": "code",
   "execution_count": 7,
   "id": "1fee6a66",
   "metadata": {},
   "outputs": [
    {
     "name": "stdout",
     "output_type": "stream",
     "text": [
      "Package Installation.ipynb      titanic_report.html\r\n",
      "Titanic Dataset Profiling.ipynb titanic_streamlit.py\r\n",
      "Untitled.ipynb\r\n"
     ]
    }
   ],
   "source": [
    "!ls"
   ]
  },
  {
   "cell_type": "code",
   "execution_count": null,
   "id": "30f576aa",
   "metadata": {},
   "outputs": [],
   "source": [
    "# %load titanic_streamlit.py\n",
    "import pandas as pd\n",
    "import pandas_profiling\n",
    "import streamlit as st\n",
    "from streamlit_pandas_profiling import st_profile_report\n",
    "from pandas_profiling import ProfileReport\n",
    "\n",
    "\n",
    "data_source_url = \"https://raw.githubusercontent.com/prodramp/publiccode/master/datasets/titanic.csv\"\n",
    "df = pd.read_csv(data_source_url)\n",
    "\n",
    "variables={\n",
    "        \"descriptions\": {\n",
    "            \"Survived\": \"Passenger survived or not\",\n",
    "            \"Cabin\": \"Cabin Type, where passenger was staying during the travel\",\n",
    "            \"Ticket\": \"Unique ticket ID for each individual passenger\",\n",
    "            \"Fare\": \"Actual Fare amount in pounds paid by the passenger\",\n",
    "            \"Pclass\": \"Passenger travelling class\",\n",
    "            \"SibSp\": \"Total number of siblings travelling with the passenger besides himself or herself\",\n",
    "            \"Parch\": \"Total number of parents of children travelling for this passenger\",\n",
    "        }\n",
    "    }\n",
    "\n",
    "titanic_report = ProfileReport(df,\n",
    "                        title=\"Titanic Dataset Profiling Details with updated Variables\",\n",
    "        dataset={\n",
    "        \"description\": \"This profiling report contains Titanic Dataset Profiling details.\",\n",
    "        \"copyright_holder\": \"Prodramp Inc.\",\n",
    "        \"copyright_year\": \"2022\",\n",
    "        \"url\": \"https://prodramp.com\",\n",
    "    }, variables = variables) \n",
    "\n",
    "titanic_report\n",
    "\n",
    "st.title(\"Titanic Dataset Profiling in Streamlit!\")\n",
    "st.write(df)\n",
    "st_profile_report(titanic_report)\n",
    "\n"
   ]
  },
  {
   "cell_type": "code",
   "execution_count": null,
   "id": "5d6f5e74",
   "metadata": {},
   "outputs": [],
   "source": []
  }
 ],
 "metadata": {
  "kernelspec": {
   "display_name": "Python 3 (ipykernel)",
   "language": "python",
   "name": "python3"
  },
  "language_info": {
   "codemirror_mode": {
    "name": "ipython",
    "version": 3
   },
   "file_extension": ".py",
   "mimetype": "text/x-python",
   "name": "python",
   "nbconvert_exporter": "python",
   "pygments_lexer": "ipython3",
   "version": "3.8.12"
  }
 },
 "nbformat": 4,
 "nbformat_minor": 5
}
