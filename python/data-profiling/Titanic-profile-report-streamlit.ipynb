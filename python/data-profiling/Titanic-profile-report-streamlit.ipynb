{
 "cells": [
  {
   "cell_type": "markdown",
   "id": "4a4041cc",
   "metadata": {},
   "source": [
    "## Streamlit Pandas Profiling ##\n",
    " - Package - streamlit_pandas_profiling\n",
    " - https://github.com/okld/streamlit-pandas-profiling"
   ]
  },
  {
   "cell_type": "code",
   "execution_count": 1,
   "id": "da921b31",
   "metadata": {},
   "outputs": [
    {
     "name": "stdout",
     "output_type": "stream",
     "text": [
      "Name: streamlit-pandas-profiling\r\n",
      "Version: 0.1.3\r\n",
      "Summary: Pandas Profiling component for Streamlit.\r\n",
      "Home-page: https://share.streamlit.io/okld/streamlit-gallery/main?p=pandas-profiling\r\n",
      "Author: okld\r\n",
      "Author-email: \r\n",
      "License: MIT\r\n",
      "Location: /Users/avkash/anaconda3/envs/python38/lib/python3.8/site-packages\r\n",
      "Requires: pandas-profiling, streamlit\r\n",
      "Required-by: \r\n"
     ]
    }
   ],
   "source": [
    "!pip show streamlit-pandas-profiling"
   ]
  },
  {
   "cell_type": "code",
   "execution_count": null,
   "id": "047b175b",
   "metadata": {},
   "outputs": [],
   "source": [
    "!pip install streamlit-pandas-profiling"
   ]
  },
  {
   "cell_type": "code",
   "execution_count": 2,
   "id": "1fee6a66",
   "metadata": {},
   "outputs": [
    {
     "name": "stdout",
     "output_type": "stream",
     "text": [
      "Package Installation.ipynb             titanic_report.html\r\n",
      "Titanic Dataset Profiling.ipynb        titanic_streamlit.py\r\n",
      "Titanic-profile-report-streamlit.ipynb\r\n"
     ]
    }
   ],
   "source": [
    "!ls"
   ]
  },
  {
   "cell_type": "code",
   "execution_count": null,
   "id": "30f576aa",
   "metadata": {},
   "outputs": [],
   "source": [
    "# %load titanic_streamlit.py\n",
    "import pandas as pd\n",
    "import pandas_profiling\n",
    "import streamlit as st\n",
    "from streamlit_pandas_profiling import st_profile_report\n",
    "from pandas_profiling import ProfileReport\n",
    "\n",
    "\n",
    "data_source_url = \"https://raw.githubusercontent.com/prodramp/publiccode/master/datasets/titanic.csv\"\n",
    "df = pd.read_csv(data_source_url)\n",
    "\n",
    "variables={\n",
    "        \"descriptions\": {\n",
    "            \"Survived\": \"Passenger survived or not\",\n",
    "            \"Cabin\": \"Cabin Type, where passenger was staying during the travel\",\n",
    "            \"Ticket\": \"Unique ticket ID for each individual passenger\",\n",
    "            \"Fare\": \"Actual Fare amount in pounds paid by the passenger\",\n",
    "            \"Pclass\": \"Passenger travelling class\",\n",
    "            \"SibSp\": \"Total number of siblings travelling with the passenger besides himself or herself\",\n",
    "            \"Parch\": \"Total number of parents of children travelling for this passenger\",\n",
    "        }\n",
    "    }\n",
    "\n",
    "titanic_report = ProfileReport(df,\n",
    "                        title=\"Titanic Dataset Profiling Details with updated Variables\",\n",
    "        dataset={\n",
    "        \"description\": \"This profiling report contains Titanic Dataset Profiling details.\",\n",
    "        \"copyright_holder\": \"Prodramp Inc.\",\n",
    "        \"copyright_year\": \"2022\",\n",
    "        \"url\": \"https://prodramp.com\",\n",
    "    }, variables = variables) \n",
    "\n",
    "titanic_report\n",
    "\n",
    "st.title(\"Titanic Dataset Profiling in Streamlit!\")\n",
    "st.write(df)\n",
    "st_profile_report(titanic_report)\n",
    "\n"
   ]
  },
  {
   "cell_type": "code",
   "execution_count": null,
   "id": "5d6f5e74",
   "metadata": {},
   "outputs": [],
   "source": []
  }
 ],
 "metadata": {
  "kernelspec": {
   "display_name": "Python 3 (ipykernel)",
   "language": "python",
   "name": "python3"
  },
  "language_info": {
   "codemirror_mode": {
    "name": "ipython",
    "version": 3
   },
   "file_extension": ".py",
   "mimetype": "text/x-python",
   "name": "python",
   "nbconvert_exporter": "python",
   "pygments_lexer": "ipython3",
   "version": "3.8.12"
  }
 },
 "nbformat": 4,
 "nbformat_minor": 5
}
