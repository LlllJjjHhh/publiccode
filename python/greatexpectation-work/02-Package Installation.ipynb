{
 "cells": [
  {
   "cell_type": "code",
   "execution_count": 3,
   "metadata": {},
   "outputs": [
    {
     "name": "stdout",
     "output_type": "stream",
     "text": [
      "Python 3.8.12\r\n"
     ]
    }
   ],
   "source": [
    "!python --version"
   ]
  },
  {
   "cell_type": "code",
   "execution_count": 1,
   "metadata": {},
   "outputs": [
    {
     "name": "stdout",
     "output_type": "stream",
     "text": [
      "Name: great-expectations\r\n",
      "Version: 0.14.9\r\n",
      "Summary: Always know what to expect from your data.\r\n",
      "Home-page: https://github.com/great-expectations/great_expectations\r\n",
      "Author: The Great Expectations Team\r\n",
      "Author-email: team@greatexpectations.io\r\n",
      "License: Apache-2.0\r\n",
      "Location: /Users/avkash/anaconda3/envs/python38/lib/python3.8/site-packages\r\n",
      "Requires: altair, Click, importlib-metadata, ipywidgets, jinja2, jsonpatch, jsonschema, mistune, numpy, pandas, pyparsing, python-dateutil, pytz, requests, ruamel.yaml, scipy, termcolor, tqdm, typing-extensions, tzlocal\r\n",
      "Required-by: \r\n"
     ]
    }
   ],
   "source": [
    "!pip show great_expectations"
   ]
  },
  {
   "cell_type": "code",
   "execution_count": 2,
   "metadata": {},
   "outputs": [
    {
     "name": "stdout",
     "output_type": "stream",
     "text": [
      "Requirement already satisfied: great_expectations in /Users/avkash/anaconda3/envs/python38/lib/python3.8/site-packages (0.14.9)\n",
      "Requirement already satisfied: Click>=7.1.2 in /Users/avkash/anaconda3/envs/python38/lib/python3.8/site-packages (from great_expectations) (7.1.2)\n",
      "Requirement already satisfied: ruamel.yaml<0.17.18,>=0.16 in /Users/avkash/anaconda3/envs/python38/lib/python3.8/site-packages (from great_expectations) (0.17.17)\n",
      "Requirement already satisfied: scipy>=0.19.0 in /Users/avkash/anaconda3/envs/python38/lib/python3.8/site-packages (from great_expectations) (1.7.1)\n",
      "Requirement already satisfied: tqdm>=4.59.0 in /Users/avkash/anaconda3/envs/python38/lib/python3.8/site-packages (from great_expectations) (4.62.3)\n",
      "Requirement already satisfied: altair<5,>=4.0.0 in /Users/avkash/anaconda3/envs/python38/lib/python3.8/site-packages (from great_expectations) (4.2.0)\n",
      "Requirement already satisfied: tzlocal>=1.2 in /Users/avkash/anaconda3/envs/python38/lib/python3.8/site-packages (from great_expectations) (4.1)\n",
      "Requirement already satisfied: pandas>=0.23.0 in /Users/avkash/anaconda3/envs/python38/lib/python3.8/site-packages (from great_expectations) (1.3.4)\n",
      "Requirement already satisfied: ipywidgets>=7.5.1 in /Users/avkash/anaconda3/envs/python38/lib/python3.8/site-packages (from great_expectations) (7.6.5)\n",
      "Requirement already satisfied: jsonschema>=2.5.1 in /Users/avkash/anaconda3/envs/python38/lib/python3.8/site-packages (from great_expectations) (3.2.0)\n",
      "Requirement already satisfied: importlib-metadata>=1.7.0 in /Users/avkash/anaconda3/envs/python38/lib/python3.8/site-packages (from great_expectations) (4.8.2)\n",
      "Requirement already satisfied: mistune<2.0.0,>=0.8.4 in /Users/avkash/anaconda3/envs/python38/lib/python3.8/site-packages (from great_expectations) (0.8.4)\n",
      "Requirement already satisfied: pyparsing<3,>=2.4 in /Users/avkash/anaconda3/envs/python38/lib/python3.8/site-packages (from great_expectations) (2.4.7)\n",
      "Requirement already satisfied: jsonpatch>=1.22 in /Users/avkash/anaconda3/envs/python38/lib/python3.8/site-packages (from great_expectations) (1.32)\n",
      "Requirement already satisfied: termcolor>=1.1.0 in /Users/avkash/anaconda3/envs/python38/lib/python3.8/site-packages (from great_expectations) (1.1.0)\n",
      "Requirement already satisfied: jinja2>=2.10 in /Users/avkash/anaconda3/envs/python38/lib/python3.8/site-packages (from great_expectations) (2.11.3)\n",
      "Requirement already satisfied: pytz>=2015.6 in /Users/avkash/anaconda3/envs/python38/lib/python3.8/site-packages (from great_expectations) (2021.3)\n",
      "Requirement already satisfied: requests>=2.20 in /Users/avkash/anaconda3/envs/python38/lib/python3.8/site-packages (from great_expectations) (2.26.0)\n",
      "Requirement already satisfied: numpy>=1.14.1 in /Users/avkash/anaconda3/envs/python38/lib/python3.8/site-packages (from great_expectations) (1.20.3)\n",
      "Requirement already satisfied: typing-extensions>=3.10.0.0 in /Users/avkash/anaconda3/envs/python38/lib/python3.8/site-packages (from great_expectations) (3.10.0.2)\n",
      "Requirement already satisfied: python-dateutil>=2.8.1 in /Users/avkash/anaconda3/envs/python38/lib/python3.8/site-packages (from great_expectations) (2.8.2)\n",
      "Requirement already satisfied: entrypoints in /Users/avkash/anaconda3/envs/python38/lib/python3.8/site-packages (from altair<5,>=4.0.0->great_expectations) (0.3)\n",
      "Requirement already satisfied: toolz in /Users/avkash/anaconda3/envs/python38/lib/python3.8/site-packages (from altair<5,>=4.0.0->great_expectations) (0.11.2)\n",
      "Requirement already satisfied: zipp>=0.5 in /Users/avkash/anaconda3/envs/python38/lib/python3.8/site-packages (from importlib-metadata>=1.7.0->great_expectations) (3.6.0)\n",
      "Requirement already satisfied: nbformat>=4.2.0 in /Users/avkash/anaconda3/envs/python38/lib/python3.8/site-packages (from ipywidgets>=7.5.1->great_expectations) (5.1.3)\n",
      "Requirement already satisfied: ipykernel>=4.5.1 in /Users/avkash/anaconda3/envs/python38/lib/python3.8/site-packages (from ipywidgets>=7.5.1->great_expectations) (6.4.1)\n",
      "Requirement already satisfied: jupyterlab-widgets>=1.0.0 in /Users/avkash/anaconda3/envs/python38/lib/python3.8/site-packages (from ipywidgets>=7.5.1->great_expectations) (1.0.0)\n",
      "Requirement already satisfied: ipython>=4.0.0 in /Users/avkash/anaconda3/envs/python38/lib/python3.8/site-packages (from ipywidgets>=7.5.1->great_expectations) (7.29.0)\n",
      "Requirement already satisfied: widgetsnbextension~=3.5.0 in /Users/avkash/anaconda3/envs/python38/lib/python3.8/site-packages (from ipywidgets>=7.5.1->great_expectations) (3.5.1)\n",
      "Requirement already satisfied: traitlets>=4.3.1 in /Users/avkash/anaconda3/envs/python38/lib/python3.8/site-packages (from ipywidgets>=7.5.1->great_expectations) (5.1.1)\n",
      "Requirement already satisfied: ipython-genutils~=0.2.0 in /Users/avkash/anaconda3/envs/python38/lib/python3.8/site-packages (from ipywidgets>=7.5.1->great_expectations) (0.2.0)\n",
      "Requirement already satisfied: MarkupSafe>=0.23 in /Users/avkash/anaconda3/envs/python38/lib/python3.8/site-packages (from jinja2>=2.10->great_expectations) (2.0.1)\n",
      "Requirement already satisfied: jsonpointer>=1.9 in /Users/avkash/anaconda3/envs/python38/lib/python3.8/site-packages (from jsonpatch>=1.22->great_expectations) (2.2)\n",
      "Requirement already satisfied: setuptools in /Users/avkash/anaconda3/envs/python38/lib/python3.8/site-packages (from jsonschema>=2.5.1->great_expectations) (58.0.4)\n",
      "Requirement already satisfied: attrs>=17.4.0 in /Users/avkash/anaconda3/envs/python38/lib/python3.8/site-packages (from jsonschema>=2.5.1->great_expectations) (21.2.0)\n",
      "Requirement already satisfied: pyrsistent>=0.14.0 in /Users/avkash/anaconda3/envs/python38/lib/python3.8/site-packages (from jsonschema>=2.5.1->great_expectations) (0.18.0)\n",
      "Requirement already satisfied: six>=1.11.0 in /Users/avkash/anaconda3/envs/python38/lib/python3.8/site-packages (from jsonschema>=2.5.1->great_expectations) (1.16.0)\n",
      "Requirement already satisfied: idna<4,>=2.5 in /Users/avkash/anaconda3/envs/python38/lib/python3.8/site-packages (from requests>=2.20->great_expectations) (3.3)\n",
      "Requirement already satisfied: urllib3<1.27,>=1.21.1 in /Users/avkash/anaconda3/envs/python38/lib/python3.8/site-packages (from requests>=2.20->great_expectations) (1.26.7)\n",
      "Requirement already satisfied: certifi>=2017.4.17 in /Users/avkash/anaconda3/envs/python38/lib/python3.8/site-packages (from requests>=2.20->great_expectations) (2021.10.8)\n",
      "Requirement already satisfied: charset-normalizer~=2.0.0 in /Users/avkash/anaconda3/envs/python38/lib/python3.8/site-packages (from requests>=2.20->great_expectations) (2.0.4)\n",
      "Requirement already satisfied: ruamel.yaml.clib>=0.1.2 in /Users/avkash/anaconda3/envs/python38/lib/python3.8/site-packages (from ruamel.yaml<0.17.18,>=0.16->great_expectations) (0.2.6)\n",
      "Requirement already satisfied: backports.zoneinfo in /Users/avkash/anaconda3/envs/python38/lib/python3.8/site-packages (from tzlocal>=1.2->great_expectations) (0.2.1)\n",
      "Requirement already satisfied: pytz-deprecation-shim in /Users/avkash/anaconda3/envs/python38/lib/python3.8/site-packages (from tzlocal>=1.2->great_expectations) (0.1.0.post0)\n",
      "Requirement already satisfied: tornado<7.0,>=4.2 in /Users/avkash/anaconda3/envs/python38/lib/python3.8/site-packages (from ipykernel>=4.5.1->ipywidgets>=7.5.1->great_expectations) (6.1)\n",
      "Requirement already satisfied: matplotlib-inline<0.2.0,>=0.1.0 in /Users/avkash/anaconda3/envs/python38/lib/python3.8/site-packages (from ipykernel>=4.5.1->ipywidgets>=7.5.1->great_expectations) (0.1.2)\n",
      "Requirement already satisfied: debugpy<2.0,>=1.0.0 in /Users/avkash/anaconda3/envs/python38/lib/python3.8/site-packages (from ipykernel>=4.5.1->ipywidgets>=7.5.1->great_expectations) (1.5.1)\n",
      "Requirement already satisfied: appnope in /Users/avkash/anaconda3/envs/python38/lib/python3.8/site-packages (from ipykernel>=4.5.1->ipywidgets>=7.5.1->great_expectations) (0.1.2)\n",
      "Requirement already satisfied: jupyter-client<8.0 in /Users/avkash/anaconda3/envs/python38/lib/python3.8/site-packages (from ipykernel>=4.5.1->ipywidgets>=7.5.1->great_expectations) (6.1.12)\n",
      "Requirement already satisfied: jedi>=0.16 in /Users/avkash/anaconda3/envs/python38/lib/python3.8/site-packages (from ipython>=4.0.0->ipywidgets>=7.5.1->great_expectations) (0.18.0)\n",
      "Requirement already satisfied: pygments in /Users/avkash/anaconda3/envs/python38/lib/python3.8/site-packages (from ipython>=4.0.0->ipywidgets>=7.5.1->great_expectations) (2.10.0)\n",
      "Requirement already satisfied: backcall in /Users/avkash/anaconda3/envs/python38/lib/python3.8/site-packages (from ipython>=4.0.0->ipywidgets>=7.5.1->great_expectations) (0.2.0)\n",
      "Requirement already satisfied: decorator in /Users/avkash/anaconda3/envs/python38/lib/python3.8/site-packages (from ipython>=4.0.0->ipywidgets>=7.5.1->great_expectations) (5.1.0)\n",
      "Requirement already satisfied: pickleshare in /Users/avkash/anaconda3/envs/python38/lib/python3.8/site-packages (from ipython>=4.0.0->ipywidgets>=7.5.1->great_expectations) (0.7.5)\n",
      "Requirement already satisfied: prompt-toolkit!=3.0.0,!=3.0.1,<3.1.0,>=2.0.0 in /Users/avkash/anaconda3/envs/python38/lib/python3.8/site-packages (from ipython>=4.0.0->ipywidgets>=7.5.1->great_expectations) (3.0.20)\n",
      "Requirement already satisfied: pexpect>4.3 in /Users/avkash/anaconda3/envs/python38/lib/python3.8/site-packages (from ipython>=4.0.0->ipywidgets>=7.5.1->great_expectations) (4.8.0)\n"
     ]
    },
    {
     "name": "stdout",
     "output_type": "stream",
     "text": [
      "Requirement already satisfied: jupyter-core in /Users/avkash/anaconda3/envs/python38/lib/python3.8/site-packages (from nbformat>=4.2.0->ipywidgets>=7.5.1->great_expectations) (4.9.1)\n",
      "Requirement already satisfied: notebook>=4.4.1 in /Users/avkash/anaconda3/envs/python38/lib/python3.8/site-packages (from widgetsnbextension~=3.5.0->ipywidgets>=7.5.1->great_expectations) (6.4.6)\n",
      "Requirement already satisfied: tzdata in /Users/avkash/anaconda3/envs/python38/lib/python3.8/site-packages (from pytz-deprecation-shim->tzlocal>=1.2->great_expectations) (2021.5)\n",
      "Requirement already satisfied: parso<0.9.0,>=0.8.0 in /Users/avkash/anaconda3/envs/python38/lib/python3.8/site-packages (from jedi>=0.16->ipython>=4.0.0->ipywidgets>=7.5.1->great_expectations) (0.8.2)\n",
      "Requirement already satisfied: pyzmq>=13 in /Users/avkash/anaconda3/envs/python38/lib/python3.8/site-packages (from jupyter-client<8.0->ipykernel>=4.5.1->ipywidgets>=7.5.1->great_expectations) (22.3.0)\n",
      "Requirement already satisfied: Send2Trash>=1.8.0 in /Users/avkash/anaconda3/envs/python38/lib/python3.8/site-packages (from notebook>=4.4.1->widgetsnbextension~=3.5.0->ipywidgets>=7.5.1->great_expectations) (1.8.0)\n",
      "Requirement already satisfied: terminado>=0.8.3 in /Users/avkash/anaconda3/envs/python38/lib/python3.8/site-packages (from notebook>=4.4.1->widgetsnbextension~=3.5.0->ipywidgets>=7.5.1->great_expectations) (0.9.4)\n",
      "Requirement already satisfied: nest-asyncio>=1.5 in /Users/avkash/anaconda3/envs/python38/lib/python3.8/site-packages (from notebook>=4.4.1->widgetsnbextension~=3.5.0->ipywidgets>=7.5.1->great_expectations) (1.5.1)\n",
      "Requirement already satisfied: nbconvert in /Users/avkash/anaconda3/envs/python38/lib/python3.8/site-packages (from notebook>=4.4.1->widgetsnbextension~=3.5.0->ipywidgets>=7.5.1->great_expectations) (6.1.0)\n",
      "Requirement already satisfied: prometheus-client in /Users/avkash/anaconda3/envs/python38/lib/python3.8/site-packages (from notebook>=4.4.1->widgetsnbextension~=3.5.0->ipywidgets>=7.5.1->great_expectations) (0.12.0)\n",
      "Requirement already satisfied: argon2-cffi in /Users/avkash/anaconda3/envs/python38/lib/python3.8/site-packages (from notebook>=4.4.1->widgetsnbextension~=3.5.0->ipywidgets>=7.5.1->great_expectations) (20.1.0)\n",
      "Requirement already satisfied: ptyprocess>=0.5 in /Users/avkash/anaconda3/envs/python38/lib/python3.8/site-packages (from pexpect>4.3->ipython>=4.0.0->ipywidgets>=7.5.1->great_expectations) (0.7.0)\n",
      "Requirement already satisfied: wcwidth in /Users/avkash/anaconda3/envs/python38/lib/python3.8/site-packages (from prompt-toolkit!=3.0.0,!=3.0.1,<3.1.0,>=2.0.0->ipython>=4.0.0->ipywidgets>=7.5.1->great_expectations) (0.2.5)\n",
      "Requirement already satisfied: cffi>=1.0.0 in /Users/avkash/anaconda3/envs/python38/lib/python3.8/site-packages (from argon2-cffi->notebook>=4.4.1->widgetsnbextension~=3.5.0->ipywidgets>=7.5.1->great_expectations) (1.14.6)\n",
      "Requirement already satisfied: bleach in /Users/avkash/anaconda3/envs/python38/lib/python3.8/site-packages (from nbconvert->notebook>=4.4.1->widgetsnbextension~=3.5.0->ipywidgets>=7.5.1->great_expectations) (4.0.0)\n",
      "Requirement already satisfied: defusedxml in /Users/avkash/anaconda3/envs/python38/lib/python3.8/site-packages (from nbconvert->notebook>=4.4.1->widgetsnbextension~=3.5.0->ipywidgets>=7.5.1->great_expectations) (0.7.1)\n",
      "Requirement already satisfied: nbclient<0.6.0,>=0.5.0 in /Users/avkash/anaconda3/envs/python38/lib/python3.8/site-packages (from nbconvert->notebook>=4.4.1->widgetsnbextension~=3.5.0->ipywidgets>=7.5.1->great_expectations) (0.5.3)\n",
      "Requirement already satisfied: jupyterlab-pygments in /Users/avkash/anaconda3/envs/python38/lib/python3.8/site-packages (from nbconvert->notebook>=4.4.1->widgetsnbextension~=3.5.0->ipywidgets>=7.5.1->great_expectations) (0.1.2)\n",
      "Requirement already satisfied: testpath in /Users/avkash/anaconda3/envs/python38/lib/python3.8/site-packages (from nbconvert->notebook>=4.4.1->widgetsnbextension~=3.5.0->ipywidgets>=7.5.1->great_expectations) (0.5.0)\n",
      "Requirement already satisfied: pandocfilters>=1.4.1 in /Users/avkash/anaconda3/envs/python38/lib/python3.8/site-packages (from nbconvert->notebook>=4.4.1->widgetsnbextension~=3.5.0->ipywidgets>=7.5.1->great_expectations) (1.4.3)\n",
      "Requirement already satisfied: pycparser in /Users/avkash/anaconda3/envs/python38/lib/python3.8/site-packages (from cffi>=1.0.0->argon2-cffi->notebook>=4.4.1->widgetsnbextension~=3.5.0->ipywidgets>=7.5.1->great_expectations) (2.21)\n",
      "Requirement already satisfied: async-generator in /Users/avkash/anaconda3/envs/python38/lib/python3.8/site-packages (from nbclient<0.6.0,>=0.5.0->nbconvert->notebook>=4.4.1->widgetsnbextension~=3.5.0->ipywidgets>=7.5.1->great_expectations) (1.10)\n",
      "Requirement already satisfied: packaging in /Users/avkash/anaconda3/envs/python38/lib/python3.8/site-packages (from bleach->nbconvert->notebook>=4.4.1->widgetsnbextension~=3.5.0->ipywidgets>=7.5.1->great_expectations) (21.3)\n",
      "Requirement already satisfied: webencodings in /Users/avkash/anaconda3/envs/python38/lib/python3.8/site-packages (from bleach->nbconvert->notebook>=4.4.1->widgetsnbextension~=3.5.0->ipywidgets>=7.5.1->great_expectations) (0.5.1)\n",
      "\u001b[33mWARNING: You are using pip version 22.0.3; however, version 22.0.4 is available.\n",
      "You should consider upgrading via the '/Users/avkash/anaconda3/envs/python38/bin/python3 -m pip install --upgrade pip' command.\u001b[0m\u001b[33m\n",
      "\u001b[0m"
     ]
    }
   ],
   "source": [
    "!pip install --upgrade great_expectations"
   ]
  },
  {
   "cell_type": "code",
   "execution_count": 4,
   "metadata": {},
   "outputs": [],
   "source": [
    "import great_expectations as ge"
   ]
  },
  {
   "cell_type": "code",
   "execution_count": 5,
   "metadata": {},
   "outputs": [
    {
     "data": {
      "text/plain": [
       "'0.14.9'"
      ]
     },
     "execution_count": 5,
     "metadata": {},
     "output_type": "execute_result"
    }
   ],
   "source": [
    "ge.__version__"
   ]
  },
  {
   "cell_type": "code",
   "execution_count": null,
   "metadata": {},
   "outputs": [],
   "source": []
  }
 ],
 "metadata": {
  "kernelspec": {
   "display_name": "Python 3 (ipykernel)",
   "language": "python",
   "name": "python3"
  },
  "language_info": {
   "codemirror_mode": {
    "name": "ipython",
    "version": 3
   },
   "file_extension": ".py",
   "mimetype": "text/x-python",
   "name": "python",
   "nbconvert_exporter": "python",
   "pygments_lexer": "ipython3",
   "version": "3.8.12"
  }
 },
 "nbformat": 4,
 "nbformat_minor": 4
}
