{
 "cells": [
  {
   "cell_type": "code",
   "execution_count": 1,
   "metadata": {},
   "outputs": [
    {
     "name": "stdout",
     "output_type": "stream",
     "text": [
      "Name: great-expectations\r\n",
      "Version: 0.14.9\r\n",
      "Summary: Always know what to expect from your data.\r\n",
      "Home-page: https://github.com/great-expectations/great_expectations\r\n",
      "Author: The Great Expectations Team\r\n",
      "Author-email: team@greatexpectations.io\r\n",
      "License: Apache-2.0\r\n",
      "Location: /Users/avkash/anaconda3/envs/python38/lib/python3.8/site-packages\r\n",
      "Requires: altair, Click, importlib-metadata, ipywidgets, jinja2, jsonpatch, jsonschema, mistune, numpy, pandas, pyparsing, python-dateutil, pytz, requests, ruamel.yaml, scipy, termcolor, tqdm, typing-extensions, tzlocal\r\n",
      "Required-by: \r\n"
     ]
    }
   ],
   "source": [
    "!pip show great_expectations"
   ]
  },
  {
   "cell_type": "code",
   "execution_count": 4,
   "metadata": {},
   "outputs": [
    {
     "name": "stdout",
     "output_type": "stream",
     "text": [
      "Collecting great_expectations\n",
      "  Using cached great_expectations-0.14.9-py3-none-any.whl (4.9 MB)\n",
      "Collecting ruamel.yaml<0.17.18,>=0.16\n",
      "  Using cached ruamel.yaml-0.17.17-py3-none-any.whl (109 kB)\n",
      "Collecting jsonpatch>=1.22\n",
      "  Using cached jsonpatch-1.32-py2.py3-none-any.whl (12 kB)\n",
      "Requirement already satisfied: scipy>=0.19.0 in /Users/avkash/anaconda3/lib/python3.7/site-packages (from great_expectations) (1.4.1)\n",
      "Collecting altair<5,>=4.0.0\n",
      "  Using cached altair-4.2.0-py3-none-any.whl (812 kB)\n",
      "Requirement already satisfied: numpy>=1.14.1 in /Users/avkash/anaconda3/lib/python3.7/site-packages (from great_expectations) (1.18.1)\n",
      "Requirement already satisfied: tzlocal>=1.2 in /Users/avkash/anaconda3/lib/python3.7/site-packages (from great_expectations) (4.1)\n",
      "Requirement already satisfied: jsonschema>=2.5.1 in /Users/avkash/anaconda3/lib/python3.7/site-packages (from great_expectations) (3.2.0)\n",
      "Collecting importlib-metadata>=1.7.0\n",
      "  Downloading importlib_metadata-4.11.2-py3-none-any.whl (17 kB)\n",
      "Requirement already satisfied: requests>=2.20 in /Users/avkash/anaconda3/lib/python3.7/site-packages (from great_expectations) (2.22.0)\n",
      "Requirement already satisfied: Click>=7.1.2 in /Users/avkash/anaconda3/lib/python3.7/site-packages (from great_expectations) (7.1.2)\n",
      "Requirement already satisfied: jinja2>=2.10 in /Users/avkash/anaconda3/lib/python3.7/site-packages (from great_expectations) (2.10.1)\n",
      "Collecting termcolor>=1.1.0\n",
      "  Using cached termcolor-1.1.0-py3-none-any.whl\n",
      "Requirement already satisfied: python-dateutil>=2.8.1 in /Users/avkash/anaconda3/lib/python3.7/site-packages (from great_expectations) (2.8.1)\n",
      "Requirement already satisfied: mistune<2.0.0,>=0.8.4 in /Users/avkash/anaconda3/lib/python3.7/site-packages (from great_expectations) (0.8.4)\n",
      "Requirement already satisfied: ipywidgets>=7.5.1 in /Users/avkash/anaconda3/lib/python3.7/site-packages (from great_expectations) (7.5.1)\n",
      "Requirement already satisfied: pyparsing<3,>=2.4 in /Users/avkash/anaconda3/lib/python3.7/site-packages (from great_expectations) (2.4.6)\n",
      "Requirement already satisfied: typing-extensions>=3.10.0.0 in /Users/avkash/anaconda3/lib/python3.7/site-packages (from great_expectations) (3.10.0.2)\n",
      "Requirement already satisfied: pandas>=0.23.0 in /Users/avkash/anaconda3/lib/python3.7/site-packages (from great_expectations) (1.0.1)\n",
      "Collecting tqdm>=4.59.0\n",
      "  Downloading tqdm-4.63.0-py2.py3-none-any.whl (76 kB)\n",
      "\u001b[2K     \u001b[38;2;114;156;31m━━━━━━━━━━━━━━━━━━━━━━━━━━━━━━━━━━━━━━━━\u001b[0m \u001b[32m76.6/76.6 KB\u001b[0m \u001b[31m1.4 MB/s\u001b[0m eta \u001b[36m0:00:00\u001b[0m MB/s\u001b[0m eta \u001b[36m0:00:01\u001b[0m\n",
      "\u001b[?25hRequirement already satisfied: pytz>=2015.6 in /Users/avkash/anaconda3/lib/python3.7/site-packages (from great_expectations) (2019.3)\n",
      "Requirement already satisfied: entrypoints in /Users/avkash/anaconda3/lib/python3.7/site-packages (from altair<5,>=4.0.0->great_expectations) (0.3)\n",
      "Requirement already satisfied: toolz in /Users/avkash/anaconda3/lib/python3.7/site-packages (from altair<5,>=4.0.0->great_expectations) (0.10.0)\n",
      "Requirement already satisfied: zipp>=0.5 in /Users/avkash/anaconda3/lib/python3.7/site-packages (from importlib-metadata>=1.7.0->great_expectations) (2.2.0)\n",
      "Requirement already satisfied: ipython>=4.0.0 in /Users/avkash/anaconda3/lib/python3.7/site-packages (from ipywidgets>=7.5.1->great_expectations) (7.12.0)\n",
      "Requirement already satisfied: ipykernel>=4.5.1 in /Users/avkash/anaconda3/lib/python3.7/site-packages (from ipywidgets>=7.5.1->great_expectations) (5.1.4)\n",
      "Requirement already satisfied: widgetsnbextension~=3.5.0 in /Users/avkash/anaconda3/lib/python3.7/site-packages (from ipywidgets>=7.5.1->great_expectations) (3.5.1)\n",
      "Requirement already satisfied: traitlets>=4.3.1 in /Users/avkash/anaconda3/lib/python3.7/site-packages (from ipywidgets>=7.5.1->great_expectations) (4.3.3)\n",
      "Requirement already satisfied: nbformat>=4.2.0 in /Users/avkash/anaconda3/lib/python3.7/site-packages (from ipywidgets>=7.5.1->great_expectations) (5.0.4)\n",
      "Requirement already satisfied: MarkupSafe>=0.23 in /Users/avkash/anaconda3/lib/python3.7/site-packages (from jinja2>=2.10->great_expectations) (1.1.1)\n",
      "Requirement already satisfied: jsonpointer>=1.9 in /Users/avkash/anaconda3/lib/python3.7/site-packages (from jsonpatch>=1.22->great_expectations) (2.0)\n",
      "Requirement already satisfied: pyrsistent>=0.14.0 in /Users/avkash/anaconda3/lib/python3.7/site-packages (from jsonschema>=2.5.1->great_expectations) (0.15.7)\n",
      "Requirement already satisfied: six>=1.11.0 in /Users/avkash/anaconda3/lib/python3.7/site-packages (from jsonschema>=2.5.1->great_expectations) (1.14.0)\n",
      "Requirement already satisfied: setuptools in /Users/avkash/anaconda3/lib/python3.7/site-packages (from jsonschema>=2.5.1->great_expectations) (60.1.1)\n",
      "Requirement already satisfied: attrs>=17.4.0 in /Users/avkash/anaconda3/lib/python3.7/site-packages (from jsonschema>=2.5.1->great_expectations) (19.3.0)\n",
      "Requirement already satisfied: chardet<3.1.0,>=3.0.2 in /Users/avkash/anaconda3/lib/python3.7/site-packages (from requests>=2.20->great_expectations) (3.0.4)\n",
      "Requirement already satisfied: idna<2.9,>=2.5 in /Users/avkash/anaconda3/lib/python3.7/site-packages (from requests>=2.20->great_expectations) (2.8)\n",
      "Requirement already satisfied: urllib3!=1.25.0,!=1.25.1,<1.26,>=1.21.1 in /Users/avkash/anaconda3/lib/python3.7/site-packages (from requests>=2.20->great_expectations) (1.25.3)\n",
      "Requirement already satisfied: certifi>=2017.4.17 in /Users/avkash/anaconda3/lib/python3.7/site-packages (from requests>=2.20->great_expectations) (2019.3.9)\n",
      "Collecting ruamel.yaml.clib>=0.1.2\n",
      "  Using cached ruamel.yaml.clib-0.2.6-cp37-cp37m-macosx_10_9_x86_64.whl (140 kB)\n",
      "Requirement already satisfied: backports.zoneinfo in /Users/avkash/anaconda3/lib/python3.7/site-packages (from tzlocal>=1.2->great_expectations) (0.2.1)\n",
      "Requirement already satisfied: pytz-deprecation-shim in /Users/avkash/anaconda3/lib/python3.7/site-packages (from tzlocal>=1.2->great_expectations) (0.1.0.post0)\n",
      "Requirement already satisfied: appnope in /Users/avkash/anaconda3/lib/python3.7/site-packages (from ipykernel>=4.5.1->ipywidgets>=7.5.1->great_expectations) (0.1.0)\n",
      "Requirement already satisfied: jupyter-client in /Users/avkash/anaconda3/lib/python3.7/site-packages (from ipykernel>=4.5.1->ipywidgets>=7.5.1->great_expectations) (5.3.4)\n",
      "Requirement already satisfied: tornado>=4.2 in /Users/avkash/anaconda3/lib/python3.7/site-packages (from ipykernel>=4.5.1->ipywidgets>=7.5.1->great_expectations) (6.0.3)\n",
      "Requirement already satisfied: pygments in /Users/avkash/anaconda3/lib/python3.7/site-packages (from ipython>=4.0.0->ipywidgets>=7.5.1->great_expectations) (2.5.2)\n",
      "Requirement already satisfied: prompt-toolkit!=3.0.0,!=3.0.1,<3.1.0,>=2.0.0 in /Users/avkash/anaconda3/lib/python3.7/site-packages (from ipython>=4.0.0->ipywidgets>=7.5.1->great_expectations) (3.0.3)\n",
      "Requirement already satisfied: jedi>=0.10 in /Users/avkash/anaconda3/lib/python3.7/site-packages (from ipython>=4.0.0->ipywidgets>=7.5.1->great_expectations) (0.14.1)\n",
      "Requirement already satisfied: pickleshare in /Users/avkash/anaconda3/lib/python3.7/site-packages (from ipython>=4.0.0->ipywidgets>=7.5.1->great_expectations) (0.7.5)\n",
      "Requirement already satisfied: backcall in /Users/avkash/anaconda3/lib/python3.7/site-packages (from ipython>=4.0.0->ipywidgets>=7.5.1->great_expectations) (0.1.0)\n",
      "Requirement already satisfied: decorator in /Users/avkash/anaconda3/lib/python3.7/site-packages (from ipython>=4.0.0->ipywidgets>=7.5.1->great_expectations) (4.4.1)\n",
      "Requirement already satisfied: pexpect in /Users/avkash/anaconda3/lib/python3.7/site-packages (from ipython>=4.0.0->ipywidgets>=7.5.1->great_expectations) (4.8.0)\n",
      "Requirement already satisfied: jupyter-core in /Users/avkash/anaconda3/lib/python3.7/site-packages (from nbformat>=4.2.0->ipywidgets>=7.5.1->great_expectations) (4.6.1)\n",
      "Requirement already satisfied: ipython-genutils in /Users/avkash/anaconda3/lib/python3.7/site-packages (from nbformat>=4.2.0->ipywidgets>=7.5.1->great_expectations) (0.2.0)\n",
      "Requirement already satisfied: notebook>=4.4.1 in /Users/avkash/anaconda3/lib/python3.7/site-packages (from widgetsnbextension~=3.5.0->ipywidgets>=7.5.1->great_expectations) (6.0.3)\n",
      "Requirement already satisfied: tzdata in /Users/avkash/anaconda3/lib/python3.7/site-packages (from pytz-deprecation-shim->tzlocal>=1.2->great_expectations) (2021.5)\n"
     ]
    },
    {
     "name": "stdout",
     "output_type": "stream",
     "text": [
      "Requirement already satisfied: parso>=0.5.0 in /Users/avkash/anaconda3/lib/python3.7/site-packages (from jedi>=0.10->ipython>=4.0.0->ipywidgets>=7.5.1->great_expectations) (0.5.2)\n",
      "Requirement already satisfied: terminado>=0.8.1 in /Users/avkash/anaconda3/lib/python3.7/site-packages (from notebook>=4.4.1->widgetsnbextension~=3.5.0->ipywidgets>=7.5.1->great_expectations) (0.8.3)\n",
      "Requirement already satisfied: Send2Trash in /Users/avkash/anaconda3/lib/python3.7/site-packages (from notebook>=4.4.1->widgetsnbextension~=3.5.0->ipywidgets>=7.5.1->great_expectations) (1.5.0)\n",
      "Requirement already satisfied: nbconvert in /Users/avkash/anaconda3/lib/python3.7/site-packages (from notebook>=4.4.1->widgetsnbextension~=3.5.0->ipywidgets>=7.5.1->great_expectations) (5.6.1)\n",
      "Requirement already satisfied: prometheus-client in /Users/avkash/anaconda3/lib/python3.7/site-packages (from notebook>=4.4.1->widgetsnbextension~=3.5.0->ipywidgets>=7.5.1->great_expectations) (0.7.1)\n",
      "Requirement already satisfied: pyzmq>=17 in /Users/avkash/anaconda3/lib/python3.7/site-packages (from notebook>=4.4.1->widgetsnbextension~=3.5.0->ipywidgets>=7.5.1->great_expectations) (18.1.1)\n",
      "Requirement already satisfied: wcwidth in /Users/avkash/anaconda3/lib/python3.7/site-packages (from prompt-toolkit!=3.0.0,!=3.0.1,<3.1.0,>=2.0.0->ipython>=4.0.0->ipywidgets>=7.5.1->great_expectations) (0.1.8)\n",
      "Requirement already satisfied: ptyprocess>=0.5 in /Users/avkash/anaconda3/lib/python3.7/site-packages (from pexpect->ipython>=4.0.0->ipywidgets>=7.5.1->great_expectations) (0.6.0)\n",
      "Requirement already satisfied: testpath in /Users/avkash/anaconda3/lib/python3.7/site-packages (from nbconvert->notebook>=4.4.1->widgetsnbextension~=3.5.0->ipywidgets>=7.5.1->great_expectations) (0.4.4)\n",
      "Requirement already satisfied: pandocfilters>=1.4.1 in /Users/avkash/anaconda3/lib/python3.7/site-packages (from nbconvert->notebook>=4.4.1->widgetsnbextension~=3.5.0->ipywidgets>=7.5.1->great_expectations) (1.4.2)\n",
      "Requirement already satisfied: defusedxml in /Users/avkash/anaconda3/lib/python3.7/site-packages (from nbconvert->notebook>=4.4.1->widgetsnbextension~=3.5.0->ipywidgets>=7.5.1->great_expectations) (0.6.0)\n",
      "Requirement already satisfied: bleach in /Users/avkash/anaconda3/lib/python3.7/site-packages (from nbconvert->notebook>=4.4.1->widgetsnbextension~=3.5.0->ipywidgets>=7.5.1->great_expectations) (3.1.0)\n",
      "Requirement already satisfied: webencodings in /Users/avkash/anaconda3/lib/python3.7/site-packages (from bleach->nbconvert->notebook>=4.4.1->widgetsnbextension~=3.5.0->ipywidgets>=7.5.1->great_expectations) (0.5.1)\n",
      "Installing collected packages: termcolor, tqdm, ruamel.yaml.clib, jsonpatch, importlib-metadata, ruamel.yaml, altair, great_expectations\n",
      "  Attempting uninstall: tqdm\n",
      "    Found existing installation: tqdm 4.42.1\n",
      "    Uninstalling tqdm-4.42.1:\n",
      "      Successfully uninstalled tqdm-4.42.1\n",
      "  Attempting uninstall: importlib-metadata\n",
      "    Found existing installation: importlib-metadata 1.5.0\n",
      "    Uninstalling importlib-metadata-1.5.0:\n",
      "      Successfully uninstalled importlib-metadata-1.5.0\n",
      "  Attempting uninstall: ruamel.yaml\n",
      "    Found existing installation: ruamel_yaml 0.15.87\n",
      "\u001b[31mERROR: Cannot uninstall 'ruamel_yaml'. It is a distutils installed project and thus we cannot accurately determine which files belong to it which would lead to only a partial uninstall.\u001b[0m\u001b[31m\n",
      "\u001b[0m\u001b[33mWARNING: You are using pip version 22.0.3; however, version 22.0.4 is available.\n",
      "You should consider upgrading via the '/Users/avkash/anaconda3/bin/python3 -m pip install --upgrade pip' command.\u001b[0m\u001b[33m\n",
      "\u001b[0m"
     ]
    }
   ],
   "source": [
    "!pip install great_expectations"
   ]
  },
  {
   "cell_type": "code",
   "execution_count": 2,
   "metadata": {},
   "outputs": [],
   "source": [
    "import great_expectations as ge"
   ]
  },
  {
   "cell_type": "code",
   "execution_count": 3,
   "metadata": {},
   "outputs": [
    {
     "data": {
      "text/plain": [
       "'0.14.9'"
      ]
     },
     "execution_count": 3,
     "metadata": {},
     "output_type": "execute_result"
    }
   ],
   "source": [
    "ge.__version__"
   ]
  },
  {
   "cell_type": "code",
   "execution_count": null,
   "metadata": {},
   "outputs": [],
   "source": []
  }
 ],
 "metadata": {
  "kernelspec": {
   "display_name": "Python 3 (ipykernel)",
   "language": "python",
   "name": "python3"
  },
  "language_info": {
   "codemirror_mode": {
    "name": "ipython",
    "version": 3
   },
   "file_extension": ".py",
   "mimetype": "text/x-python",
   "name": "python",
   "nbconvert_exporter": "python",
   "pygments_lexer": "ipython3",
   "version": "3.8.12"
  }
 },
 "nbformat": 4,
 "nbformat_minor": 4
}
