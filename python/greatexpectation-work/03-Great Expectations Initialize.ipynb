{
 "cells": [
  {
   "cell_type": "code",
   "execution_count": 11,
   "id": "e1cc8519",
   "metadata": {},
   "outputs": [],
   "source": [
    "import great_expectations as ge"
   ]
  },
  {
   "cell_type": "code",
   "execution_count": 20,
   "id": "7cd2c02f",
   "metadata": {},
   "outputs": [
    {
     "name": "stdout",
     "output_type": "stream",
     "text": [
      "total 9088\r\n",
      "-rw-r--r--  1 avkash  staff   140333 Mar  7 16:19 Introduction.ipynb\r\n",
      "-rw-r--r--  1 avkash  staff    15410 Mar  7 16:05 Package Installation.ipynb\r\n",
      "-rw-r--r--  1 avkash  staff  4491063 Mar  7 16:29 Pandas Profiling with Great Expectations.ipynb\r\n"
     ]
    }
   ],
   "source": [
    "!ls -l"
   ]
  },
  {
   "cell_type": "markdown",
   "id": "dd6c7ca5",
   "metadata": {},
   "source": [
    "## Note Do not run the following code ##"
   ]
  },
  {
   "cell_type": "code",
   "execution_count": null,
   "id": "81c9c966",
   "metadata": {},
   "outputs": [],
   "source": [
    "$ great_expectations init                                                                                                            ──(Mon,Mar07)─┘\n",
    "Using v3 (Batch Request) API\n",
    "\n",
    "  ___              _     ___                  _        _   _\n",
    " / __|_ _ ___ __ _| |_  | __|_ ___ __  ___ __| |_ __ _| |_(_)___ _ _  ___\n",
    "| (_ | '_/ -_) _` |  _| | _|\\ \\ / '_ \\/ -_) _|  _/ _` |  _| / _ \\ ' \\(_-<\n",
    " \\___|_| \\___\\__,_|\\__| |___/_\\_\\ .__/\\___\\__|\\__\\__,_|\\__|_\\___/_||_/__/\n",
    "                                |_|\n",
    "             ~ Always know what to expect from your data ~\n",
    "\n",
    "Let's create a new Data Context to hold your project configuration.\n",
    "\n",
    "Great Expectations will create a new directory with the following structure:\n",
    "\n",
    "    great_expectations\n",
    "    |-- great_expectations.yml\n",
    "    |-- expectations\n",
    "    |-- checkpoints\n",
    "    |-- plugins\n",
    "    |-- .gitignore\n",
    "    |-- uncommitted\n",
    "        |-- config_variables.yml\n",
    "        |-- data_docs\n",
    "        |-- validations\n",
    "\n",
    "OK to proceed? [Y/n]: Y\n",
    "\n",
    "================================================================================\n",
    "\n",
    "Congratulations! You are now ready to customize your Great Expectations configuration.\n",
    "\n",
    "You can customize your configuration in many ways. Here are some examples:\n",
    "\n",
    "  Use the CLI to:\n",
    "    - Run `great_expectations datasource new` to connect to your data.\n",
    "    - Run `great_expectations checkpoint new <checkpoint_name>` to bundle data with Expectation Suite(s) in a Checkpoint for later re-validation.\n",
    "    - Run `great_expectations suite --help` to create, edit, list, profile Expectation Suites.\n",
    "    - Run `great_expectations docs --help` to build and manage Data Docs sites.\n",
    "\n",
    "  Edit your configuration in great_expectations.yml to:\n",
    "    - Move Stores to the cloud\n",
    "    - Add Slack notifications, PagerDuty alerts, etc.\n",
    "    - Customize your Data Docs\n",
    "\n",
    "Please see our documentation for more configuration options!"
   ]
  },
  {
   "cell_type": "code",
   "execution_count": 1,
   "id": "0d6f97c4",
   "metadata": {},
   "outputs": [
    {
     "name": "stdout",
     "output_type": "stream",
     "text": [
      "Great Expectations Initialize.ipynb\r\n",
      "Introduction.ipynb\r\n",
      "Package Installation.ipynb\r\n",
      "Pandas Profiling with Great Expectations.ipynb\r\n",
      "\u001b[1m\u001b[36mgreat_expectations\u001b[m\u001b[m\r\n"
     ]
    }
   ],
   "source": [
    "!ls"
   ]
  },
  {
   "cell_type": "code",
   "execution_count": 3,
   "id": "aba7c623",
   "metadata": {},
   "outputs": [
    {
     "name": "stdout",
     "output_type": "stream",
     "text": [
      "total 16\r\n",
      "drwxr-xr-x  2 avkash  staff    64 Mar  7 16:33 \u001b[1m\u001b[36mcheckpoints\u001b[m\u001b[m\r\n",
      "drwxr-xr-x  3 avkash  staff    96 Mar  7 16:33 \u001b[1m\u001b[36mexpectations\u001b[m\u001b[m\r\n",
      "-rw-r--r--  1 avkash  staff  4379 Mar  7 16:33 great_expectations.yml\r\n",
      "drwxr-xr-x  3 avkash  staff    96 Mar  7 16:33 \u001b[1m\u001b[36mplugins\u001b[m\u001b[m\r\n",
      "drwxr-xr-x  2 avkash  staff    64 Mar  7 16:33 \u001b[1m\u001b[36mprofilers\u001b[m\u001b[m\r\n",
      "drwxr-xr-x  5 avkash  staff   160 Mar  7 16:33 \u001b[1m\u001b[36muncommitted\u001b[m\u001b[m\r\n"
     ]
    }
   ],
   "source": [
    "!ls -l great_expectations"
   ]
  },
  {
   "cell_type": "code",
   "execution_count": null,
   "id": "ab5e418f",
   "metadata": {},
   "outputs": [],
   "source": []
  }
 ],
 "metadata": {
  "kernelspec": {
   "display_name": "Python 3 (ipykernel)",
   "language": "python",
   "name": "python3"
  },
  "language_info": {
   "codemirror_mode": {
    "name": "ipython",
    "version": 3
   },
   "file_extension": ".py",
   "mimetype": "text/x-python",
   "name": "python",
   "nbconvert_exporter": "python",
   "pygments_lexer": "ipython3",
   "version": "3.8.12"
  }
 },
 "nbformat": 4,
 "nbformat_minor": 5
}
