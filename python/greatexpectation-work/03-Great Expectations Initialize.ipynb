{
 "cells": [
  {
   "cell_type": "code",
   "execution_count": 1,
   "id": "e1cc8519",
   "metadata": {},
   "outputs": [],
   "source": [
    "import great_expectations as ge"
   ]
  },
  {
   "cell_type": "code",
   "execution_count": 2,
   "id": "7cd2c02f",
   "metadata": {},
   "outputs": [
    {
     "name": "stdout",
     "output_type": "stream",
     "text": [
      "total 9704\r\n",
      "-rw-r--r--  1 avkash  staff   141021 Mar  8 00:02 01-Introduction.ipynb\r\n",
      "-rw-r--r--  1 avkash  staff    18208 Mar  8 15:26 02-Package Installation.ipynb\r\n",
      "-rw-r--r--  1 avkash  staff     3799 Mar  8 15:28 03-Great Expectations Initialize.ipynb\r\n",
      "-rw-r--r--  1 avkash  staff   174440 Mar  8 14:38 04-Expectation Context.ipynb\r\n",
      "-rw-r--r--  1 avkash  staff    29153 Mar  8 08:12 05-Quick Expectation Tutorial.ipynb\r\n",
      "-rw-r--r--  1 avkash  staff    72923 Mar  8 14:16 06-G-Expectation-With-TimeSeries-Dataset.ipynb\r\n",
      "-rw-r--r--  1 avkash  staff    15272 Mar  8 14:36 07-PySpark-DataFrame-with-GE.ipynb\r\n",
      "-rw-r--r--  1 avkash  staff  4493952 Mar  7 16:48 Pandas Profiling with Great Expectations.ipynb\r\n",
      "drwxr-xr-x  9 avkash  staff      288 Mar  7 16:33 \u001b[1m\u001b[36mgreat_expectations\u001b[m\u001b[m\r\n",
      "-rw-r--r--  1 avkash  staff      615 Mar  8 00:21 saved_titanic_exp.json\r\n"
     ]
    }
   ],
   "source": [
    "!ls -l"
   ]
  },
  {
   "cell_type": "markdown",
   "id": "dd6c7ca5",
   "metadata": {},
   "source": [
    "## Note Do not run the following code ##"
   ]
  },
  {
   "cell_type": "code",
   "execution_count": null,
   "id": "81c9c966",
   "metadata": {},
   "outputs": [],
   "source": [
    "$ great_expectations init                                                                                                            ──(Mon,Mar07)─┘\n",
    "Using v3 (Batch Request) API\n",
    "\n",
    "  ___              _     ___                  _        _   _\n",
    " / __|_ _ ___ __ _| |_  | __|_ ___ __  ___ __| |_ __ _| |_(_)___ _ _  ___\n",
    "| (_ | '_/ -_) _` |  _| | _|\\ \\ / '_ \\/ -_) _|  _/ _` |  _| / _ \\ ' \\(_-<\n",
    " \\___|_| \\___\\__,_|\\__| |___/_\\_\\ .__/\\___\\__|\\__\\__,_|\\__|_\\___/_||_/__/\n",
    "                                |_|\n",
    "             ~ Always know what to expect from your data ~\n",
    "\n",
    "Let's create a new Data Context to hold your project configuration.\n",
    "\n",
    "Great Expectations will create a new directory with the following structure:\n",
    "\n",
    "    great_expectations\n",
    "    |-- great_expectations.yml\n",
    "    |-- expectations\n",
    "    |-- checkpoints\n",
    "    |-- plugins\n",
    "    |-- .gitignore\n",
    "    |-- uncommitted\n",
    "        |-- config_variables.yml\n",
    "        |-- data_docs\n",
    "        |-- validations\n",
    "\n",
    "OK to proceed? [Y/n]: Y\n",
    "\n",
    "================================================================================\n",
    "\n",
    "Congratulations! You are now ready to customize your Great Expectations configuration.\n",
    "\n",
    "You can customize your configuration in many ways. Here are some examples:\n",
    "\n",
    "  Use the CLI to:\n",
    "    - Run `great_expectations datasource new` to connect to your data.\n",
    "    - Run `great_expectations checkpoint new <checkpoint_name>` to bundle data with Expectation Suite(s) in a Checkpoint for later re-validation.\n",
    "    - Run `great_expectations suite --help` to create, edit, list, profile Expectation Suites.\n",
    "    - Run `great_expectations docs --help` to build and manage Data Docs sites.\n",
    "\n",
    "  Edit your configuration in great_expectations.yml to:\n",
    "    - Move Stores to the cloud\n",
    "    - Add Slack notifications, PagerDuty alerts, etc.\n",
    "    - Customize your Data Docs\n",
    "\n",
    "Please see our documentation for more configuration options!"
   ]
  },
  {
   "cell_type": "code",
   "execution_count": 3,
   "id": "0d6f97c4",
   "metadata": {},
   "outputs": [
    {
     "name": "stdout",
     "output_type": "stream",
     "text": [
      "01-Introduction.ipynb\r\n",
      "02-Package Installation.ipynb\r\n",
      "03-Great Expectations Initialize.ipynb\r\n",
      "04-Expectation Context.ipynb\r\n",
      "05-Quick Expectation Tutorial.ipynb\r\n",
      "06-G-Expectation-With-TimeSeries-Dataset.ipynb\r\n",
      "07-PySpark-DataFrame-with-GE.ipynb\r\n",
      "Pandas Profiling with Great Expectations.ipynb\r\n",
      "\u001b[1m\u001b[36mgreat_expectations\u001b[m\u001b[m\r\n",
      "saved_titanic_exp.json\r\n"
     ]
    }
   ],
   "source": [
    "!ls"
   ]
  },
  {
   "cell_type": "code",
   "execution_count": 4,
   "id": "aba7c623",
   "metadata": {},
   "outputs": [
    {
     "name": "stdout",
     "output_type": "stream",
     "text": [
      "total 16\r\n",
      "drwxr-xr-x  2 avkash  staff    64 Mar  7 16:33 \u001b[1m\u001b[36mcheckpoints\u001b[m\u001b[m\r\n",
      "drwxr-xr-x  4 avkash  staff   128 Mar  7 16:41 \u001b[1m\u001b[36mexpectations\u001b[m\u001b[m\r\n",
      "-rw-r--r--  1 avkash  staff  4379 Mar  7 16:33 great_expectations.yml\r\n",
      "drwxr-xr-x  3 avkash  staff    96 Mar  7 16:33 \u001b[1m\u001b[36mplugins\u001b[m\u001b[m\r\n",
      "drwxr-xr-x  2 avkash  staff    64 Mar  7 16:33 \u001b[1m\u001b[36mprofilers\u001b[m\u001b[m\r\n",
      "drwxr-xr-x  5 avkash  staff   160 Mar  7 16:33 \u001b[1m\u001b[36muncommitted\u001b[m\u001b[m\r\n"
     ]
    }
   ],
   "source": [
    "!ls -l great_expectations"
   ]
  },
  {
   "cell_type": "code",
   "execution_count": 5,
   "id": "ab5e418f",
   "metadata": {},
   "outputs": [
    {
     "name": "stdout",
     "output_type": "stream",
     "text": [
      "\r\n",
      "# Welcome to Great Expectations! Always know what to expect from your data.\r\n",
      "#\r\n",
      "# Here you can define datasources, batch kwargs generators, integrations and\r\n",
      "# more. This file is intended to be committed to your repo. For help with\r\n",
      "# configuration please:\r\n",
      "#   - Read our docs: https://docs.greatexpectations.io/en/latest/reference/spare_parts/data_context_reference.html#configuration\r\n",
      "#   - Join our slack channel: http://greatexpectations.io/slack\r\n",
      "\r\n",
      "# config_version refers to the syntactic version of this config file, and is used in maintaining backwards compatibility\r\n",
      "# It is auto-generated and usually does not need to be changed.\r\n",
      "config_version: 3\r\n",
      "\r\n",
      "# Datasources tell Great Expectations where your data lives and how to get it.\r\n",
      "# You can use the CLI command `great_expectations datasource new` to help you\r\n",
      "# add a new datasource. Read more at https://docs.greatexpectations.io/en/latest/reference/core_concepts/datasource.html\r\n",
      "datasources: {}\r\n",
      "\r\n",
      "# This config file supports variable substitution which enables: 1) keeping\r\n",
      "# secrets out of source control & 2) environment-based configuration changes\r\n",
      "# such as staging vs prod.\r\n",
      "#\r\n",
      "# When GE encounters substitution syntax (like `my_key: ${my_value}` or\r\n",
      "# `my_key: $my_value`) in the great_expectations.yml file, it will attempt\r\n",
      "# to replace the value of `my_key` with the value from an environment\r\n",
      "# variable `my_value` or a corresponding key read from this config file,\r\n",
      "# which is defined through the `config_variables_file_path`.\r\n",
      "# Environment variables take precedence over variables defined here.\r\n",
      "#\r\n",
      "# Substitution values defined here can be a simple (non-nested) value,\r\n",
      "# nested value such as a dictionary, or an environment variable (i.e. ${ENV_VAR})\r\n",
      "#\r\n",
      "#\r\n",
      "# https://docs.greatexpectations.io/en/latest/guides/how_to_guides/configuring_data_contexts/how_to_use_a_yaml_file_or_environment_variables_to_populate_credentials.html\r\n",
      "\r\n",
      "\r\n",
      "config_variables_file_path: uncommitted/config_variables.yml\r\n",
      "\r\n",
      "# The plugins_directory will be added to your python path for custom modules\r\n",
      "# used to override and extend Great Expectations.\r\n",
      "plugins_directory: plugins/\r\n",
      "\r\n",
      "stores:\r\n",
      "# Stores are configurable places to store things like Expectations, Validations\r\n",
      "# Data Docs, and more. These are for advanced users only - most users can simply\r\n",
      "# leave this section alone.\r\n",
      "#\r\n",
      "# Three stores are required: expectations, validations, and\r\n",
      "# evaluation_parameters, and must exist with a valid store entry. Additional\r\n",
      "# stores can be configured for uses such as data_docs, etc.\r\n",
      "  expectations_store:\r\n",
      "    class_name: ExpectationsStore\r\n",
      "    store_backend:\r\n",
      "      class_name: TupleFilesystemStoreBackend\r\n",
      "      base_directory: expectations/\r\n",
      "\r\n",
      "  validations_store:\r\n",
      "    class_name: ValidationsStore\r\n",
      "    store_backend:\r\n",
      "      class_name: TupleFilesystemStoreBackend\r\n",
      "      base_directory: uncommitted/validations/\r\n",
      "\r\n",
      "  evaluation_parameter_store:\r\n",
      "    # Evaluation Parameters enable dynamic expectations. Read more here:\r\n",
      "    # https://docs.greatexpectations.io/en/latest/reference/core_concepts/evaluation_parameters.html\r\n",
      "    class_name: EvaluationParameterStore\r\n",
      "\r\n",
      "  checkpoint_store:\r\n",
      "    class_name: CheckpointStore\r\n",
      "    store_backend:\r\n",
      "      class_name: TupleFilesystemStoreBackend\r\n",
      "      suppress_store_backend_id: true\r\n",
      "      base_directory: checkpoints/\r\n",
      "\r\n",
      "  profiler_store:\r\n",
      "    class_name: ProfilerStore\r\n",
      "    store_backend:\r\n",
      "      class_name: TupleFilesystemStoreBackend\r\n",
      "      suppress_store_backend_id: true\r\n",
      "      base_directory: profilers/\r\n",
      "\r\n",
      "expectations_store_name: expectations_store\r\n",
      "validations_store_name: validations_store\r\n",
      "evaluation_parameter_store_name: evaluation_parameter_store\r\n",
      "checkpoint_store_name: checkpoint_store\r\n",
      "\r\n",
      "data_docs_sites:\r\n",
      "  # Data Docs make it simple to visualize data quality in your project. These\r\n",
      "  # include Expectations, Validations & Profiles. The are built for all\r\n",
      "  # Datasources from JSON artifacts in the local repo including validations &\r\n",
      "  # profiles from the uncommitted directory. Read more at https://docs.greatexpectations.io/en/latest/reference/core_concepts/data_docs.html\r\n",
      "  local_site:\r\n",
      "    class_name: SiteBuilder\r\n",
      "    # set to false to hide how-to buttons in Data Docs\r\n",
      "    show_how_to_buttons: true\r\n",
      "    store_backend:\r\n",
      "        class_name: TupleFilesystemStoreBackend\r\n",
      "        base_directory: uncommitted/data_docs/local_site/\r\n",
      "    site_index_builder:\r\n",
      "        class_name: DefaultSiteIndexBuilder\r\n",
      "\r\n",
      "anonymous_usage_statistics:\r\n",
      "  enabled: True\r\n"
     ]
    }
   ],
   "source": [
    "!cat great_expectations/great_expectations.yml"
   ]
  },
  {
   "cell_type": "code",
   "execution_count": null,
   "id": "f522c1ab",
   "metadata": {},
   "outputs": [],
   "source": []
  }
 ],
 "metadata": {
  "kernelspec": {
   "display_name": "Python 3 (ipykernel)",
   "language": "python",
   "name": "python3"
  },
  "language_info": {
   "codemirror_mode": {
    "name": "ipython",
    "version": 3
   },
   "file_extension": ".py",
   "mimetype": "text/x-python",
   "name": "python",
   "nbconvert_exporter": "python",
   "pygments_lexer": "ipython3",
   "version": "3.8.12"
  }
 },
 "nbformat": 4,
 "nbformat_minor": 5
}
