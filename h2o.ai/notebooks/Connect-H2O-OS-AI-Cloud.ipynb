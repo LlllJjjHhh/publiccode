{
 "cells": [
  {
   "cell_type": "code",
   "execution_count": null,
   "metadata": {},
   "outputs": [],
   "source": [
    "!pip install h2osteam"
   ]
  },
  {
   "cell_type": "code",
   "execution_count": null,
   "metadata": {},
   "outputs": [],
   "source": [
    "# Python Library Requirements:\n",
    "# https://enterprise-steam.s3.amazonaws.com/release/1.8.10/python/h2osteam-1.8.10-py2.py3-none-any.whl\n",
    "# https://s3.amazonaws.com/artifacts.h2o.ai/releases/ai/h2o/mlops/rel-0.51.0/2/h2o_mlops_client-0.51.0%2Bb8449c1.rel0.51.0.2-py2.py3-none-any.whl\n",
    "#\n",
    "# Notes:\n",
    "# HAIC components require using your HAIC token to login, rather than a username and password\n",
    "# Generate your Refresh Token by visiting: https://cloud.h2o.ai/auth/get-platform-token\n"
   ]
  },
  {
   "cell_type": "code",
   "execution_count": null,
   "metadata": {},
   "outputs": [],
   "source": [
    "!ls /Users/avkash/Downloads/h2osteam-1.8.10-py2.py3-none-any.whl"
   ]
  },
  {
   "cell_type": "code",
   "execution_count": null,
   "metadata": {},
   "outputs": [],
   "source": [
    "!pip install /Users/avkash/Downloads/h2osteam-1.8.10-py2.py3-none-any.whl"
   ]
  },
  {
   "cell_type": "code",
   "execution_count": null,
   "metadata": {},
   "outputs": [],
   "source": [
    "!pip install https://s3.amazonaws.com/artifacts.h2o.ai/releases/ai/h2o/mlops/rel-0.51.0/2/h2o_mlops_client-0.51.0%2Bb8449c1.rel0.51.0.2-py2.py3-none-any.whl\n"
   ]
  },
  {
   "cell_type": "code",
   "execution_count": 1,
   "metadata": {},
   "outputs": [],
   "source": [
    "import h2osteam\n",
    "from h2osteam.clients import H2oClient\n",
    "from getpass import getpass\n",
    "import h2o_mlops_client as mlops"
   ]
  },
  {
   "cell_type": "code",
   "execution_count": 14,
   "metadata": {},
   "outputs": [
    {
     "name": "stdout",
     "output_type": "stream",
     "text": [
      "/Users/avkash/work/prodramp/publiccode/feature-store/feast-starter\r\n"
     ]
    }
   ],
   "source": [
    "!pwd"
   ]
  },
  {
   "cell_type": "code",
   "execution_count": 36,
   "metadata": {},
   "outputs": [
    {
     "name": "stdout",
     "output_type": "stream",
     "text": [
      "Click [this URL](https://cloud.h2o.ai/auth/get-platform-token) to get your personalized access token: \n",
      "Enter your H2O AI Cloud Token: ········\n",
      "You have 0 instances of H2O Opensource.\n",
      "You have 0 instances of Driverless AI.\n"
     ]
    }
   ],
   "source": [
    "# %load haic_steam_demo.py\n",
    "# Connecting to Steam in the H2O AI Cloud\n",
    "#\n",
    "# Python Library Requirements:\n",
    "# https://enterprise-steam.s3.amazonaws.com/release/1.8.10/python/h2osteam-1.8.10-py2.py3-none-any.whl\n",
    "# https://s3.amazonaws.com/artifacts.h2o.ai/releases/ai/h2o/mlops/rel-0.51.0/2/h2o_mlops_client-0.51.0%2Bb8449c1.rel0.51.0.2-py2.py3-none-any.whl\n",
    "#\n",
    "# Notes:\n",
    "# HAIC components require using your HAIC token to login, rather than a username and password\n",
    "# Generate your Refresh Token by visiting: https://cloud.h2o.ai/auth/get-platform-token\n",
    "\n",
    "\n",
    "from getpass import getpass\n",
    "import h2osteam\n",
    "import h2o_mlops_client as mlops\n",
    "\n",
    "print(\"Click [this URL](https://cloud.h2o.ai/auth/get-platform-token) to get your personalized access token: \")\n",
    "\n",
    "tp = mlops.TokenProvider(\n",
    "    token_endpoint_url=\"https://auth.cloud.h2o.ai/auth/realms/hac/protocol/openid-connect/token\",\n",
    "    client_id=\"hac-platform-public\",\n",
    "    refresh_token=getpass(\"Enter your H2O AI Cloud Token: \"),\n",
    ")\n",
    "steam = h2osteam.login(\n",
    "    url=\"https://steam.cloud.h2o.ai/\",\n",
    "    access_token=tp.ensure_fresh_token(),\n",
    ")\n",
    "\n",
    "h2o_os_instance_count = len(steam.get_h2o_clusters())\n",
    "print(f\"You have {h2o_os_instance_count} instances of H2O Opensource.\")\n",
    "\n",
    "dai_instance_count = len(steam.get_driverless_instances())\n",
    "print(f\"You have {dai_instance_count} instances of Driverless AI.\")\n",
    "\n",
    "\n"
   ]
  },
  {
   "cell_type": "code",
   "execution_count": 25,
   "metadata": {},
   "outputs": [],
   "source": [
    "## pat_civlmsj5rm6kpl0pczexd6g0yn7bggk96l2k\n",
    "\n",
    "## eyJhbGciOiJIUzI1NiIsInR5cCIgOiAiSldUIiwia2lkIiA6ICI4Y2JmMzBlYy0wMWRjLTQ0OTgtOGNjYi1hOWQzNjIyZDgxMWMifQ.eyJpYXQiOjE2NDU2NDY2MzEsImp0aSI6IjIwYjg1ZWQyLTA2ZmYtNDcxYi1iMTk4LWNmNTQyYmU3ZjAyOCIsImlzcyI6Imh0dHBzOi8vYXV0aC5jbG91ZC5oMm8uYWkvYXV0aC9yZWFsbXMvaGFjIiwiYXVkIjoiaHR0cHM6Ly9hdXRoLmNsb3VkLmgyby5haS9hdXRoL3JlYWxtcy9oYWMiLCJzdWIiOiJiZjVlMmNhZS0wMTEwLTQyMzYtYjFkZS04NzUzZjhiYWUyMDEiLCJ0eXAiOiJPZmZsaW5lIiwiYXpwIjoiaGFjLXBsYXRmb3JtLXB1YmxpYyIsIm5vbmNlIjoicUxsWmlGZ2ZpK0xaWFlVS1dncVUzZTBVczBlcDNRRE1mclNoUWlHaDNaYz0iLCJzZXNzaW9uX3N0YXRlIjoiZTViMDZlYWYtY2RkZC00YjIzLThmMjEtZWU4YTQ5MjY1ZGUwIiwic2NvcGUiOiJvcGVuaWQgcHJvZmlsZSBhaS5oMm8uc3RvcmFnZSBlbWFpbCBhaS5oMm8uZGVwbG95IG9mZmxpbmVfYWNjZXNzIn0.EYrXKf7r16yD0qVuk7oXaEAwKsdxMyaI1MARmiHbPl0"
   ]
  },
  {
   "cell_type": "code",
   "execution_count": 26,
   "metadata": {},
   "outputs": [
    {
     "name": "stdout",
     "output_type": "stream",
     "text": [
      "Enter your H2O AI Cloud Token: ········\n"
     ]
    }
   ],
   "source": [
    "tp = mlops.TokenProvider(\n",
    "    token_endpoint_url=\"https://auth.cloud.h2o.ai/auth/realms/hac/protocol/openid-connect/token\",\n",
    "    client_id=\"hac-platform-public\",\n",
    "    refresh_token=getpass(\"Enter your H2O AI Cloud Token: \"),\n",
    ")"
   ]
  },
  {
   "cell_type": "code",
   "execution_count": 27,
   "metadata": {},
   "outputs": [],
   "source": [
    "steam = h2osteam.login(\n",
    "    url=\"https://steam.cloud.h2o.ai/\",\n",
    "    access_token=tp.ensure_fresh_token()\n",
    ")"
   ]
  },
  {
   "cell_type": "code",
   "execution_count": null,
   "metadata": {},
   "outputs": [],
   "source": []
  },
  {
   "cell_type": "code",
   "execution_count": 37,
   "metadata": {},
   "outputs": [
    {
     "name": "stderr",
     "output_type": "stream",
     "text": [
      "ERROR:root:H2O cluster name=avkash-new-h2o-os created_by=avkash@prodramp.com not found\n",
      "NoneType: None\n"
     ]
    },
    {
     "ename": "RPCError",
     "evalue": "'H2O cluster name=avkash-new-h2o-os created_by=avkash@prodramp.com not found'",
     "output_type": "error",
     "traceback": [
      "\u001b[0;31m---------------------------------------------------------------------------\u001b[0m",
      "\u001b[0;31mRPCError\u001b[0m                                  Traceback (most recent call last)",
      "\u001b[0;32m/var/folders/j9/zkczhkln1w95vm9cj3p_qzhr0000gp/T/ipykernel_83932/1014579556.py\u001b[0m in \u001b[0;36m<module>\u001b[0;34m\u001b[0m\n\u001b[0;32m----> 1\u001b[0;31m \u001b[0msteam\u001b[0m\u001b[0;34m.\u001b[0m\u001b[0mget_h2o_cluster_by_name\u001b[0m\u001b[0;34m(\u001b[0m\u001b[0;34m'avkash-new-h2o-os'\u001b[0m\u001b[0;34m)\u001b[0m\u001b[0;34m\u001b[0m\u001b[0;34m\u001b[0m\u001b[0m\n\u001b[0m",
      "\u001b[0;32m~/anaconda3/envs/python38/lib/python3.8/site-packages/h2osteam/backend/api.py\u001b[0m in \u001b[0;36mget_h2o_cluster_by_name\u001b[0;34m(self, name)\u001b[0m\n\u001b[1;32m    485\u001b[0m             \u001b[0;34m'name'\u001b[0m\u001b[0;34m:\u001b[0m \u001b[0mname\u001b[0m\u001b[0;34m\u001b[0m\u001b[0;34m\u001b[0m\u001b[0m\n\u001b[1;32m    486\u001b[0m         }\n\u001b[0;32m--> 487\u001b[0;31m         \u001b[0mresponse\u001b[0m \u001b[0;34m=\u001b[0m \u001b[0mself\u001b[0m\u001b[0;34m.\u001b[0m\u001b[0mcall\u001b[0m\u001b[0;34m(\u001b[0m\u001b[0;34m\"GetH2oClusterByName\"\u001b[0m\u001b[0;34m,\u001b[0m \u001b[0mrequest\u001b[0m\u001b[0;34m)\u001b[0m\u001b[0;34m\u001b[0m\u001b[0;34m\u001b[0m\u001b[0m\n\u001b[0m\u001b[1;32m    488\u001b[0m         \u001b[0;32mreturn\u001b[0m \u001b[0mresponse\u001b[0m\u001b[0;34m[\u001b[0m\u001b[0;34m'cluster'\u001b[0m\u001b[0;34m]\u001b[0m\u001b[0;34m\u001b[0m\u001b[0;34m\u001b[0m\u001b[0m\n\u001b[1;32m    489\u001b[0m \u001b[0;34m\u001b[0m\u001b[0m\n",
      "\u001b[0;32m~/anaconda3/envs/python38/lib/python3.8/site-packages/h2osteam/backend/connection.py\u001b[0m in \u001b[0;36mcall\u001b[0;34m(self, method, params)\u001b[0m\n\u001b[1;32m    111\u001b[0m         \u001b[0;32melse\u001b[0m\u001b[0;34m:\u001b[0m\u001b[0;34m\u001b[0m\u001b[0;34m\u001b[0m\u001b[0m\n\u001b[1;32m    112\u001b[0m             \u001b[0mlogging\u001b[0m\u001b[0;34m.\u001b[0m\u001b[0mexception\u001b[0m\u001b[0;34m(\u001b[0m\u001b[0merror\u001b[0m\u001b[0;34m)\u001b[0m\u001b[0;34m\u001b[0m\u001b[0;34m\u001b[0m\u001b[0m\n\u001b[0;32m--> 113\u001b[0;31m             \u001b[0;32mraise\u001b[0m \u001b[0mRPCError\u001b[0m\u001b[0;34m(\u001b[0m\u001b[0merror\u001b[0m\u001b[0;34m)\u001b[0m\u001b[0;34m\u001b[0m\u001b[0;34m\u001b[0m\u001b[0m\n\u001b[0m\u001b[1;32m    114\u001b[0m \u001b[0;34m\u001b[0m\u001b[0m\n\u001b[1;32m    115\u001b[0m     \u001b[0;32mdef\u001b[0m \u001b[0mupload\u001b[0m\u001b[0;34m(\u001b[0m\u001b[0mself\u001b[0m\u001b[0;34m,\u001b[0m \u001b[0mtarget\u001b[0m\u001b[0;34m,\u001b[0m \u001b[0mpath\u001b[0m\u001b[0;34m,\u001b[0m \u001b[0mpayload\u001b[0m\u001b[0;34m)\u001b[0m\u001b[0;34m:\u001b[0m\u001b[0;34m\u001b[0m\u001b[0;34m\u001b[0m\u001b[0m\n",
      "\u001b[0;31mRPCError\u001b[0m: 'H2O cluster name=avkash-new-h2o-os created_by=avkash@prodramp.com not found'"
     ]
    }
   ],
   "source": [
    "steam.get_h2o_cluster_by_name('avkash-new-h2o-os')"
   ]
  },
  {
   "cell_type": "code",
   "execution_count": 32,
   "metadata": {},
   "outputs": [
    {
     "data": {
      "text/plain": [
       "[]"
      ]
     },
     "execution_count": 32,
     "metadata": {},
     "output_type": "execute_result"
    }
   ],
   "source": [
    "steam.get_h2o_clusters()"
   ]
  },
  {
   "cell_type": "code",
   "execution_count": 33,
   "metadata": {},
   "outputs": [
    {
     "data": {
      "text/plain": [
       "'eyJhbGciOiJSUzI1NiIsInR5cCIgOiAiSldUIiwia2lkIiA6ICI2eHFEa0tjMlY3ZkZTT3E0MWFaQnRBVmJVUmR2ZW4tV1lPMk4wdXVxdDJNIn0.eyJleHAiOjE2NDU2NDc3MjQsImlhdCI6MTY0NTY0NzQyNCwiYXV0aF90aW1lIjoxNjQ1NjMxMjI2LCJqdGkiOiJkNGNmYmVmNS0xNzE0LTQ5MmQtYmQ2YS1lM2FiZWE0MDdkNDgiLCJpc3MiOiJodHRwczovL2F1dGguY2xvdWQuaDJvLmFpL2F1dGgvcmVhbG1zL2hhYyIsImF1ZCI6WyJhcHBzdG9yZSIsImFjY291bnQiXSwic3ViIjoiYmY1ZTJjYWUtMDExMC00MjM2LWIxZGUtODc1M2Y4YmFlMjAxIiwidHlwIjoiQmVhcmVyIiwiYXpwIjoiaGFjLXBsYXRmb3JtLXB1YmxpYyIsIm5vbmNlIjoicUxsWmlGZ2ZpK0xaWFlVS1dncVUzZTBVczBlcDNRRE1mclNoUWlHaDNaYz0iLCJzZXNzaW9uX3N0YXRlIjoiZTViMDZlYWYtY2RkZC00YjIzLThmMjEtZWU4YTQ5MjY1ZGUwIiwiYWNyIjoiMSIsInJlYWxtX2FjY2VzcyI6eyJyb2xlcyI6WyJvZmZsaW5lX2FjY2VzcyIsInVtYV9hdXRob3JpemF0aW9uIl19LCJyZXNvdXJjZV9hY2Nlc3MiOnsiYWNjb3VudCI6eyJyb2xlcyI6WyJtYW5hZ2UtYWNjb3VudCIsIm1hbmFnZS1hY2NvdW50LWxpbmtzIiwidmlldy1wcm9maWxlIl19fSwic2NvcGUiOiJvcGVuaWQgcHJvZmlsZSBhaS5oMm8uc3RvcmFnZSBlbWFpbCBhaS5oMm8uZGVwbG95IG9mZmxpbmVfYWNjZXNzIiwiZW1haWxfdmVyaWZpZWQiOmZhbHNlLCJyZWFsbV9hY2Nlc3MiOnsicm9sZXMiOlsiSEFDX1RSSUFMX0RFRkFVTFQiXX0sIm5hbWUiOiJBdmthc2ggQ2hhdWhhbiIsImdyb3VwcyI6WyJIQUNfVFJJQUxfREVGQVVMVCJdLCJwcmVmZXJyZWRfdXNlcm5hbWUiOiJhdmthc2hAcHJvZHJhbXAuY29tIiwiZ2l2ZW5fbmFtZSI6IkF2a2FzaCIsImZhbWlseV9uYW1lIjoiQ2hhdWhhbiIsImVtYWlsIjoiYXZrYXNoQHByb2RyYW1wLmNvbSJ9.JErO5z1vNwO67LBrJ6WtFqj-RvW8CavczgJlufoqIa6AUYwxSONXpGQMo84HGKbznYG1zLf_m9YCLS9VgBFmweBpLJ0lJWEoEevXmluLzMkXDFo5SHNZa4ucwKR8U0JvKNxgJdgnVKbnqBUegyM0gJHTUOWMF21TwMQJrheM7kvcZMvXjaxUSJnFpqHGFzn1EIeXvP_UWcZXILOHCIrGd0FF2Yqrehh8uLBAeQlZyVa2H-ArQFgLGxzvBZ-Y9NsOJHckTG4s4V6bGiStURSMHuzaCkBNg9e7jbyVZPazpFxKYI4e8ijCfMhIaMt2Y4OiCB6b3ZeMd0gdyUjG7Mf01g'"
      ]
     },
     "execution_count": 33,
     "metadata": {},
     "output_type": "execute_result"
    }
   ],
   "source": [
    "tp.ensure_fresh_token()"
   ]
  },
  {
   "cell_type": "code",
   "execution_count": null,
   "metadata": {},
   "outputs": [],
   "source": []
  },
  {
   "cell_type": "code",
   "execution_count": 4,
   "metadata": {},
   "outputs": [
    {
     "ename": "Exception",
     "evalue": "(400, b'{\"error\":\"unauthorized_client\",\"error_description\":\"INVALID_CREDENTIALS: Invalid client credentials\"}')",
     "output_type": "error",
     "traceback": [
      "\u001b[0;31m---------------------------------------------------------------------------\u001b[0m",
      "\u001b[0;31mException\u001b[0m                                 Traceback (most recent call last)",
      "\u001b[0;32m/var/folders/j9/zkczhkln1w95vm9cj3p_qzhr0000gp/T/ipykernel_83932/2851519204.py\u001b[0m in \u001b[0;36m<module>\u001b[0;34m\u001b[0m\n\u001b[1;32m      1\u001b[0m steam = h2osteam.login(\n\u001b[1;32m      2\u001b[0m     \u001b[0murl\u001b[0m\u001b[0;34m=\u001b[0m\u001b[0;34m\"https://steam.cloud.h2o.ai/\"\u001b[0m\u001b[0;34m,\u001b[0m\u001b[0;34m\u001b[0m\u001b[0;34m\u001b[0m\u001b[0m\n\u001b[0;32m----> 3\u001b[0;31m     \u001b[0maccess_token\u001b[0m\u001b[0;34m=\u001b[0m\u001b[0mtp\u001b[0m\u001b[0;34m.\u001b[0m\u001b[0mensure_fresh_token\u001b[0m\u001b[0;34m(\u001b[0m\u001b[0;34m)\u001b[0m\u001b[0;34m,\u001b[0m\u001b[0;34m\u001b[0m\u001b[0;34m\u001b[0m\u001b[0m\n\u001b[0m\u001b[1;32m      4\u001b[0m )\n",
      "\u001b[0;32m~/anaconda3/envs/python38/lib/python3.8/site-packages/h2o_mlops_client/auth.py\u001b[0m in \u001b[0;36mensure_fresh_token\u001b[0;34m(self)\u001b[0m\n\u001b[1;32m    132\u001b[0m     \u001b[0;32mdef\u001b[0m \u001b[0mensure_fresh_token\u001b[0m\u001b[0;34m(\u001b[0m\u001b[0mself\u001b[0m\u001b[0;34m)\u001b[0m \u001b[0;34m->\u001b[0m \u001b[0mstr\u001b[0m\u001b[0;34m:\u001b[0m\u001b[0;34m\u001b[0m\u001b[0;34m\u001b[0m\u001b[0m\n\u001b[1;32m    133\u001b[0m         \u001b[0;32mif\u001b[0m \u001b[0mself\u001b[0m\u001b[0;34m.\u001b[0m\u001b[0mrefresh_possible\u001b[0m\u001b[0;34m(\u001b[0m\u001b[0;34m)\u001b[0m \u001b[0;32mand\u001b[0m \u001b[0mself\u001b[0m\u001b[0;34m.\u001b[0m\u001b[0mrefresh_required\u001b[0m\u001b[0;34m(\u001b[0m\u001b[0;34m)\u001b[0m\u001b[0;34m:\u001b[0m\u001b[0;34m\u001b[0m\u001b[0;34m\u001b[0m\u001b[0m\n\u001b[0;32m--> 134\u001b[0;31m             \u001b[0mself\u001b[0m\u001b[0;34m.\u001b[0m\u001b[0mdo_refresh\u001b[0m\u001b[0;34m(\u001b[0m\u001b[0;34m)\u001b[0m\u001b[0;34m\u001b[0m\u001b[0;34m\u001b[0m\u001b[0m\n\u001b[0m\u001b[1;32m    135\u001b[0m         \u001b[0;32mif\u001b[0m \u001b[0;32mnot\u001b[0m \u001b[0mself\u001b[0m\u001b[0;34m.\u001b[0m\u001b[0m_access_token\u001b[0m\u001b[0;34m:\u001b[0m\u001b[0;34m\u001b[0m\u001b[0;34m\u001b[0m\u001b[0m\n\u001b[1;32m    136\u001b[0m             \u001b[0;32mraise\u001b[0m \u001b[0mLookupError\u001b[0m\u001b[0;34m(\u001b[0m\u001b[0;34m\"Could not obtain access token\"\u001b[0m\u001b[0;34m)\u001b[0m\u001b[0;34m\u001b[0m\u001b[0;34m\u001b[0m\u001b[0m\n",
      "\u001b[0;32m~/anaconda3/envs/python38/lib/python3.8/site-packages/h2o_mlops_client/auth.py\u001b[0m in \u001b[0;36mdo_refresh\u001b[0;34m(self)\u001b[0m\n\u001b[1;32m    150\u001b[0m \u001b[0;34m\u001b[0m\u001b[0m\n\u001b[1;32m    151\u001b[0m     \u001b[0;32mdef\u001b[0m \u001b[0mdo_refresh\u001b[0m\u001b[0;34m(\u001b[0m\u001b[0mself\u001b[0m\u001b[0;34m)\u001b[0m\u001b[0;34m:\u001b[0m\u001b[0;34m\u001b[0m\u001b[0;34m\u001b[0m\u001b[0m\n\u001b[0;32m--> 152\u001b[0;31m         token = self._token_client.get_token(\n\u001b[0m\u001b[1;32m    153\u001b[0m             \u001b[0mrefresh_token\u001b[0m\u001b[0;34m=\u001b[0m\u001b[0mself\u001b[0m\u001b[0;34m.\u001b[0m\u001b[0m_refresh_token\u001b[0m\u001b[0;34m,\u001b[0m\u001b[0;34m\u001b[0m\u001b[0;34m\u001b[0m\u001b[0m\n\u001b[1;32m    154\u001b[0m             \u001b[0mclient_id\u001b[0m\u001b[0;34m=\u001b[0m\u001b[0mself\u001b[0m\u001b[0;34m.\u001b[0m\u001b[0m_client_id\u001b[0m\u001b[0;34m,\u001b[0m\u001b[0;34m\u001b[0m\u001b[0;34m\u001b[0m\u001b[0m\n",
      "\u001b[0;32m~/anaconda3/envs/python38/lib/python3.8/site-packages/h2o_mlops_client/auth.py\u001b[0m in \u001b[0;36mget_token\u001b[0;34m(self, refresh_token, client_id, token_endpoint_url, client_secret)\u001b[0m\n\u001b[1;32m     79\u001b[0m \u001b[0;34m\u001b[0m\u001b[0m\n\u001b[1;32m     80\u001b[0m         \u001b[0;32mif\u001b[0m \u001b[0;32mnot\u001b[0m \u001b[0;34m(\u001b[0m\u001b[0;36m200\u001b[0m \u001b[0;34m<=\u001b[0m \u001b[0mresp\u001b[0m\u001b[0;34m.\u001b[0m\u001b[0mstatus\u001b[0m \u001b[0;34m<=\u001b[0m \u001b[0;36m299\u001b[0m\u001b[0;34m)\u001b[0m\u001b[0;34m:\u001b[0m\u001b[0;34m\u001b[0m\u001b[0;34m\u001b[0m\u001b[0m\n\u001b[0;32m---> 81\u001b[0;31m             \u001b[0;32mraise\u001b[0m \u001b[0mException\u001b[0m\u001b[0;34m(\u001b[0m\u001b[0mresp\u001b[0m\u001b[0;34m.\u001b[0m\u001b[0mstatus\u001b[0m\u001b[0;34m,\u001b[0m \u001b[0mresp\u001b[0m\u001b[0;34m.\u001b[0m\u001b[0mdata\u001b[0m\u001b[0;34m)\u001b[0m\u001b[0;34m\u001b[0m\u001b[0;34m\u001b[0m\u001b[0m\n\u001b[0m\u001b[1;32m     82\u001b[0m \u001b[0;34m\u001b[0m\u001b[0m\n\u001b[1;32m     83\u001b[0m         \u001b[0;32mreturn\u001b[0m \u001b[0mtoken_from_response\u001b[0m\u001b[0;34m(\u001b[0m\u001b[0mjson\u001b[0m\u001b[0;34m.\u001b[0m\u001b[0mloads\u001b[0m\u001b[0;34m(\u001b[0m\u001b[0mresp\u001b[0m\u001b[0;34m.\u001b[0m\u001b[0mdata\u001b[0m\u001b[0;34m)\u001b[0m\u001b[0;34m)\u001b[0m\u001b[0;34m\u001b[0m\u001b[0;34m\u001b[0m\u001b[0m\n",
      "\u001b[0;31mException\u001b[0m: (400, b'{\"error\":\"unauthorized_client\",\"error_description\":\"INVALID_CREDENTIALS: Invalid client credentials\"}')"
     ]
    }
   ],
   "source": [
    "steam = h2osteam.login(\n",
    "    url=\"https://steam.cloud.h2o.ai/\",\n",
    "    access_token=tp.ensure_fresh_token(),\n",
    ")"
   ]
  },
  {
   "cell_type": "code",
   "execution_count": 38,
   "metadata": {},
   "outputs": [
    {
     "name": "stdout",
     "output_type": "stream",
     "text": [
      "You have 1 instances of Driverless AI.\n"
     ]
    }
   ],
   "source": [
    "dai_instance_count = len(steam.get_driverless_instances())\n",
    "print(f\"You have {dai_instance_count} instances of Driverless AI.\")"
   ]
  },
  {
   "cell_type": "code",
   "execution_count": null,
   "metadata": {},
   "outputs": [],
   "source": []
  }
 ],
 "metadata": {
  "kernelspec": {
   "display_name": "Python 3 (ipykernel)",
   "language": "python",
   "name": "python3"
  },
  "language_info": {
   "codemirror_mode": {
    "name": "ipython",
    "version": 3
   },
   "file_extension": ".py",
   "mimetype": "text/x-python",
   "name": "python",
   "nbconvert_exporter": "python",
   "pygments_lexer": "ipython3",
   "version": "3.8.12"
  }
 },
 "nbformat": 4,
 "nbformat_minor": 4
}
