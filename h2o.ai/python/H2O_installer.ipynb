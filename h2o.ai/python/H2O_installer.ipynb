{
 "cells": [
  {
   "cell_type": "code",
   "execution_count": 1,
   "metadata": {},
   "outputs": [
    {
     "name": "stdout",
     "output_type": "stream",
     "text": [
      "Python 3.7.6\r\n"
     ]
    }
   ],
   "source": [
    "!python --version"
   ]
  },
  {
   "cell_type": "code",
   "execution_count": 2,
   "metadata": {},
   "outputs": [
    {
     "name": "stdout",
     "output_type": "stream",
     "text": [
      "Requirement already satisfied: requests in /Users/avkash/anaconda3/lib/python3.7/site-packages (2.22.0)\n",
      "Requirement already satisfied: chardet<3.1.0,>=3.0.2 in /Users/avkash/anaconda3/lib/python3.7/site-packages (from requests) (3.0.4)\n",
      "Requirement already satisfied: urllib3!=1.25.0,!=1.25.1,<1.26,>=1.21.1 in /Users/avkash/anaconda3/lib/python3.7/site-packages (from requests) (1.25.3)\n",
      "Requirement already satisfied: certifi>=2017.4.17 in /Users/avkash/anaconda3/lib/python3.7/site-packages (from requests) (2019.3.9)\n",
      "Requirement already satisfied: idna<2.9,>=2.5 in /Users/avkash/anaconda3/lib/python3.7/site-packages (from requests) (2.8)\n",
      "\u001b[33mWARNING: You are using pip version 21.3.1; however, version 22.0.3 is available.\n",
      "You should consider upgrading via the '/Users/avkash/anaconda3/bin/python3 -m pip install --upgrade pip' command.\u001b[0m\n",
      "Requirement already satisfied: tabulate in /Users/avkash/anaconda3/lib/python3.7/site-packages (0.8.9)\n",
      "\u001b[33mWARNING: You are using pip version 21.3.1; however, version 22.0.3 is available.\n",
      "You should consider upgrading via the '/Users/avkash/anaconda3/bin/python3 -m pip install --upgrade pip' command.\u001b[0m\n",
      "Requirement already satisfied: future in /Users/avkash/anaconda3/lib/python3.7/site-packages (0.18.2)\n",
      "\u001b[33mWARNING: You are using pip version 21.3.1; however, version 22.0.3 is available.\n",
      "You should consider upgrading via the '/Users/avkash/anaconda3/bin/python3 -m pip install --upgrade pip' command.\u001b[0m\n"
     ]
    }
   ],
   "source": [
    "!pip install requests\n",
    "!pip install tabulate\n",
    "!pip install future"
   ]
  },
  {
   "cell_type": "code",
   "execution_count": 5,
   "metadata": {},
   "outputs": [
    {
     "name": "stdout",
     "output_type": "stream",
     "text": [
      "Found existing installation: h2o 3.34.0.7\n",
      "Uninstalling h2o-3.34.0.7:\n",
      "  Successfully uninstalled h2o-3.34.0.7\n"
     ]
    }
   ],
   "source": [
    "!pip uninstall h2o --yes"
   ]
  },
  {
   "cell_type": "code",
   "execution_count": 6,
   "metadata": {},
   "outputs": [
    {
     "name": "stdout",
     "output_type": "stream",
     "text": [
      "Collecting h2o==3.36.0.2\n",
      "  Downloading https://h2o-release.s3.amazonaws.com/h2o/rel-zorn/2/Python/h2o-3.36.0.2-py2.py3-none-any.whl (176.1 MB)\n",
      "     |████████████████████████████████| 176.1 MB 445 kB/s             \n",
      "\u001b[?25hRequirement already satisfied: tabulate in /Users/avkash/anaconda3/lib/python3.7/site-packages (from h2o==3.36.0.2) (0.8.9)\n",
      "Requirement already satisfied: future in /Users/avkash/anaconda3/lib/python3.7/site-packages (from h2o==3.36.0.2) (0.18.2)\n",
      "Requirement already satisfied: requests in /Users/avkash/anaconda3/lib/python3.7/site-packages (from h2o==3.36.0.2) (2.22.0)\n",
      "Requirement already satisfied: certifi>=2017.4.17 in /Users/avkash/anaconda3/lib/python3.7/site-packages (from requests->h2o==3.36.0.2) (2019.3.9)\n",
      "Requirement already satisfied: urllib3!=1.25.0,!=1.25.1,<1.26,>=1.21.1 in /Users/avkash/anaconda3/lib/python3.7/site-packages (from requests->h2o==3.36.0.2) (1.25.3)\n",
      "Requirement already satisfied: chardet<3.1.0,>=3.0.2 in /Users/avkash/anaconda3/lib/python3.7/site-packages (from requests->h2o==3.36.0.2) (3.0.4)\n",
      "Requirement already satisfied: idna<2.9,>=2.5 in /Users/avkash/anaconda3/lib/python3.7/site-packages (from requests->h2o==3.36.0.2) (2.8)\n",
      "Installing collected packages: h2o\n",
      "Successfully installed h2o-3.36.0.2\n",
      "\u001b[33mWARNING: You are using pip version 21.3.1; however, version 22.0.3 is available.\n",
      "You should consider upgrading via the '/Users/avkash/anaconda3/bin/python3 -m pip install --upgrade pip' command.\u001b[0m\n"
     ]
    }
   ],
   "source": [
    "!pip install https://h2o-release.s3.amazonaws.com/h2o/rel-zorn/2/Python/h2o-3.36.0.2-py2.py3-none-any.whl"
   ]
  },
  {
   "cell_type": "code",
   "execution_count": 8,
   "metadata": {},
   "outputs": [
    {
     "name": "stdout",
     "output_type": "stream",
     "text": [
      "h2o                                3.36.0.2\n",
      "\u001b[33mWARNING: You are using pip version 21.3.1; however, version 22.0.3 is available.\n",
      "You should consider upgrading via the '/Users/avkash/anaconda3/bin/python3 -m pip install --upgrade pip' command.\u001b[0m\n"
     ]
    }
   ],
   "source": [
    "!pip list | grep h2o"
   ]
  },
  {
   "cell_type": "code",
   "execution_count": null,
   "metadata": {},
   "outputs": [],
   "source": []
  }
 ],
 "metadata": {
  "kernelspec": {
   "display_name": "Python 3",
   "language": "python",
   "name": "python3"
  },
  "language_info": {
   "codemirror_mode": {
    "name": "ipython",
    "version": 3
   },
   "file_extension": ".py",
   "mimetype": "text/x-python",
   "name": "python",
   "nbconvert_exporter": "python",
   "pygments_lexer": "ipython3",
   "version": "3.7.6"
  }
 },
 "nbformat": 4,
 "nbformat_minor": 4
}
