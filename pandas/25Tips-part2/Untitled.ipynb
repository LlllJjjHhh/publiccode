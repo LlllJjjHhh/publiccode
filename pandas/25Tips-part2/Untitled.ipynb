{
 "cells": [
  {
   "cell_type": "code",
   "execution_count": null,
   "metadata": {},
   "outputs": [],
   "source": []
  },
  {
   "cell_type": "markdown",
   "metadata": {},
   "source": [
    "Summary\n",
    "Finally, here is a summary\n",
    "\n",
    "For manipulating values, both apply() and transform() can be used to manipulate an entire DataFrame or any specific column. But there are 3 differences\n",
    "\n",
    "- transform() can take a function, a string function, a list of functions, and a dict. However, apply() is only allowed a function.\n",
    "- transform() cannot produce aggregated results\n",
    "- apply() works with multiple Series at a time. But, transform() is only allowed to work with a single Series at a time.\n",
    "\n",
    "### For working in conjunction with groupby()\n",
    "\n",
    "- transform() returns a Series that has the same length as the input\n",
    "- apply() works with multiple Series at a time. But, transform() is only allowed to work with a single Series at a time."
   ]
  },
  {
   "cell_type": "code",
   "execution_count": null,
   "metadata": {},
   "outputs": [],
   "source": []
  }
 ],
 "metadata": {
  "kernelspec": {
   "display_name": "Python 3",
   "language": "python",
   "name": "python3"
  },
  "language_info": {
   "codemirror_mode": {
    "name": "ipython",
    "version": 3
   },
   "file_extension": ".py",
   "mimetype": "text/x-python",
   "name": "python",
   "nbconvert_exporter": "python",
   "pygments_lexer": "ipython3",
   "version": "3.7.6"
  }
 },
 "nbformat": 4,
 "nbformat_minor": 4
}
